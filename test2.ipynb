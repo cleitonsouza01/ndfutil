{
 "cells": [
  {
   "cell_type": "code",
   "execution_count": 1,
   "metadata": {
    "collapsed": true,
    "ExecuteTime": {
     "end_time": "2023-05-12T16:04:52.567452800Z",
     "start_time": "2023-05-12T16:04:51.205672400Z"
    }
   },
   "outputs": [],
   "source": [
    "from loguru import logger\n",
    "\n",
    "import ndf.download\n",
    "from ndf import download\n",
    "\n",
    "import warnings\n",
    "warnings.simplefilter(action='ignore', category=FutureWarning)"
   ]
  },
  {
   "cell_type": "code",
   "execution_count": 2,
   "outputs": [
    {
     "data": {
      "text/plain": "2"
     },
     "execution_count": 2,
     "metadata": {},
     "output_type": "execute_result"
    }
   ],
   "source": [
    "import sys\n",
    "\n",
    "log_level = 'ERROR'\n",
    "logger.add(sys.stderr, format=\"{time} {level} {message}\", filter=\"my_module\", level=log_level)\n",
    "# logger.add(sys.stdout, colorize=True, format=\"<green>{time}</green> <level>{message}</level>\")\n",
    "logger.add(\"ndfdownload.log\", rotation=\"30 MB\", level=log_level)"
   ],
   "metadata": {
    "collapsed": false,
    "ExecuteTime": {
     "end_time": "2023-05-12T16:04:52.586150400Z",
     "start_time": "2023-05-12T16:04:52.571418900Z"
    }
   }
  },
  {
   "cell_type": "code",
   "execution_count": 3,
   "outputs": [],
   "source": [
    "logger.remove()"
   ],
   "metadata": {
    "collapsed": false,
    "ExecuteTime": {
     "end_time": "2023-05-12T16:04:52.649346800Z",
     "start_time": "2023-05-12T16:04:52.586150400Z"
    }
   }
  },
  {
   "cell_type": "markdown",
   "source": [],
   "metadata": {
    "collapsed": false
   }
  },
  {
   "cell_type": "code",
   "execution_count": 4,
   "outputs": [
    {
     "name": "stdout",
     "output_type": "stream",
     "text": [
      "bgc ok\n",
      "tradition ok\n",
      "prebontullet ok\n",
      "gfi ok\n"
     ]
    }
   ],
   "source": [
    "d = ndf.download.download()\n",
    "d.download_all()"
   ],
   "metadata": {
    "collapsed": false,
    "ExecuteTime": {
     "end_time": "2023-05-12T16:04:52.671403700Z",
     "start_time": "2023-05-12T16:04:52.603191800Z"
    }
   }
  },
  {
   "cell_type": "code",
   "execution_count": 5,
   "outputs": [],
   "source": [
    "from ndf.datamining import datamining\n",
    "\n",
    "mining = datamining()\n"
   ],
   "metadata": {
    "collapsed": false,
    "ExecuteTime": {
     "end_time": "2023-05-12T16:04:52.671403700Z",
     "start_time": "2023-05-12T16:04:52.617338Z"
    }
   }
  },
  {
   "cell_type": "code",
   "execution_count": 6,
   "outputs": [
    {
     "data": {
      "text/plain": "          Total for human  Num of Trades    Days  Total Notional Value\nClass                                                                 \nBMF1                1.32B           33.0    36.0          1.324400e+09\nBMF2                 200M            3.0    51.0          2.000000e+08\nBROKEN            700.28M           16.0    41.0          7.002796e+08\nGT 1 YEAR             60M            1.0  1144.0          6.000000e+07\nLONGER            196.78M            5.0   333.0          1.967796e+08\nPTAX                51.5M            5.0     0.0          5.150000e+07\nTOMPTAX               42M            2.0     0.0          4.200000e+07\nTOTAL               2.64B            0.0     0.0          2.637709e+09\nXP                 62.75M           26.0     0.0          6.275000e+07",
      "text/html": "<div>\n<style scoped>\n    .dataframe tbody tr th:only-of-type {\n        vertical-align: middle;\n    }\n\n    .dataframe tbody tr th {\n        vertical-align: top;\n    }\n\n    .dataframe thead th {\n        text-align: right;\n    }\n</style>\n<table border=\"1\" class=\"dataframe\">\n  <thead>\n    <tr style=\"text-align: right;\">\n      <th></th>\n      <th>Total for human</th>\n      <th>Num of Trades</th>\n      <th>Days</th>\n      <th>Total Notional Value</th>\n    </tr>\n    <tr>\n      <th>Class</th>\n      <th></th>\n      <th></th>\n      <th></th>\n      <th></th>\n    </tr>\n  </thead>\n  <tbody>\n    <tr>\n      <th>BMF1</th>\n      <td>1.32B</td>\n      <td>33.0</td>\n      <td>36.0</td>\n      <td>1.324400e+09</td>\n    </tr>\n    <tr>\n      <th>BMF2</th>\n      <td>200M</td>\n      <td>3.0</td>\n      <td>51.0</td>\n      <td>2.000000e+08</td>\n    </tr>\n    <tr>\n      <th>BROKEN</th>\n      <td>700.28M</td>\n      <td>16.0</td>\n      <td>41.0</td>\n      <td>7.002796e+08</td>\n    </tr>\n    <tr>\n      <th>GT 1 YEAR</th>\n      <td>60M</td>\n      <td>1.0</td>\n      <td>1144.0</td>\n      <td>6.000000e+07</td>\n    </tr>\n    <tr>\n      <th>LONGER</th>\n      <td>196.78M</td>\n      <td>5.0</td>\n      <td>333.0</td>\n      <td>1.967796e+08</td>\n    </tr>\n    <tr>\n      <th>PTAX</th>\n      <td>51.5M</td>\n      <td>5.0</td>\n      <td>0.0</td>\n      <td>5.150000e+07</td>\n    </tr>\n    <tr>\n      <th>TOMPTAX</th>\n      <td>42M</td>\n      <td>2.0</td>\n      <td>0.0</td>\n      <td>4.200000e+07</td>\n    </tr>\n    <tr>\n      <th>TOTAL</th>\n      <td>2.64B</td>\n      <td>0.0</td>\n      <td>0.0</td>\n      <td>2.637709e+09</td>\n    </tr>\n    <tr>\n      <th>XP</th>\n      <td>62.75M</td>\n      <td>26.0</td>\n      <td>0.0</td>\n      <td>6.275000e+07</td>\n    </tr>\n  </tbody>\n</table>\n</div>"
     },
     "execution_count": 6,
     "metadata": {},
     "output_type": "execute_result"
    }
   ],
   "source": [
    "mining.tulletprebon_calcs()"
   ],
   "metadata": {
    "collapsed": false,
    "ExecuteTime": {
     "end_time": "2023-05-12T16:04:52.715483900Z",
     "start_time": "2023-05-12T16:04:52.634117Z"
    }
   }
  },
  {
   "cell_type": "code",
   "execution_count": 7,
   "outputs": [
    {
     "data": {
      "text/plain": "    Batch Date Asset Class      Class         Tradeable Instrument  \\\n0   2023-05-11          CU       PTAX       0D_NDF.USD.BRL.TOD_NDF   \n1   2023-05-11          CU    TOMPTAX       0D_NDF.USD.BRL.TOM_NDF   \n2   2023-05-11          CU  GT 1 YEAR  1144D_NDF.USD.BRL.1144D_NDF   \n3   2023-05-11          CU     BROKEN      17D_NDF.USD.BRL.17D_NDF   \n4   2023-05-11          CU       BMF1      18D_NDF.USD.BRL.18D_NDF   \n5   2023-05-11          CU       BMF1     18D_NDF.USD.BRL.BMF1_NDF   \n6   2023-05-11          CU         XP              22D_NDF_USD_BRL   \n7   2023-05-11          CU     LONGER    233D_NDF.USD.BRL.233D_NDF   \n8   2023-05-11          CU     BROKEN        2D_NDF.USD.BRL.2D_NDF   \n9   2023-05-11          CU     LONGER     37D_NDF.USD.BRL.IMM1_NDF   \n10  2023-05-11          CU     BROKEN        3D_NDF.USD.BRL.3D_NDF   \n11  2023-05-11          CU     BROKEN        4D_NDF.USD.BRL.4D_NDF   \n12  2023-05-11          CU       BMF2     51D_NDF.USD.BRL.BMF2_NDF   \n13  2023-05-11          CU     LONGER      63D_NDF.USD.BRL.63D_NDF   \n14  2023-05-11          CU     BROKEN        7D_NDF.USD.BRL.7D_NDF   \n15  2023-05-11          CU     BROKEN        8D_NDF.USD.BRL.8D_NDF   \n16         NaN         NaN      TOTAL                          NaN   \n\n                           Description  Opening Price  Trade High  Trade Low  \\\n0               0D_NDF.USD.BRL.TOD_NDF        4.98140     4.98140    4.94230   \n1               0D_NDF.USD.BRL.TOM_NDF        4.93600     4.93600    4.93550   \n2          1144D_NDF.USD.BRL.1144D_NDF        6.05355     6.05355    6.05355   \n3              17D_NDF.USD.BRL.17D_NDF        4.95460     4.95460    4.95455   \n4              18D_NDF.USD.BRL.18D_NDF        4.97000     4.97100    4.95500   \n5             18D_NDF.USD.BRL.BMF1_NDF        4.97900     5.00050    4.00050   \n6   NDF_USD_BRL Maturing on 2023-06-02        4.99640     4.99950    4.95640   \n7            233D_NDF.USD.BRL.233D_NDF        5.15340     5.15340    5.15340   \n8                2D_NDF.USD.BRL.2D_NDF        4.95330     4.95430    4.93720   \n9             37D_NDF.USD.BRL.IMM1_NDF        4.96155     4.98860    4.96155   \n10               3D_NDF.USD.BRL.3D_NDF        4.95500     4.95500    4.95500   \n11               4D_NDF.USD.BRL.4D_NDF        4.95665     4.95665    4.94170   \n12            51D_NDF.USD.BRL.BMF2_NDF        4.02905     5.02905    4.02905   \n13             63D_NDF.USD.BRL.63D_NDF        5.02170     5.02170    5.02170   \n14               7D_NDF.USD.BRL.7D_NDF        4.95650     4.95650    4.95650   \n15               8D_NDF.USD.BRL.8D_NDF        4.97100     4.97100    4.97100   \n16                                 NaN            NaN         NaN        NaN   \n\n    Closing Price  Num of Trades  Total Notional Value        Source    Days  \\\n0         4.95470            5.0          5.150000e+07  TULLETPREBON     0.0   \n1         4.93550            2.0          4.200000e+07  TULLETPREBON     0.0   \n2         6.05355            1.0          6.000000e+07  TULLETPREBON  1144.0   \n3         4.95460            4.0          1.050000e+08  TULLETPREBON    17.0   \n4         4.95600            9.0          5.275000e+08  TULLETPREBON    18.0   \n5         4.95400           24.0          7.969000e+08  TULLETPREBON    18.0   \n6         4.96100           26.0          6.275000e+07  TULLETPREBON     0.0   \n7         5.15340            1.0          5.000000e+07  TULLETPREBON   233.0   \n8         4.93720            6.0          2.270000e+08  TULLETPREBON     2.0   \n9         4.98855            3.0          9.600000e+07  TULLETPREBON    37.0   \n10        4.95500            2.0          4.000000e+07  TULLETPREBON     3.0   \n11        4.94170            2.0          2.575000e+08  TULLETPREBON     4.0   \n12        5.02145            3.0          2.000000e+08  TULLETPREBON    51.0   \n13        5.02170            1.0          5.077962e+07  TULLETPREBON    63.0   \n14        4.95650            1.0          2.000000e+07  TULLETPREBON     7.0   \n15        4.97100            1.0          5.077962e+07  TULLETPREBON     8.0   \n16            NaN            NaN          2.637709e+09           NaN     NaN   \n\n   Total for human  \n0            51.5M  \n1              42M  \n2              60M  \n3             105M  \n4           527.5M  \n5           796.9M  \n6           62.75M  \n7              50M  \n8             227M  \n9              96M  \n10             40M  \n11          257.5M  \n12            200M  \n13          50.78M  \n14             20M  \n15          50.78M  \n16           2.64B  ",
      "text/html": "<div>\n<style scoped>\n    .dataframe tbody tr th:only-of-type {\n        vertical-align: middle;\n    }\n\n    .dataframe tbody tr th {\n        vertical-align: top;\n    }\n\n    .dataframe thead th {\n        text-align: right;\n    }\n</style>\n<table border=\"1\" class=\"dataframe\">\n  <thead>\n    <tr style=\"text-align: right;\">\n      <th></th>\n      <th>Batch Date</th>\n      <th>Asset Class</th>\n      <th>Class</th>\n      <th>Tradeable Instrument</th>\n      <th>Description</th>\n      <th>Opening Price</th>\n      <th>Trade High</th>\n      <th>Trade Low</th>\n      <th>Closing Price</th>\n      <th>Num of Trades</th>\n      <th>Total Notional Value</th>\n      <th>Source</th>\n      <th>Days</th>\n      <th>Total for human</th>\n    </tr>\n  </thead>\n  <tbody>\n    <tr>\n      <th>0</th>\n      <td>2023-05-11</td>\n      <td>CU</td>\n      <td>PTAX</td>\n      <td>0D_NDF.USD.BRL.TOD_NDF</td>\n      <td>0D_NDF.USD.BRL.TOD_NDF</td>\n      <td>4.98140</td>\n      <td>4.98140</td>\n      <td>4.94230</td>\n      <td>4.95470</td>\n      <td>5.0</td>\n      <td>5.150000e+07</td>\n      <td>TULLETPREBON</td>\n      <td>0.0</td>\n      <td>51.5M</td>\n    </tr>\n    <tr>\n      <th>1</th>\n      <td>2023-05-11</td>\n      <td>CU</td>\n      <td>TOMPTAX</td>\n      <td>0D_NDF.USD.BRL.TOM_NDF</td>\n      <td>0D_NDF.USD.BRL.TOM_NDF</td>\n      <td>4.93600</td>\n      <td>4.93600</td>\n      <td>4.93550</td>\n      <td>4.93550</td>\n      <td>2.0</td>\n      <td>4.200000e+07</td>\n      <td>TULLETPREBON</td>\n      <td>0.0</td>\n      <td>42M</td>\n    </tr>\n    <tr>\n      <th>2</th>\n      <td>2023-05-11</td>\n      <td>CU</td>\n      <td>GT 1 YEAR</td>\n      <td>1144D_NDF.USD.BRL.1144D_NDF</td>\n      <td>1144D_NDF.USD.BRL.1144D_NDF</td>\n      <td>6.05355</td>\n      <td>6.05355</td>\n      <td>6.05355</td>\n      <td>6.05355</td>\n      <td>1.0</td>\n      <td>6.000000e+07</td>\n      <td>TULLETPREBON</td>\n      <td>1144.0</td>\n      <td>60M</td>\n    </tr>\n    <tr>\n      <th>3</th>\n      <td>2023-05-11</td>\n      <td>CU</td>\n      <td>BROKEN</td>\n      <td>17D_NDF.USD.BRL.17D_NDF</td>\n      <td>17D_NDF.USD.BRL.17D_NDF</td>\n      <td>4.95460</td>\n      <td>4.95460</td>\n      <td>4.95455</td>\n      <td>4.95460</td>\n      <td>4.0</td>\n      <td>1.050000e+08</td>\n      <td>TULLETPREBON</td>\n      <td>17.0</td>\n      <td>105M</td>\n    </tr>\n    <tr>\n      <th>4</th>\n      <td>2023-05-11</td>\n      <td>CU</td>\n      <td>BMF1</td>\n      <td>18D_NDF.USD.BRL.18D_NDF</td>\n      <td>18D_NDF.USD.BRL.18D_NDF</td>\n      <td>4.97000</td>\n      <td>4.97100</td>\n      <td>4.95500</td>\n      <td>4.95600</td>\n      <td>9.0</td>\n      <td>5.275000e+08</td>\n      <td>TULLETPREBON</td>\n      <td>18.0</td>\n      <td>527.5M</td>\n    </tr>\n    <tr>\n      <th>5</th>\n      <td>2023-05-11</td>\n      <td>CU</td>\n      <td>BMF1</td>\n      <td>18D_NDF.USD.BRL.BMF1_NDF</td>\n      <td>18D_NDF.USD.BRL.BMF1_NDF</td>\n      <td>4.97900</td>\n      <td>5.00050</td>\n      <td>4.00050</td>\n      <td>4.95400</td>\n      <td>24.0</td>\n      <td>7.969000e+08</td>\n      <td>TULLETPREBON</td>\n      <td>18.0</td>\n      <td>796.9M</td>\n    </tr>\n    <tr>\n      <th>6</th>\n      <td>2023-05-11</td>\n      <td>CU</td>\n      <td>XP</td>\n      <td>22D_NDF_USD_BRL</td>\n      <td>NDF_USD_BRL Maturing on 2023-06-02</td>\n      <td>4.99640</td>\n      <td>4.99950</td>\n      <td>4.95640</td>\n      <td>4.96100</td>\n      <td>26.0</td>\n      <td>6.275000e+07</td>\n      <td>TULLETPREBON</td>\n      <td>0.0</td>\n      <td>62.75M</td>\n    </tr>\n    <tr>\n      <th>7</th>\n      <td>2023-05-11</td>\n      <td>CU</td>\n      <td>LONGER</td>\n      <td>233D_NDF.USD.BRL.233D_NDF</td>\n      <td>233D_NDF.USD.BRL.233D_NDF</td>\n      <td>5.15340</td>\n      <td>5.15340</td>\n      <td>5.15340</td>\n      <td>5.15340</td>\n      <td>1.0</td>\n      <td>5.000000e+07</td>\n      <td>TULLETPREBON</td>\n      <td>233.0</td>\n      <td>50M</td>\n    </tr>\n    <tr>\n      <th>8</th>\n      <td>2023-05-11</td>\n      <td>CU</td>\n      <td>BROKEN</td>\n      <td>2D_NDF.USD.BRL.2D_NDF</td>\n      <td>2D_NDF.USD.BRL.2D_NDF</td>\n      <td>4.95330</td>\n      <td>4.95430</td>\n      <td>4.93720</td>\n      <td>4.93720</td>\n      <td>6.0</td>\n      <td>2.270000e+08</td>\n      <td>TULLETPREBON</td>\n      <td>2.0</td>\n      <td>227M</td>\n    </tr>\n    <tr>\n      <th>9</th>\n      <td>2023-05-11</td>\n      <td>CU</td>\n      <td>LONGER</td>\n      <td>37D_NDF.USD.BRL.IMM1_NDF</td>\n      <td>37D_NDF.USD.BRL.IMM1_NDF</td>\n      <td>4.96155</td>\n      <td>4.98860</td>\n      <td>4.96155</td>\n      <td>4.98855</td>\n      <td>3.0</td>\n      <td>9.600000e+07</td>\n      <td>TULLETPREBON</td>\n      <td>37.0</td>\n      <td>96M</td>\n    </tr>\n    <tr>\n      <th>10</th>\n      <td>2023-05-11</td>\n      <td>CU</td>\n      <td>BROKEN</td>\n      <td>3D_NDF.USD.BRL.3D_NDF</td>\n      <td>3D_NDF.USD.BRL.3D_NDF</td>\n      <td>4.95500</td>\n      <td>4.95500</td>\n      <td>4.95500</td>\n      <td>4.95500</td>\n      <td>2.0</td>\n      <td>4.000000e+07</td>\n      <td>TULLETPREBON</td>\n      <td>3.0</td>\n      <td>40M</td>\n    </tr>\n    <tr>\n      <th>11</th>\n      <td>2023-05-11</td>\n      <td>CU</td>\n      <td>BROKEN</td>\n      <td>4D_NDF.USD.BRL.4D_NDF</td>\n      <td>4D_NDF.USD.BRL.4D_NDF</td>\n      <td>4.95665</td>\n      <td>4.95665</td>\n      <td>4.94170</td>\n      <td>4.94170</td>\n      <td>2.0</td>\n      <td>2.575000e+08</td>\n      <td>TULLETPREBON</td>\n      <td>4.0</td>\n      <td>257.5M</td>\n    </tr>\n    <tr>\n      <th>12</th>\n      <td>2023-05-11</td>\n      <td>CU</td>\n      <td>BMF2</td>\n      <td>51D_NDF.USD.BRL.BMF2_NDF</td>\n      <td>51D_NDF.USD.BRL.BMF2_NDF</td>\n      <td>4.02905</td>\n      <td>5.02905</td>\n      <td>4.02905</td>\n      <td>5.02145</td>\n      <td>3.0</td>\n      <td>2.000000e+08</td>\n      <td>TULLETPREBON</td>\n      <td>51.0</td>\n      <td>200M</td>\n    </tr>\n    <tr>\n      <th>13</th>\n      <td>2023-05-11</td>\n      <td>CU</td>\n      <td>LONGER</td>\n      <td>63D_NDF.USD.BRL.63D_NDF</td>\n      <td>63D_NDF.USD.BRL.63D_NDF</td>\n      <td>5.02170</td>\n      <td>5.02170</td>\n      <td>5.02170</td>\n      <td>5.02170</td>\n      <td>1.0</td>\n      <td>5.077962e+07</td>\n      <td>TULLETPREBON</td>\n      <td>63.0</td>\n      <td>50.78M</td>\n    </tr>\n    <tr>\n      <th>14</th>\n      <td>2023-05-11</td>\n      <td>CU</td>\n      <td>BROKEN</td>\n      <td>7D_NDF.USD.BRL.7D_NDF</td>\n      <td>7D_NDF.USD.BRL.7D_NDF</td>\n      <td>4.95650</td>\n      <td>4.95650</td>\n      <td>4.95650</td>\n      <td>4.95650</td>\n      <td>1.0</td>\n      <td>2.000000e+07</td>\n      <td>TULLETPREBON</td>\n      <td>7.0</td>\n      <td>20M</td>\n    </tr>\n    <tr>\n      <th>15</th>\n      <td>2023-05-11</td>\n      <td>CU</td>\n      <td>BROKEN</td>\n      <td>8D_NDF.USD.BRL.8D_NDF</td>\n      <td>8D_NDF.USD.BRL.8D_NDF</td>\n      <td>4.97100</td>\n      <td>4.97100</td>\n      <td>4.97100</td>\n      <td>4.97100</td>\n      <td>1.0</td>\n      <td>5.077962e+07</td>\n      <td>TULLETPREBON</td>\n      <td>8.0</td>\n      <td>50.78M</td>\n    </tr>\n    <tr>\n      <th>16</th>\n      <td>NaN</td>\n      <td>NaN</td>\n      <td>TOTAL</td>\n      <td>NaN</td>\n      <td>NaN</td>\n      <td>NaN</td>\n      <td>NaN</td>\n      <td>NaN</td>\n      <td>NaN</td>\n      <td>NaN</td>\n      <td>2.637709e+09</td>\n      <td>NaN</td>\n      <td>NaN</td>\n      <td>2.64B</td>\n    </tr>\n  </tbody>\n</table>\n</div>"
     },
     "execution_count": 7,
     "metadata": {},
     "output_type": "execute_result"
    }
   ],
   "source": [
    "mining.tulletprebon_calcs(presentation='raw')"
   ],
   "metadata": {
    "collapsed": false,
    "ExecuteTime": {
     "end_time": "2023-05-12T16:04:52.804477100Z",
     "start_time": "2023-05-12T16:04:52.683027400Z"
    }
   }
  },
  {
   "cell_type": "code",
   "execution_count": 8,
   "outputs": [
    {
     "name": "stdout",
     "output_type": "stream",
     "text": [
      "5 == 5  |  2023-05-31 00:00:00 | USDBRL NDF 31MAY2023 BILATERAL\n"
     ]
    },
    {
     "data": {
      "text/plain": "   Trade Date                     Description OpenType LowType HighType  \\\n0  2023-05-11  USDBRL NDF 11MAY2023 BILATERAL    TRANS   TRANS    TRANS   \n1  2023-05-11  USDBRL NDF 31MAY2023 BILATERAL    TRANS   TRANS    TRANS   \n2         NaN                             NaN      NaN     NaN      NaN   \n\n  CloseType EDRPVolume     Volume Source   Class  \n0     TRANS        NaN  159000000    BGC  BROKEN  \n1     TRANS        NaN  480000000    BGC     BMF  \n2       NaN        NaN  639000000    NaN   TOTAL  ",
      "text/html": "<div>\n<style scoped>\n    .dataframe tbody tr th:only-of-type {\n        vertical-align: middle;\n    }\n\n    .dataframe tbody tr th {\n        vertical-align: top;\n    }\n\n    .dataframe thead th {\n        text-align: right;\n    }\n</style>\n<table border=\"1\" class=\"dataframe\">\n  <thead>\n    <tr style=\"text-align: right;\">\n      <th></th>\n      <th>Trade Date</th>\n      <th>Description</th>\n      <th>OpenType</th>\n      <th>LowType</th>\n      <th>HighType</th>\n      <th>CloseType</th>\n      <th>EDRPVolume</th>\n      <th>Volume</th>\n      <th>Source</th>\n      <th>Class</th>\n    </tr>\n  </thead>\n  <tbody>\n    <tr>\n      <th>0</th>\n      <td>2023-05-11</td>\n      <td>USDBRL NDF 11MAY2023 BILATERAL</td>\n      <td>TRANS</td>\n      <td>TRANS</td>\n      <td>TRANS</td>\n      <td>TRANS</td>\n      <td>NaN</td>\n      <td>159000000</td>\n      <td>BGC</td>\n      <td>BROKEN</td>\n    </tr>\n    <tr>\n      <th>1</th>\n      <td>2023-05-11</td>\n      <td>USDBRL NDF 31MAY2023 BILATERAL</td>\n      <td>TRANS</td>\n      <td>TRANS</td>\n      <td>TRANS</td>\n      <td>TRANS</td>\n      <td>NaN</td>\n      <td>480000000</td>\n      <td>BGC</td>\n      <td>BMF</td>\n    </tr>\n    <tr>\n      <th>2</th>\n      <td>NaN</td>\n      <td>NaN</td>\n      <td>NaN</td>\n      <td>NaN</td>\n      <td>NaN</td>\n      <td>NaN</td>\n      <td>NaN</td>\n      <td>639000000</td>\n      <td>NaN</td>\n      <td>TOTAL</td>\n    </tr>\n  </tbody>\n</table>\n</div>"
     },
     "execution_count": 8,
     "metadata": {},
     "output_type": "execute_result"
    }
   ],
   "source": [
    "bgc = mining.bgc_calcs(presentation='raw')\n",
    "bgc"
   ],
   "metadata": {
    "collapsed": false,
    "ExecuteTime": {
     "end_time": "2023-05-12T16:04:52.883418400Z",
     "start_time": "2023-05-12T16:04:52.738020400Z"
    }
   }
  },
  {
   "cell_type": "code",
   "execution_count": 9,
   "outputs": [
    {
     "data": {
      "text/plain": "   Trade Date                     Description OpenType LowType HighType  \\\n0  2023-05-11  USDBRL NDF 11MAY2023 BILATERAL    TRANS   TRANS    TRANS   \n1  2023-05-11  USDBRL NDF 31MAY2023 BILATERAL    TRANS   TRANS    TRANS   \n2         NaN                             NaN      NaN     NaN      NaN   \n\n  CloseType EDRPVolume     Volume Source   Class  \n0     TRANS        NaN  159000000    BGC  BROKEN  \n1     TRANS        NaN  480000000    BGC     BMF  \n2       NaN        NaN  639000000    NaN   TOTAL  ",
      "text/html": "<div>\n<style scoped>\n    .dataframe tbody tr th:only-of-type {\n        vertical-align: middle;\n    }\n\n    .dataframe tbody tr th {\n        vertical-align: top;\n    }\n\n    .dataframe thead th {\n        text-align: right;\n    }\n</style>\n<table border=\"1\" class=\"dataframe\">\n  <thead>\n    <tr style=\"text-align: right;\">\n      <th></th>\n      <th>Trade Date</th>\n      <th>Description</th>\n      <th>OpenType</th>\n      <th>LowType</th>\n      <th>HighType</th>\n      <th>CloseType</th>\n      <th>EDRPVolume</th>\n      <th>Volume</th>\n      <th>Source</th>\n      <th>Class</th>\n    </tr>\n  </thead>\n  <tbody>\n    <tr>\n      <th>0</th>\n      <td>2023-05-11</td>\n      <td>USDBRL NDF 11MAY2023 BILATERAL</td>\n      <td>TRANS</td>\n      <td>TRANS</td>\n      <td>TRANS</td>\n      <td>TRANS</td>\n      <td>NaN</td>\n      <td>159000000</td>\n      <td>BGC</td>\n      <td>BROKEN</td>\n    </tr>\n    <tr>\n      <th>1</th>\n      <td>2023-05-11</td>\n      <td>USDBRL NDF 31MAY2023 BILATERAL</td>\n      <td>TRANS</td>\n      <td>TRANS</td>\n      <td>TRANS</td>\n      <td>TRANS</td>\n      <td>NaN</td>\n      <td>480000000</td>\n      <td>BGC</td>\n      <td>BMF</td>\n    </tr>\n    <tr>\n      <th>2</th>\n      <td>NaN</td>\n      <td>NaN</td>\n      <td>NaN</td>\n      <td>NaN</td>\n      <td>NaN</td>\n      <td>NaN</td>\n      <td>NaN</td>\n      <td>639000000</td>\n      <td>NaN</td>\n      <td>TOTAL</td>\n    </tr>\n  </tbody>\n</table>\n</div>"
     },
     "execution_count": 9,
     "metadata": {},
     "output_type": "execute_result"
    }
   ],
   "source": [
    "bgc"
   ],
   "metadata": {
    "collapsed": false,
    "ExecuteTime": {
     "end_time": "2023-05-12T16:04:52.883418400Z",
     "start_time": "2023-05-12T16:04:52.787164500Z"
    }
   }
  },
  {
   "cell_type": "code",
   "execution_count": 10,
   "outputs": [
    {
     "data": {
      "text/plain": "'2023-07-03'"
     },
     "execution_count": 10,
     "metadata": {},
     "output_type": "execute_result"
    }
   ],
   "source": [
    "from ndf.util import *\n",
    "\n",
    "get_BMF_date(month=7).strftime(\"%Y-%m-%d\")"
   ],
   "metadata": {
    "collapsed": false,
    "ExecuteTime": {
     "end_time": "2023-05-12T16:04:52.916058400Z",
     "start_time": "2023-05-12T16:04:52.801364800Z"
    }
   }
  },
  {
   "cell_type": "code",
   "execution_count": 11,
   "outputs": [
    {
     "data": {
      "text/plain": "datetime.datetime(2023, 7, 3, 0, 0)"
     },
     "execution_count": 11,
     "metadata": {},
     "output_type": "execute_result"
    }
   ],
   "source": [
    "from pandas._libs.tslibs.offsets import BusinessDay\n",
    "import pandas as pd\n",
    "\n",
    "a = pd.date_range('7/1/2023', '7/1/2031', freq='BMS')\n",
    "\n",
    "a.to_pydatetime()[0]\n",
    "\n",
    "dbase = a.to_pydatetime()[0]\n",
    "dbase"
   ],
   "metadata": {
    "collapsed": false,
    "ExecuteTime": {
     "end_time": "2023-05-12T16:04:52.950035400Z",
     "start_time": "2023-05-12T16:04:52.837497300Z"
    }
   }
  },
  {
   "cell_type": "code",
   "execution_count": 12,
   "outputs": [],
   "source": [
    "from pandas._libs.tslibs.offsets import BDay\n",
    "\n",
    "def get_second_business_day(month=None, year=None):\n",
    "    bdate = None\n",
    "    if year:\n",
    "        bdate = datetime.today().replace(year=year, month=month, day=1)\n",
    "    elif month and not year:\n",
    "        bdate = datetime.today().replace(month=month, day=1)\n",
    "    else:\n",
    "        bdate = datetime.today().replace(day=1)\n",
    "\n",
    "    # print(bdate)\n",
    "    if is_weekday(bdate):\n",
    "        if not is_holiday(bdate):\n",
    "            bdate = bdate  + BDay(1)\n",
    "        else:\n",
    "            bdate = bdate  + BDay(2)\n",
    "    else:\n",
    "        bdate = bdate  + BDay(2)\n",
    "\n",
    "    while is_holiday(bdate):\n",
    "        bdate = bdate + BDay(1)\n",
    "\n",
    "    return bdate\n",
    "\n"
   ],
   "metadata": {
    "collapsed": false,
    "ExecuteTime": {
     "end_time": "2023-05-12T16:04:52.950035400Z",
     "start_time": "2023-05-12T16:04:52.854720100Z"
    }
   }
  },
  {
   "cell_type": "code",
   "execution_count": 13,
   "outputs": [
    {
     "data": {
      "text/plain": "Timestamp('2023-05-03 12:04:52.868860')"
     },
     "execution_count": 13,
     "metadata": {},
     "output_type": "execute_result"
    }
   ],
   "source": [
    "get_second_business_day()"
   ],
   "metadata": {
    "collapsed": false,
    "ExecuteTime": {
     "end_time": "2023-05-12T16:04:53.100237900Z",
     "start_time": "2023-05-12T16:04:52.868860400Z"
    }
   }
  },
  {
   "cell_type": "code",
   "execution_count": 14,
   "outputs": [
    {
     "name": "stdout",
     "output_type": "stream",
     "text": [
      "2023-Jan-03\n",
      "2023-Feb-02\n",
      "2023-Mar-02\n",
      "2023-Apr-04\n",
      "2023-May-03\n",
      "2023-Jun-02\n",
      "2023-Jul-05\n",
      "2023-Aug-02\n",
      "2023-Sep-05\n",
      "2023-Oct-03\n",
      "2023-Nov-03\n",
      "2023-Dec-04\n"
     ]
    }
   ],
   "source": [
    "for i in range(1,13):\n",
    "    a = get_second_business_day(i).strftime('%Y-%b-%d')\n",
    "    print(a)"
   ],
   "metadata": {
    "collapsed": false,
    "ExecuteTime": {
     "end_time": "2023-05-12T16:04:53.414325400Z",
     "start_time": "2023-05-12T16:04:52.917325100Z"
    }
   }
  },
  {
   "cell_type": "code",
   "execution_count": 15,
   "outputs": [
    {
     "name": "stdout",
     "output_type": "stream",
     "text": [
      "2022-Jan-04\n",
      "2022-Feb-02\n",
      "2022-Mar-03\n",
      "2022-Apr-04\n",
      "2022-May-03\n",
      "2022-Jun-02\n",
      "2022-Jul-05\n",
      "2022-Aug-02\n",
      "2022-Sep-02\n",
      "2022-Oct-04\n",
      "2022-Nov-03\n",
      "2022-Dec-02\n"
     ]
    }
   ],
   "source": [
    "for i in range(1,13):\n",
    "    a = get_second_business_day(i, 2022).strftime('%Y-%b-%d')\n",
    "    print(a)"
   ],
   "metadata": {
    "collapsed": false,
    "ExecuteTime": {
     "end_time": "2023-05-12T16:04:53.745280700Z",
     "start_time": "2023-05-12T16:04:53.306858300Z"
    }
   }
  },
  {
   "cell_type": "code",
   "execution_count": 16,
   "outputs": [
    {
     "name": "stdout",
     "output_type": "stream",
     "text": [
      "2021-Jan-05\n",
      "2021-Feb-02\n",
      "2021-Mar-02\n",
      "2021-Apr-05\n",
      "2021-May-04\n",
      "2021-Jun-02\n",
      "2021-Jul-02\n",
      "2021-Aug-03\n",
      "2021-Sep-02\n",
      "2021-Oct-04\n",
      "2021-Nov-03\n",
      "2021-Dec-02\n"
     ]
    }
   ],
   "source": [
    "for i in range(1,13):\n",
    "    a = get_second_business_day(i, 2021).strftime('%Y-%b-%d')\n",
    "    print(a)"
   ],
   "metadata": {
    "collapsed": false,
    "ExecuteTime": {
     "end_time": "2023-05-12T16:04:54.171129100Z",
     "start_time": "2023-05-12T16:04:53.722677100Z"
    }
   }
  },
  {
   "cell_type": "code",
   "execution_count": 17,
   "outputs": [
    {
     "data": {
      "text/plain": "Timestamp('2022-01-31 00:00:00')"
     },
     "execution_count": 17,
     "metadata": {},
     "output_type": "execute_result"
    }
   ],
   "source": [
    "pd.Timestamp(2022, 1, 1) + pd.offsets.MonthEnd()"
   ],
   "metadata": {
    "collapsed": false,
    "ExecuteTime": {
     "end_time": "2023-05-12T16:04:54.200725Z",
     "start_time": "2023-05-12T16:04:54.171129100Z"
    }
   }
  },
  {
   "cell_type": "markdown",
   "source": [
    "## Descrição das nomenclaturas\n",
    "\n",
    "### BMF\n",
    "É o segundo dia util do mes seguinte. Feriados Brasileiros OU americanos não é dia util.\n",
    "Quando dizemos BMF sempre quer dizer do mes seguinte, BMF2, BMF3, BMF4... é referente aos meses subsequentes\n",
    "\n",
    "### Fixing Date\n",
    "É o dia onde o preço da operação é fixado.\n",
    "Fixing Date da BMF é o ultimo dia util do mes.\n",
    "\n",
    "### Value Date / Maturing\n",
    "É o dia onde a operação pode ser executada, exemplo: \"Value Date\" da BMF é todo segundo dia util do mês\n",
    "\n",
    "### PTAX\n",
    "PTAX fixing de hoje que vai valer D+2\n",
    "\n",
    "### TOMPTAX\n",
    "Tomorrow PTAX\n",
    "\n",
    "### BROKEN\n",
    "Datas quebradas que nao corresponde a nenhuma das acimas\n",
    "\n",
    "### GT 1 YEAR\n",
    "Datas BROKEN acima de 1 ano\n",
    "\n",
    "### LONGER\n",
    "Datas BROKEN acima de 2 anos\n",
    "\n"
   ],
   "metadata": {
    "collapsed": false
   }
  }
 ],
 "metadata": {
  "kernelspec": {
   "display_name": "Python 3",
   "language": "python",
   "name": "python3"
  },
  "language_info": {
   "codemirror_mode": {
    "name": "ipython",
    "version": 2
   },
   "file_extension": ".py",
   "mimetype": "text/x-python",
   "name": "python",
   "nbconvert_exporter": "python",
   "pygments_lexer": "ipython2",
   "version": "2.7.6"
  }
 },
 "nbformat": 4,
 "nbformat_minor": 0
}
