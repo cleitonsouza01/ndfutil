{
 "cells": [
  {
   "cell_type": "code",
   "execution_count": 1,
   "metadata": {
    "collapsed": true,
    "ExecuteTime": {
     "end_time": "2023-05-21T02:36:22.680946100Z",
     "start_time": "2023-05-21T02:36:21.431126Z"
    }
   },
   "outputs": [
    {
     "data": {
      "text/plain": "2"
     },
     "execution_count": 1,
     "metadata": {},
     "output_type": "execute_result"
    }
   ],
   "source": [
    "from loguru import logger\n",
    "import ndf.download\n",
    "from ndf.datamining import datamining\n",
    "import warnings\n",
    "import sys\n",
    "\n",
    "warnings.simplefilter(action='ignore', category=FutureWarning)\n",
    "\n",
    "log_level = 'ERROR'\n",
    "logger.add(sys.stderr, format=\"{time} {level} {message}\", filter=\"my_module\", level=log_level)\n",
    "# logger.add(sys.stdout, colorize=True, format=\"<green>{time}</green> <level>{message}</level>\")\n",
    "logger.add(\"ndfdownload.log\", rotation=\"30 MB\", level=log_level)"
   ]
  },
  {
   "cell_type": "code",
   "execution_count": 2,
   "outputs": [],
   "source": [
    "logger.remove()"
   ],
   "metadata": {
    "collapsed": false,
    "ExecuteTime": {
     "end_time": "2023-05-21T02:36:22.696441Z",
     "start_time": "2023-05-21T02:36:22.683020Z"
    }
   }
  },
  {
   "cell_type": "code",
   "execution_count": 3,
   "outputs": [
    {
     "name": "stdout",
     "output_type": "stream",
     "text": [
      "20230103\n",
      "20230202\n",
      "20230302\n",
      "20230404\n",
      "20230503\n",
      "20230602\n",
      "20230705\n",
      "20230802\n",
      "20230905\n",
      "20231003\n",
      "20231103\n",
      "20231204\n"
     ]
    }
   ],
   "source": [
    "from ndf.util import get_second_business_day\n",
    "\n",
    "for month in range(1,13):\n",
    "    a = get_second_business_day(month, 2023).strftime('%Y%m%d')\n",
    "    print(a)"
   ],
   "metadata": {
    "collapsed": false,
    "ExecuteTime": {
     "end_time": "2023-05-21T02:36:23.012045Z",
     "start_time": "2023-05-21T02:36:22.696441Z"
    }
   }
  },
  {
   "cell_type": "markdown",
   "source": [],
   "metadata": {
    "collapsed": false
   }
  },
  {
   "cell_type": "code",
   "execution_count": 4,
   "outputs": [
    {
     "name": "stdout",
     "output_type": "stream",
     "text": [
      "bgc ok\n",
      "tradition ok\n",
      "prebontullet ok\n",
      "gfi ok\n"
     ]
    }
   ],
   "source": [
    "d = ndf.download.download()\n",
    "d.download_all()"
   ],
   "metadata": {
    "collapsed": false,
    "ExecuteTime": {
     "end_time": "2023-05-21T02:36:23.059889200Z",
     "start_time": "2023-05-21T02:36:23.012045Z"
    }
   }
  },
  {
   "cell_type": "code",
   "execution_count": 5,
   "outputs": [],
   "source": [
    "mining = datamining()\n"
   ],
   "metadata": {
    "collapsed": false,
    "ExecuteTime": {
     "end_time": "2023-05-21T02:36:23.060189Z",
     "start_time": "2023-05-21T02:36:23.027337400Z"
    }
   }
  },
  {
   "cell_type": "code",
   "execution_count": 6,
   "outputs": [
    {
     "data": {
      "text/plain": "          Total for human  Num of Trades   Days  Total Notional Value\nClass                                                                \nBMF1                1.64B           24.0   20.0          1.638800e+09\nBMF2                 210M            5.0   43.0          2.100000e+08\nBROKEN               180M            3.0   36.0          1.800000e+08\nGT 1 YEAR            560M            4.0  591.0          5.600000e+08\nLONGER               710M            7.0  260.0          7.100000e+08\nPTAX               103.5M            5.0    0.0          1.035000e+08\nTOMPTAX               53M            2.0    0.0          5.300000e+07\nTOTAL                3.5B            0.0    0.0          3.502800e+09\nXP                  47.5M           28.0    0.0          4.750000e+07",
      "text/html": "<div>\n<style scoped>\n    .dataframe tbody tr th:only-of-type {\n        vertical-align: middle;\n    }\n\n    .dataframe tbody tr th {\n        vertical-align: top;\n    }\n\n    .dataframe thead th {\n        text-align: right;\n    }\n</style>\n<table border=\"1\" class=\"dataframe\">\n  <thead>\n    <tr style=\"text-align: right;\">\n      <th></th>\n      <th>Total for human</th>\n      <th>Num of Trades</th>\n      <th>Days</th>\n      <th>Total Notional Value</th>\n    </tr>\n    <tr>\n      <th>Class</th>\n      <th></th>\n      <th></th>\n      <th></th>\n      <th></th>\n    </tr>\n  </thead>\n  <tbody>\n    <tr>\n      <th>BMF1</th>\n      <td>1.64B</td>\n      <td>24.0</td>\n      <td>20.0</td>\n      <td>1.638800e+09</td>\n    </tr>\n    <tr>\n      <th>BMF2</th>\n      <td>210M</td>\n      <td>5.0</td>\n      <td>43.0</td>\n      <td>2.100000e+08</td>\n    </tr>\n    <tr>\n      <th>BROKEN</th>\n      <td>180M</td>\n      <td>3.0</td>\n      <td>36.0</td>\n      <td>1.800000e+08</td>\n    </tr>\n    <tr>\n      <th>GT 1 YEAR</th>\n      <td>560M</td>\n      <td>4.0</td>\n      <td>591.0</td>\n      <td>5.600000e+08</td>\n    </tr>\n    <tr>\n      <th>LONGER</th>\n      <td>710M</td>\n      <td>7.0</td>\n      <td>260.0</td>\n      <td>7.100000e+08</td>\n    </tr>\n    <tr>\n      <th>PTAX</th>\n      <td>103.5M</td>\n      <td>5.0</td>\n      <td>0.0</td>\n      <td>1.035000e+08</td>\n    </tr>\n    <tr>\n      <th>TOMPTAX</th>\n      <td>53M</td>\n      <td>2.0</td>\n      <td>0.0</td>\n      <td>5.300000e+07</td>\n    </tr>\n    <tr>\n      <th>TOTAL</th>\n      <td>3.5B</td>\n      <td>0.0</td>\n      <td>0.0</td>\n      <td>3.502800e+09</td>\n    </tr>\n    <tr>\n      <th>XP</th>\n      <td>47.5M</td>\n      <td>28.0</td>\n      <td>0.0</td>\n      <td>4.750000e+07</td>\n    </tr>\n  </tbody>\n</table>\n</div>"
     },
     "execution_count": 6,
     "metadata": {},
     "output_type": "execute_result"
    }
   ],
   "source": [
    "tullet = mining.tulletprebon_calcs()\n",
    "tullet"
   ],
   "metadata": {
    "collapsed": false,
    "ExecuteTime": {
     "end_time": "2023-05-21T02:36:23.076447300Z",
     "start_time": "2023-05-21T02:36:23.035341300Z"
    }
   }
  },
  {
   "cell_type": "code",
   "execution_count": 6,
   "outputs": [],
   "source": [],
   "metadata": {
    "collapsed": false,
    "ExecuteTime": {
     "end_time": "2023-05-21T02:36:23.096967600Z",
     "start_time": "2023-05-21T02:36:23.076447300Z"
    }
   }
  },
  {
   "cell_type": "code",
   "execution_count": 7,
   "outputs": [],
   "source": [
    "# a = mining.tulletprebon_calcs(presentation='raw')\n",
    "# a[['Batch Date', 'Class', 'Tradeable Instrument', 'Description', 'Source', 'Total for human']]"
   ],
   "metadata": {
    "collapsed": false,
    "ExecuteTime": {
     "end_time": "2023-05-21T02:36:23.144916400Z",
     "start_time": "2023-05-21T02:36:23.096967600Z"
    }
   }
  },
  {
   "cell_type": "code",
   "execution_count": 8,
   "outputs": [
    {
     "name": "stdout",
     "output_type": "stream",
     "text": [
      "2023-12-29 00:00:00\n"
     ]
    },
    {
     "data": {
      "text/plain": "           Total for human      Volume\nClass                                 \nBMF                701.74M   701740000\nBMF 1/2024             70M    70000000\nBROKEN                334M   334000000\nTOTAL                1.11B  1105740000",
      "text/html": "<div>\n<style scoped>\n    .dataframe tbody tr th:only-of-type {\n        vertical-align: middle;\n    }\n\n    .dataframe tbody tr th {\n        vertical-align: top;\n    }\n\n    .dataframe thead th {\n        text-align: right;\n    }\n</style>\n<table border=\"1\" class=\"dataframe\">\n  <thead>\n    <tr style=\"text-align: right;\">\n      <th></th>\n      <th>Total for human</th>\n      <th>Volume</th>\n    </tr>\n    <tr>\n      <th>Class</th>\n      <th></th>\n      <th></th>\n    </tr>\n  </thead>\n  <tbody>\n    <tr>\n      <th>BMF</th>\n      <td>701.74M</td>\n      <td>701740000</td>\n    </tr>\n    <tr>\n      <th>BMF 1/2024</th>\n      <td>70M</td>\n      <td>70000000</td>\n    </tr>\n    <tr>\n      <th>BROKEN</th>\n      <td>334M</td>\n      <td>334000000</td>\n    </tr>\n    <tr>\n      <th>TOTAL</th>\n      <td>1.11B</td>\n      <td>1105740000</td>\n    </tr>\n  </tbody>\n</table>\n</div>"
     },
     "execution_count": 8,
     "metadata": {},
     "output_type": "execute_result"
    }
   ],
   "source": [
    "mining.gfi_calcs('2023-05-18')\n"
   ],
   "metadata": {
    "collapsed": false,
    "ExecuteTime": {
     "end_time": "2023-05-21T02:36:23.267368100Z",
     "start_time": "2023-05-21T02:36:23.117030900Z"
    }
   }
  },
  {
   "cell_type": "code",
   "execution_count": 9,
   "outputs": [
    {
     "name": "stdout",
     "output_type": "stream",
     "text": [
      "5 == 5  |  2023-05-31 00:00:00 | USDBRL NDF 31MAY2023 BILATERAL\n",
      "6 == 5  |  2023-06-30 00:00:00 | USDBRL NDF 30JUN2023 BILATERAL\n"
     ]
    },
    {
     "data": {
      "text/plain": "   Trade Date                     Description OpenType LowType HighType  \\\n0  2023-05-19  USDBRL NDF 19MAY2023 BILATERAL    TRANS   TRANS    TRANS   \n1  2023-05-19  USDBRL NDF 31MAY2023 BILATERAL    TRANS   TRANS    TRANS   \n2  2023-05-19  USDBRL NDF 30JUN2023 BILATERAL    TRANS   TRANS    TRANS   \n3         NaN                             NaN      NaN     NaN      NaN   \n\n  CloseType EDRPVolume     Volume Source   Class  \n0     TRANS        NaN  263500000    BGC  BROKEN  \n1     TRANS        NaN  350500000    BGC     BMF  \n2     TRANS        NaN   80000000    BGC    BMF2  \n3       NaN        NaN  694000000    NaN   TOTAL  ",
      "text/html": "<div>\n<style scoped>\n    .dataframe tbody tr th:only-of-type {\n        vertical-align: middle;\n    }\n\n    .dataframe tbody tr th {\n        vertical-align: top;\n    }\n\n    .dataframe thead th {\n        text-align: right;\n    }\n</style>\n<table border=\"1\" class=\"dataframe\">\n  <thead>\n    <tr style=\"text-align: right;\">\n      <th></th>\n      <th>Trade Date</th>\n      <th>Description</th>\n      <th>OpenType</th>\n      <th>LowType</th>\n      <th>HighType</th>\n      <th>CloseType</th>\n      <th>EDRPVolume</th>\n      <th>Volume</th>\n      <th>Source</th>\n      <th>Class</th>\n    </tr>\n  </thead>\n  <tbody>\n    <tr>\n      <th>0</th>\n      <td>2023-05-19</td>\n      <td>USDBRL NDF 19MAY2023 BILATERAL</td>\n      <td>TRANS</td>\n      <td>TRANS</td>\n      <td>TRANS</td>\n      <td>TRANS</td>\n      <td>NaN</td>\n      <td>263500000</td>\n      <td>BGC</td>\n      <td>BROKEN</td>\n    </tr>\n    <tr>\n      <th>1</th>\n      <td>2023-05-19</td>\n      <td>USDBRL NDF 31MAY2023 BILATERAL</td>\n      <td>TRANS</td>\n      <td>TRANS</td>\n      <td>TRANS</td>\n      <td>TRANS</td>\n      <td>NaN</td>\n      <td>350500000</td>\n      <td>BGC</td>\n      <td>BMF</td>\n    </tr>\n    <tr>\n      <th>2</th>\n      <td>2023-05-19</td>\n      <td>USDBRL NDF 30JUN2023 BILATERAL</td>\n      <td>TRANS</td>\n      <td>TRANS</td>\n      <td>TRANS</td>\n      <td>TRANS</td>\n      <td>NaN</td>\n      <td>80000000</td>\n      <td>BGC</td>\n      <td>BMF2</td>\n    </tr>\n    <tr>\n      <th>3</th>\n      <td>NaN</td>\n      <td>NaN</td>\n      <td>NaN</td>\n      <td>NaN</td>\n      <td>NaN</td>\n      <td>NaN</td>\n      <td>NaN</td>\n      <td>694000000</td>\n      <td>NaN</td>\n      <td>TOTAL</td>\n    </tr>\n  </tbody>\n</table>\n</div>"
     },
     "execution_count": 9,
     "metadata": {},
     "output_type": "execute_result"
    }
   ],
   "source": [
    "mining.bgc_calcs(presentation='raw')"
   ],
   "metadata": {
    "collapsed": false,
    "ExecuteTime": {
     "end_time": "2023-05-21T02:36:23.342015400Z",
     "start_time": "2023-05-21T02:36:23.253908300Z"
    }
   }
  },
  {
   "cell_type": "code",
   "execution_count": 10,
   "outputs": [
    {
     "ename": "TypeError",
     "evalue": "get_BMF_date() takes from 0 to 1 positional arguments but 2 were given",
     "output_type": "error",
     "traceback": [
      "\u001B[1;31m---------------------------------------------------------------------------\u001B[0m",
      "\u001B[1;31mTypeError\u001B[0m                                 Traceback (most recent call last)",
      "Cell \u001B[1;32mIn[10], line 3\u001B[0m\n\u001B[0;32m      1\u001B[0m \u001B[38;5;28;01mfrom\u001B[39;00m \u001B[38;5;21;01mndf\u001B[39;00m\u001B[38;5;21;01m.\u001B[39;00m\u001B[38;5;21;01mutil\u001B[39;00m \u001B[38;5;28;01mimport\u001B[39;00m get_BMF_date\n\u001B[1;32m----> 3\u001B[0m \u001B[43mget_BMF_date\u001B[49m\u001B[43m(\u001B[49m\u001B[38;5;241;43m12\u001B[39;49m\u001B[43m,\u001B[49m\u001B[43m \u001B[49m\u001B[38;5;241;43m2023\u001B[39;49m\u001B[43m)\u001B[49m\n",
      "\u001B[1;31mTypeError\u001B[0m: get_BMF_date() takes from 0 to 1 positional arguments but 2 were given"
     ]
    }
   ],
   "source": [
    "from ndf.util import get_BMF_date\n",
    "\n",
    "get_BMF_date(12, 2023)"
   ],
   "metadata": {
    "collapsed": false,
    "ExecuteTime": {
     "end_time": "2023-05-21T02:36:23.558895700Z",
     "start_time": "2023-05-21T02:36:23.310137800Z"
    }
   }
  },
  {
   "cell_type": "code",
   "execution_count": null,
   "outputs": [],
   "source": [
    "from datetime import datetime\n",
    "from ndf.util import get_second_business_day\n",
    "a = get_second_business_day(1,2020)\n",
    "datetime(a.year, a.month, a.day)"
   ],
   "metadata": {
    "collapsed": false,
    "ExecuteTime": {
     "start_time": "2023-05-21T02:36:23.528729100Z"
    }
   }
  },
  {
   "cell_type": "markdown",
   "source": [],
   "metadata": {
    "collapsed": false
   }
  },
  {
   "cell_type": "code",
   "execution_count": null,
   "outputs": [],
   "source": [
    "datetime.fromtimestamp(a).strftime('%d - %m - %y')"
   ],
   "metadata": {
    "collapsed": false,
    "ExecuteTime": {
     "start_time": "2023-05-21T02:36:23.528729100Z"
    }
   }
  },
  {
   "cell_type": "code",
   "execution_count": null,
   "outputs": [],
   "source": [
    "datetime.fromtimestamp(datetime.timestamp(a))"
   ],
   "metadata": {
    "collapsed": false,
    "ExecuteTime": {
     "start_time": "2023-05-21T02:36:23.543023400Z"
    }
   }
  },
  {
   "cell_type": "code",
   "execution_count": null,
   "outputs": [],
   "source": [
    "gfi = mining.gfi_calcs()\n",
    "gfi"
   ],
   "metadata": {
    "collapsed": false,
    "ExecuteTime": {
     "start_time": "2023-05-21T02:36:23.543023400Z"
    }
   }
  },
  {
   "cell_type": "code",
   "execution_count": 18,
   "outputs": [
    {
     "data": {
      "text/plain": "       Total for human  Total_Trade_Count\nClass                                    \nBROKEN             48M                4.0\nTOTAL              48M                0.0",
      "text/html": "<div>\n<style scoped>\n    .dataframe tbody tr th:only-of-type {\n        vertical-align: middle;\n    }\n\n    .dataframe tbody tr th {\n        vertical-align: top;\n    }\n\n    .dataframe thead th {\n        text-align: right;\n    }\n</style>\n<table border=\"1\" class=\"dataframe\">\n  <thead>\n    <tr style=\"text-align: right;\">\n      <th></th>\n      <th>Total for human</th>\n      <th>Total_Trade_Count</th>\n    </tr>\n    <tr>\n      <th>Class</th>\n      <th></th>\n      <th></th>\n    </tr>\n  </thead>\n  <tbody>\n    <tr>\n      <th>BROKEN</th>\n      <td>48M</td>\n      <td>4.0</td>\n    </tr>\n    <tr>\n      <th>TOTAL</th>\n      <td>48M</td>\n      <td>0.0</td>\n    </tr>\n  </tbody>\n</table>\n</div>"
     },
     "execution_count": 18,
     "metadata": {},
     "output_type": "execute_result"
    }
   ],
   "source": [
    "tradition = mining.tradition_calcs('2023-05-17')\n",
    "tradition"
   ],
   "metadata": {
    "collapsed": false,
    "ExecuteTime": {
     "end_time": "2023-05-21T02:41:28.986201100Z",
     "start_time": "2023-05-21T02:41:28.664926900Z"
    }
   }
  },
  {
   "cell_type": "code",
   "execution_count": null,
   "outputs": [],
   "source": [],
   "metadata": {
    "collapsed": false,
    "ExecuteTime": {
     "start_time": "2023-05-21T02:36:23.543023400Z"
    }
   }
  }
 ],
 "metadata": {
  "kernelspec": {
   "display_name": "Python 3",
   "language": "python",
   "name": "python3"
  },
  "language_info": {
   "codemirror_mode": {
    "name": "ipython",
    "version": 2
   },
   "file_extension": ".py",
   "mimetype": "text/x-python",
   "name": "python",
   "nbconvert_exporter": "python",
   "pygments_lexer": "ipython2",
   "version": "2.7.6"
  }
 },
 "nbformat": 4,
 "nbformat_minor": 0
}
