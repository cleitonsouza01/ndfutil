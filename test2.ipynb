{
 "cells": [
  {
   "cell_type": "code",
   "execution_count": 1,
   "metadata": {
    "collapsed": true,
    "ExecuteTime": {
     "end_time": "2023-05-12T17:54:53.102524800Z",
     "start_time": "2023-05-12T17:54:51.197927900Z"
    }
   },
   "outputs": [
    {
     "data": {
      "text/plain": "2"
     },
     "execution_count": 1,
     "metadata": {},
     "output_type": "execute_result"
    }
   ],
   "source": [
    "from loguru import logger\n",
    "import ndf.download\n",
    "from ndf.datamining import datamining\n",
    "import warnings\n",
    "import sys\n",
    "\n",
    "warnings.simplefilter(action='ignore', category=FutureWarning)\n",
    "\n",
    "log_level = 'ERROR'\n",
    "logger.add(sys.stderr, format=\"{time} {level} {message}\", filter=\"my_module\", level=log_level)\n",
    "# logger.add(sys.stdout, colorize=True, format=\"<green>{time}</green> <level>{message}</level>\")\n",
    "logger.add(\"ndfdownload.log\", rotation=\"30 MB\", level=log_level)"
   ]
  },
  {
   "cell_type": "code",
   "execution_count": 2,
   "outputs": [],
   "source": [
    "logger.remove()"
   ],
   "metadata": {
    "collapsed": false,
    "ExecuteTime": {
     "end_time": "2023-05-12T17:54:53.143428300Z",
     "start_time": "2023-05-12T17:54:53.106981900Z"
    }
   }
  },
  {
   "cell_type": "markdown",
   "source": [],
   "metadata": {
    "collapsed": false
   }
  },
  {
   "cell_type": "code",
   "execution_count": 3,
   "outputs": [
    {
     "name": "stdout",
     "output_type": "stream",
     "text": [
      "bgc ok\n",
      "tradition ok\n",
      "prebontullet ok\n",
      "gfi ok\n"
     ]
    }
   ],
   "source": [
    "d = ndf.download.download()\n",
    "d.download_all()"
   ],
   "metadata": {
    "collapsed": false,
    "ExecuteTime": {
     "end_time": "2023-05-12T17:54:53.180670800Z",
     "start_time": "2023-05-12T17:54:53.123072500Z"
    }
   }
  },
  {
   "cell_type": "code",
   "execution_count": 4,
   "outputs": [],
   "source": [
    "mining = datamining()\n"
   ],
   "metadata": {
    "collapsed": false,
    "ExecuteTime": {
     "end_time": "2023-05-12T17:54:53.236439300Z",
     "start_time": "2023-05-12T17:54:53.167324500Z"
    }
   }
  },
  {
   "cell_type": "code",
   "execution_count": 5,
   "outputs": [
    {
     "data": {
      "text/plain": "          Total for human  Num of Trades    Days  Total Notional Value\nClass                                                                 \nBMF1                1.32B           33.0    36.0          1.324400e+09\nBMF2                 200M            3.0    51.0          2.000000e+08\nBROKEN            700.28M           16.0    41.0          7.002796e+08\nGT 1 YEAR             60M            1.0  1144.0          6.000000e+07\nLONGER            196.78M            5.0   333.0          1.967796e+08\nPTAX                51.5M            5.0     0.0          5.150000e+07\nTOMPTAX               42M            2.0     0.0          4.200000e+07\nTOTAL               2.64B            0.0     0.0          2.637709e+09\nXP                 62.75M           26.0     0.0          6.275000e+07",
      "text/html": "<div>\n<style scoped>\n    .dataframe tbody tr th:only-of-type {\n        vertical-align: middle;\n    }\n\n    .dataframe tbody tr th {\n        vertical-align: top;\n    }\n\n    .dataframe thead th {\n        text-align: right;\n    }\n</style>\n<table border=\"1\" class=\"dataframe\">\n  <thead>\n    <tr style=\"text-align: right;\">\n      <th></th>\n      <th>Total for human</th>\n      <th>Num of Trades</th>\n      <th>Days</th>\n      <th>Total Notional Value</th>\n    </tr>\n    <tr>\n      <th>Class</th>\n      <th></th>\n      <th></th>\n      <th></th>\n      <th></th>\n    </tr>\n  </thead>\n  <tbody>\n    <tr>\n      <th>BMF1</th>\n      <td>1.32B</td>\n      <td>33.0</td>\n      <td>36.0</td>\n      <td>1.324400e+09</td>\n    </tr>\n    <tr>\n      <th>BMF2</th>\n      <td>200M</td>\n      <td>3.0</td>\n      <td>51.0</td>\n      <td>2.000000e+08</td>\n    </tr>\n    <tr>\n      <th>BROKEN</th>\n      <td>700.28M</td>\n      <td>16.0</td>\n      <td>41.0</td>\n      <td>7.002796e+08</td>\n    </tr>\n    <tr>\n      <th>GT 1 YEAR</th>\n      <td>60M</td>\n      <td>1.0</td>\n      <td>1144.0</td>\n      <td>6.000000e+07</td>\n    </tr>\n    <tr>\n      <th>LONGER</th>\n      <td>196.78M</td>\n      <td>5.0</td>\n      <td>333.0</td>\n      <td>1.967796e+08</td>\n    </tr>\n    <tr>\n      <th>PTAX</th>\n      <td>51.5M</td>\n      <td>5.0</td>\n      <td>0.0</td>\n      <td>5.150000e+07</td>\n    </tr>\n    <tr>\n      <th>TOMPTAX</th>\n      <td>42M</td>\n      <td>2.0</td>\n      <td>0.0</td>\n      <td>4.200000e+07</td>\n    </tr>\n    <tr>\n      <th>TOTAL</th>\n      <td>2.64B</td>\n      <td>0.0</td>\n      <td>0.0</td>\n      <td>2.637709e+09</td>\n    </tr>\n    <tr>\n      <th>XP</th>\n      <td>62.75M</td>\n      <td>26.0</td>\n      <td>0.0</td>\n      <td>6.275000e+07</td>\n    </tr>\n  </tbody>\n</table>\n</div>"
     },
     "execution_count": 5,
     "metadata": {},
     "output_type": "execute_result"
    }
   ],
   "source": [
    "tullet = mining.tulletprebon_calcs()\n",
    "tullet"
   ],
   "metadata": {
    "collapsed": false,
    "ExecuteTime": {
     "end_time": "2023-05-12T17:54:53.285870500Z",
     "start_time": "2023-05-12T17:54:53.185290200Z"
    }
   }
  },
  {
   "cell_type": "code",
   "execution_count": 6,
   "outputs": [
    {
     "name": "stdout",
     "output_type": "stream",
     "text": [
      "5 == 5  |  2023-05-31 00:00:00 | USDBRL NDF 31MAY2023 BILATERAL\n"
     ]
    },
    {
     "data": {
      "text/plain": "       Total for human     Volume\nClass                            \nBMF               480M  480000000\nBROKEN            159M  159000000\nTOTAL             639M  639000000",
      "text/html": "<div>\n<style scoped>\n    .dataframe tbody tr th:only-of-type {\n        vertical-align: middle;\n    }\n\n    .dataframe tbody tr th {\n        vertical-align: top;\n    }\n\n    .dataframe thead th {\n        text-align: right;\n    }\n</style>\n<table border=\"1\" class=\"dataframe\">\n  <thead>\n    <tr style=\"text-align: right;\">\n      <th></th>\n      <th>Total for human</th>\n      <th>Volume</th>\n    </tr>\n    <tr>\n      <th>Class</th>\n      <th></th>\n      <th></th>\n    </tr>\n  </thead>\n  <tbody>\n    <tr>\n      <th>BMF</th>\n      <td>480M</td>\n      <td>480000000</td>\n    </tr>\n    <tr>\n      <th>BROKEN</th>\n      <td>159M</td>\n      <td>159000000</td>\n    </tr>\n    <tr>\n      <th>TOTAL</th>\n      <td>639M</td>\n      <td>639000000</td>\n    </tr>\n  </tbody>\n</table>\n</div>"
     },
     "execution_count": 6,
     "metadata": {},
     "output_type": "execute_result"
    }
   ],
   "source": [
    "bgc = mining.bgc_calcs()\n",
    "bgc"
   ],
   "metadata": {
    "collapsed": false,
    "ExecuteTime": {
     "end_time": "2023-05-12T17:54:53.547206800Z",
     "start_time": "2023-05-12T17:54:53.276158600Z"
    }
   }
  },
  {
   "cell_type": "code",
   "execution_count": 7,
   "outputs": [
    {
     "data": {
      "text/plain": "       Total for human     Volume\nClass                            \nBMF             426.5M  426500000\nBMF2               50M   50000000\nBROKEN          376.5M  376500000\nTOTAL             853M  853000000",
      "text/html": "<div>\n<style scoped>\n    .dataframe tbody tr th:only-of-type {\n        vertical-align: middle;\n    }\n\n    .dataframe tbody tr th {\n        vertical-align: top;\n    }\n\n    .dataframe thead th {\n        text-align: right;\n    }\n</style>\n<table border=\"1\" class=\"dataframe\">\n  <thead>\n    <tr style=\"text-align: right;\">\n      <th></th>\n      <th>Total for human</th>\n      <th>Volume</th>\n    </tr>\n    <tr>\n      <th>Class</th>\n      <th></th>\n      <th></th>\n    </tr>\n  </thead>\n  <tbody>\n    <tr>\n      <th>BMF</th>\n      <td>426.5M</td>\n      <td>426500000</td>\n    </tr>\n    <tr>\n      <th>BMF2</th>\n      <td>50M</td>\n      <td>50000000</td>\n    </tr>\n    <tr>\n      <th>BROKEN</th>\n      <td>376.5M</td>\n      <td>376500000</td>\n    </tr>\n    <tr>\n      <th>TOTAL</th>\n      <td>853M</td>\n      <td>853000000</td>\n    </tr>\n  </tbody>\n</table>\n</div>"
     },
     "execution_count": 7,
     "metadata": {},
     "output_type": "execute_result"
    }
   ],
   "source": [
    "gfi = mining.gfi_calcs()\n",
    "gfi"
   ],
   "metadata": {
    "collapsed": false,
    "ExecuteTime": {
     "end_time": "2023-05-12T17:54:53.549330500Z",
     "start_time": "2023-05-12T17:54:53.325762800Z"
    }
   }
  },
  {
   "cell_type": "code",
   "execution_count": 8,
   "outputs": [
    {
     "data": {
      "text/plain": "      Total for human  Total_Trade_Count\nClass                                   \nTOTAL               0                0.0",
      "text/html": "<div>\n<style scoped>\n    .dataframe tbody tr th:only-of-type {\n        vertical-align: middle;\n    }\n\n    .dataframe tbody tr th {\n        vertical-align: top;\n    }\n\n    .dataframe thead th {\n        text-align: right;\n    }\n</style>\n<table border=\"1\" class=\"dataframe\">\n  <thead>\n    <tr style=\"text-align: right;\">\n      <th></th>\n      <th>Total for human</th>\n      <th>Total_Trade_Count</th>\n    </tr>\n    <tr>\n      <th>Class</th>\n      <th></th>\n      <th></th>\n    </tr>\n  </thead>\n  <tbody>\n    <tr>\n      <th>TOTAL</th>\n      <td>0</td>\n      <td>0.0</td>\n    </tr>\n  </tbody>\n</table>\n</div>"
     },
     "execution_count": 8,
     "metadata": {},
     "output_type": "execute_result"
    }
   ],
   "source": [
    "tradition = mining.tradition_calcs()\n",
    "tradition"
   ],
   "metadata": {
    "collapsed": false,
    "ExecuteTime": {
     "end_time": "2023-05-12T17:54:53.549824400Z",
     "start_time": "2023-05-12T17:54:53.366490200Z"
    }
   }
  },
  {
   "cell_type": "code",
   "execution_count": 8,
   "outputs": [],
   "source": [],
   "metadata": {
    "collapsed": false,
    "ExecuteTime": {
     "end_time": "2023-05-12T17:54:53.550829700Z",
     "start_time": "2023-05-12T17:54:53.414912900Z"
    }
   }
  }
 ],
 "metadata": {
  "kernelspec": {
   "display_name": "Python 3",
   "language": "python",
   "name": "python3"
  },
  "language_info": {
   "codemirror_mode": {
    "name": "ipython",
    "version": 2
   },
   "file_extension": ".py",
   "mimetype": "text/x-python",
   "name": "python",
   "nbconvert_exporter": "python",
   "pygments_lexer": "ipython2",
   "version": "2.7.6"
  }
 },
 "nbformat": 4,
 "nbformat_minor": 0
}
