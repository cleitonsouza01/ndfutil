{
 "cells": [
  {
   "cell_type": "code",
   "execution_count": 66,
   "metadata": {
    "collapsed": true,
    "ExecuteTime": {
     "end_time": "2023-05-11T11:49:52.485161300Z",
     "start_time": "2023-05-11T11:49:52.473976400Z"
    }
   },
   "outputs": [],
   "source": [
    "from loguru import logger\n",
    "\n",
    "import ndf.download\n",
    "from ndf import download\n",
    "\n",
    "import warnings\n",
    "warnings.simplefilter(action='ignore', category=FutureWarning)"
   ]
  },
  {
   "cell_type": "code",
   "execution_count": 67,
   "outputs": [
    {
     "data": {
      "text/plain": "4"
     },
     "execution_count": 67,
     "metadata": {},
     "output_type": "execute_result"
    }
   ],
   "source": [
    "import sys\n",
    "\n",
    "log_level = 'ERROR'\n",
    "logger.add(sys.stderr, format=\"{time} {level} {message}\", filter=\"my_module\", level=log_level)\n",
    "# logger.add(sys.stdout, colorize=True, format=\"<green>{time}</green> <level>{message}</level>\")\n",
    "logger.add(\"ndfdownload.log\", rotation=\"30 MB\", level=log_level)"
   ],
   "metadata": {
    "collapsed": false,
    "ExecuteTime": {
     "end_time": "2023-05-11T11:49:52.542555900Z",
     "start_time": "2023-05-11T11:49:52.485161300Z"
    }
   }
  },
  {
   "cell_type": "code",
   "execution_count": 68,
   "outputs": [],
   "source": [
    "logger.remove()"
   ],
   "metadata": {
    "collapsed": false,
    "ExecuteTime": {
     "end_time": "2023-05-11T11:49:52.542555900Z",
     "start_time": "2023-05-11T11:49:52.510168200Z"
    }
   }
  },
  {
   "cell_type": "markdown",
   "source": [],
   "metadata": {
    "collapsed": false
   }
  },
  {
   "cell_type": "code",
   "execution_count": 69,
   "outputs": [
    {
     "name": "stderr",
     "output_type": "stream",
     "text": [
      "C:\\Users\\souzacle\\PycharmProjects\\ndfutil\\venv\\lib\\site-packages\\urllib3\\connectionpool.py:1045: InsecureRequestWarning: Unverified HTTPS request is being made to host 'www.traditionsef.com'. Adding certificate verification is strongly advised. See: https://urllib3.readthedocs.io/en/1.26.x/advanced-usage.html#ssl-warnings\n",
      "  warnings.warn(\n",
      "C:\\Users\\souzacle\\PycharmProjects\\ndfutil\\venv\\lib\\site-packages\\scrapy\\selector\\unified.py:83: UserWarning: Selector got both text and root, root is being ignored.\n",
      "  super().__init__(text=text, type=st, root=root, **kwargs)\n"
     ]
    },
    {
     "name": "stdout",
     "output_type": "stream",
     "text": [
      "bgc ok\n",
      "tradition ok\n",
      "prebontullet ok\n",
      "gfi ok\n"
     ]
    }
   ],
   "source": [
    "d = ndf.download.download()\n",
    "d.download_all()"
   ],
   "metadata": {
    "collapsed": false,
    "ExecuteTime": {
     "end_time": "2023-05-11T11:49:59.705967600Z",
     "start_time": "2023-05-11T11:49:52.542555900Z"
    }
   }
  },
  {
   "cell_type": "code",
   "execution_count": 70,
   "outputs": [],
   "source": [
    "from ndf.datamining import datamining\n",
    "\n",
    "mining = datamining()\n"
   ],
   "metadata": {
    "collapsed": false,
    "ExecuteTime": {
     "end_time": "2023-05-11T11:49:59.753486900Z",
     "start_time": "2023-05-11T11:49:59.705967600Z"
    }
   }
  },
  {
   "cell_type": "code",
   "execution_count": 71,
   "outputs": [
    {
     "data": {
      "text/plain": "         Total for human  Num of Trades   Days  Total Notional Value\nClass                                                               \nBMF1               1.55B             35   42.0          1.548200e+09\nBMF3                166M              3   82.0          1.660000e+08\nBROKEN              207M              3   18.0          2.070000e+08\nLONGER              750M             12  634.0          7.500000e+08\nMATURING         124.25M             66    0.0          1.242500e+08\nPTAX                 82M              7    0.0          8.200000e+07\nTOMPTAX             213M             10    0.0          2.130000e+08",
      "text/html": "<div>\n<style scoped>\n    .dataframe tbody tr th:only-of-type {\n        vertical-align: middle;\n    }\n\n    .dataframe tbody tr th {\n        vertical-align: top;\n    }\n\n    .dataframe thead th {\n        text-align: right;\n    }\n</style>\n<table border=\"1\" class=\"dataframe\">\n  <thead>\n    <tr style=\"text-align: right;\">\n      <th></th>\n      <th>Total for human</th>\n      <th>Num of Trades</th>\n      <th>Days</th>\n      <th>Total Notional Value</th>\n    </tr>\n    <tr>\n      <th>Class</th>\n      <th></th>\n      <th></th>\n      <th></th>\n      <th></th>\n    </tr>\n  </thead>\n  <tbody>\n    <tr>\n      <th>BMF1</th>\n      <td>1.55B</td>\n      <td>35</td>\n      <td>42.0</td>\n      <td>1.548200e+09</td>\n    </tr>\n    <tr>\n      <th>BMF3</th>\n      <td>166M</td>\n      <td>3</td>\n      <td>82.0</td>\n      <td>1.660000e+08</td>\n    </tr>\n    <tr>\n      <th>BROKEN</th>\n      <td>207M</td>\n      <td>3</td>\n      <td>18.0</td>\n      <td>2.070000e+08</td>\n    </tr>\n    <tr>\n      <th>LONGER</th>\n      <td>750M</td>\n      <td>12</td>\n      <td>634.0</td>\n      <td>7.500000e+08</td>\n    </tr>\n    <tr>\n      <th>MATURING</th>\n      <td>124.25M</td>\n      <td>66</td>\n      <td>0.0</td>\n      <td>1.242500e+08</td>\n    </tr>\n    <tr>\n      <th>PTAX</th>\n      <td>82M</td>\n      <td>7</td>\n      <td>0.0</td>\n      <td>8.200000e+07</td>\n    </tr>\n    <tr>\n      <th>TOMPTAX</th>\n      <td>213M</td>\n      <td>10</td>\n      <td>0.0</td>\n      <td>2.130000e+08</td>\n    </tr>\n  </tbody>\n</table>\n</div>"
     },
     "execution_count": 71,
     "metadata": {},
     "output_type": "execute_result"
    }
   ],
   "source": [
    "mining.tulletprebon_calcs()"
   ],
   "metadata": {
    "collapsed": false,
    "ExecuteTime": {
     "end_time": "2023-05-11T11:49:59.814476Z",
     "start_time": "2023-05-11T11:49:59.721673700Z"
    }
   }
  },
  {
   "cell_type": "code",
   "execution_count": 72,
   "outputs": [
    {
     "data": {
      "text/plain": "0  Trade Date                     Description OpenType LowType HighType  \\\n0  2023-05-10  USDBRL NDF 10MAY2023 BILATERAL    TRANS   TRANS    TRANS   \n1  2023-05-10  USDBRL NDF 11MAY2023 BILATERAL    TRANS   TRANS    TRANS   \n2  2023-05-10  USDBRL NDF 31MAY2023 BILATERAL    TRANS   TRANS    TRANS   \n3  2023-05-10  USDBRL NDF 16JUN2023 BILATERAL    TRANS   TRANS    TRANS   \n4  2023-05-10  USDBRL NDF 31MAR2025 BILATERAL    TRANS   TRANS    TRANS   \n\n0 CloseType EDRPVolume     Volume Source   Class  \n0     TRANS        NaN  187000000    GFI  BROKEN  \n1     TRANS        NaN   45000000    GFI  BROKEN  \n2     TRANS        NaN  338000000    GFI  BROKEN  \n3     TRANS        NaN   75000000    GFI  BROKEN  \n4     TRANS        NaN   20000000    GFI  BROKEN  ",
      "text/html": "<div>\n<style scoped>\n    .dataframe tbody tr th:only-of-type {\n        vertical-align: middle;\n    }\n\n    .dataframe tbody tr th {\n        vertical-align: top;\n    }\n\n    .dataframe thead th {\n        text-align: right;\n    }\n</style>\n<table border=\"1\" class=\"dataframe\">\n  <thead>\n    <tr style=\"text-align: right;\">\n      <th></th>\n      <th>Trade Date</th>\n      <th>Description</th>\n      <th>OpenType</th>\n      <th>LowType</th>\n      <th>HighType</th>\n      <th>CloseType</th>\n      <th>EDRPVolume</th>\n      <th>Volume</th>\n      <th>Source</th>\n      <th>Class</th>\n    </tr>\n  </thead>\n  <tbody>\n    <tr>\n      <th>0</th>\n      <td>2023-05-10</td>\n      <td>USDBRL NDF 10MAY2023 BILATERAL</td>\n      <td>TRANS</td>\n      <td>TRANS</td>\n      <td>TRANS</td>\n      <td>TRANS</td>\n      <td>NaN</td>\n      <td>187000000</td>\n      <td>GFI</td>\n      <td>BROKEN</td>\n    </tr>\n    <tr>\n      <th>1</th>\n      <td>2023-05-10</td>\n      <td>USDBRL NDF 11MAY2023 BILATERAL</td>\n      <td>TRANS</td>\n      <td>TRANS</td>\n      <td>TRANS</td>\n      <td>TRANS</td>\n      <td>NaN</td>\n      <td>45000000</td>\n      <td>GFI</td>\n      <td>BROKEN</td>\n    </tr>\n    <tr>\n      <th>2</th>\n      <td>2023-05-10</td>\n      <td>USDBRL NDF 31MAY2023 BILATERAL</td>\n      <td>TRANS</td>\n      <td>TRANS</td>\n      <td>TRANS</td>\n      <td>TRANS</td>\n      <td>NaN</td>\n      <td>338000000</td>\n      <td>GFI</td>\n      <td>BROKEN</td>\n    </tr>\n    <tr>\n      <th>3</th>\n      <td>2023-05-10</td>\n      <td>USDBRL NDF 16JUN2023 BILATERAL</td>\n      <td>TRANS</td>\n      <td>TRANS</td>\n      <td>TRANS</td>\n      <td>TRANS</td>\n      <td>NaN</td>\n      <td>75000000</td>\n      <td>GFI</td>\n      <td>BROKEN</td>\n    </tr>\n    <tr>\n      <th>4</th>\n      <td>2023-05-10</td>\n      <td>USDBRL NDF 31MAR2025 BILATERAL</td>\n      <td>TRANS</td>\n      <td>TRANS</td>\n      <td>TRANS</td>\n      <td>TRANS</td>\n      <td>NaN</td>\n      <td>20000000</td>\n      <td>GFI</td>\n      <td>BROKEN</td>\n    </tr>\n  </tbody>\n</table>\n</div>"
     },
     "execution_count": 72,
     "metadata": {},
     "output_type": "execute_result"
    }
   ],
   "source": [
    "bgc = mining.bgc_calcs(presentation='raw')\n",
    "bgc"
   ],
   "metadata": {
    "collapsed": false,
    "ExecuteTime": {
     "end_time": "2023-05-11T11:49:59.818258300Z",
     "start_time": "2023-05-11T11:49:59.782279500Z"
    }
   }
  },
  {
   "cell_type": "code",
   "execution_count": 73,
   "outputs": [
    {
     "data": {
      "text/plain": "0  Trade Date                     Description OpenType LowType HighType  \\\n0  2023-05-10  USDBRL NDF 10MAY2023 BILATERAL    TRANS   TRANS    TRANS   \n1  2023-05-10  USDBRL NDF 11MAY2023 BILATERAL    TRANS   TRANS    TRANS   \n2  2023-05-10  USDBRL NDF 31MAY2023 BILATERAL    TRANS   TRANS    TRANS   \n3  2023-05-10  USDBRL NDF 16JUN2023 BILATERAL    TRANS   TRANS    TRANS   \n4  2023-05-10  USDBRL NDF 31MAR2025 BILATERAL    TRANS   TRANS    TRANS   \n\n0 CloseType EDRPVolume     Volume Source   Class  \n0     TRANS        NaN  187000000    GFI  BROKEN  \n1     TRANS        NaN   45000000    GFI  BROKEN  \n2     TRANS        NaN  338000000    GFI  BROKEN  \n3     TRANS        NaN   75000000    GFI  BROKEN  \n4     TRANS        NaN   20000000    GFI  BROKEN  ",
      "text/html": "<div>\n<style scoped>\n    .dataframe tbody tr th:only-of-type {\n        vertical-align: middle;\n    }\n\n    .dataframe tbody tr th {\n        vertical-align: top;\n    }\n\n    .dataframe thead th {\n        text-align: right;\n    }\n</style>\n<table border=\"1\" class=\"dataframe\">\n  <thead>\n    <tr style=\"text-align: right;\">\n      <th></th>\n      <th>Trade Date</th>\n      <th>Description</th>\n      <th>OpenType</th>\n      <th>LowType</th>\n      <th>HighType</th>\n      <th>CloseType</th>\n      <th>EDRPVolume</th>\n      <th>Volume</th>\n      <th>Source</th>\n      <th>Class</th>\n    </tr>\n  </thead>\n  <tbody>\n    <tr>\n      <th>0</th>\n      <td>2023-05-10</td>\n      <td>USDBRL NDF 10MAY2023 BILATERAL</td>\n      <td>TRANS</td>\n      <td>TRANS</td>\n      <td>TRANS</td>\n      <td>TRANS</td>\n      <td>NaN</td>\n      <td>187000000</td>\n      <td>GFI</td>\n      <td>BROKEN</td>\n    </tr>\n    <tr>\n      <th>1</th>\n      <td>2023-05-10</td>\n      <td>USDBRL NDF 11MAY2023 BILATERAL</td>\n      <td>TRANS</td>\n      <td>TRANS</td>\n      <td>TRANS</td>\n      <td>TRANS</td>\n      <td>NaN</td>\n      <td>45000000</td>\n      <td>GFI</td>\n      <td>BROKEN</td>\n    </tr>\n    <tr>\n      <th>2</th>\n      <td>2023-05-10</td>\n      <td>USDBRL NDF 31MAY2023 BILATERAL</td>\n      <td>TRANS</td>\n      <td>TRANS</td>\n      <td>TRANS</td>\n      <td>TRANS</td>\n      <td>NaN</td>\n      <td>338000000</td>\n      <td>GFI</td>\n      <td>BROKEN</td>\n    </tr>\n    <tr>\n      <th>3</th>\n      <td>2023-05-10</td>\n      <td>USDBRL NDF 16JUN2023 BILATERAL</td>\n      <td>TRANS</td>\n      <td>TRANS</td>\n      <td>TRANS</td>\n      <td>TRANS</td>\n      <td>NaN</td>\n      <td>75000000</td>\n      <td>GFI</td>\n      <td>BROKEN</td>\n    </tr>\n    <tr>\n      <th>4</th>\n      <td>2023-05-10</td>\n      <td>USDBRL NDF 31MAR2025 BILATERAL</td>\n      <td>TRANS</td>\n      <td>TRANS</td>\n      <td>TRANS</td>\n      <td>TRANS</td>\n      <td>NaN</td>\n      <td>20000000</td>\n      <td>GFI</td>\n      <td>BROKEN</td>\n    </tr>\n  </tbody>\n</table>\n</div>"
     },
     "execution_count": 73,
     "metadata": {},
     "output_type": "execute_result"
    }
   ],
   "source": [
    "bgc"
   ],
   "metadata": {
    "collapsed": false,
    "ExecuteTime": {
     "end_time": "2023-05-11T11:49:59.880466400Z",
     "start_time": "2023-05-11T11:49:59.818258300Z"
    }
   }
  },
  {
   "cell_type": "code",
   "execution_count": 74,
   "outputs": [
    {
     "data": {
      "text/plain": "'2023-07-03'"
     },
     "execution_count": 74,
     "metadata": {},
     "output_type": "execute_result"
    }
   ],
   "source": [
    "from ndf.util import *\n",
    "\n",
    "get_BMF_date(month=7).strftime(\"%Y-%m-%d\")"
   ],
   "metadata": {
    "collapsed": false,
    "ExecuteTime": {
     "end_time": "2023-05-11T11:49:59.989489400Z",
     "start_time": "2023-05-11T11:49:59.853257300Z"
    }
   }
  },
  {
   "cell_type": "code",
   "execution_count": 75,
   "outputs": [
    {
     "data": {
      "text/plain": "datetime.datetime(2023, 7, 3, 0, 0)"
     },
     "execution_count": 75,
     "metadata": {},
     "output_type": "execute_result"
    }
   ],
   "source": [
    "from pandas._libs.tslibs.offsets import BusinessDay\n",
    "import pandas as pd\n",
    "\n",
    "a = pd.date_range('7/1/2023', '7/1/2031', freq='BMS')\n",
    "\n",
    "a.to_pydatetime()[0]\n",
    "\n",
    "dbase = a.to_pydatetime()[0]\n",
    "dbase"
   ],
   "metadata": {
    "collapsed": false,
    "ExecuteTime": {
     "end_time": "2023-05-11T11:50:00.090718600Z",
     "start_time": "2023-05-11T11:49:59.907794Z"
    }
   }
  },
  {
   "cell_type": "code",
   "execution_count": 76,
   "outputs": [],
   "source": [
    "from pandas._libs.tslibs.offsets import BDay\n",
    "\n",
    "def get_second_business_day(month=None, year=None):\n",
    "    bdate = None\n",
    "    if year:\n",
    "        bdate = datetime.today().replace(year=year, month=month, day=1)\n",
    "    elif month and not year:\n",
    "        bdate = datetime.today().replace(month=month, day=1)\n",
    "    else:\n",
    "        bdate = datetime.today().replace(day=1)\n",
    "\n",
    "    # print(bdate)\n",
    "    if is_weekday(bdate):\n",
    "        if not is_holiday(bdate):\n",
    "            bdate = bdate  + BDay(1)\n",
    "        else:\n",
    "            bdate = bdate  + BDay(2)\n",
    "    else:\n",
    "        bdate = bdate  + BDay(2)\n",
    "\n",
    "    while is_holiday(bdate):\n",
    "        bdate = bdate + BDay(1)\n",
    "\n",
    "    return bdate\n",
    "\n"
   ],
   "metadata": {
    "collapsed": false,
    "ExecuteTime": {
     "end_time": "2023-05-11T11:50:00.116330300Z",
     "start_time": "2023-05-11T11:49:59.933721Z"
    }
   }
  },
  {
   "cell_type": "code",
   "execution_count": 77,
   "outputs": [
    {
     "data": {
      "text/plain": "Timestamp('2023-05-03 07:49:59.949783')"
     },
     "execution_count": 77,
     "metadata": {},
     "output_type": "execute_result"
    }
   ],
   "source": [
    "get_second_business_day()"
   ],
   "metadata": {
    "collapsed": false,
    "ExecuteTime": {
     "end_time": "2023-05-11T11:50:00.117353600Z",
     "start_time": "2023-05-11T11:49:59.950778100Z"
    }
   }
  },
  {
   "cell_type": "code",
   "execution_count": 78,
   "outputs": [
    {
     "name": "stdout",
     "output_type": "stream",
     "text": [
      "2023-Jan-03\n",
      "2023-Feb-02\n",
      "2023-Mar-02\n",
      "2023-Apr-04\n",
      "2023-May-03\n",
      "2023-Jun-02\n",
      "2023-Jul-05\n",
      "2023-Aug-02\n",
      "2023-Sep-05\n",
      "2023-Oct-03\n",
      "2023-Nov-03\n",
      "2023-Dec-04\n"
     ]
    }
   ],
   "source": [
    "for i in range(1,13):\n",
    "    a = get_second_business_day(i).strftime('%Y-%b-%d')\n",
    "    print(a)"
   ],
   "metadata": {
    "collapsed": false,
    "ExecuteTime": {
     "end_time": "2023-05-11T11:50:00.386611600Z",
     "start_time": "2023-05-11T11:49:59.996861700Z"
    }
   }
  },
  {
   "cell_type": "code",
   "execution_count": 79,
   "outputs": [
    {
     "name": "stdout",
     "output_type": "stream",
     "text": [
      "2022-Jan-04\n",
      "2022-Feb-02\n",
      "2022-Mar-03\n",
      "2022-Apr-04\n",
      "2022-May-03\n",
      "2022-Jun-02\n",
      "2022-Jul-05\n",
      "2022-Aug-02\n",
      "2022-Sep-02\n",
      "2022-Oct-04\n",
      "2022-Nov-03\n",
      "2022-Dec-02\n"
     ]
    }
   ],
   "source": [
    "for i in range(1,13):\n",
    "    a = get_second_business_day(i, 2022).strftime('%Y-%b-%d')\n",
    "    print(a)"
   ],
   "metadata": {
    "collapsed": false,
    "ExecuteTime": {
     "end_time": "2023-05-11T11:50:00.719280900Z",
     "start_time": "2023-05-11T11:50:00.388128200Z"
    }
   }
  },
  {
   "cell_type": "code",
   "execution_count": 80,
   "outputs": [
    {
     "name": "stdout",
     "output_type": "stream",
     "text": [
      "2021-Jan-05\n",
      "2021-Feb-02\n",
      "2021-Mar-02\n",
      "2021-Apr-05\n",
      "2021-May-04\n",
      "2021-Jun-02\n",
      "2021-Jul-02\n",
      "2021-Aug-03\n",
      "2021-Sep-02\n",
      "2021-Oct-04\n",
      "2021-Nov-03\n",
      "2021-Dec-02\n"
     ]
    }
   ],
   "source": [
    "for i in range(1,13):\n",
    "    a = get_second_business_day(i, 2021).strftime('%Y-%b-%d')\n",
    "    print(a)"
   ],
   "metadata": {
    "collapsed": false,
    "ExecuteTime": {
     "end_time": "2023-05-11T11:50:01.053024400Z",
     "start_time": "2023-05-11T11:50:00.719280900Z"
    }
   }
  },
  {
   "cell_type": "code",
   "execution_count": 81,
   "outputs": [
    {
     "data": {
      "text/plain": "Timestamp('2022-01-31 00:00:00')"
     },
     "execution_count": 81,
     "metadata": {},
     "output_type": "execute_result"
    }
   ],
   "source": [
    "pd.Timestamp(2022, 1, 1) + pd.offsets.MonthEnd()"
   ],
   "metadata": {
    "collapsed": false,
    "ExecuteTime": {
     "end_time": "2023-05-11T11:50:01.100412200Z",
     "start_time": "2023-05-11T11:50:01.044511300Z"
    }
   }
  },
  {
   "cell_type": "markdown",
   "source": [
    "## Descrição das nomenclaturas\n",
    "\n",
    "### BMF\n",
    "É o segundo dia util do mes seguinte. Feriados Brasileiros OU americanos não é dia util.\n",
    "Quando dizemos BMF sempre quer dizer do mes seguinte, BMF2, BMF3, BMF4... é referente aos meses subsequentes\n",
    "\n",
    "### Fixing Date\n",
    "É o dia onde o preço da operação é fixado.\n",
    "Fixing Date da BMF é o ultimo dia util do mes.\n",
    "\n",
    "### Value Date / Maturing\n",
    "É o dia onde a operação pode ser executada, exemplo: \"Value Date\" da BMF é todo segundo dia util do mês\n",
    "\n",
    "### PTAX\n",
    "PTAX fixing de hoje que vai valer D+2\n",
    "\n",
    "### TOMPTAX\n",
    "Tomorrow PTAX\n",
    "\n",
    "### BROKEN\n",
    "Datas quebradas que nao corresponde a nenhuma das acimas\n",
    "\n",
    "### GT 1 YEAR\n",
    "Datas BROKEN acima de 1 ano\n",
    "\n",
    "### LONGER\n",
    "Datas BROKEN acima de 2 anos\n",
    "\n"
   ],
   "metadata": {
    "collapsed": false
   }
  }
 ],
 "metadata": {
  "kernelspec": {
   "display_name": "Python 3",
   "language": "python",
   "name": "python3"
  },
  "language_info": {
   "codemirror_mode": {
    "name": "ipython",
    "version": 2
   },
   "file_extension": ".py",
   "mimetype": "text/x-python",
   "name": "python",
   "nbconvert_exporter": "python",
   "pygments_lexer": "ipython2",
   "version": "2.7.6"
  }
 },
 "nbformat": 4,
 "nbformat_minor": 0
}
