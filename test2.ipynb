{
 "cells": [
  {
   "cell_type": "code",
   "execution_count": 1,
   "metadata": {
    "collapsed": true,
    "ExecuteTime": {
     "end_time": "2023-05-11T02:08:33.716429Z",
     "start_time": "2023-05-11T02:08:32.523078Z"
    }
   },
   "outputs": [],
   "source": [
    "from loguru import logger\n",
    "\n",
    "import ndf.download\n",
    "from ndf import download\n",
    "\n",
    "import warnings\n",
    "warnings.simplefilter(action='ignore', category=FutureWarning)"
   ]
  },
  {
   "cell_type": "code",
   "execution_count": 2,
   "outputs": [
    {
     "data": {
      "text/plain": "2"
     },
     "execution_count": 2,
     "metadata": {},
     "output_type": "execute_result"
    }
   ],
   "source": [
    "import sys\n",
    "\n",
    "log_level = 'ERROR'\n",
    "logger.add(sys.stderr, format=\"{time} {level} {message}\", filter=\"my_module\", level=log_level)\n",
    "# logger.add(sys.stdout, colorize=True, format=\"<green>{time}</green> <level>{message}</level>\")\n",
    "logger.add(\"ndfdownload.log\", rotation=\"30 MB\", level=log_level)"
   ],
   "metadata": {
    "collapsed": false,
    "ExecuteTime": {
     "end_time": "2023-05-11T02:08:33.733204Z",
     "start_time": "2023-05-11T02:08:33.722850Z"
    }
   }
  },
  {
   "cell_type": "code",
   "execution_count": 3,
   "outputs": [],
   "source": [
    "logger.remove()"
   ],
   "metadata": {
    "collapsed": false,
    "ExecuteTime": {
     "end_time": "2023-05-11T02:08:33.735091Z",
     "start_time": "2023-05-11T02:08:33.732951Z"
    }
   }
  },
  {
   "cell_type": "markdown",
   "source": [],
   "metadata": {
    "collapsed": false
   }
  },
  {
   "cell_type": "code",
   "execution_count": 4,
   "outputs": [
    {
     "name": "stderr",
     "output_type": "stream",
     "text": [
      "/Users/cleiton/PycharmProjects/ndfutil/venv/lib/python3.9/site-packages/urllib3/connectionpool.py:1045: InsecureRequestWarning: Unverified HTTPS request is being made to host 'www.traditionsef.com'. Adding certificate verification is strongly advised. See: https://urllib3.readthedocs.io/en/1.26.x/advanced-usage.html#ssl-warnings\n",
      "  warnings.warn(\n",
      "/Users/cleiton/PycharmProjects/ndfutil/venv/lib/python3.9/site-packages/scrapy/selector/unified.py:83: UserWarning: Selector got both text and root, root is being ignored.\n",
      "  super().__init__(text=text, type=st, root=root, **kwargs)\n"
     ]
    },
    {
     "name": "stdout",
     "output_type": "stream",
     "text": [
      "bgc ok\n",
      "tradition ok\n",
      "prebontullet ok\n",
      "gfi ok\n"
     ]
    }
   ],
   "source": [
    "d = ndf.download.download()\n",
    "d.download_all()"
   ],
   "metadata": {
    "collapsed": false,
    "ExecuteTime": {
     "end_time": "2023-05-11T02:08:44.893651Z",
     "start_time": "2023-05-11T02:08:33.737006Z"
    }
   }
  },
  {
   "cell_type": "code",
   "execution_count": 5,
   "outputs": [],
   "source": [
    "from ndf.datamining import datamining\n",
    "\n",
    "mining = datamining()\n"
   ],
   "metadata": {
    "collapsed": false,
    "ExecuteTime": {
     "end_time": "2023-05-11T02:08:44.901377Z",
     "start_time": "2023-05-11T02:08:44.894548Z"
    }
   }
  },
  {
   "cell_type": "code",
   "execution_count": 6,
   "outputs": [
    {
     "data": {
      "text/plain": "          Total for human  Num of Trades    Days  Total Notional Value\nClass                                                                 \nBMF1                1.13B             22    44.0          1.133500e+09\nBMF2               184.5M              2    55.0          1.845000e+08\nBROKEN                51M              2     9.0          5.100000e+07\nGT 1 YEAR            125M              2  1021.0          1.250000e+08\nLONGER               656M              5   484.0          6.560000e+08\nMATURING            6.25M              5     0.0          6.250000e+06\nPTAX                78.5M             10     0.0          7.850000e+07\nTOMPTAX              122M              9     0.0          1.220000e+08",
      "text/html": "<div>\n<style scoped>\n    .dataframe tbody tr th:only-of-type {\n        vertical-align: middle;\n    }\n\n    .dataframe tbody tr th {\n        vertical-align: top;\n    }\n\n    .dataframe thead th {\n        text-align: right;\n    }\n</style>\n<table border=\"1\" class=\"dataframe\">\n  <thead>\n    <tr style=\"text-align: right;\">\n      <th></th>\n      <th>Total for human</th>\n      <th>Num of Trades</th>\n      <th>Days</th>\n      <th>Total Notional Value</th>\n    </tr>\n    <tr>\n      <th>Class</th>\n      <th></th>\n      <th></th>\n      <th></th>\n      <th></th>\n    </tr>\n  </thead>\n  <tbody>\n    <tr>\n      <th>BMF1</th>\n      <td>1.13B</td>\n      <td>22</td>\n      <td>44.0</td>\n      <td>1.133500e+09</td>\n    </tr>\n    <tr>\n      <th>BMF2</th>\n      <td>184.5M</td>\n      <td>2</td>\n      <td>55.0</td>\n      <td>1.845000e+08</td>\n    </tr>\n    <tr>\n      <th>BROKEN</th>\n      <td>51M</td>\n      <td>2</td>\n      <td>9.0</td>\n      <td>5.100000e+07</td>\n    </tr>\n    <tr>\n      <th>GT 1 YEAR</th>\n      <td>125M</td>\n      <td>2</td>\n      <td>1021.0</td>\n      <td>1.250000e+08</td>\n    </tr>\n    <tr>\n      <th>LONGER</th>\n      <td>656M</td>\n      <td>5</td>\n      <td>484.0</td>\n      <td>6.560000e+08</td>\n    </tr>\n    <tr>\n      <th>MATURING</th>\n      <td>6.25M</td>\n      <td>5</td>\n      <td>0.0</td>\n      <td>6.250000e+06</td>\n    </tr>\n    <tr>\n      <th>PTAX</th>\n      <td>78.5M</td>\n      <td>10</td>\n      <td>0.0</td>\n      <td>7.850000e+07</td>\n    </tr>\n    <tr>\n      <th>TOMPTAX</th>\n      <td>122M</td>\n      <td>9</td>\n      <td>0.0</td>\n      <td>1.220000e+08</td>\n    </tr>\n  </tbody>\n</table>\n</div>"
     },
     "execution_count": 6,
     "metadata": {},
     "output_type": "execute_result"
    }
   ],
   "source": [
    "mining.tulletprebon_calcs()"
   ],
   "metadata": {
    "collapsed": false,
    "ExecuteTime": {
     "end_time": "2023-05-11T02:08:44.933385Z",
     "start_time": "2023-05-11T02:08:44.901628Z"
    }
   }
  },
  {
   "cell_type": "code",
   "execution_count": 7,
   "outputs": [
    {
     "data": {
      "text/plain": "0  Trade Date                     Description OpenType LowType HighType  \\\n0  2023-05-09  USDBRL NDF 09MAY2023 BILATERAL    TRANS   TRANS    TRANS   \n1  2023-05-09  USDBRL NDF 15MAY2023 BILATERAL    TRANS   TRANS    TRANS   \n2  2023-05-09  USDBRL NDF 31MAY2023 BILATERAL    TRANS   TRANS    TRANS   \n3  2023-05-09  USDBRL NDF 28MAR2024 BILATERAL    TRANS   TRANS    TRANS   \n\n0 CloseType EDRPVolume     Volume Source   Class  \n0     TRANS        NaN  129000000    GFI  BROKEN  \n1     TRANS        NaN   25000000    GFI  BROKEN  \n2     TRANS        NaN  396500000    GFI  BROKEN  \n3     TRANS        NaN  150000000    GFI  BROKEN  ",
      "text/html": "<div>\n<style scoped>\n    .dataframe tbody tr th:only-of-type {\n        vertical-align: middle;\n    }\n\n    .dataframe tbody tr th {\n        vertical-align: top;\n    }\n\n    .dataframe thead th {\n        text-align: right;\n    }\n</style>\n<table border=\"1\" class=\"dataframe\">\n  <thead>\n    <tr style=\"text-align: right;\">\n      <th></th>\n      <th>Trade Date</th>\n      <th>Description</th>\n      <th>OpenType</th>\n      <th>LowType</th>\n      <th>HighType</th>\n      <th>CloseType</th>\n      <th>EDRPVolume</th>\n      <th>Volume</th>\n      <th>Source</th>\n      <th>Class</th>\n    </tr>\n  </thead>\n  <tbody>\n    <tr>\n      <th>0</th>\n      <td>2023-05-09</td>\n      <td>USDBRL NDF 09MAY2023 BILATERAL</td>\n      <td>TRANS</td>\n      <td>TRANS</td>\n      <td>TRANS</td>\n      <td>TRANS</td>\n      <td>NaN</td>\n      <td>129000000</td>\n      <td>GFI</td>\n      <td>BROKEN</td>\n    </tr>\n    <tr>\n      <th>1</th>\n      <td>2023-05-09</td>\n      <td>USDBRL NDF 15MAY2023 BILATERAL</td>\n      <td>TRANS</td>\n      <td>TRANS</td>\n      <td>TRANS</td>\n      <td>TRANS</td>\n      <td>NaN</td>\n      <td>25000000</td>\n      <td>GFI</td>\n      <td>BROKEN</td>\n    </tr>\n    <tr>\n      <th>2</th>\n      <td>2023-05-09</td>\n      <td>USDBRL NDF 31MAY2023 BILATERAL</td>\n      <td>TRANS</td>\n      <td>TRANS</td>\n      <td>TRANS</td>\n      <td>TRANS</td>\n      <td>NaN</td>\n      <td>396500000</td>\n      <td>GFI</td>\n      <td>BROKEN</td>\n    </tr>\n    <tr>\n      <th>3</th>\n      <td>2023-05-09</td>\n      <td>USDBRL NDF 28MAR2024 BILATERAL</td>\n      <td>TRANS</td>\n      <td>TRANS</td>\n      <td>TRANS</td>\n      <td>TRANS</td>\n      <td>NaN</td>\n      <td>150000000</td>\n      <td>GFI</td>\n      <td>BROKEN</td>\n    </tr>\n  </tbody>\n</table>\n</div>"
     },
     "execution_count": 7,
     "metadata": {},
     "output_type": "execute_result"
    }
   ],
   "source": [
    "bgc = mining.bgc_calcs(presentation='raw')\n",
    "bgc"
   ],
   "metadata": {
    "collapsed": false,
    "ExecuteTime": {
     "end_time": "2023-05-11T02:08:44.947855Z",
     "start_time": "2023-05-11T02:08:44.928341Z"
    }
   }
  },
  {
   "cell_type": "code",
   "execution_count": 8,
   "outputs": [
    {
     "data": {
      "text/plain": "0  Trade Date                     Description OpenType LowType HighType  \\\n0  2023-05-09  USDBRL NDF 09MAY2023 BILATERAL    TRANS   TRANS    TRANS   \n1  2023-05-09  USDBRL NDF 15MAY2023 BILATERAL    TRANS   TRANS    TRANS   \n2  2023-05-09  USDBRL NDF 31MAY2023 BILATERAL    TRANS   TRANS    TRANS   \n3  2023-05-09  USDBRL NDF 28MAR2024 BILATERAL    TRANS   TRANS    TRANS   \n\n0 CloseType EDRPVolume     Volume Source   Class  \n0     TRANS        NaN  129000000    GFI  BROKEN  \n1     TRANS        NaN   25000000    GFI  BROKEN  \n2     TRANS        NaN  396500000    GFI  BROKEN  \n3     TRANS        NaN  150000000    GFI  BROKEN  ",
      "text/html": "<div>\n<style scoped>\n    .dataframe tbody tr th:only-of-type {\n        vertical-align: middle;\n    }\n\n    .dataframe tbody tr th {\n        vertical-align: top;\n    }\n\n    .dataframe thead th {\n        text-align: right;\n    }\n</style>\n<table border=\"1\" class=\"dataframe\">\n  <thead>\n    <tr style=\"text-align: right;\">\n      <th></th>\n      <th>Trade Date</th>\n      <th>Description</th>\n      <th>OpenType</th>\n      <th>LowType</th>\n      <th>HighType</th>\n      <th>CloseType</th>\n      <th>EDRPVolume</th>\n      <th>Volume</th>\n      <th>Source</th>\n      <th>Class</th>\n    </tr>\n  </thead>\n  <tbody>\n    <tr>\n      <th>0</th>\n      <td>2023-05-09</td>\n      <td>USDBRL NDF 09MAY2023 BILATERAL</td>\n      <td>TRANS</td>\n      <td>TRANS</td>\n      <td>TRANS</td>\n      <td>TRANS</td>\n      <td>NaN</td>\n      <td>129000000</td>\n      <td>GFI</td>\n      <td>BROKEN</td>\n    </tr>\n    <tr>\n      <th>1</th>\n      <td>2023-05-09</td>\n      <td>USDBRL NDF 15MAY2023 BILATERAL</td>\n      <td>TRANS</td>\n      <td>TRANS</td>\n      <td>TRANS</td>\n      <td>TRANS</td>\n      <td>NaN</td>\n      <td>25000000</td>\n      <td>GFI</td>\n      <td>BROKEN</td>\n    </tr>\n    <tr>\n      <th>2</th>\n      <td>2023-05-09</td>\n      <td>USDBRL NDF 31MAY2023 BILATERAL</td>\n      <td>TRANS</td>\n      <td>TRANS</td>\n      <td>TRANS</td>\n      <td>TRANS</td>\n      <td>NaN</td>\n      <td>396500000</td>\n      <td>GFI</td>\n      <td>BROKEN</td>\n    </tr>\n    <tr>\n      <th>3</th>\n      <td>2023-05-09</td>\n      <td>USDBRL NDF 28MAR2024 BILATERAL</td>\n      <td>TRANS</td>\n      <td>TRANS</td>\n      <td>TRANS</td>\n      <td>TRANS</td>\n      <td>NaN</td>\n      <td>150000000</td>\n      <td>GFI</td>\n      <td>BROKEN</td>\n    </tr>\n  </tbody>\n</table>\n</div>"
     },
     "execution_count": 8,
     "metadata": {},
     "output_type": "execute_result"
    }
   ],
   "source": [
    "bgc"
   ],
   "metadata": {
    "collapsed": false,
    "ExecuteTime": {
     "end_time": "2023-05-11T02:08:44.961750Z",
     "start_time": "2023-05-11T02:08:44.953091Z"
    }
   }
  },
  {
   "cell_type": "code",
   "execution_count": 9,
   "outputs": [
    {
     "data": {
      "text/plain": "'2023-07-03'"
     },
     "execution_count": 9,
     "metadata": {},
     "output_type": "execute_result"
    }
   ],
   "source": [
    "from ndf.util import *\n",
    "\n",
    "get_BMF_date(month=7).strftime(\"%Y-%m-%d\")"
   ],
   "metadata": {
    "collapsed": false,
    "ExecuteTime": {
     "end_time": "2023-05-11T02:08:45.015712Z",
     "start_time": "2023-05-11T02:08:44.957270Z"
    }
   }
  },
  {
   "cell_type": "code",
   "execution_count": 10,
   "outputs": [
    {
     "data": {
      "text/plain": "datetime.datetime(2023, 7, 3, 0, 0)"
     },
     "execution_count": 10,
     "metadata": {},
     "output_type": "execute_result"
    }
   ],
   "source": [
    "from pandas._libs.tslibs.offsets import BusinessDay\n",
    "import pandas as pd\n",
    "\n",
    "a = pd.date_range('7/1/2023', '7/1/2031', freq='BMS')\n",
    "\n",
    "a.to_pydatetime()[0]\n",
    "\n",
    "dbase = a.to_pydatetime()[0]\n",
    "dbase"
   ],
   "metadata": {
    "collapsed": false,
    "ExecuteTime": {
     "end_time": "2023-05-11T02:08:45.048006Z",
     "start_time": "2023-05-11T02:08:44.970824Z"
    }
   }
  },
  {
   "cell_type": "code",
   "execution_count": 11,
   "outputs": [],
   "source": [
    "from pandas._libs.tslibs.offsets import BDay\n",
    "\n",
    "def get_second_business_day(month=None, year=None):\n",
    "    bdate = None\n",
    "    if year:\n",
    "        bdate = datetime.today().replace(year=year, month=month, day=1)\n",
    "    elif month and not year:\n",
    "        bdate = datetime.today().replace(month=month, day=1)\n",
    "    else:\n",
    "        bdate = datetime.today().replace(day=1)\n",
    "\n",
    "    # print(bdate)\n",
    "    if is_weekday(bdate):\n",
    "        if not is_holiday(bdate):\n",
    "            bdate = bdate  + BDay(1)\n",
    "        else:\n",
    "            bdate = bdate  + BDay(2)\n",
    "    else:\n",
    "        bdate = bdate  + BDay(2)\n",
    "\n",
    "    while is_holiday(bdate):\n",
    "        bdate = bdate + BDay(1)\n",
    "\n",
    "    return bdate\n",
    "\n"
   ],
   "metadata": {
    "collapsed": false,
    "ExecuteTime": {
     "end_time": "2023-05-11T02:08:45.052742Z",
     "start_time": "2023-05-11T02:08:44.976370Z"
    }
   }
  },
  {
   "cell_type": "code",
   "execution_count": 12,
   "outputs": [
    {
     "data": {
      "text/plain": "Timestamp('2023-05-03 22:08:44.978184')"
     },
     "execution_count": 12,
     "metadata": {},
     "output_type": "execute_result"
    }
   ],
   "source": [
    "get_second_business_day()"
   ],
   "metadata": {
    "collapsed": false,
    "ExecuteTime": {
     "end_time": "2023-05-11T02:08:45.123311Z",
     "start_time": "2023-05-11T02:08:44.979715Z"
    }
   }
  },
  {
   "cell_type": "code",
   "execution_count": 18,
   "outputs": [
    {
     "name": "stdout",
     "output_type": "stream",
     "text": [
      "2023-Jan-03\n",
      "2023-Feb-02\n",
      "2023-Mar-02\n",
      "2023-Apr-04\n",
      "2023-May-03\n",
      "2023-Jun-02\n",
      "2023-Jul-05\n",
      "2023-Aug-02\n",
      "2023-Sep-05\n",
      "2023-Oct-03\n",
      "2023-Nov-03\n",
      "2023-Dec-04\n"
     ]
    }
   ],
   "source": [
    "for i in range(1,13):\n",
    "    a = get_second_business_day(i).strftime('%Y-%b-%d')\n",
    "    print(a)"
   ],
   "metadata": {
    "collapsed": false,
    "ExecuteTime": {
     "end_time": "2023-05-11T02:09:41.108501Z",
     "start_time": "2023-05-11T02:09:41.008671Z"
    }
   }
  },
  {
   "cell_type": "code",
   "execution_count": 14,
   "outputs": [
    {
     "name": "stdout",
     "output_type": "stream",
     "text": [
      "2022-Jan-04\n",
      "2022-Feb-02\n",
      "2022-Mar-03\n",
      "2022-Apr-04\n",
      "2022-May-03\n",
      "2022-Jun-02\n",
      "2022-Jul-05\n",
      "2022-Aug-02\n",
      "2022-Sep-02\n",
      "2022-Oct-04\n",
      "2022-Nov-03\n",
      "2022-Dec-02\n"
     ]
    }
   ],
   "source": [
    "for i in range(1,13):\n",
    "    a = get_second_business_day(i, 2022).strftime('%Y-%b-%d')\n",
    "    print(a)"
   ],
   "metadata": {
    "collapsed": false,
    "ExecuteTime": {
     "end_time": "2023-05-11T02:08:45.215609Z",
     "start_time": "2023-05-11T02:08:45.099878Z"
    }
   }
  },
  {
   "cell_type": "code",
   "execution_count": 15,
   "outputs": [
    {
     "name": "stdout",
     "output_type": "stream",
     "text": [
      "2021-Jan-05\n",
      "2021-Feb-02\n",
      "2021-Mar-02\n",
      "2021-Apr-05\n",
      "2021-May-04\n",
      "2021-Jun-02\n",
      "2021-Jul-02\n",
      "2021-Aug-03\n",
      "2021-Sep-02\n",
      "2021-Oct-04\n",
      "2021-Nov-03\n",
      "2021-Dec-02\n"
     ]
    }
   ],
   "source": [
    "for i in range(1,13):\n",
    "    a = get_second_business_day(i, 2021).strftime('%Y-%b-%d')\n",
    "    print(a)"
   ],
   "metadata": {
    "collapsed": false,
    "ExecuteTime": {
     "end_time": "2023-05-11T02:08:45.312858Z",
     "start_time": "2023-05-11T02:08:45.203605Z"
    }
   }
  },
  {
   "cell_type": "code",
   "execution_count": 16,
   "outputs": [
    {
     "data": {
      "text/plain": "Timestamp('2022-01-31 00:00:00')"
     },
     "execution_count": 16,
     "metadata": {},
     "output_type": "execute_result"
    }
   ],
   "source": [
    "pd.Timestamp(2022, 1, 1) + pd.offsets.MonthEnd()"
   ],
   "metadata": {
    "collapsed": false,
    "ExecuteTime": {
     "end_time": "2023-05-11T02:08:45.317024Z",
     "start_time": "2023-05-11T02:08:45.313132Z"
    }
   }
  },
  {
   "cell_type": "markdown",
   "source": [
    "## Descrição das nomenclaturas\n",
    "\n",
    "### BMF\n",
    "É o segundo dia util do mes seguinte. Feriados Brasileiros OU americanos não é dia util.\n",
    "Quando dizemos BMF sempre quer dizer do mes seguinte, BMF2, BMF3, BMF4... é referente aos meses subsequentes\n",
    "\n",
    "### Fixing Date\n",
    "É o dia onde o preço da operação é fixado.\n",
    "Fixing Date da BMF é o ultimo dia util do mes.\n",
    "\n",
    "### Value Date / Maturing\n",
    "É o dia onde a operação pode ser executada, exemplo: \"Value Date\" da BMF é todo segundo dia util do mês\n",
    "\n",
    "### PTAX\n",
    "PTAX fixing de hoje que vai valer D+2\n",
    "\n",
    "### TOMPTAX\n",
    "Tomorrow PTAX\n",
    "\n",
    "### BROKEN\n",
    "Datas quebradas que nao corresponde a nenhuma das acimas\n",
    "\n",
    "### GT 1 YEAR\n",
    "Datas BROKEN acima de 1 ano\n",
    "\n",
    "### LONGER\n",
    "Datas BROKEN acima de 2 anos\n",
    "\n"
   ],
   "metadata": {
    "collapsed": false
   }
  }
 ],
 "metadata": {
  "kernelspec": {
   "display_name": "Python 3",
   "language": "python",
   "name": "python3"
  },
  "language_info": {
   "codemirror_mode": {
    "name": "ipython",
    "version": 2
   },
   "file_extension": ".py",
   "mimetype": "text/x-python",
   "name": "python",
   "nbconvert_exporter": "python",
   "pygments_lexer": "ipython2",
   "version": "2.7.6"
  }
 },
 "nbformat": 4,
 "nbformat_minor": 0
}
