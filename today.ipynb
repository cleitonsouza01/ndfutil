{
 "cells": [
  {
   "cell_type": "code",
   "execution_count": 13,
   "metadata": {
    "collapsed": true,
    "ExecuteTime": {
     "end_time": "2023-05-20T21:27:47.322576200Z",
     "start_time": "2023-05-20T21:27:47.234699800Z"
    }
   },
   "outputs": [
    {
     "data": {
      "text/plain": "6"
     },
     "execution_count": 13,
     "metadata": {},
     "output_type": "execute_result"
    }
   ],
   "source": [
    "from loguru import logger\n",
    "import ndf.download\n",
    "from ndf.datamining import datamining\n",
    "import warnings\n",
    "import sys\n",
    "\n",
    "warnings.simplefilter(action='ignore', category=FutureWarning)\n",
    "\n",
    "log_level = 'ERROR'\n",
    "logger.add(sys.stderr, format=\"{time} {level} {message}\", filter=\"my_module\", level=log_level)\n",
    "# logger.add(sys.stdout, colorize=True, format=\"<green>{time}</green> <level>{message}</level>\")\n",
    "logger.add(\"ndfdownload.log\", rotation=\"30 MB\", level=log_level)"
   ]
  },
  {
   "cell_type": "code",
   "execution_count": 14,
   "outputs": [
    {
     "data": {
      "text/plain": "datetime.date(2023, 5, 20)"
     },
     "execution_count": 14,
     "metadata": {},
     "output_type": "execute_result"
    }
   ],
   "source": [
    "from datetime import datetime\n",
    "\n",
    "a = datetime.now()\n",
    "a.date()"
   ],
   "metadata": {
    "collapsed": false,
    "ExecuteTime": {
     "end_time": "2023-05-20T21:27:47.324080700Z",
     "start_time": "2023-05-20T21:27:47.260084100Z"
    }
   }
  },
  {
   "cell_type": "code",
   "execution_count": 15,
   "outputs": [],
   "source": [
    "logger.remove()"
   ],
   "metadata": {
    "collapsed": false,
    "ExecuteTime": {
     "end_time": "2023-05-20T21:27:47.324080700Z",
     "start_time": "2023-05-20T21:27:47.275707200Z"
    }
   }
  },
  {
   "cell_type": "code",
   "execution_count": 16,
   "outputs": [
    {
     "name": "stdout",
     "output_type": "stream",
     "text": [
      "bgc ok\n",
      "tradition ok\n",
      "prebontullet ok\n",
      "gfi ok\n"
     ]
    }
   ],
   "source": [
    "d = ndf.download.download()\n",
    "d.download_all()"
   ],
   "metadata": {
    "collapsed": false,
    "ExecuteTime": {
     "end_time": "2023-05-20T21:27:47.324080700Z",
     "start_time": "2023-05-20T21:27:47.306953700Z"
    }
   }
  },
  {
   "cell_type": "code",
   "execution_count": 17,
   "outputs": [],
   "source": [
    "mining = datamining()"
   ],
   "metadata": {
    "collapsed": false,
    "ExecuteTime": {
     "end_time": "2023-05-20T21:27:47.346530500Z",
     "start_time": "2023-05-20T21:27:47.324080700Z"
    }
   }
  },
  {
   "cell_type": "code",
   "execution_count": 18,
   "outputs": [
    {
     "data": {
      "text/plain": "          Total for human  Num of Trades   Days  Total Notional Value\nClass                                                                \nBMF1                1.64B           24.0   20.0          1.638800e+09\nBMF2                 210M            5.0   43.0          2.100000e+08\nBROKEN               180M            3.0   36.0          1.800000e+08\nGT 1 YEAR            560M            4.0  591.0          5.600000e+08\nLONGER               710M            7.0  260.0          7.100000e+08\nPTAX               103.5M            5.0    0.0          1.035000e+08\nTOMPTAX               53M            2.0    0.0          5.300000e+07\nTOTAL                3.5B            0.0    0.0          3.502800e+09\nXP                  47.5M           28.0    0.0          4.750000e+07",
      "text/html": "<div>\n<style scoped>\n    .dataframe tbody tr th:only-of-type {\n        vertical-align: middle;\n    }\n\n    .dataframe tbody tr th {\n        vertical-align: top;\n    }\n\n    .dataframe thead th {\n        text-align: right;\n    }\n</style>\n<table border=\"1\" class=\"dataframe\">\n  <thead>\n    <tr style=\"text-align: right;\">\n      <th></th>\n      <th>Total for human</th>\n      <th>Num of Trades</th>\n      <th>Days</th>\n      <th>Total Notional Value</th>\n    </tr>\n    <tr>\n      <th>Class</th>\n      <th></th>\n      <th></th>\n      <th></th>\n      <th></th>\n    </tr>\n  </thead>\n  <tbody>\n    <tr>\n      <th>BMF1</th>\n      <td>1.64B</td>\n      <td>24.0</td>\n      <td>20.0</td>\n      <td>1.638800e+09</td>\n    </tr>\n    <tr>\n      <th>BMF2</th>\n      <td>210M</td>\n      <td>5.0</td>\n      <td>43.0</td>\n      <td>2.100000e+08</td>\n    </tr>\n    <tr>\n      <th>BROKEN</th>\n      <td>180M</td>\n      <td>3.0</td>\n      <td>36.0</td>\n      <td>1.800000e+08</td>\n    </tr>\n    <tr>\n      <th>GT 1 YEAR</th>\n      <td>560M</td>\n      <td>4.0</td>\n      <td>591.0</td>\n      <td>5.600000e+08</td>\n    </tr>\n    <tr>\n      <th>LONGER</th>\n      <td>710M</td>\n      <td>7.0</td>\n      <td>260.0</td>\n      <td>7.100000e+08</td>\n    </tr>\n    <tr>\n      <th>PTAX</th>\n      <td>103.5M</td>\n      <td>5.0</td>\n      <td>0.0</td>\n      <td>1.035000e+08</td>\n    </tr>\n    <tr>\n      <th>TOMPTAX</th>\n      <td>53M</td>\n      <td>2.0</td>\n      <td>0.0</td>\n      <td>5.300000e+07</td>\n    </tr>\n    <tr>\n      <th>TOTAL</th>\n      <td>3.5B</td>\n      <td>0.0</td>\n      <td>0.0</td>\n      <td>3.502800e+09</td>\n    </tr>\n    <tr>\n      <th>XP</th>\n      <td>47.5M</td>\n      <td>28.0</td>\n      <td>0.0</td>\n      <td>4.750000e+07</td>\n    </tr>\n  </tbody>\n</table>\n</div>"
     },
     "execution_count": 18,
     "metadata": {},
     "output_type": "execute_result"
    }
   ],
   "source": [
    "mining.tulletprebon_calcs()"
   ],
   "metadata": {
    "collapsed": false,
    "ExecuteTime": {
     "end_time": "2023-05-20T21:27:47.443763100Z",
     "start_time": "2023-05-20T21:27:47.340598200Z"
    }
   }
  },
  {
   "cell_type": "code",
   "execution_count": 19,
   "outputs": [
    {
     "name": "stdout",
     "output_type": "stream",
     "text": [
      "5 == 5  |  2023-05-31 00:00:00 | USDBRL NDF 31MAY2023 BILATERAL\n",
      "6 == 5  |  2023-06-30 00:00:00 | USDBRL NDF 30JUN2023 BILATERAL\n"
     ]
    },
    {
     "data": {
      "text/plain": "       Total for human     Volume\nClass                            \nBMF             350.5M  350500000\nBMF2               80M   80000000\nBROKEN          263.5M  263500000\nTOTAL             694M  694000000",
      "text/html": "<div>\n<style scoped>\n    .dataframe tbody tr th:only-of-type {\n        vertical-align: middle;\n    }\n\n    .dataframe tbody tr th {\n        vertical-align: top;\n    }\n\n    .dataframe thead th {\n        text-align: right;\n    }\n</style>\n<table border=\"1\" class=\"dataframe\">\n  <thead>\n    <tr style=\"text-align: right;\">\n      <th></th>\n      <th>Total for human</th>\n      <th>Volume</th>\n    </tr>\n    <tr>\n      <th>Class</th>\n      <th></th>\n      <th></th>\n    </tr>\n  </thead>\n  <tbody>\n    <tr>\n      <th>BMF</th>\n      <td>350.5M</td>\n      <td>350500000</td>\n    </tr>\n    <tr>\n      <th>BMF2</th>\n      <td>80M</td>\n      <td>80000000</td>\n    </tr>\n    <tr>\n      <th>BROKEN</th>\n      <td>263.5M</td>\n      <td>263500000</td>\n    </tr>\n    <tr>\n      <th>TOTAL</th>\n      <td>694M</td>\n      <td>694000000</td>\n    </tr>\n  </tbody>\n</table>\n</div>"
     },
     "execution_count": 19,
     "metadata": {},
     "output_type": "execute_result"
    }
   ],
   "source": [
    "mining.bgc_calcs()"
   ],
   "metadata": {
    "collapsed": false,
    "ExecuteTime": {
     "end_time": "2023-05-20T21:27:47.557142200Z",
     "start_time": "2023-05-20T21:27:47.417980100Z"
    }
   }
  },
  {
   "cell_type": "code",
   "execution_count": 20,
   "outputs": [
    {
     "data": {
      "text/plain": "      Total for human  Total_Trade_Count\nClass                                   \nTOTAL               0                0.0",
      "text/html": "<div>\n<style scoped>\n    .dataframe tbody tr th:only-of-type {\n        vertical-align: middle;\n    }\n\n    .dataframe tbody tr th {\n        vertical-align: top;\n    }\n\n    .dataframe thead th {\n        text-align: right;\n    }\n</style>\n<table border=\"1\" class=\"dataframe\">\n  <thead>\n    <tr style=\"text-align: right;\">\n      <th></th>\n      <th>Total for human</th>\n      <th>Total_Trade_Count</th>\n    </tr>\n    <tr>\n      <th>Class</th>\n      <th></th>\n      <th></th>\n    </tr>\n  </thead>\n  <tbody>\n    <tr>\n      <th>TOTAL</th>\n      <td>0</td>\n      <td>0.0</td>\n    </tr>\n  </tbody>\n</table>\n</div>"
     },
     "execution_count": 20,
     "metadata": {},
     "output_type": "execute_result"
    }
   ],
   "source": [
    "mining.tradition_calcs()"
   ],
   "metadata": {
    "collapsed": false,
    "ExecuteTime": {
     "end_time": "2023-05-20T21:27:47.612235300Z",
     "start_time": "2023-05-20T21:27:47.506275Z"
    }
   }
  },
  {
   "cell_type": "code",
   "execution_count": 21,
   "outputs": [
    {
     "data": {
      "text/plain": "       Total for human      Volume\nClass                             \nBMF             901.5M   901500000\nBMF2              650M   650000000\nBROKEN          331.5M   331500000\nTOTAL            1.88B  1883000000",
      "text/html": "<div>\n<style scoped>\n    .dataframe tbody tr th:only-of-type {\n        vertical-align: middle;\n    }\n\n    .dataframe tbody tr th {\n        vertical-align: top;\n    }\n\n    .dataframe thead th {\n        text-align: right;\n    }\n</style>\n<table border=\"1\" class=\"dataframe\">\n  <thead>\n    <tr style=\"text-align: right;\">\n      <th></th>\n      <th>Total for human</th>\n      <th>Volume</th>\n    </tr>\n    <tr>\n      <th>Class</th>\n      <th></th>\n      <th></th>\n    </tr>\n  </thead>\n  <tbody>\n    <tr>\n      <th>BMF</th>\n      <td>901.5M</td>\n      <td>901500000</td>\n    </tr>\n    <tr>\n      <th>BMF2</th>\n      <td>650M</td>\n      <td>650000000</td>\n    </tr>\n    <tr>\n      <th>BROKEN</th>\n      <td>331.5M</td>\n      <td>331500000</td>\n    </tr>\n    <tr>\n      <th>TOTAL</th>\n      <td>1.88B</td>\n      <td>1883000000</td>\n    </tr>\n  </tbody>\n</table>\n</div>"
     },
     "execution_count": 21,
     "metadata": {},
     "output_type": "execute_result"
    }
   ],
   "source": [
    "mining.gfi_calcs()"
   ],
   "metadata": {
    "collapsed": false,
    "ExecuteTime": {
     "end_time": "2023-05-20T21:27:47.741643500Z",
     "start_time": "2023-05-20T21:27:47.541518700Z"
    }
   }
  }
 ],
 "metadata": {
  "kernelspec": {
   "display_name": "Python 3",
   "language": "python",
   "name": "python3"
  },
  "language_info": {
   "codemirror_mode": {
    "name": "ipython",
    "version": 2
   },
   "file_extension": ".py",
   "mimetype": "text/x-python",
   "name": "python",
   "nbconvert_exporter": "python",
   "pygments_lexer": "ipython2",
   "version": "2.7.6"
  }
 },
 "nbformat": 4,
 "nbformat_minor": 0
}
