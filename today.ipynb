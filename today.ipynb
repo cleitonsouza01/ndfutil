{
 "cells": [
  {
   "cell_type": "code",
   "execution_count": 1,
   "metadata": {
    "collapsed": true,
    "ExecuteTime": {
     "end_time": "2023-05-30T00:16:13.010151Z",
     "start_time": "2023-05-30T00:16:12.258445Z"
    }
   },
   "outputs": [
    {
     "data": {
      "text/plain": "2"
     },
     "execution_count": 1,
     "metadata": {},
     "output_type": "execute_result"
    }
   ],
   "source": [
    "from loguru import logger\n",
    "import ndf.download\n",
    "from ndf.datamining import datamining\n",
    "import warnings\n",
    "import sys\n",
    "\n",
    "warnings.simplefilter(action='ignore', category=FutureWarning)\n",
    "\n",
    "log_level = 'ERROR'\n",
    "logger.add(sys.stderr, format=\"{time} {level} {message}\", filter=\"my_module\", level=log_level)\n",
    "# logger.add(sys.stdout, colorize=True, format=\"<green>{time}</green> <level>{message}</level>\")\n",
    "logger.add(\"ndfdownload.log\", rotation=\"30 MB\", level=log_level)"
   ]
  },
  {
   "cell_type": "code",
   "execution_count": 2,
   "outputs": [
    {
     "data": {
      "text/plain": "datetime.date(2023, 5, 29)"
     },
     "execution_count": 2,
     "metadata": {},
     "output_type": "execute_result"
    }
   ],
   "source": [
    "from datetime import datetime\n",
    "\n",
    "a = datetime.now()\n",
    "a.date()"
   ],
   "metadata": {
    "collapsed": false,
    "ExecuteTime": {
     "end_time": "2023-05-30T00:16:13.014623Z",
     "start_time": "2023-05-30T00:16:13.012292Z"
    }
   }
  },
  {
   "cell_type": "code",
   "execution_count": 3,
   "outputs": [],
   "source": [
    "logger.remove()"
   ],
   "metadata": {
    "collapsed": false,
    "ExecuteTime": {
     "end_time": "2023-05-30T00:16:13.017974Z",
     "start_time": "2023-05-30T00:16:13.015970Z"
    }
   }
  },
  {
   "cell_type": "code",
   "execution_count": 4,
   "outputs": [
    {
     "name": "stdout",
     "output_type": "stream",
     "text": [
      "bgc ok\n",
      "tradition ok\n",
      "prebontullet ok\n",
      "gfi ok\n"
     ]
    }
   ],
   "source": [
    "d = ndf.download.download()\n",
    "d.download_all()"
   ],
   "metadata": {
    "collapsed": false,
    "ExecuteTime": {
     "end_time": "2023-05-30T00:16:13.026630Z",
     "start_time": "2023-05-30T00:16:13.020197Z"
    }
   }
  },
  {
   "cell_type": "code",
   "execution_count": 5,
   "outputs": [],
   "source": [
    "mining = datamining()"
   ],
   "metadata": {
    "collapsed": false,
    "ExecuteTime": {
     "end_time": "2023-05-30T00:16:13.028614Z",
     "start_time": "2023-05-30T00:16:13.027182Z"
    }
   }
  },
  {
   "cell_type": "code",
   "execution_count": 6,
   "outputs": [
    {
     "data": {
      "text/plain": "          Total for human      Volume\nClass                                \nBMF1                3.75B  3752800000\nBMF2                 874M   874000000\nBMF3                 470M   470000000\nBROKEN              1.26B  1258000000\nGT 1 YEAR             25M    25000000\nLONGER               710M   710000000\nPTAX               356.5M   356500000\nTOMPTAX               20M    20000000\nTOTAL               7.69B  7691550000\nXP                225.25M   225250000",
      "text/html": "<div>\n<style scoped>\n    .dataframe tbody tr th:only-of-type {\n        vertical-align: middle;\n    }\n\n    .dataframe tbody tr th {\n        vertical-align: top;\n    }\n\n    .dataframe thead th {\n        text-align: right;\n    }\n</style>\n<table border=\"1\" class=\"dataframe\">\n  <thead>\n    <tr style=\"text-align: right;\">\n      <th></th>\n      <th>Total for human</th>\n      <th>Volume</th>\n    </tr>\n    <tr>\n      <th>Class</th>\n      <th></th>\n      <th></th>\n    </tr>\n  </thead>\n  <tbody>\n    <tr>\n      <th>BMF1</th>\n      <td>3.75B</td>\n      <td>3752800000</td>\n    </tr>\n    <tr>\n      <th>BMF2</th>\n      <td>874M</td>\n      <td>874000000</td>\n    </tr>\n    <tr>\n      <th>BMF3</th>\n      <td>470M</td>\n      <td>470000000</td>\n    </tr>\n    <tr>\n      <th>BROKEN</th>\n      <td>1.26B</td>\n      <td>1258000000</td>\n    </tr>\n    <tr>\n      <th>GT 1 YEAR</th>\n      <td>25M</td>\n      <td>25000000</td>\n    </tr>\n    <tr>\n      <th>LONGER</th>\n      <td>710M</td>\n      <td>710000000</td>\n    </tr>\n    <tr>\n      <th>PTAX</th>\n      <td>356.5M</td>\n      <td>356500000</td>\n    </tr>\n    <tr>\n      <th>TOMPTAX</th>\n      <td>20M</td>\n      <td>20000000</td>\n    </tr>\n    <tr>\n      <th>TOTAL</th>\n      <td>7.69B</td>\n      <td>7691550000</td>\n    </tr>\n    <tr>\n      <th>XP</th>\n      <td>225.25M</td>\n      <td>225250000</td>\n    </tr>\n  </tbody>\n</table>\n</div>"
     },
     "execution_count": 6,
     "metadata": {},
     "output_type": "execute_result"
    }
   ],
   "source": [
    "mining.tulletprebon_calcs()"
   ],
   "metadata": {
    "collapsed": false,
    "ExecuteTime": {
     "end_time": "2023-05-30T00:16:13.069771Z",
     "start_time": "2023-05-30T00:16:13.030391Z"
    }
   }
  },
  {
   "cell_type": "code",
   "execution_count": 7,
   "outputs": [
    {
     "data": {
      "text/plain": "       Total for human      Volume\nClass                             \nBMF               1.3B  1295000000\nBMF2            372.5M   372500000\nBMF4               50M    50000000\nBROKEN          346.5M   346500000\nTOTAL            2.06B  2064000000",
      "text/html": "<div>\n<style scoped>\n    .dataframe tbody tr th:only-of-type {\n        vertical-align: middle;\n    }\n\n    .dataframe tbody tr th {\n        vertical-align: top;\n    }\n\n    .dataframe thead th {\n        text-align: right;\n    }\n</style>\n<table border=\"1\" class=\"dataframe\">\n  <thead>\n    <tr style=\"text-align: right;\">\n      <th></th>\n      <th>Total for human</th>\n      <th>Volume</th>\n    </tr>\n    <tr>\n      <th>Class</th>\n      <th></th>\n      <th></th>\n    </tr>\n  </thead>\n  <tbody>\n    <tr>\n      <th>BMF</th>\n      <td>1.3B</td>\n      <td>1295000000</td>\n    </tr>\n    <tr>\n      <th>BMF2</th>\n      <td>372.5M</td>\n      <td>372500000</td>\n    </tr>\n    <tr>\n      <th>BMF4</th>\n      <td>50M</td>\n      <td>50000000</td>\n    </tr>\n    <tr>\n      <th>BROKEN</th>\n      <td>346.5M</td>\n      <td>346500000</td>\n    </tr>\n    <tr>\n      <th>TOTAL</th>\n      <td>2.06B</td>\n      <td>2064000000</td>\n    </tr>\n  </tbody>\n</table>\n</div>"
     },
     "execution_count": 7,
     "metadata": {},
     "output_type": "execute_result"
    }
   ],
   "source": [
    "mining.bgc_calcs()"
   ],
   "metadata": {
    "collapsed": false,
    "ExecuteTime": {
     "end_time": "2023-05-30T00:16:13.084945Z",
     "start_time": "2023-05-30T00:16:13.057131Z"
    }
   }
  },
  {
   "cell_type": "code",
   "execution_count": 8,
   "outputs": [
    {
     "data": {
      "text/plain": "       Total for human    Volume\nClass                           \nBROKEN             52M  52000000\nTOTAL              52M  52000000",
      "text/html": "<div>\n<style scoped>\n    .dataframe tbody tr th:only-of-type {\n        vertical-align: middle;\n    }\n\n    .dataframe tbody tr th {\n        vertical-align: top;\n    }\n\n    .dataframe thead th {\n        text-align: right;\n    }\n</style>\n<table border=\"1\" class=\"dataframe\">\n  <thead>\n    <tr style=\"text-align: right;\">\n      <th></th>\n      <th>Total for human</th>\n      <th>Volume</th>\n    </tr>\n    <tr>\n      <th>Class</th>\n      <th></th>\n      <th></th>\n    </tr>\n  </thead>\n  <tbody>\n    <tr>\n      <th>BROKEN</th>\n      <td>52M</td>\n      <td>52000000</td>\n    </tr>\n    <tr>\n      <th>TOTAL</th>\n      <td>52M</td>\n      <td>52000000</td>\n    </tr>\n  </tbody>\n</table>\n</div>"
     },
     "execution_count": 8,
     "metadata": {},
     "output_type": "execute_result"
    }
   ],
   "source": [
    "mining.tradition_calcs()"
   ],
   "metadata": {
    "collapsed": false,
    "ExecuteTime": {
     "end_time": "2023-05-30T00:16:13.214809Z",
     "start_time": "2023-05-30T00:16:13.075815Z"
    }
   }
  },
  {
   "cell_type": "code",
   "execution_count": 9,
   "outputs": [
    {
     "data": {
      "text/plain": "       Total for human      Volume\nClass                             \nBMF              1.29B  1293000000\nBMF2              725M   725000000\nBROKEN            570M   570000000\nTOTAL            2.59B  2588000000",
      "text/html": "<div>\n<style scoped>\n    .dataframe tbody tr th:only-of-type {\n        vertical-align: middle;\n    }\n\n    .dataframe tbody tr th {\n        vertical-align: top;\n    }\n\n    .dataframe thead th {\n        text-align: right;\n    }\n</style>\n<table border=\"1\" class=\"dataframe\">\n  <thead>\n    <tr style=\"text-align: right;\">\n      <th></th>\n      <th>Total for human</th>\n      <th>Volume</th>\n    </tr>\n    <tr>\n      <th>Class</th>\n      <th></th>\n      <th></th>\n    </tr>\n  </thead>\n  <tbody>\n    <tr>\n      <th>BMF</th>\n      <td>1.29B</td>\n      <td>1293000000</td>\n    </tr>\n    <tr>\n      <th>BMF2</th>\n      <td>725M</td>\n      <td>725000000</td>\n    </tr>\n    <tr>\n      <th>BROKEN</th>\n      <td>570M</td>\n      <td>570000000</td>\n    </tr>\n    <tr>\n      <th>TOTAL</th>\n      <td>2.59B</td>\n      <td>2588000000</td>\n    </tr>\n  </tbody>\n</table>\n</div>"
     },
     "execution_count": 9,
     "metadata": {},
     "output_type": "execute_result"
    }
   ],
   "source": [
    "mining.gfi_calcs()"
   ],
   "metadata": {
    "collapsed": false,
    "ExecuteTime": {
     "end_time": "2023-05-30T00:16:13.245768Z",
     "start_time": "2023-05-30T00:16:13.125858Z"
    }
   }
  }
 ],
 "metadata": {
  "kernelspec": {
   "display_name": "Python 3",
   "language": "python",
   "name": "python3"
  },
  "language_info": {
   "codemirror_mode": {
    "name": "ipython",
    "version": 2
   },
   "file_extension": ".py",
   "mimetype": "text/x-python",
   "name": "python",
   "nbconvert_exporter": "python",
   "pygments_lexer": "ipython2",
   "version": "2.7.6"
  }
 },
 "nbformat": 4,
 "nbformat_minor": 0
}
