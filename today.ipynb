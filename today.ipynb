{
 "cells": [
  {
   "cell_type": "code",
   "execution_count": 27,
   "metadata": {
    "ExecuteTime": {
     "end_time": "2023-05-30T00:24:48.372279Z",
     "start_time": "2023-05-30T00:24:48.357802Z"
    }
   },
   "outputs": [
    {
     "data": {
      "text/plain": [
       "8"
      ]
     },
     "execution_count": 27,
     "metadata": {},
     "output_type": "execute_result"
    }
   ],
   "source": [
    "from loguru import logger\n",
    "import ndf.download\n",
    "from ndf.datamining import datamining\n",
    "import warnings\n",
    "import sys\n",
    "import pandas as pd\n",
    "\n",
    "warnings.simplefilter(action='ignore', category=FutureWarning)\n",
    "\n",
    "log_level = 'ERROR'\n",
    "logger.add(sys.stderr, format=\"{time} {level} {message}\", filter=\"my_module\", level=log_level)\n",
    "# logger.add(sys.stdout, colorize=True, format=\"<green>{time}</green> <level>{message}</level>\")\n",
    "logger.add(\"ndfdownload.log\", rotation=\"30 MB\", level=log_level)"
   ]
  },
  {
   "cell_type": "code",
   "execution_count": 12,
   "outputs": [],
   "source": [
    "import requests\n",
    "import time\n",
    "\n",
    "MAX_RETRIES = 4\n",
    "TIME_TO_WAIT = 10\n",
    "\n",
    "def download_manager(url):\n",
    "    r = None\n",
    "    # logger.info(f'Download settings: MAX_RETRIES:{MAX_RETRIES} | TIME_TO_WAIT:{TIME_TO_WAIT}')\n",
    "    for _ in range(MAX_RETRIES):\n",
    "        try:\n",
    "            r = requests.get(url, verify=False)\n",
    "        except requests.exceptions.RequestException as e:\n",
    "            print(f'Download fail, {e}')\n",
    "        if r:\n",
    "            print(f'Download Ok')\n",
    "            break\n",
    "        else:\n",
    "            wait = TIME_TO_WAIT * (_ + 1) if _ < 3 else TIME_TO_WAIT * (_ * 3)\n",
    "            print(f'Download fail, retry in {wait} seconds...')\n",
    "            time.sleep(wait)\n",
    "    return r"
   ],
   "metadata": {
    "collapsed": false,
    "ExecuteTime": {
     "end_time": "2023-06-18T18:29:38.407025Z",
     "start_time": "2023-06-18T18:29:38.402453Z"
    }
   }
  },
  {
   "cell_type": "code",
   "execution_count": 13,
   "outputs": [
    {
     "name": "stdout",
     "output_type": "stream",
     "text": [
      "Download fail, ('Connection aborted.', ConnectionResetError(54, 'Connection reset by peer'))\n",
      "Download fail, retry in 10 seconds...\n",
      "Download fail, ('Connection aborted.', ConnectionResetError(54, 'Connection reset by peer'))\n",
      "Download fail, retry in 20 seconds...\n"
     ]
    },
    {
     "ename": "KeyboardInterrupt",
     "evalue": "",
     "output_type": "error",
     "traceback": [
      "\u001B[0;31m---------------------------------------------------------------------------\u001B[0m",
      "\u001B[0;31mKeyboardInterrupt\u001B[0m                         Traceback (most recent call last)",
      "Cell \u001B[0;32mIn[13], line 1\u001B[0m\n\u001B[0;32m----> 1\u001B[0m \u001B[43mdownload_manager\u001B[49m\u001B[43m(\u001B[49m\u001B[38;5;124;43m'\u001B[39;49m\u001B[38;5;124;43mhttps://www.tullettprebon.com/swap-execution-facility/daily-activity-summary.aspxa\u001B[39;49m\u001B[38;5;124;43m'\u001B[39;49m\u001B[43m)\u001B[49m\n",
      "Cell \u001B[0;32mIn[12], line 21\u001B[0m, in \u001B[0;36mdownload_manager\u001B[0;34m(url)\u001B[0m\n\u001B[1;32m     19\u001B[0m         wait \u001B[38;5;241m=\u001B[39m TIME_TO_WAIT \u001B[38;5;241m*\u001B[39m (_ \u001B[38;5;241m+\u001B[39m \u001B[38;5;241m1\u001B[39m) \u001B[38;5;28;01mif\u001B[39;00m _ \u001B[38;5;241m<\u001B[39m \u001B[38;5;241m3\u001B[39m \u001B[38;5;28;01melse\u001B[39;00m TIME_TO_WAIT \u001B[38;5;241m*\u001B[39m (_ \u001B[38;5;241m*\u001B[39m \u001B[38;5;241m3\u001B[39m)\n\u001B[1;32m     20\u001B[0m         \u001B[38;5;28mprint\u001B[39m(\u001B[38;5;124mf\u001B[39m\u001B[38;5;124m'\u001B[39m\u001B[38;5;124mDownload fail, retry in \u001B[39m\u001B[38;5;132;01m{\u001B[39;00mwait\u001B[38;5;132;01m}\u001B[39;00m\u001B[38;5;124m seconds...\u001B[39m\u001B[38;5;124m'\u001B[39m)\n\u001B[0;32m---> 21\u001B[0m         \u001B[43mtime\u001B[49m\u001B[38;5;241;43m.\u001B[39;49m\u001B[43msleep\u001B[49m\u001B[43m(\u001B[49m\u001B[43mwait\u001B[49m\u001B[43m)\u001B[49m\n\u001B[1;32m     22\u001B[0m \u001B[38;5;28;01mreturn\u001B[39;00m r\n",
      "\u001B[0;31mKeyboardInterrupt\u001B[0m: "
     ]
    }
   ],
   "source": [
    "download_manager('https://www.tullettprebon.com/swap-execution-facility/daily-activity-summary.aspxa')"
   ],
   "metadata": {
    "collapsed": false,
    "ExecuteTime": {
     "end_time": "2023-06-18T18:30:11.789960Z",
     "start_time": "2023-06-18T18:29:41.840197Z"
    }
   }
  },
  {
   "cell_type": "code",
   "execution_count": 11,
   "metadata": {
    "ExecuteTime": {
     "end_time": "2023-05-30T00:24:48.387464Z",
     "start_time": "2023-05-30T00:24:48.367408Z"
    }
   },
   "outputs": [
    {
     "data": {
      "text/plain": [
       "datetime.date(2023, 5, 29)"
      ]
     },
     "execution_count": 11,
     "metadata": {},
     "output_type": "execute_result"
    }
   ],
   "source": [
    "from datetime import datetime\n",
    "\n",
    "a = datetime.now()\n",
    "a.date()"
   ]
  },
  {
   "cell_type": "code",
   "execution_count": 12,
   "metadata": {
    "ExecuteTime": {
     "end_time": "2023-05-30T00:24:48.387828Z",
     "start_time": "2023-05-30T00:24:48.371463Z"
    }
   },
   "outputs": [],
   "source": [
    "logger.remove()"
   ]
  },
  {
   "cell_type": "code",
   "execution_count": 13,
   "metadata": {
    "ExecuteTime": {
     "end_time": "2023-05-30T00:24:48.388167Z",
     "start_time": "2023-05-30T00:24:48.375571Z"
    }
   },
   "outputs": [
    {
     "name": "stdout",
     "output_type": "stream",
     "text": [
      "bgc ok\n",
      "tradition ok\n",
      "prebontullet ok\n",
      "gfi ok\n"
     ]
    }
   ],
   "source": [
    "d = ndf.download.download()\n",
    "d.download_all()"
   ]
  },
  {
   "cell_type": "code",
   "execution_count": 14,
   "metadata": {
    "ExecuteTime": {
     "end_time": "2023-05-30T00:24:48.388270Z",
     "start_time": "2023-05-30T00:24:48.382196Z"
    }
   },
   "outputs": [],
   "source": [
    "mining = datamining()"
   ]
  },
  {
   "cell_type": "code",
   "execution_count": 15,
   "metadata": {
    "ExecuteTime": {
     "end_time": "2023-05-30T00:24:48.424103Z",
     "start_time": "2023-05-30T00:24:48.385460Z"
    }
   },
   "outputs": [
    {
     "data": {
      "text/html": [
       "<div>\n",
       "<style scoped>\n",
       "    .dataframe tbody tr th:only-of-type {\n",
       "        vertical-align: middle;\n",
       "    }\n",
       "\n",
       "    .dataframe tbody tr th {\n",
       "        vertical-align: top;\n",
       "    }\n",
       "\n",
       "    .dataframe thead th {\n",
       "        text-align: right;\n",
       "    }\n",
       "</style>\n",
       "<table border=\"1\" class=\"dataframe\">\n",
       "  <thead>\n",
       "    <tr style=\"text-align: right;\">\n",
       "      <th></th>\n",
       "      <th>Total for human</th>\n",
       "      <th>Volume</th>\n",
       "    </tr>\n",
       "    <tr>\n",
       "      <th>Class</th>\n",
       "      <th></th>\n",
       "      <th></th>\n",
       "    </tr>\n",
       "  </thead>\n",
       "  <tbody>\n",
       "    <tr>\n",
       "      <th>BMF1</th>\n",
       "      <td>3.75B</td>\n",
       "      <td>3752800000</td>\n",
       "    </tr>\n",
       "    <tr>\n",
       "      <th>BMF2</th>\n",
       "      <td>874M</td>\n",
       "      <td>874000000</td>\n",
       "    </tr>\n",
       "    <tr>\n",
       "      <th>BMF3</th>\n",
       "      <td>470M</td>\n",
       "      <td>470000000</td>\n",
       "    </tr>\n",
       "    <tr>\n",
       "      <th>BROKEN</th>\n",
       "      <td>1.26B</td>\n",
       "      <td>1258000000</td>\n",
       "    </tr>\n",
       "    <tr>\n",
       "      <th>GT 1 YEAR</th>\n",
       "      <td>25M</td>\n",
       "      <td>25000000</td>\n",
       "    </tr>\n",
       "    <tr>\n",
       "      <th>LONGER</th>\n",
       "      <td>710M</td>\n",
       "      <td>710000000</td>\n",
       "    </tr>\n",
       "    <tr>\n",
       "      <th>PTAX</th>\n",
       "      <td>356.5M</td>\n",
       "      <td>356500000</td>\n",
       "    </tr>\n",
       "    <tr>\n",
       "      <th>TOMPTAX</th>\n",
       "      <td>20M</td>\n",
       "      <td>20000000</td>\n",
       "    </tr>\n",
       "    <tr>\n",
       "      <th>TOTAL</th>\n",
       "      <td>7.69B</td>\n",
       "      <td>7691550000</td>\n",
       "    </tr>\n",
       "    <tr>\n",
       "      <th>XP</th>\n",
       "      <td>225.25M</td>\n",
       "      <td>225250000</td>\n",
       "    </tr>\n",
       "  </tbody>\n",
       "</table>\n",
       "</div>"
      ],
      "text/plain": [
       "          Total for human      Volume\n",
       "Class                                \n",
       "BMF1                3.75B  3752800000\n",
       "BMF2                 874M   874000000\n",
       "BMF3                 470M   470000000\n",
       "BROKEN              1.26B  1258000000\n",
       "GT 1 YEAR             25M    25000000\n",
       "LONGER               710M   710000000\n",
       "PTAX               356.5M   356500000\n",
       "TOMPTAX               20M    20000000\n",
       "TOTAL               7.69B  7691550000\n",
       "XP                225.25M   225250000"
      ]
     },
     "execution_count": 15,
     "metadata": {},
     "output_type": "execute_result"
    }
   ],
   "source": [
    "mining.tulletprebon_calcs()"
   ]
  },
  {
   "cell_type": "code",
   "execution_count": 16,
   "metadata": {
    "ExecuteTime": {
     "end_time": "2023-05-30T00:24:48.429760Z",
     "start_time": "2023-05-30T00:24:48.409795Z"
    }
   },
   "outputs": [
    {
     "data": {
      "text/html": [
       "<div>\n",
       "<style scoped>\n",
       "    .dataframe tbody tr th:only-of-type {\n",
       "        vertical-align: middle;\n",
       "    }\n",
       "\n",
       "    .dataframe tbody tr th {\n",
       "        vertical-align: top;\n",
       "    }\n",
       "\n",
       "    .dataframe thead th {\n",
       "        text-align: right;\n",
       "    }\n",
       "</style>\n",
       "<table border=\"1\" class=\"dataframe\">\n",
       "  <thead>\n",
       "    <tr style=\"text-align: right;\">\n",
       "      <th></th>\n",
       "      <th>Total for human</th>\n",
       "      <th>Volume</th>\n",
       "    </tr>\n",
       "    <tr>\n",
       "      <th>Class</th>\n",
       "      <th></th>\n",
       "      <th></th>\n",
       "    </tr>\n",
       "  </thead>\n",
       "  <tbody>\n",
       "    <tr>\n",
       "      <th>BMF</th>\n",
       "      <td>1.3B</td>\n",
       "      <td>1295000000</td>\n",
       "    </tr>\n",
       "    <tr>\n",
       "      <th>BMF2</th>\n",
       "      <td>372.5M</td>\n",
       "      <td>372500000</td>\n",
       "    </tr>\n",
       "    <tr>\n",
       "      <th>BMF4</th>\n",
       "      <td>50M</td>\n",
       "      <td>50000000</td>\n",
       "    </tr>\n",
       "    <tr>\n",
       "      <th>BROKEN</th>\n",
       "      <td>346.5M</td>\n",
       "      <td>346500000</td>\n",
       "    </tr>\n",
       "    <tr>\n",
       "      <th>TOTAL</th>\n",
       "      <td>2.06B</td>\n",
       "      <td>2064000000</td>\n",
       "    </tr>\n",
       "  </tbody>\n",
       "</table>\n",
       "</div>"
      ],
      "text/plain": [
       "       Total for human      Volume\n",
       "Class                             \n",
       "BMF               1.3B  1295000000\n",
       "BMF2            372.5M   372500000\n",
       "BMF4               50M    50000000\n",
       "BROKEN          346.5M   346500000\n",
       "TOTAL            2.06B  2064000000"
      ]
     },
     "execution_count": 16,
     "metadata": {},
     "output_type": "execute_result"
    }
   ],
   "source": [
    "mining.bgc_calcs()"
   ]
  },
  {
   "cell_type": "code",
   "execution_count": 17,
   "metadata": {
    "ExecuteTime": {
     "end_time": "2023-05-30T00:24:48.523037Z",
     "start_time": "2023-05-30T00:24:48.428046Z"
    }
   },
   "outputs": [
    {
     "data": {
      "text/html": [
       "<div>\n",
       "<style scoped>\n",
       "    .dataframe tbody tr th:only-of-type {\n",
       "        vertical-align: middle;\n",
       "    }\n",
       "\n",
       "    .dataframe tbody tr th {\n",
       "        vertical-align: top;\n",
       "    }\n",
       "\n",
       "    .dataframe thead th {\n",
       "        text-align: right;\n",
       "    }\n",
       "</style>\n",
       "<table border=\"1\" class=\"dataframe\">\n",
       "  <thead>\n",
       "    <tr style=\"text-align: right;\">\n",
       "      <th></th>\n",
       "      <th>Total for human</th>\n",
       "      <th>Volume</th>\n",
       "    </tr>\n",
       "    <tr>\n",
       "      <th>Class</th>\n",
       "      <th></th>\n",
       "      <th></th>\n",
       "    </tr>\n",
       "  </thead>\n",
       "  <tbody>\n",
       "    <tr>\n",
       "      <th>BROKEN</th>\n",
       "      <td>52M</td>\n",
       "      <td>52000000</td>\n",
       "    </tr>\n",
       "    <tr>\n",
       "      <th>TOTAL</th>\n",
       "      <td>52M</td>\n",
       "      <td>52000000</td>\n",
       "    </tr>\n",
       "  </tbody>\n",
       "</table>\n",
       "</div>"
      ],
      "text/plain": [
       "       Total for human    Volume\n",
       "Class                           \n",
       "BROKEN             52M  52000000\n",
       "TOTAL              52M  52000000"
      ]
     },
     "execution_count": 17,
     "metadata": {},
     "output_type": "execute_result"
    }
   ],
   "source": [
    "mining.tradition_calcs()"
   ]
  },
  {
   "cell_type": "code",
   "execution_count": 18,
   "metadata": {
    "ExecuteTime": {
     "end_time": "2023-05-30T00:24:48.523359Z",
     "start_time": "2023-05-30T00:24:48.478034Z"
    }
   },
   "outputs": [
    {
     "data": {
      "text/html": [
       "<div>\n",
       "<style scoped>\n",
       "    .dataframe tbody tr th:only-of-type {\n",
       "        vertical-align: middle;\n",
       "    }\n",
       "\n",
       "    .dataframe tbody tr th {\n",
       "        vertical-align: top;\n",
       "    }\n",
       "\n",
       "    .dataframe thead th {\n",
       "        text-align: right;\n",
       "    }\n",
       "</style>\n",
       "<table border=\"1\" class=\"dataframe\">\n",
       "  <thead>\n",
       "    <tr style=\"text-align: right;\">\n",
       "      <th></th>\n",
       "      <th>Total for human</th>\n",
       "      <th>Volume</th>\n",
       "    </tr>\n",
       "    <tr>\n",
       "      <th>Class</th>\n",
       "      <th></th>\n",
       "      <th></th>\n",
       "    </tr>\n",
       "  </thead>\n",
       "  <tbody>\n",
       "    <tr>\n",
       "      <th>BMF</th>\n",
       "      <td>1.29B</td>\n",
       "      <td>1293000000</td>\n",
       "    </tr>\n",
       "    <tr>\n",
       "      <th>BMF2</th>\n",
       "      <td>725M</td>\n",
       "      <td>725000000</td>\n",
       "    </tr>\n",
       "    <tr>\n",
       "      <th>BROKEN</th>\n",
       "      <td>570M</td>\n",
       "      <td>570000000</td>\n",
       "    </tr>\n",
       "    <tr>\n",
       "      <th>TOTAL</th>\n",
       "      <td>2.59B</td>\n",
       "      <td>2588000000</td>\n",
       "    </tr>\n",
       "  </tbody>\n",
       "</table>\n",
       "</div>"
      ],
      "text/plain": [
       "       Total for human      Volume\n",
       "Class                             \n",
       "BMF              1.29B  1293000000\n",
       "BMF2              725M   725000000\n",
       "BROKEN            570M   570000000\n",
       "TOTAL            2.59B  2588000000"
      ]
     },
     "execution_count": 18,
     "metadata": {},
     "output_type": "execute_result"
    }
   ],
   "source": [
    "mining.gfi_calcs()"
   ]
  },
  {
   "cell_type": "code",
   "execution_count": 20,
   "metadata": {},
   "outputs": [],
   "source": [
    "tulletprebon['source'] = 'TulletPrebon'\n",
    "tradition['source'] = 'Tradition'\n",
    "bgc['source'] = 'bgc'\n",
    "gfi['source'] = 'gfi'"
   ]
  },
  {
   "cell_type": "code",
   "execution_count": 24,
   "metadata": {},
   "outputs": [
    {
     "data": {
      "text/html": [
       "<div>\n",
       "<style scoped>\n",
       "    .dataframe tbody tr th:only-of-type {\n",
       "        vertical-align: middle;\n",
       "    }\n",
       "\n",
       "    .dataframe tbody tr th {\n",
       "        vertical-align: top;\n",
       "    }\n",
       "\n",
       "    .dataframe thead th {\n",
       "        text-align: right;\n",
       "    }\n",
       "</style>\n",
       "<table border=\"1\" class=\"dataframe\">\n",
       "  <thead>\n",
       "    <tr style=\"text-align: right;\">\n",
       "      <th></th>\n",
       "      <th>Total for human</th>\n",
       "      <th>Volume</th>\n",
       "      <th>source</th>\n",
       "    </tr>\n",
       "    <tr>\n",
       "      <th>Class</th>\n",
       "      <th></th>\n",
       "      <th></th>\n",
       "      <th></th>\n",
       "    </tr>\n",
       "  </thead>\n",
       "  <tbody>\n",
       "    <tr>\n",
       "      <th>BMF</th>\n",
       "      <td>1.3B</td>\n",
       "      <td>1295000000</td>\n",
       "      <td>bgc</td>\n",
       "    </tr>\n",
       "    <tr>\n",
       "      <th>BMF2</th>\n",
       "      <td>372.5M</td>\n",
       "      <td>372500000</td>\n",
       "      <td>bgc</td>\n",
       "    </tr>\n",
       "    <tr>\n",
       "      <th>BMF4</th>\n",
       "      <td>50M</td>\n",
       "      <td>50000000</td>\n",
       "      <td>bgc</td>\n",
       "    </tr>\n",
       "    <tr>\n",
       "      <th>BROKEN</th>\n",
       "      <td>346.5M</td>\n",
       "      <td>346500000</td>\n",
       "      <td>bgc</td>\n",
       "    </tr>\n",
       "    <tr>\n",
       "      <th>TOTAL</th>\n",
       "      <td>2.06B</td>\n",
       "      <td>2064000000</td>\n",
       "      <td>bgc</td>\n",
       "    </tr>\n",
       "  </tbody>\n",
       "</table>\n",
       "</div>"
      ],
      "text/plain": [
       "       Total for human      Volume source\n",
       "Class                                    \n",
       "BMF               1.3B  1295000000    bgc\n",
       "BMF2            372.5M   372500000    bgc\n",
       "BMF4               50M    50000000    bgc\n",
       "BROKEN          346.5M   346500000    bgc\n",
       "TOTAL            2.06B  2064000000    bgc"
      ]
     },
     "execution_count": 24,
     "metadata": {},
     "output_type": "execute_result"
    }
   ],
   "source": [
    "bgc"
   ]
  },
  {
   "cell_type": "code",
   "execution_count": 30,
   "metadata": {},
   "outputs": [
    {
     "data": {
      "text/html": [
       "<div>\n",
       "<style scoped>\n",
       "    .dataframe tbody tr th:only-of-type {\n",
       "        vertical-align: middle;\n",
       "    }\n",
       "\n",
       "    .dataframe tbody tr th {\n",
       "        vertical-align: top;\n",
       "    }\n",
       "\n",
       "    .dataframe thead th {\n",
       "        text-align: right;\n",
       "    }\n",
       "</style>\n",
       "<table border=\"1\" class=\"dataframe\">\n",
       "  <thead>\n",
       "    <tr style=\"text-align: right;\">\n",
       "      <th></th>\n",
       "      <th>Total for human</th>\n",
       "      <th>Volume</th>\n",
       "      <th>source</th>\n",
       "    </tr>\n",
       "    <tr>\n",
       "      <th>Class</th>\n",
       "      <th></th>\n",
       "      <th></th>\n",
       "      <th></th>\n",
       "    </tr>\n",
       "  </thead>\n",
       "  <tbody>\n",
       "    <tr>\n",
       "      <th>BMF1</th>\n",
       "      <td>3.75B</td>\n",
       "      <td>3752800000</td>\n",
       "      <td>TulletPrebon</td>\n",
       "    </tr>\n",
       "    <tr>\n",
       "      <th>BMF2</th>\n",
       "      <td>874M</td>\n",
       "      <td>874000000</td>\n",
       "      <td>TulletPrebon</td>\n",
       "    </tr>\n",
       "    <tr>\n",
       "      <th>BMF3</th>\n",
       "      <td>470M</td>\n",
       "      <td>470000000</td>\n",
       "      <td>TulletPrebon</td>\n",
       "    </tr>\n",
       "    <tr>\n",
       "      <th>BROKEN</th>\n",
       "      <td>1.26B</td>\n",
       "      <td>1258000000</td>\n",
       "      <td>TulletPrebon</td>\n",
       "    </tr>\n",
       "    <tr>\n",
       "      <th>GT 1 YEAR</th>\n",
       "      <td>25M</td>\n",
       "      <td>25000000</td>\n",
       "      <td>TulletPrebon</td>\n",
       "    </tr>\n",
       "    <tr>\n",
       "      <th>LONGER</th>\n",
       "      <td>710M</td>\n",
       "      <td>710000000</td>\n",
       "      <td>TulletPrebon</td>\n",
       "    </tr>\n",
       "    <tr>\n",
       "      <th>PTAX</th>\n",
       "      <td>356.5M</td>\n",
       "      <td>356500000</td>\n",
       "      <td>TulletPrebon</td>\n",
       "    </tr>\n",
       "    <tr>\n",
       "      <th>TOMPTAX</th>\n",
       "      <td>20M</td>\n",
       "      <td>20000000</td>\n",
       "      <td>TulletPrebon</td>\n",
       "    </tr>\n",
       "    <tr>\n",
       "      <th>TOTAL</th>\n",
       "      <td>7.69B</td>\n",
       "      <td>7691550000</td>\n",
       "      <td>TulletPrebon</td>\n",
       "    </tr>\n",
       "    <tr>\n",
       "      <th>XP</th>\n",
       "      <td>225.25M</td>\n",
       "      <td>225250000</td>\n",
       "      <td>TulletPrebon</td>\n",
       "    </tr>\n",
       "    <tr>\n",
       "      <th>BROKEN</th>\n",
       "      <td>52M</td>\n",
       "      <td>52000000</td>\n",
       "      <td>Tradition</td>\n",
       "    </tr>\n",
       "    <tr>\n",
       "      <th>TOTAL</th>\n",
       "      <td>52M</td>\n",
       "      <td>52000000</td>\n",
       "      <td>Tradition</td>\n",
       "    </tr>\n",
       "    <tr>\n",
       "      <th>BMF</th>\n",
       "      <td>1.3B</td>\n",
       "      <td>1295000000</td>\n",
       "      <td>bgc</td>\n",
       "    </tr>\n",
       "    <tr>\n",
       "      <th>BMF2</th>\n",
       "      <td>372.5M</td>\n",
       "      <td>372500000</td>\n",
       "      <td>bgc</td>\n",
       "    </tr>\n",
       "    <tr>\n",
       "      <th>BMF4</th>\n",
       "      <td>50M</td>\n",
       "      <td>50000000</td>\n",
       "      <td>bgc</td>\n",
       "    </tr>\n",
       "    <tr>\n",
       "      <th>BROKEN</th>\n",
       "      <td>346.5M</td>\n",
       "      <td>346500000</td>\n",
       "      <td>bgc</td>\n",
       "    </tr>\n",
       "    <tr>\n",
       "      <th>TOTAL</th>\n",
       "      <td>2.06B</td>\n",
       "      <td>2064000000</td>\n",
       "      <td>bgc</td>\n",
       "    </tr>\n",
       "    <tr>\n",
       "      <th>BMF</th>\n",
       "      <td>1.29B</td>\n",
       "      <td>1293000000</td>\n",
       "      <td>gfi</td>\n",
       "    </tr>\n",
       "    <tr>\n",
       "      <th>BMF2</th>\n",
       "      <td>725M</td>\n",
       "      <td>725000000</td>\n",
       "      <td>gfi</td>\n",
       "    </tr>\n",
       "    <tr>\n",
       "      <th>BROKEN</th>\n",
       "      <td>570M</td>\n",
       "      <td>570000000</td>\n",
       "      <td>gfi</td>\n",
       "    </tr>\n",
       "    <tr>\n",
       "      <th>TOTAL</th>\n",
       "      <td>2.59B</td>\n",
       "      <td>2588000000</td>\n",
       "      <td>gfi</td>\n",
       "    </tr>\n",
       "  </tbody>\n",
       "</table>\n",
       "</div>"
      ],
      "text/plain": [
       "          Total for human      Volume        source\n",
       "Class                                              \n",
       "BMF1                3.75B  3752800000  TulletPrebon\n",
       "BMF2                 874M   874000000  TulletPrebon\n",
       "BMF3                 470M   470000000  TulletPrebon\n",
       "BROKEN              1.26B  1258000000  TulletPrebon\n",
       "GT 1 YEAR             25M    25000000  TulletPrebon\n",
       "LONGER               710M   710000000  TulletPrebon\n",
       "PTAX               356.5M   356500000  TulletPrebon\n",
       "TOMPTAX               20M    20000000  TulletPrebon\n",
       "TOTAL               7.69B  7691550000  TulletPrebon\n",
       "XP                225.25M   225250000  TulletPrebon\n",
       "BROKEN                52M    52000000     Tradition\n",
       "TOTAL                 52M    52000000     Tradition\n",
       "BMF                  1.3B  1295000000           bgc\n",
       "BMF2               372.5M   372500000           bgc\n",
       "BMF4                  50M    50000000           bgc\n",
       "BROKEN             346.5M   346500000           bgc\n",
       "TOTAL               2.06B  2064000000           bgc\n",
       "BMF                 1.29B  1293000000           gfi\n",
       "BMF2                 725M   725000000           gfi\n",
       "BROKEN               570M   570000000           gfi\n",
       "TOTAL               2.59B  2588000000           gfi"
      ]
     },
     "execution_count": 30,
     "metadata": {},
     "output_type": "execute_result"
    }
   ],
   "source": [
    "df_result = pd.concat([tulletprebon, tradition, bgc, gfi])\n",
    "df_result"
   ]
  },
  {
   "cell_type": "code",
   "execution_count": 44,
   "metadata": {},
   "outputs": [
    {
     "data": {
      "text/html": [
       "<div>\n",
       "<style scoped>\n",
       "    .dataframe tbody tr th:only-of-type {\n",
       "        vertical-align: middle;\n",
       "    }\n",
       "\n",
       "    .dataframe tbody tr th {\n",
       "        vertical-align: top;\n",
       "    }\n",
       "\n",
       "    .dataframe thead th {\n",
       "        text-align: right;\n",
       "    }\n",
       "</style>\n",
       "<table border=\"1\" class=\"dataframe\">\n",
       "  <thead>\n",
       "    <tr style=\"text-align: right;\">\n",
       "      <th></th>\n",
       "      <th>Total for human</th>\n",
       "      <th>Volume</th>\n",
       "      <th>source</th>\n",
       "    </tr>\n",
       "    <tr>\n",
       "      <th>Class</th>\n",
       "      <th></th>\n",
       "      <th></th>\n",
       "      <th></th>\n",
       "    </tr>\n",
       "  </thead>\n",
       "  <tbody>\n",
       "    <tr>\n",
       "      <th>TOTAL</th>\n",
       "      <td>7.69B</td>\n",
       "      <td>7691550000</td>\n",
       "      <td>TulletPrebon</td>\n",
       "    </tr>\n",
       "    <tr>\n",
       "      <th>TOTAL</th>\n",
       "      <td>52M</td>\n",
       "      <td>52000000</td>\n",
       "      <td>Tradition</td>\n",
       "    </tr>\n",
       "    <tr>\n",
       "      <th>TOTAL</th>\n",
       "      <td>2.06B</td>\n",
       "      <td>2064000000</td>\n",
       "      <td>bgc</td>\n",
       "    </tr>\n",
       "    <tr>\n",
       "      <th>TOTAL</th>\n",
       "      <td>2.59B</td>\n",
       "      <td>2588000000</td>\n",
       "      <td>gfi</td>\n",
       "    </tr>\n",
       "  </tbody>\n",
       "</table>\n",
       "</div>"
      ],
      "text/plain": [
       "      Total for human      Volume        source\n",
       "Class                                          \n",
       "TOTAL           7.69B  7691550000  TulletPrebon\n",
       "TOTAL             52M    52000000     Tradition\n",
       "TOTAL           2.06B  2064000000           bgc\n",
       "TOTAL           2.59B  2588000000           gfi"
      ]
     },
     "execution_count": 44,
     "metadata": {},
     "output_type": "execute_result"
    }
   ],
   "source": [
    "df_totals = df_result.query('Class == \"TOTAL\"')\n",
    "df_totals"
   ]
  },
  {
   "cell_type": "code",
   "execution_count": 48,
   "metadata": {},
   "outputs": [
    {
     "data": {
      "text/html": [
       "<div>\n",
       "<style scoped>\n",
       "    .dataframe tbody tr th:only-of-type {\n",
       "        vertical-align: middle;\n",
       "    }\n",
       "\n",
       "    .dataframe tbody tr th {\n",
       "        vertical-align: top;\n",
       "    }\n",
       "\n",
       "    .dataframe thead th {\n",
       "        text-align: right;\n",
       "    }\n",
       "</style>\n",
       "<table border=\"1\" class=\"dataframe\">\n",
       "  <thead>\n",
       "    <tr style=\"text-align: right;\">\n",
       "      <th></th>\n",
       "      <th>Volume</th>\n",
       "    </tr>\n",
       "    <tr>\n",
       "      <th>Class</th>\n",
       "      <th></th>\n",
       "    </tr>\n",
       "  </thead>\n",
       "  <tbody>\n",
       "    <tr>\n",
       "      <th>TOTAL</th>\n",
       "      <td>12395550000</td>\n",
       "    </tr>\n",
       "  </tbody>\n",
       "</table>\n",
       "</div>"
      ],
      "text/plain": [
       "            Volume\n",
       "Class             \n",
       "TOTAL  12395550000"
      ]
     },
     "execution_count": 48,
     "metadata": {},
     "output_type": "execute_result"
    }
   ],
   "source": [
    "df_totals.groupby(['Class']).sum()"
   ]
  },
  {
   "cell_type": "code",
   "execution_count": 57,
   "metadata": {},
   "outputs": [
    {
     "data": {
      "text/plain": [
       "'12.4B'"
      ]
     },
     "execution_count": 57,
     "metadata": {},
     "output_type": "execute_result"
    }
   ],
   "source": [
    "from numerize import numerize\n",
    "\n",
    "market_total = df_totals.sum()['Volume']\n",
    "market_total = numerize.numerize(float(market_total))\n",
    "market_total"
   ]
  },
  {
   "cell_type": "code",
   "execution_count": null,
   "metadata": {},
   "outputs": [],
   "source": []
  },
  {
   "cell_type": "code",
   "execution_count": null,
   "metadata": {},
   "outputs": [],
   "source": []
  }
 ],
 "metadata": {
  "kernelspec": {
   "display_name": "Python 3 (ipykernel)",
   "language": "python",
   "name": "python3"
  },
  "language_info": {
   "codemirror_mode": {
    "name": "ipython",
    "version": 3
   },
   "file_extension": ".py",
   "mimetype": "text/x-python",
   "name": "python",
   "nbconvert_exporter": "python",
   "pygments_lexer": "ipython3",
   "version": "3.9.16"
  }
 },
 "nbformat": 4,
 "nbformat_minor": 1
}
