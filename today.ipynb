{
 "cells": [
  {
   "cell_type": "code",
   "execution_count": 1,
   "metadata": {
    "ExecuteTime": {
     "end_time": "2025-06-11T15:30:11.237934Z",
     "start_time": "2025-06-11T15:30:04.057264Z"
    }
   },
   "outputs": [
    {
     "data": {
      "text/plain": "2"
     },
     "execution_count": 1,
     "metadata": {},
     "output_type": "execute_result"
    }
   ],
   "source": [
    "from loguru import logger\n",
    "import ndf.download\n",
    "from ndf.datamining import datamining\n",
    "import warnings\n",
    "import sys\n",
    "import pandas as pd\n",
    "\n",
    "warnings.simplefilter(action='ignore', category=FutureWarning)\n",
    "\n",
    "log_level = 'TRACE'\n",
    "logger.add(sys.stderr, format=\"{time} {level} {message}\", filter=\"my_module\", level=log_level)\n",
    "logger.add(sys.stdout, colorize=True, format=\"<green>{time}</green> <level>{message}</level>\")\n",
    "# logger.add(\"ndfdownload.log\", rotation=\"30 MB\", level=log_level)"
   ]
  },
  {
   "cell_type": "code",
   "execution_count": 2,
   "outputs": [],
   "source": [
    "import requests\n",
    "import time\n",
    "\n",
    "MAX_RETRIES = 4\n",
    "TIME_TO_WAIT = 10\n",
    "\n",
    "def download_manager(url):\n",
    "    r = None\n",
    "    # logger.info(f'Download settings: MAX_RETRIES:{MAX_RETRIES} | TIME_TO_WAIT:{TIME_TO_WAIT}')\n",
    "    for _ in range(MAX_RETRIES):\n",
    "        try:\n",
    "            r = requests.get(url, verify=False)\n",
    "        except requests.exceptions.RequestException as e:\n",
    "            print(f'Download fail, {e}')\n",
    "        if r:\n",
    "            print(f'Download Ok')\n",
    "            break\n",
    "        else:\n",
    "            wait = TIME_TO_WAIT * (_ + 1) if _ < 3 else TIME_TO_WAIT * (_ * 3)\n",
    "            print(f'Download fail, retry in {wait} seconds...')\n",
    "            time.sleep(wait)\n",
    "    return r"
   ],
   "metadata": {
    "collapsed": false,
    "ExecuteTime": {
     "end_time": "2025-06-11T15:30:11.248982Z",
     "start_time": "2025-06-11T15:30:11.239062Z"
    }
   }
  },
  {
   "cell_type": "code",
   "execution_count": 3,
   "outputs": [],
   "source": [
    "# download_manager('https://www.tullettprebon.com/swap-execution-facility/daily-activity-summary.aspxa')"
   ],
   "metadata": {
    "collapsed": false,
    "ExecuteTime": {
     "end_time": "2025-06-11T15:30:11.249351Z",
     "start_time": "2025-06-11T15:30:11.242671Z"
    }
   }
  },
  {
   "cell_type": "code",
   "execution_count": 4,
   "metadata": {
    "ExecuteTime": {
     "end_time": "2025-06-11T15:30:11.254556Z",
     "start_time": "2025-06-11T15:30:11.247852Z"
    }
   },
   "outputs": [
    {
     "data": {
      "text/plain": "datetime.date(2025, 6, 11)"
     },
     "execution_count": 4,
     "metadata": {},
     "output_type": "execute_result"
    }
   ],
   "source": [
    "from datetime import datetime\n",
    "\n",
    "a = datetime.now()\n",
    "a.date()"
   ]
  },
  {
   "cell_type": "code",
   "execution_count": 5,
   "metadata": {
    "ExecuteTime": {
     "end_time": "2025-06-11T15:30:11.257268Z",
     "start_time": "2025-06-11T15:30:11.252072Z"
    }
   },
   "outputs": [],
   "source": [
    "# Logger settings\n",
    "\n",
    "LOGGER_ENABLED = True\n",
    "\n",
    "if not LOGGER_ENABLED:\n",
    "    logger.remove()"
   ]
  },
  {
   "cell_type": "code",
   "execution_count": 6,
   "metadata": {
    "ExecuteTime": {
     "end_time": "2025-06-11T15:37:15.613205Z",
     "start_time": "2025-06-11T15:30:11.257592Z"
    }
   },
   "outputs": [
    {
     "name": "stderr",
     "output_type": "stream",
     "text": [
      "2025-06-11 11:30:11.256 | INFO     | ndf.download:_download:55 - BGC - Download start >>>\n"
     ]
    },
    {
     "name": "stdout",
     "output_type": "stream",
     "text": [
      "\u001B[32m2025-06-11T11:30:11.256404-0400\u001B[0m \u001B[1mBGC - Download start >>>\u001B[0m\n"
     ]
    },
    {
     "name": "stderr",
     "output_type": "stream",
     "text": [
      "2025-06-11 11:30:11.258 | DEBUG    | ndf.download:_download:58 - Try download bgc from http://dailyactprod.bgcsef.com/SEF/DailyAct/DailyAct_20250610.xlsx\n"
     ]
    },
    {
     "name": "stdout",
     "output_type": "stream",
     "text": [
      "\u001B[32m2025-06-11T11:30:11.258056-0400\u001B[0m \u001B[34m\u001B[1mTry download bgc from http://dailyactprod.bgcsef.com/SEF/DailyAct/DailyAct_20250610.xlsx\u001B[0m\n"
     ]
    },
    {
     "name": "stderr",
     "output_type": "stream",
     "text": [
      "2025-06-11 11:30:11.259 | INFO     | ndf.download:_download:98 - Downloading to /Users/cleiton/PycharmProjects/ndfutil/DATA/bgc_2025-06-11.xlsx from http://dailyactprod.bgcsef.com/SEF/DailyAct/DailyAct_20250610.xlsx\n"
     ]
    },
    {
     "name": "stdout",
     "output_type": "stream",
     "text": [
      "\u001B[32m2025-06-11T11:30:11.259295-0400\u001B[0m \u001B[1mDownloading to /Users/cleiton/PycharmProjects/ndfutil/DATA/bgc_2025-06-11.xlsx from http://dailyactprod.bgcsef.com/SEF/DailyAct/DailyAct_20250610.xlsx\u001B[0m\n"
     ]
    },
    {
     "name": "stderr",
     "output_type": "stream",
     "text": [
      "2025-06-11 11:30:11.260 | INFO     | ndf.download:download_manager:39 - Download settings: MAX_RETRIES:6 | TIME_TO_WAIT:10\n"
     ]
    },
    {
     "name": "stdout",
     "output_type": "stream",
     "text": [
      "\u001B[32m2025-06-11T11:30:11.260112-0400\u001B[0m \u001B[1mDownload settings: MAX_RETRIES:6 | TIME_TO_WAIT:10\u001B[0m\n"
     ]
    },
    {
     "name": "stderr",
     "output_type": "stream",
     "text": [
      "2025-06-11 11:30:11.401 | INFO     | ndf.download:download_manager:50 - Download fail, retry in 10 seconds...\n"
     ]
    },
    {
     "name": "stdout",
     "output_type": "stream",
     "text": [
      "\u001B[32m2025-06-11T11:30:11.401969-0400\u001B[0m \u001B[1mDownload fail, retry in 10 seconds...\u001B[0m\n"
     ]
    },
    {
     "name": "stderr",
     "output_type": "stream",
     "text": [
      "2025-06-11 11:30:21.506 | INFO     | ndf.download:download_manager:50 - Download fail, retry in 20 seconds...\n"
     ]
    },
    {
     "name": "stdout",
     "output_type": "stream",
     "text": [
      "\u001B[32m2025-06-11T11:30:21.506133-0400\u001B[0m \u001B[1mDownload fail, retry in 20 seconds...\u001B[0m\n"
     ]
    },
    {
     "name": "stderr",
     "output_type": "stream",
     "text": [
      "2025-06-11 11:30:41.613 | INFO     | ndf.download:download_manager:50 - Download fail, retry in 30 seconds...\n"
     ]
    },
    {
     "name": "stdout",
     "output_type": "stream",
     "text": [
      "\u001B[32m2025-06-11T11:30:41.613665-0400\u001B[0m \u001B[1mDownload fail, retry in 30 seconds...\u001B[0m\n"
     ]
    },
    {
     "name": "stderr",
     "output_type": "stream",
     "text": [
      "2025-06-11 11:31:11.808 | INFO     | ndf.download:download_manager:50 - Download fail, retry in 90 seconds...\n"
     ]
    },
    {
     "name": "stdout",
     "output_type": "stream",
     "text": [
      "\u001B[32m2025-06-11T11:31:11.808009-0400\u001B[0m \u001B[1mDownload fail, retry in 90 seconds...\u001B[0m\n"
     ]
    },
    {
     "name": "stderr",
     "output_type": "stream",
     "text": [
      "2025-06-11 11:32:41.905 | INFO     | ndf.download:download_manager:50 - Download fail, retry in 120 seconds...\n"
     ]
    },
    {
     "name": "stdout",
     "output_type": "stream",
     "text": [
      "\u001B[32m2025-06-11T11:32:41.905473-0400\u001B[0m \u001B[1mDownload fail, retry in 120 seconds...\u001B[0m\n"
     ]
    },
    {
     "name": "stderr",
     "output_type": "stream",
     "text": [
      "2025-06-11 11:34:41.993 | INFO     | ndf.download:download_manager:50 - Download fail, retry in 150 seconds...\n"
     ]
    },
    {
     "name": "stdout",
     "output_type": "stream",
     "text": [
      "\u001B[32m2025-06-11T11:34:41.993226-0400\u001B[0m \u001B[1mDownload fail, retry in 150 seconds...\u001B[0m\n"
     ]
    },
    {
     "name": "stderr",
     "output_type": "stream",
     "text": [
      "2025-06-11 11:37:11.995 | ERROR    | ndf.download:_download:125 - Download failed\n"
     ]
    },
    {
     "name": "stdout",
     "output_type": "stream",
     "text": [
      "\u001B[32m2025-06-11T11:37:11.995511-0400\u001B[0m \u001B[31m\u001B[1mDownload failed\u001B[0m\n"
     ]
    },
    {
     "name": "stderr",
     "output_type": "stream",
     "text": [
      "2025-06-11 11:37:11.996 | INFO     | ndf.download:_download:55 - TRADITION - Download start >>>\n"
     ]
    },
    {
     "name": "stdout",
     "output_type": "stream",
     "text": [
      "\u001B[32m2025-06-11T11:37:11.996857-0400\u001B[0m \u001B[1mTRADITION - Download start >>>\u001B[0m\n"
     ]
    },
    {
     "name": "stderr",
     "output_type": "stream",
     "text": [
      "2025-06-11 11:37:11.997 | DEBUG    | ndf.download:_download:58 - Try download tradition from https://www.traditionsef.com/dailyactivity/SEF16_MKTDATA_TFSU_20250610.csv\n"
     ]
    },
    {
     "name": "stdout",
     "output_type": "stream",
     "text": [
      "\u001B[32m2025-06-11T11:37:11.997770-0400\u001B[0m \u001B[34m\u001B[1mTry download tradition from https://www.traditionsef.com/dailyactivity/SEF16_MKTDATA_TFSU_20250610.csv\u001B[0m\n"
     ]
    },
    {
     "name": "stderr",
     "output_type": "stream",
     "text": [
      "2025-06-11 11:37:11.999 | INFO     | ndf.download:_download:98 - Downloading to /Users/cleiton/PycharmProjects/ndfutil/DATA/tradition_2025-06-11.csv from https://www.traditionsef.com/dailyactivity/SEF16_MKTDATA_TFSU_20250610.csv\n"
     ]
    },
    {
     "name": "stdout",
     "output_type": "stream",
     "text": [
      "\u001B[32m2025-06-11T11:37:11.999050-0400\u001B[0m \u001B[1mDownloading to /Users/cleiton/PycharmProjects/ndfutil/DATA/tradition_2025-06-11.csv from https://www.traditionsef.com/dailyactivity/SEF16_MKTDATA_TFSU_20250610.csv\u001B[0m\n"
     ]
    },
    {
     "name": "stderr",
     "output_type": "stream",
     "text": [
      "2025-06-11 11:37:11.999 | INFO     | ndf.download:download_manager:39 - Download settings: MAX_RETRIES:6 | TIME_TO_WAIT:10\n"
     ]
    },
    {
     "name": "stdout",
     "output_type": "stream",
     "text": [
      "\u001B[32m2025-06-11T11:37:11.999993-0400\u001B[0m \u001B[1mDownload settings: MAX_RETRIES:6 | TIME_TO_WAIT:10\u001B[0m\n"
     ]
    },
    {
     "name": "stderr",
     "output_type": "stream",
     "text": [
      "/Users/cleiton/PycharmProjects/ndfutil/venv/lib/python3.9/site-packages/urllib3/connectionpool.py:1045: InsecureRequestWarning: Unverified HTTPS request is being made to host 'www.traditionsef.com'. Adding certificate verification is strongly advised. See: https://urllib3.readthedocs.io/en/1.26.x/advanced-usage.html#ssl-warnings\n",
      "  warnings.warn(\n",
      "2025-06-11 11:37:12.939 | INFO     | ndf.download:download_manager:46 - Download Ok\n"
     ]
    },
    {
     "name": "stdout",
     "output_type": "stream",
     "text": [
      "\u001B[32m2025-06-11T11:37:12.939876-0400\u001B[0m \u001B[1mDownload Ok\u001B[0m\n"
     ]
    },
    {
     "name": "stderr",
     "output_type": "stream",
     "text": [
      "2025-06-11 11:37:12.941 | INFO     | ndf.download:_download:101 - TRADITION - Download OK\n"
     ]
    },
    {
     "name": "stdout",
     "output_type": "stream",
     "text": [
      "\u001B[32m2025-06-11T11:37:12.941090-0400\u001B[0m \u001B[1mTRADITION - Download OK\u001B[0m\n"
     ]
    },
    {
     "name": "stderr",
     "output_type": "stream",
     "text": [
      "2025-06-11 11:37:12.942 | INFO     | ndf.download:_download:103 - download size: 150975 \n"
     ]
    },
    {
     "name": "stdout",
     "output_type": "stream",
     "text": [
      "\u001B[32m2025-06-11T11:37:12.942256-0400\u001B[0m \u001B[1mdownload size: 150975 \u001B[0m\n"
     ]
    },
    {
     "name": "stderr",
     "output_type": "stream",
     "text": [
      "2025-06-11 11:37:12.943 | DEBUG    | ndf.download:_download:109 - Convert CSV to pandas dataframe\n"
     ]
    },
    {
     "name": "stdout",
     "output_type": "stream",
     "text": [
      "\u001B[32m2025-06-11T11:37:12.943829-0400\u001B[0m \u001B[34m\u001B[1mConvert CSV to pandas dataframe\u001B[0m\n"
     ]
    },
    {
     "name": "stderr",
     "output_type": "stream",
     "text": [
      "2025-06-11 11:37:12.950 | DEBUG    | ndf.download:_download:111 - Creating cache...\n"
     ]
    },
    {
     "name": "stdout",
     "output_type": "stream",
     "text": [
      "\u001B[32m2025-06-11T11:37:12.950507-0400\u001B[0m \u001B[34m\u001B[1mCreating cache...\u001B[0m\n"
     ]
    },
    {
     "name": "stderr",
     "output_type": "stream",
     "text": [
      "2025-06-11 11:37:12.953 | INFO     | ndf.download:_download:113 - tradition data success cached at /Users/cleiton/PycharmProjects/ndfutil/DATA/tradition_2025-06-11.pkl\n"
     ]
    },
    {
     "name": "stdout",
     "output_type": "stream",
     "text": [
      "\u001B[32m2025-06-11T11:37:12.953338-0400\u001B[0m \u001B[1mtradition data success cached at /Users/cleiton/PycharmProjects/ndfutil/DATA/tradition_2025-06-11.pkl\u001B[0m\n"
     ]
    },
    {
     "name": "stderr",
     "output_type": "stream",
     "text": [
      "2025-06-11 11:37:12.954 | INFO     | ndf.download:_download:55 - TULLETPREBON - Download start >>>\n"
     ]
    },
    {
     "name": "stdout",
     "output_type": "stream",
     "text": [
      "\u001B[32m2025-06-11T11:37:12.954250-0400\u001B[0m \u001B[1mTULLETPREBON - Download start >>>\u001B[0m\n"
     ]
    },
    {
     "name": "stderr",
     "output_type": "stream",
     "text": [
      "2025-06-11 11:37:12.955 | DEBUG    | ndf.download:_download:58 - Try download tulletprebon from https://www.tullettprebon.com/swap-execution-facility/daily-activity-summary.aspx\n"
     ]
    },
    {
     "name": "stdout",
     "output_type": "stream",
     "text": [
      "\u001B[32m2025-06-11T11:37:12.955222-0400\u001B[0m \u001B[34m\u001B[1mTry download tulletprebon from https://www.tullettprebon.com/swap-execution-facility/daily-activity-summary.aspx\u001B[0m\n"
     ]
    },
    {
     "name": "stderr",
     "output_type": "stream",
     "text": [
      "2025-06-11 11:37:12.956 | INFO     | ndf.download:_download:83 - Downloading to /Users/cleiton/PycharmProjects/ndfutil/DATA/tulletprebon_2025-06-11.html from https://www.tullettprebon.com/swap-execution-facility/daily-activity-summary.aspx\n"
     ]
    },
    {
     "name": "stdout",
     "output_type": "stream",
     "text": [
      "\u001B[32m2025-06-11T11:37:12.956470-0400\u001B[0m \u001B[1mDownloading to /Users/cleiton/PycharmProjects/ndfutil/DATA/tulletprebon_2025-06-11.html from https://www.tullettprebon.com/swap-execution-facility/daily-activity-summary.aspx\u001B[0m\n"
     ]
    },
    {
     "name": "stderr",
     "output_type": "stream",
     "text": [
      "2025-06-11 11:37:12.957 | INFO     | ndf.download:download_manager:39 - Download settings: MAX_RETRIES:6 | TIME_TO_WAIT:10\n"
     ]
    },
    {
     "name": "stdout",
     "output_type": "stream",
     "text": [
      "\u001B[32m2025-06-11T11:37:12.957191-0400\u001B[0m \u001B[1mDownload settings: MAX_RETRIES:6 | TIME_TO_WAIT:10\u001B[0m\n"
     ]
    },
    {
     "name": "stderr",
     "output_type": "stream",
     "text": [
      "/Users/cleiton/PycharmProjects/ndfutil/venv/lib/python3.9/site-packages/urllib3/connectionpool.py:1045: InsecureRequestWarning: Unverified HTTPS request is being made to host 'www.tullettprebon.com'. Adding certificate verification is strongly advised. See: https://urllib3.readthedocs.io/en/1.26.x/advanced-usage.html#ssl-warnings\n",
      "  warnings.warn(\n",
      "2025-06-11 11:37:14.947 | INFO     | ndf.download:download_manager:46 - Download Ok\n"
     ]
    },
    {
     "name": "stdout",
     "output_type": "stream",
     "text": [
      "\u001B[32m2025-06-11T11:37:14.947679-0400\u001B[0m \u001B[1mDownload Ok\u001B[0m\n"
     ]
    },
    {
     "name": "stderr",
     "output_type": "stream",
     "text": [
      "2025-06-11 11:37:14.948 | INFO     | ndf.download:_download:86 - TULLETPREBON - Download OK\n"
     ]
    },
    {
     "name": "stdout",
     "output_type": "stream",
     "text": [
      "\u001B[32m2025-06-11T11:37:14.948939-0400\u001B[0m \u001B[1mTULLETPREBON - Download OK\u001B[0m\n"
     ]
    },
    {
     "name": "stderr",
     "output_type": "stream",
     "text": [
      "2025-06-11 11:37:14.950 | DEBUG    | ndf.download:_download:88 - Convert HTML to pandas dataframe\n"
     ]
    },
    {
     "name": "stdout",
     "output_type": "stream",
     "text": [
      "\u001B[32m2025-06-11T11:37:14.950038-0400\u001B[0m \u001B[34m\u001B[1mConvert HTML to pandas dataframe\u001B[0m\n"
     ]
    },
    {
     "name": "stderr",
     "output_type": "stream",
     "text": [
      "/Users/cleiton/PycharmProjects/ndfutil/venv/lib/python3.9/site-packages/scrapy/selector/unified.py:83: UserWarning: Selector got both text and root, root is being ignored.\n",
      "  super().__init__(text=text, type=st, root=root, **kwargs)\n",
      "2025-06-11 11:37:15.206 | INFO     | ndf.download:_download:94 - tulletprebon data success cached at /Users/cleiton/PycharmProjects/ndfutil/DATA/tulletprebon_2025-06-11.pkl\n"
     ]
    },
    {
     "name": "stdout",
     "output_type": "stream",
     "text": [
      "\u001B[32m2025-06-11T11:37:15.206661-0400\u001B[0m \u001B[1mtulletprebon data success cached at /Users/cleiton/PycharmProjects/ndfutil/DATA/tulletprebon_2025-06-11.pkl\u001B[0m\n"
     ]
    },
    {
     "name": "stderr",
     "output_type": "stream",
     "text": [
      "2025-06-11 11:37:15.207 | INFO     | ndf.download:_download:55 - GFI - Download start >>>\n"
     ]
    },
    {
     "name": "stdout",
     "output_type": "stream",
     "text": [
      "\u001B[32m2025-06-11T11:37:15.207882-0400\u001B[0m \u001B[1mGFI - Download start >>>\u001B[0m\n"
     ]
    },
    {
     "name": "stderr",
     "output_type": "stream",
     "text": [
      "2025-06-11 11:37:15.208 | DEBUG    | ndf.download:_download:58 - Try download gfi from https://www.gfigroup.com/doc/sef/marketdata/2025-06-10_daily_trade_data.xlsx\n"
     ]
    },
    {
     "name": "stdout",
     "output_type": "stream",
     "text": [
      "\u001B[32m2025-06-11T11:37:15.208763-0400\u001B[0m \u001B[34m\u001B[1mTry download gfi from https://www.gfigroup.com/doc/sef/marketdata/2025-06-10_daily_trade_data.xlsx\u001B[0m\n"
     ]
    },
    {
     "name": "stderr",
     "output_type": "stream",
     "text": [
      "2025-06-11 11:37:15.209 | INFO     | ndf.download:_download:98 - Downloading to /Users/cleiton/PycharmProjects/ndfutil/DATA/gfi_2025-06-11.xls from https://www.gfigroup.com/doc/sef/marketdata/2025-06-10_daily_trade_data.xlsx\n"
     ]
    },
    {
     "name": "stdout",
     "output_type": "stream",
     "text": [
      "\u001B[32m2025-06-11T11:37:15.209840-0400\u001B[0m \u001B[1mDownloading to /Users/cleiton/PycharmProjects/ndfutil/DATA/gfi_2025-06-11.xls from https://www.gfigroup.com/doc/sef/marketdata/2025-06-10_daily_trade_data.xlsx\u001B[0m\n"
     ]
    },
    {
     "name": "stderr",
     "output_type": "stream",
     "text": [
      "2025-06-11 11:37:15.210 | INFO     | ndf.download:download_manager:39 - Download settings: MAX_RETRIES:6 | TIME_TO_WAIT:10\n"
     ]
    },
    {
     "name": "stdout",
     "output_type": "stream",
     "text": [
      "\u001B[32m2025-06-11T11:37:15.210839-0400\u001B[0m \u001B[1mDownload settings: MAX_RETRIES:6 | TIME_TO_WAIT:10\u001B[0m\n"
     ]
    },
    {
     "name": "stderr",
     "output_type": "stream",
     "text": [
      "/Users/cleiton/PycharmProjects/ndfutil/venv/lib/python3.9/site-packages/urllib3/connectionpool.py:1045: InsecureRequestWarning: Unverified HTTPS request is being made to host 'www.gfigroup.com'. Adding certificate verification is strongly advised. See: https://urllib3.readthedocs.io/en/1.26.x/advanced-usage.html#ssl-warnings\n",
      "  warnings.warn(\n",
      "2025-06-11 11:37:15.325 | INFO     | ndf.download:download_manager:46 - Download Ok\n"
     ]
    },
    {
     "name": "stdout",
     "output_type": "stream",
     "text": [
      "\u001B[32m2025-06-11T11:37:15.325665-0400\u001B[0m \u001B[1mDownload Ok\u001B[0m\n"
     ]
    },
    {
     "name": "stderr",
     "output_type": "stream",
     "text": [
      "2025-06-11 11:37:15.326 | INFO     | ndf.download:_download:101 - GFI - Download OK\n"
     ]
    },
    {
     "name": "stdout",
     "output_type": "stream",
     "text": [
      "\u001B[32m2025-06-11T11:37:15.326540-0400\u001B[0m \u001B[1mGFI - Download OK\u001B[0m\n"
     ]
    },
    {
     "name": "stderr",
     "output_type": "stream",
     "text": [
      "2025-06-11 11:37:15.327 | INFO     | ndf.download:_download:103 - download size: 25581 \n"
     ]
    },
    {
     "name": "stdout",
     "output_type": "stream",
     "text": [
      "\u001B[32m2025-06-11T11:37:15.327429-0400\u001B[0m \u001B[1mdownload size: 25581 \u001B[0m\n"
     ]
    },
    {
     "name": "stderr",
     "output_type": "stream",
     "text": [
      "2025-06-11 11:37:15.328 | DEBUG    | ndf.download:_download:116 - Convert XLS to pandas dataframe\n"
     ]
    },
    {
     "name": "stdout",
     "output_type": "stream",
     "text": [
      "\u001B[32m2025-06-11T11:37:15.328709-0400\u001B[0m \u001B[34m\u001B[1mConvert XLS to pandas dataframe\u001B[0m\n"
     ]
    },
    {
     "name": "stderr",
     "output_type": "stream",
     "text": [
      "/Users/cleiton/PycharmProjects/ndfutil/venv/lib/python3.9/site-packages/openpyxl/styles/stylesheet.py:237: UserWarning: Workbook contains no default style, apply openpyxl's default\n",
      "  warn(\"Workbook contains no default style, apply openpyxl's default\")\n",
      "2025-06-11 11:37:15.604 | DEBUG    | ndf.download:_download:118 - Creating cache...\n"
     ]
    },
    {
     "name": "stdout",
     "output_type": "stream",
     "text": [
      "\u001B[32m2025-06-11T11:37:15.604987-0400\u001B[0m \u001B[34m\u001B[1mCreating cache...\u001B[0m\n"
     ]
    },
    {
     "name": "stderr",
     "output_type": "stream",
     "text": [
      "2025-06-11 11:37:15.607 | INFO     | ndf.download:_download:120 - gfi data success cached at /Users/cleiton/PycharmProjects/ndfutil/DATA/gfi_2025-06-11.pkl\n"
     ]
    },
    {
     "name": "stdout",
     "output_type": "stream",
     "text": [
      "\u001B[32m2025-06-11T11:37:15.607168-0400\u001B[0m \u001B[1mgfi data success cached at /Users/cleiton/PycharmProjects/ndfutil/DATA/gfi_2025-06-11.pkl\u001B[0m\n",
      "bgc ok\n",
      "tradition ok\n",
      "prebontullet ok\n",
      "gfi ok\n"
     ]
    }
   ],
   "source": [
    "d = ndf.download.download()\n",
    "d.download_all()"
   ]
  },
  {
   "cell_type": "code",
   "execution_count": 7,
   "metadata": {
    "ExecuteTime": {
     "end_time": "2025-06-11T15:37:15.626458Z",
     "start_time": "2025-06-11T15:37:15.617148Z"
    }
   },
   "outputs": [],
   "source": [
    "mining = datamining()"
   ]
  },
  {
   "cell_type": "code",
   "execution_count": 8,
   "outputs": [
    {
     "name": "stderr",
     "output_type": "stream",
     "text": [
      "2025-06-11 11:37:15.616 | INFO     | ndf.download:_download:55 - BGC - Download start >>>\n"
     ]
    },
    {
     "name": "stdout",
     "output_type": "stream",
     "text": [
      "\u001B[32m2025-06-11T11:37:15.616032-0400\u001B[0m \u001B[1mBGC - Download start >>>\u001B[0m\n"
     ]
    },
    {
     "name": "stderr",
     "output_type": "stream",
     "text": [
      "2025-06-11 11:37:15.617 | DEBUG    | ndf.download:_download:58 - Try download bgc from http://dailyactprod.bgcsef.com/SEF/DailyAct/DailyAct_20250610.xlsx\n"
     ]
    },
    {
     "name": "stdout",
     "output_type": "stream",
     "text": [
      "\u001B[32m2025-06-11T11:37:15.617496-0400\u001B[0m \u001B[34m\u001B[1mTry download bgc from http://dailyactprod.bgcsef.com/SEF/DailyAct/DailyAct_20250610.xlsx\u001B[0m\n"
     ]
    },
    {
     "name": "stderr",
     "output_type": "stream",
     "text": [
      "2025-06-11 11:37:15.618 | INFO     | ndf.download:_download:98 - Downloading to /Users/cleiton/PycharmProjects/ndfutil/DATA/bgc_2025-06-11.xlsx from http://dailyactprod.bgcsef.com/SEF/DailyAct/DailyAct_20250610.xlsx\n"
     ]
    },
    {
     "name": "stdout",
     "output_type": "stream",
     "text": [
      "\u001B[32m2025-06-11T11:37:15.618855-0400\u001B[0m \u001B[1mDownloading to /Users/cleiton/PycharmProjects/ndfutil/DATA/bgc_2025-06-11.xlsx from http://dailyactprod.bgcsef.com/SEF/DailyAct/DailyAct_20250610.xlsx\u001B[0m\n"
     ]
    },
    {
     "name": "stderr",
     "output_type": "stream",
     "text": [
      "2025-06-11 11:37:15.619 | INFO     | ndf.download:download_manager:39 - Download settings: MAX_RETRIES:6 | TIME_TO_WAIT:10\n"
     ]
    },
    {
     "name": "stdout",
     "output_type": "stream",
     "text": [
      "\u001B[32m2025-06-11T11:37:15.619917-0400\u001B[0m \u001B[1mDownload settings: MAX_RETRIES:6 | TIME_TO_WAIT:10\u001B[0m\n"
     ]
    },
    {
     "name": "stderr",
     "output_type": "stream",
     "text": [
      "2025-06-11 11:37:15.746 | INFO     | ndf.download:download_manager:50 - Download fail, retry in 10 seconds...\n"
     ]
    },
    {
     "name": "stdout",
     "output_type": "stream",
     "text": [
      "\u001B[32m2025-06-11T11:37:15.746352-0400\u001B[0m \u001B[1mDownload fail, retry in 10 seconds...\u001B[0m\n"
     ]
    },
    {
     "name": "stderr",
     "output_type": "stream",
     "text": [
      "2025-06-11 11:37:25.856 | INFO     | ndf.download:download_manager:50 - Download fail, retry in 20 seconds...\n"
     ]
    },
    {
     "name": "stdout",
     "output_type": "stream",
     "text": [
      "\u001B[32m2025-06-11T11:37:25.856853-0400\u001B[0m \u001B[1mDownload fail, retry in 20 seconds...\u001B[0m\n"
     ]
    },
    {
     "name": "stderr",
     "output_type": "stream",
     "text": [
      "2025-06-11 11:37:45.959 | INFO     | ndf.download:download_manager:50 - Download fail, retry in 30 seconds...\n"
     ]
    },
    {
     "name": "stdout",
     "output_type": "stream",
     "text": [
      "\u001B[32m2025-06-11T11:37:45.959618-0400\u001B[0m \u001B[1mDownload fail, retry in 30 seconds...\u001B[0m\n"
     ]
    },
    {
     "name": "stderr",
     "output_type": "stream",
     "text": [
      "2025-06-11 11:38:16.063 | INFO     | ndf.download:download_manager:50 - Download fail, retry in 90 seconds...\n"
     ]
    },
    {
     "name": "stdout",
     "output_type": "stream",
     "text": [
      "\u001B[32m2025-06-11T11:38:16.063343-0400\u001B[0m \u001B[1mDownload fail, retry in 90 seconds...\u001B[0m\n"
     ]
    },
    {
     "name": "stderr",
     "output_type": "stream",
     "text": [
      "2025-06-11 11:39:46.189 | INFO     | ndf.download:download_manager:50 - Download fail, retry in 120 seconds...\n"
     ]
    },
    {
     "name": "stdout",
     "output_type": "stream",
     "text": [
      "\u001B[32m2025-06-11T11:39:46.189398-0400\u001B[0m \u001B[1mDownload fail, retry in 120 seconds...\u001B[0m\n"
     ]
    },
    {
     "name": "stderr",
     "output_type": "stream",
     "text": [
      "2025-06-11 11:41:46.314 | INFO     | ndf.download:download_manager:50 - Download fail, retry in 150 seconds...\n"
     ]
    },
    {
     "name": "stdout",
     "output_type": "stream",
     "text": [
      "\u001B[32m2025-06-11T11:41:46.314145-0400\u001B[0m \u001B[1mDownload fail, retry in 150 seconds...\u001B[0m\n"
     ]
    },
    {
     "name": "stderr",
     "output_type": "stream",
     "text": [
      "2025-06-11 11:44:16.317 | ERROR    | ndf.download:_download:125 - Download failed\n"
     ]
    },
    {
     "name": "stdout",
     "output_type": "stream",
     "text": [
      "\u001B[32m2025-06-11T11:44:16.317033-0400\u001B[0m \u001B[31m\u001B[1mDownload failed\u001B[0m\n"
     ]
    },
    {
     "data": {
      "text/plain": "True"
     },
     "execution_count": 8,
     "metadata": {},
     "output_type": "execute_result"
    }
   ],
   "source": [
    "d.download_bgc()"
   ],
   "metadata": {
    "collapsed": false,
    "ExecuteTime": {
     "end_time": "2025-06-11T15:44:16.327470Z",
     "start_time": "2025-06-11T15:37:15.617535Z"
    }
   }
  },
  {
   "cell_type": "code",
   "execution_count": 9,
   "outputs": [
    {
     "data": {
      "text/plain": "     Batch Date Asset Class                 Tradeable Instrument  \\\n0    2025-05-23          CD                               465636   \n1    2025-05-23          CD                               466273   \n2    2025-05-23          CD                               466928   \n3    2025-05-23          CD                     CDX.EM.43.V1_60M   \n4    2025-05-23          CD                  CDX.EM.HY.43-V1_60M   \n..          ...         ...                                  ...   \n503  2025-05-23          IR           THB.1Y.THOR.NDOIS_20260527   \n504  2025-05-23          IR  THB.6M.THOR.NDOIS ISDA2021_20251127   \n505  2025-05-23          IR  THB.9M.THOR.NDOIS ISDA2021_20260227   \n506  2025-05-23          IR                    UF.2Y.SB_20270528   \n507  2025-05-23          IR                    UF.5Y.SB_20300528   \n\n                             Description Opening Price Trade High Trade Low  \\\n0                     S43 XOVER 5Y (SEF)        315.25     315.25    315.25   \n1                          IG44 5Y - SEF         60.85      60.85      59.3   \n2                          HY44 5Y - SEF        105.55     105.55    105.06   \n3                       CDX.EM.43.V1_60M         96.79      96.79     96.63   \n4                    CDX.EM.HY.43-V1_60M         92.68      92.68     92.68   \n..                                   ...           ...        ...       ...   \n503           THB.1Y.THOR.NDOIS_20260527        0.0148     0.0148    0.0148   \n504  THB.6M.THOR.NDOIS ISDA2021_20251127      0.016025   0.016025  0.016025   \n505  THB.9M.THOR.NDOIS ISDA2021_20260227      0.015375   0.015375  0.015375   \n506                    UF.2Y.SB_20270528       0.01285    0.01285   0.01285   \n507                    UF.5Y.SB_20300528       0.01665    0.01665   0.01665   \n\n    Closing Price Num of Trades Total Notional Value  \n0          315.25             1             10000000  \n1            59.3             5            175000000  \n2          105.29            17            175000000  \n3           96.65             8             85000000  \n4           92.68             1             10000000  \n..            ...           ...                  ...  \n503        0.0148             1           1660000000  \n504      0.016025             1           3290000000  \n505      0.015375             1           4400000000  \n506       0.01285             1               360000  \n507       0.01665             1               150000  \n\n[508 rows x 10 columns]",
      "text/html": "<div>\n<style scoped>\n    .dataframe tbody tr th:only-of-type {\n        vertical-align: middle;\n    }\n\n    .dataframe tbody tr th {\n        vertical-align: top;\n    }\n\n    .dataframe thead th {\n        text-align: right;\n    }\n</style>\n<table border=\"1\" class=\"dataframe\">\n  <thead>\n    <tr style=\"text-align: right;\">\n      <th></th>\n      <th>Batch Date</th>\n      <th>Asset Class</th>\n      <th>Tradeable Instrument</th>\n      <th>Description</th>\n      <th>Opening Price</th>\n      <th>Trade High</th>\n      <th>Trade Low</th>\n      <th>Closing Price</th>\n      <th>Num of Trades</th>\n      <th>Total Notional Value</th>\n    </tr>\n  </thead>\n  <tbody>\n    <tr>\n      <th>0</th>\n      <td>2025-05-23</td>\n      <td>CD</td>\n      <td>465636</td>\n      <td>S43 XOVER 5Y (SEF)</td>\n      <td>315.25</td>\n      <td>315.25</td>\n      <td>315.25</td>\n      <td>315.25</td>\n      <td>1</td>\n      <td>10000000</td>\n    </tr>\n    <tr>\n      <th>1</th>\n      <td>2025-05-23</td>\n      <td>CD</td>\n      <td>466273</td>\n      <td>IG44 5Y - SEF</td>\n      <td>60.85</td>\n      <td>60.85</td>\n      <td>59.3</td>\n      <td>59.3</td>\n      <td>5</td>\n      <td>175000000</td>\n    </tr>\n    <tr>\n      <th>2</th>\n      <td>2025-05-23</td>\n      <td>CD</td>\n      <td>466928</td>\n      <td>HY44 5Y - SEF</td>\n      <td>105.55</td>\n      <td>105.55</td>\n      <td>105.06</td>\n      <td>105.29</td>\n      <td>17</td>\n      <td>175000000</td>\n    </tr>\n    <tr>\n      <th>3</th>\n      <td>2025-05-23</td>\n      <td>CD</td>\n      <td>CDX.EM.43.V1_60M</td>\n      <td>CDX.EM.43.V1_60M</td>\n      <td>96.79</td>\n      <td>96.79</td>\n      <td>96.63</td>\n      <td>96.65</td>\n      <td>8</td>\n      <td>85000000</td>\n    </tr>\n    <tr>\n      <th>4</th>\n      <td>2025-05-23</td>\n      <td>CD</td>\n      <td>CDX.EM.HY.43-V1_60M</td>\n      <td>CDX.EM.HY.43-V1_60M</td>\n      <td>92.68</td>\n      <td>92.68</td>\n      <td>92.68</td>\n      <td>92.68</td>\n      <td>1</td>\n      <td>10000000</td>\n    </tr>\n    <tr>\n      <th>...</th>\n      <td>...</td>\n      <td>...</td>\n      <td>...</td>\n      <td>...</td>\n      <td>...</td>\n      <td>...</td>\n      <td>...</td>\n      <td>...</td>\n      <td>...</td>\n      <td>...</td>\n    </tr>\n    <tr>\n      <th>503</th>\n      <td>2025-05-23</td>\n      <td>IR</td>\n      <td>THB.1Y.THOR.NDOIS_20260527</td>\n      <td>THB.1Y.THOR.NDOIS_20260527</td>\n      <td>0.0148</td>\n      <td>0.0148</td>\n      <td>0.0148</td>\n      <td>0.0148</td>\n      <td>1</td>\n      <td>1660000000</td>\n    </tr>\n    <tr>\n      <th>504</th>\n      <td>2025-05-23</td>\n      <td>IR</td>\n      <td>THB.6M.THOR.NDOIS ISDA2021_20251127</td>\n      <td>THB.6M.THOR.NDOIS ISDA2021_20251127</td>\n      <td>0.016025</td>\n      <td>0.016025</td>\n      <td>0.016025</td>\n      <td>0.016025</td>\n      <td>1</td>\n      <td>3290000000</td>\n    </tr>\n    <tr>\n      <th>505</th>\n      <td>2025-05-23</td>\n      <td>IR</td>\n      <td>THB.9M.THOR.NDOIS ISDA2021_20260227</td>\n      <td>THB.9M.THOR.NDOIS ISDA2021_20260227</td>\n      <td>0.015375</td>\n      <td>0.015375</td>\n      <td>0.015375</td>\n      <td>0.015375</td>\n      <td>1</td>\n      <td>4400000000</td>\n    </tr>\n    <tr>\n      <th>506</th>\n      <td>2025-05-23</td>\n      <td>IR</td>\n      <td>UF.2Y.SB_20270528</td>\n      <td>UF.2Y.SB_20270528</td>\n      <td>0.01285</td>\n      <td>0.01285</td>\n      <td>0.01285</td>\n      <td>0.01285</td>\n      <td>1</td>\n      <td>360000</td>\n    </tr>\n    <tr>\n      <th>507</th>\n      <td>2025-05-23</td>\n      <td>IR</td>\n      <td>UF.5Y.SB_20300528</td>\n      <td>UF.5Y.SB_20300528</td>\n      <td>0.01665</td>\n      <td>0.01665</td>\n      <td>0.01665</td>\n      <td>0.01665</td>\n      <td>1</td>\n      <td>150000</td>\n    </tr>\n  </tbody>\n</table>\n<p>508 rows × 10 columns</p>\n</div>"
     },
     "execution_count": 9,
     "metadata": {},
     "output_type": "execute_result"
    }
   ],
   "source": [
    "import joblib\n",
    "\n",
    "df = None\n",
    "df = joblib.load('/Users/cleiton/PycharmProjects/ndfutil/DATA/tulletprebon_2025-05-24.pkl')\n",
    "\n",
    "df\n"
   ],
   "metadata": {
    "collapsed": false,
    "ExecuteTime": {
     "end_time": "2025-06-11T15:44:16.343109Z",
     "start_time": "2025-06-11T15:44:16.325594Z"
    }
   }
  },
  {
   "cell_type": "code",
   "execution_count": 10,
   "outputs": [
    {
     "ename": "KeyError",
     "evalue": "\"['Asset Class' 'Open' 'Low' 'High' 'Close' 'Block' 'Currency'] not found in axis\"",
     "output_type": "error",
     "traceback": [
      "\u001B[0;31m---------------------------------------------------------------------------\u001B[0m",
      "\u001B[0;31mKeyError\u001B[0m                                  Traceback (most recent call last)",
      "\u001B[0;32m/var/folders/87/q76gjq851699dx14n72h254h0000gn/T/ipykernel_81963/2437855620.py\u001B[0m in \u001B[0;36m?\u001B[0;34m()\u001B[0m\n\u001B[0;32m----> 7\u001B[0;31m \u001B[0;31m# df.drop('Unnamed: 0', axis=1, inplace=True)\u001B[0m\u001B[0;34m\u001B[0m\u001B[0;34m\u001B[0m\u001B[0m\n\u001B[0m\u001B[1;32m      8\u001B[0m \u001B[0mdf\u001B[0m\u001B[0;34m.\u001B[0m\u001B[0mdrop\u001B[0m\u001B[0;34m(\u001B[0m\u001B[0;34m[\u001B[0m\u001B[0;36m0\u001B[0m\u001B[0;34m]\u001B[0m\u001B[0;34m,\u001B[0m \u001B[0maxis\u001B[0m\u001B[0;34m=\u001B[0m\u001B[0;36m0\u001B[0m\u001B[0;34m,\u001B[0m \u001B[0minplace\u001B[0m\u001B[0;34m=\u001B[0m\u001B[0;32mTrue\u001B[0m\u001B[0;34m)\u001B[0m\u001B[0;34m\u001B[0m\u001B[0;34m\u001B[0m\u001B[0m\n\u001B[1;32m      9\u001B[0m \u001B[0mdf\u001B[0m\u001B[0;34m.\u001B[0m\u001B[0mreset_index\u001B[0m\u001B[0;34m(\u001B[0m\u001B[0mdrop\u001B[0m\u001B[0;34m=\u001B[0m\u001B[0;32mTrue\u001B[0m\u001B[0;34m,\u001B[0m \u001B[0minplace\u001B[0m\u001B[0;34m=\u001B[0m\u001B[0;32mTrue\u001B[0m\u001B[0;34m)\u001B[0m\u001B[0;34m\u001B[0m\u001B[0;34m\u001B[0m\u001B[0m\n\u001B[1;32m     10\u001B[0m \u001B[0mdf\u001B[0m\u001B[0;34m.\u001B[0m\u001B[0mcolumns\u001B[0m \u001B[0;34m=\u001B[0m \u001B[0mdf\u001B[0m\u001B[0;34m.\u001B[0m\u001B[0miloc\u001B[0m\u001B[0;34m[\u001B[0m\u001B[0;36m0\u001B[0m\u001B[0;34m]\u001B[0m\u001B[0;34m\u001B[0m\u001B[0;34m\u001B[0m\u001B[0m\n",
      "\u001B[0;32m~/PycharmProjects/ndfutil/venv/lib/python3.9/site-packages/pandas/util/_decorators.py\u001B[0m in \u001B[0;36m?\u001B[0;34m(*args, **kwargs)\u001B[0m\n\u001B[1;32m    327\u001B[0m                     \u001B[0mmsg\u001B[0m\u001B[0;34m.\u001B[0m\u001B[0mformat\u001B[0m\u001B[0;34m(\u001B[0m\u001B[0marguments\u001B[0m\u001B[0;34m=\u001B[0m\u001B[0m_format_argument_list\u001B[0m\u001B[0;34m(\u001B[0m\u001B[0mallow_args\u001B[0m\u001B[0;34m)\u001B[0m\u001B[0;34m)\u001B[0m\u001B[0;34m,\u001B[0m\u001B[0;34m\u001B[0m\u001B[0;34m\u001B[0m\u001B[0m\n\u001B[1;32m    328\u001B[0m                     \u001B[0mFutureWarning\u001B[0m\u001B[0;34m,\u001B[0m\u001B[0;34m\u001B[0m\u001B[0;34m\u001B[0m\u001B[0m\n\u001B[1;32m    329\u001B[0m                     \u001B[0mstacklevel\u001B[0m\u001B[0;34m=\u001B[0m\u001B[0mfind_stack_level\u001B[0m\u001B[0;34m(\u001B[0m\u001B[0;34m)\u001B[0m\u001B[0;34m,\u001B[0m\u001B[0;34m\u001B[0m\u001B[0;34m\u001B[0m\u001B[0m\n\u001B[1;32m    330\u001B[0m                 )\n\u001B[0;32m--> 331\u001B[0;31m             \u001B[0;32mreturn\u001B[0m \u001B[0mfunc\u001B[0m\u001B[0;34m(\u001B[0m\u001B[0;34m*\u001B[0m\u001B[0margs\u001B[0m\u001B[0;34m,\u001B[0m \u001B[0;34m**\u001B[0m\u001B[0mkwargs\u001B[0m\u001B[0;34m)\u001B[0m\u001B[0;34m\u001B[0m\u001B[0;34m\u001B[0m\u001B[0m\n\u001B[0m",
      "\u001B[0;32m~/PycharmProjects/ndfutil/venv/lib/python3.9/site-packages/pandas/core/frame.py\u001B[0m in \u001B[0;36m?\u001B[0;34m(self, labels, axis, index, columns, level, inplace, errors)\u001B[0m\n\u001B[1;32m   5395\u001B[0m                 \u001B[0mweight\u001B[0m  \u001B[0;36m250.0\u001B[0m   \u001B[0;36m150.0\u001B[0m\u001B[0;34m\u001B[0m\u001B[0;34m\u001B[0m\u001B[0m\n\u001B[1;32m   5396\u001B[0m         \u001B[0mfalcon\u001B[0m  \u001B[0mspeed\u001B[0m   \u001B[0;36m320.0\u001B[0m   \u001B[0;36m250.0\u001B[0m\u001B[0;34m\u001B[0m\u001B[0;34m\u001B[0m\u001B[0m\n\u001B[1;32m   5397\u001B[0m                 \u001B[0mweight\u001B[0m  \u001B[0;36m1.0\u001B[0m     \u001B[0;36m0.8\u001B[0m\u001B[0;34m\u001B[0m\u001B[0;34m\u001B[0m\u001B[0m\n\u001B[1;32m   5398\u001B[0m         \"\"\"\n\u001B[0;32m-> 5399\u001B[0;31m         return super().drop(\n\u001B[0m\u001B[1;32m   5400\u001B[0m             \u001B[0mlabels\u001B[0m\u001B[0;34m=\u001B[0m\u001B[0mlabels\u001B[0m\u001B[0;34m,\u001B[0m\u001B[0;34m\u001B[0m\u001B[0;34m\u001B[0m\u001B[0m\n\u001B[1;32m   5401\u001B[0m             \u001B[0maxis\u001B[0m\u001B[0;34m=\u001B[0m\u001B[0maxis\u001B[0m\u001B[0;34m,\u001B[0m\u001B[0;34m\u001B[0m\u001B[0;34m\u001B[0m\u001B[0m\n\u001B[1;32m   5402\u001B[0m             \u001B[0mindex\u001B[0m\u001B[0;34m=\u001B[0m\u001B[0mindex\u001B[0m\u001B[0;34m,\u001B[0m\u001B[0;34m\u001B[0m\u001B[0;34m\u001B[0m\u001B[0m\n",
      "\u001B[0;32m~/PycharmProjects/ndfutil/venv/lib/python3.9/site-packages/pandas/util/_decorators.py\u001B[0m in \u001B[0;36m?\u001B[0;34m(*args, **kwargs)\u001B[0m\n\u001B[1;32m    327\u001B[0m                     \u001B[0mmsg\u001B[0m\u001B[0;34m.\u001B[0m\u001B[0mformat\u001B[0m\u001B[0;34m(\u001B[0m\u001B[0marguments\u001B[0m\u001B[0;34m=\u001B[0m\u001B[0m_format_argument_list\u001B[0m\u001B[0;34m(\u001B[0m\u001B[0mallow_args\u001B[0m\u001B[0;34m)\u001B[0m\u001B[0;34m)\u001B[0m\u001B[0;34m,\u001B[0m\u001B[0;34m\u001B[0m\u001B[0;34m\u001B[0m\u001B[0m\n\u001B[1;32m    328\u001B[0m                     \u001B[0mFutureWarning\u001B[0m\u001B[0;34m,\u001B[0m\u001B[0;34m\u001B[0m\u001B[0;34m\u001B[0m\u001B[0m\n\u001B[1;32m    329\u001B[0m                     \u001B[0mstacklevel\u001B[0m\u001B[0;34m=\u001B[0m\u001B[0mfind_stack_level\u001B[0m\u001B[0;34m(\u001B[0m\u001B[0;34m)\u001B[0m\u001B[0;34m,\u001B[0m\u001B[0;34m\u001B[0m\u001B[0;34m\u001B[0m\u001B[0m\n\u001B[1;32m    330\u001B[0m                 )\n\u001B[0;32m--> 331\u001B[0;31m             \u001B[0;32mreturn\u001B[0m \u001B[0mfunc\u001B[0m\u001B[0;34m(\u001B[0m\u001B[0;34m*\u001B[0m\u001B[0margs\u001B[0m\u001B[0;34m,\u001B[0m \u001B[0;34m**\u001B[0m\u001B[0mkwargs\u001B[0m\u001B[0;34m)\u001B[0m\u001B[0;34m\u001B[0m\u001B[0;34m\u001B[0m\u001B[0m\n\u001B[0m",
      "\u001B[0;32m~/PycharmProjects/ndfutil/venv/lib/python3.9/site-packages/pandas/core/generic.py\u001B[0m in \u001B[0;36m?\u001B[0;34m(self, labels, axis, index, columns, level, inplace, errors)\u001B[0m\n\u001B[1;32m   4501\u001B[0m         \u001B[0mobj\u001B[0m \u001B[0;34m=\u001B[0m \u001B[0mself\u001B[0m\u001B[0;34m\u001B[0m\u001B[0;34m\u001B[0m\u001B[0m\n\u001B[1;32m   4502\u001B[0m \u001B[0;34m\u001B[0m\u001B[0m\n\u001B[1;32m   4503\u001B[0m         \u001B[0;32mfor\u001B[0m \u001B[0maxis\u001B[0m\u001B[0;34m,\u001B[0m \u001B[0mlabels\u001B[0m \u001B[0;32min\u001B[0m \u001B[0maxes\u001B[0m\u001B[0;34m.\u001B[0m\u001B[0mitems\u001B[0m\u001B[0;34m(\u001B[0m\u001B[0;34m)\u001B[0m\u001B[0;34m:\u001B[0m\u001B[0;34m\u001B[0m\u001B[0;34m\u001B[0m\u001B[0m\n\u001B[1;32m   4504\u001B[0m             \u001B[0;32mif\u001B[0m \u001B[0mlabels\u001B[0m \u001B[0;32mis\u001B[0m \u001B[0;32mnot\u001B[0m \u001B[0;32mNone\u001B[0m\u001B[0;34m:\u001B[0m\u001B[0;34m\u001B[0m\u001B[0;34m\u001B[0m\u001B[0m\n\u001B[0;32m-> 4505\u001B[0;31m                 \u001B[0mobj\u001B[0m \u001B[0;34m=\u001B[0m \u001B[0mobj\u001B[0m\u001B[0;34m.\u001B[0m\u001B[0m_drop_axis\u001B[0m\u001B[0;34m(\u001B[0m\u001B[0mlabels\u001B[0m\u001B[0;34m,\u001B[0m \u001B[0maxis\u001B[0m\u001B[0;34m,\u001B[0m \u001B[0mlevel\u001B[0m\u001B[0;34m=\u001B[0m\u001B[0mlevel\u001B[0m\u001B[0;34m,\u001B[0m \u001B[0merrors\u001B[0m\u001B[0;34m=\u001B[0m\u001B[0merrors\u001B[0m\u001B[0;34m)\u001B[0m\u001B[0;34m\u001B[0m\u001B[0;34m\u001B[0m\u001B[0m\n\u001B[0m\u001B[1;32m   4506\u001B[0m \u001B[0;34m\u001B[0m\u001B[0m\n\u001B[1;32m   4507\u001B[0m         \u001B[0;32mif\u001B[0m \u001B[0minplace\u001B[0m\u001B[0;34m:\u001B[0m\u001B[0;34m\u001B[0m\u001B[0;34m\u001B[0m\u001B[0m\n\u001B[1;32m   4508\u001B[0m             \u001B[0mself\u001B[0m\u001B[0;34m.\u001B[0m\u001B[0m_update_inplace\u001B[0m\u001B[0;34m(\u001B[0m\u001B[0mobj\u001B[0m\u001B[0;34m)\u001B[0m\u001B[0;34m\u001B[0m\u001B[0;34m\u001B[0m\u001B[0m\n",
      "\u001B[0;32m~/PycharmProjects/ndfutil/venv/lib/python3.9/site-packages/pandas/core/generic.py\u001B[0m in \u001B[0;36m?\u001B[0;34m(self, labels, axis, level, errors, only_slice)\u001B[0m\n\u001B[1;32m   4571\u001B[0m                 \u001B[0mmask\u001B[0m \u001B[0;34m=\u001B[0m \u001B[0;34m~\u001B[0m\u001B[0maxis\u001B[0m\u001B[0;34m.\u001B[0m\u001B[0misin\u001B[0m\u001B[0;34m(\u001B[0m\u001B[0mlabels\u001B[0m\u001B[0;34m)\u001B[0m\u001B[0;34m\u001B[0m\u001B[0;34m\u001B[0m\u001B[0m\n\u001B[1;32m   4572\u001B[0m                 \u001B[0;31m# Check if label doesn't exist along axis\u001B[0m\u001B[0;34m\u001B[0m\u001B[0;34m\u001B[0m\u001B[0m\n\u001B[1;32m   4573\u001B[0m                 \u001B[0mlabels_missing\u001B[0m \u001B[0;34m=\u001B[0m \u001B[0;34m(\u001B[0m\u001B[0maxis\u001B[0m\u001B[0;34m.\u001B[0m\u001B[0mget_indexer_for\u001B[0m\u001B[0;34m(\u001B[0m\u001B[0mlabels\u001B[0m\u001B[0;34m)\u001B[0m \u001B[0;34m==\u001B[0m \u001B[0;34m-\u001B[0m\u001B[0;36m1\u001B[0m\u001B[0;34m)\u001B[0m\u001B[0;34m.\u001B[0m\u001B[0many\u001B[0m\u001B[0;34m(\u001B[0m\u001B[0;34m)\u001B[0m\u001B[0;34m\u001B[0m\u001B[0;34m\u001B[0m\u001B[0m\n\u001B[1;32m   4574\u001B[0m                 \u001B[0;32mif\u001B[0m \u001B[0merrors\u001B[0m \u001B[0;34m==\u001B[0m \u001B[0;34m\"raise\"\u001B[0m \u001B[0;32mand\u001B[0m \u001B[0mlabels_missing\u001B[0m\u001B[0;34m:\u001B[0m\u001B[0;34m\u001B[0m\u001B[0;34m\u001B[0m\u001B[0m\n\u001B[0;32m-> 4575\u001B[0;31m                     \u001B[0;32mraise\u001B[0m \u001B[0mKeyError\u001B[0m\u001B[0;34m(\u001B[0m\u001B[0;34mf\"{labels} not found in axis\"\u001B[0m\u001B[0;34m)\u001B[0m\u001B[0;34m\u001B[0m\u001B[0;34m\u001B[0m\u001B[0m\n\u001B[0m\u001B[1;32m   4576\u001B[0m \u001B[0;34m\u001B[0m\u001B[0m\n\u001B[1;32m   4577\u001B[0m             \u001B[0;32mif\u001B[0m \u001B[0mis_extension_array_dtype\u001B[0m\u001B[0;34m(\u001B[0m\u001B[0mmask\u001B[0m\u001B[0;34m.\u001B[0m\u001B[0mdtype\u001B[0m\u001B[0;34m)\u001B[0m\u001B[0;34m:\u001B[0m\u001B[0;34m\u001B[0m\u001B[0;34m\u001B[0m\u001B[0m\n\u001B[1;32m   4578\u001B[0m                 \u001B[0;31m# GH#45860\u001B[0m\u001B[0;34m\u001B[0m\u001B[0;34m\u001B[0m\u001B[0m\n",
      "\u001B[0;31mKeyError\u001B[0m: \"['Asset Class' 'Open' 'Low' 'High' 'Close' 'Block' 'Currency'] not found in axis\""
     ]
    }
   ],
   "source": [
    "# df.drop('Unnamed: 0', axis=1, inplace=True)\n",
    "df.drop([0], axis=0, inplace=True)\n",
    "df.reset_index(drop=True, inplace=True)\n",
    "df.columns = df.iloc[0]\n",
    "df.reset_index(drop=True, inplace=True)\n",
    "df = df.rename(columns={'Contract Description': 'Description'})\n",
    "df.drop(['Asset Class', 'Open', 'Low', 'High', 'Close', 'Block', 'Currency'], axis=1, inplace=True)\n",
    "df = df[df['Volume'].notna()]\n",
    "df"
   ],
   "metadata": {
    "collapsed": false,
    "ExecuteTime": {
     "end_time": "2025-06-11T15:44:16.461980Z",
     "start_time": "2025-06-11T15:44:16.345706Z"
    }
   }
  },
  {
   "cell_type": "code",
   "execution_count": null,
   "outputs": [],
   "source": [
    "df"
   ],
   "metadata": {
    "collapsed": false,
    "ExecuteTime": {
     "start_time": "2025-06-11T15:44:16.406895Z"
    }
   }
  },
  {
   "cell_type": "code",
   "execution_count": null,
   "outputs": [],
   "source": [
    "#\n",
    "# DADOS ANTIGOS \n",
    "#\n",
    "\n",
    "import joblib\n",
    "\n",
    "df_antigo = joblib.load('/Users/cleiton/PycharmProjects/ndfutil/DATA/BGC_2023-04-28.pkl')\n",
    "\n",
    "df_antigo"
   ],
   "metadata": {
    "collapsed": false,
    "ExecuteTime": {
     "start_time": "2025-06-11T15:44:16.409923Z"
    }
   }
  },
  {
   "cell_type": "code",
   "execution_count": null,
   "outputs": [],
   "source": [
    "df_antigo.drop('Unnamed: 0', axis=1, inplace=True)\n",
    "df_antigo"
   ],
   "metadata": {
    "collapsed": false,
    "ExecuteTime": {
     "start_time": "2025-06-11T15:44:16.411590Z"
    }
   }
  },
  {
   "cell_type": "code",
   "execution_count": null,
   "outputs": [],
   "source": [
    "\n",
    "df_antigo.drop([0, 1, 2], axis=0, inplace=True)\n",
    "df_antigo.reset_index(drop=True, inplace=True)\n",
    "df_antigo.columns = df_antigo.iloc[0]\n",
    "df_antigo.reset_index(drop=True, inplace=True)\n",
    "df_antigo = df_antigo.rename(columns={'Contract Description': 'Description'})\n",
    "df_antigo.drop(['Asset Class', 'Open', 'Low', 'High', 'Close', 'Block', 'Currency'], axis=1, inplace=True)\n",
    "df_antigo = df_antigo[df_antigo['Volume'].notna()]\n",
    "df_antigo\n"
   ],
   "metadata": {
    "collapsed": false,
    "ExecuteTime": {
     "start_time": "2025-06-11T15:44:16.414219Z"
    }
   }
  },
  {
   "cell_type": "code",
   "execution_count": null,
   "outputs": [],
   "source": [
    "mining.bgc_calcs()"
   ],
   "metadata": {
    "collapsed": false,
    "ExecuteTime": {
     "start_time": "2025-06-11T15:44:16.416484Z"
    }
   }
  },
  {
   "cell_type": "code",
   "execution_count": null,
   "outputs": [],
   "source": [
    "mining.tulletprebon_calcs()"
   ],
   "metadata": {
    "collapsed": false,
    "ExecuteTime": {
     "start_time": "2025-06-11T15:44:16.418521Z"
    }
   }
  },
  {
   "cell_type": "code",
   "execution_count": null,
   "metadata": {
    "ExecuteTime": {
     "start_time": "2025-06-11T15:44:16.420862Z"
    }
   },
   "outputs": [],
   "source": [
    "mining.tradition_calcs()"
   ]
  },
  {
   "cell_type": "code",
   "execution_count": null,
   "outputs": [],
   "source": [
    "import joblib\n",
    "\n",
    "df = None\n",
    "df = joblib.load('/Users/cleiton/PycharmProjects/ndfutil/DATA/gfi_2025-03-08.pkl')\n",
    "\n",
    "df\n"
   ],
   "metadata": {
    "collapsed": false,
    "ExecuteTime": {
     "start_time": "2025-06-11T15:44:16.423891Z"
    }
   }
  },
  {
   "cell_type": "code",
   "execution_count": null,
   "outputs": [],
   "source": [
    "df.drop([0], axis=0, inplace=True)\n",
    "df.reset_index(drop=True, inplace=True)\n",
    "df.columns = df.iloc[0]\n",
    "df.reset_index(drop=True, inplace=True)\n",
    "df = df.rename(columns={'InstrumentDescription': 'Description'})\n",
    "df.drop(['Asset Class', 'Open', 'Low', 'High', 'Close', 'Block', 'Currency'], axis=1, inplace=True)\n",
    "df = df[df['Volume'].notna()]\n",
    "df"
   ],
   "metadata": {
    "collapsed": false,
    "ExecuteTime": {
     "start_time": "2025-06-11T15:44:16.425971Z"
    }
   }
  },
  {
   "cell_type": "code",
   "execution_count": null,
   "metadata": {
    "ExecuteTime": {
     "start_time": "2025-06-11T15:44:16.427677Z"
    }
   },
   "outputs": [],
   "source": [
    "mining.gfi_calcs()"
   ]
  },
  {
   "cell_type": "code",
   "execution_count": null,
   "metadata": {
    "ExecuteTime": {
     "start_time": "2025-06-11T15:44:16.429575Z"
    }
   },
   "outputs": [],
   "source": [
    "tulletprebon['source'] = 'TulletPrebon'\n",
    "tradition['source'] = 'Tradition'\n",
    "bgc['source'] = 'bgc'\n",
    "gfi['source'] = 'gfi'"
   ]
  },
  {
   "cell_type": "code",
   "execution_count": null,
   "metadata": {
    "ExecuteTime": {
     "start_time": "2025-06-11T15:44:16.430825Z"
    }
   },
   "outputs": [],
   "source": [
    "bgc"
   ]
  },
  {
   "cell_type": "code",
   "execution_count": null,
   "metadata": {
    "ExecuteTime": {
     "start_time": "2025-06-11T15:44:16.432098Z"
    }
   },
   "outputs": [],
   "source": [
    "df_result = pd.concat([tulletprebon, tradition, bgc, gfi])\n",
    "df_result"
   ]
  },
  {
   "cell_type": "code",
   "execution_count": null,
   "metadata": {
    "ExecuteTime": {
     "start_time": "2025-06-11T15:44:16.433308Z"
    }
   },
   "outputs": [],
   "source": [
    "df_totals = df_result.query('Class == \"TOTAL\"')\n",
    "df_totals"
   ]
  },
  {
   "cell_type": "code",
   "execution_count": null,
   "metadata": {
    "ExecuteTime": {
     "start_time": "2025-06-11T15:44:16.434555Z"
    }
   },
   "outputs": [],
   "source": [
    "df_totals.groupby(['Class']).sum()"
   ]
  },
  {
   "cell_type": "code",
   "execution_count": null,
   "metadata": {
    "ExecuteTime": {
     "start_time": "2025-06-11T15:44:16.435715Z"
    }
   },
   "outputs": [],
   "source": [
    "from numerize import numerize\n",
    "\n",
    "market_total = df_totals.sum()['Volume']\n",
    "market_total = numerize.numerize(float(market_total))\n",
    "market_total"
   ]
  },
  {
   "cell_type": "code",
   "execution_count": null,
   "metadata": {
    "ExecuteTime": {
     "start_time": "2025-06-11T15:44:16.436979Z"
    }
   },
   "outputs": [],
   "source": []
  },
  {
   "cell_type": "code",
   "execution_count": null,
   "metadata": {
    "ExecuteTime": {
     "start_time": "2025-06-11T15:44:16.438251Z"
    }
   },
   "outputs": [],
   "source": []
  }
 ],
 "metadata": {
  "kernelspec": {
   "display_name": "Python 3 (ipykernel)",
   "language": "python",
   "name": "python3"
  },
  "language_info": {
   "codemirror_mode": {
    "name": "ipython",
    "version": 3
   },
   "file_extension": ".py",
   "mimetype": "text/x-python",
   "name": "python",
   "nbconvert_exporter": "python",
   "pygments_lexer": "ipython3",
   "version": "3.9.16"
  }
 },
 "nbformat": 4,
 "nbformat_minor": 1
}
