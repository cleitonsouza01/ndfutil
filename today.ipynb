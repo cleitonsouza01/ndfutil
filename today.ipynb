{
 "cells": [
  {
   "cell_type": "code",
   "execution_count": 1,
   "metadata": {
    "ExecuteTime": {
     "end_time": "2025-06-11T15:30:11.237934Z",
     "start_time": "2025-06-11T15:30:04.057264Z"
    }
   },
   "outputs": [
    {
     "data": {
      "text/plain": [
       "2"
      ]
     },
     "execution_count": 1,
     "metadata": {},
     "output_type": "execute_result"
    }
   ],
   "source": [
    "from loguru import logger\n",
    "import ndf.download\n",
    "from ndf.datamining import datamining\n",
    "import warnings\n",
    "import sys\n",
    "import pandas as pd\n",
    "\n",
    "warnings.simplefilter(action='ignore', category=FutureWarning)\n",
    "\n",
    "log_level = 'TRACE'\n",
    "logger.add(sys.stderr, format=\"{time} {level} {message}\", filter=\"my_module\", level=log_level)\n",
    "logger.add(sys.stdout, colorize=True, format=\"<green>{time}</green> <level>{message}</level>\")\n",
    "# logger.add(\"ndfdownload.log\", rotation=\"30 MB\", level=log_level)"
   ]
  },
  {
   "cell_type": "code",
   "execution_count": 2,
   "metadata": {
    "ExecuteTime": {
     "end_time": "2025-06-11T15:30:11.248982Z",
     "start_time": "2025-06-11T15:30:11.239062Z"
    },
    "collapsed": false
   },
   "outputs": [],
   "source": [
    "import requests\n",
    "import time\n",
    "\n",
    "MAX_RETRIES = 4\n",
    "TIME_TO_WAIT = 10\n",
    "\n",
    "def download_manager(url):\n",
    "    r = None\n",
    "    # logger.info(f'Download settings: MAX_RETRIES:{MAX_RETRIES} | TIME_TO_WAIT:{TIME_TO_WAIT}')\n",
    "    for _ in range(MAX_RETRIES):\n",
    "        try:\n",
    "            r = requests.get(url, verify=False)\n",
    "        except requests.exceptions.RequestException as e:\n",
    "            print(f'Download fail, {e}')\n",
    "        if r:\n",
    "            print(f'Download Ok')\n",
    "            break\n",
    "        else:\n",
    "            wait = TIME_TO_WAIT * (_ + 1) if _ < 3 else TIME_TO_WAIT * (_ * 3)\n",
    "            print(f'Download fail, retry in {wait} seconds...')\n",
    "            time.sleep(wait)\n",
    "    return r"
   ]
  },
  {
   "cell_type": "code",
   "execution_count": 3,
   "metadata": {
    "ExecuteTime": {
     "end_time": "2025-06-11T15:30:11.249351Z",
     "start_time": "2025-06-11T15:30:11.242671Z"
    },
    "collapsed": false
   },
   "outputs": [],
   "source": [
    "# download_manager('https://www.tullettprebon.com/swap-execution-facility/daily-activity-summary.aspxa')"
   ]
  },
  {
   "cell_type": "code",
   "execution_count": 4,
   "metadata": {
    "ExecuteTime": {
     "end_time": "2025-06-11T15:30:11.254556Z",
     "start_time": "2025-06-11T15:30:11.247852Z"
    }
   },
   "outputs": [
    {
     "data": {
      "text/plain": [
       "datetime.date(2025, 6, 11)"
      ]
     },
     "execution_count": 4,
     "metadata": {},
     "output_type": "execute_result"
    }
   ],
   "source": [
    "from datetime import datetime\n",
    "\n",
    "a = datetime.now()\n",
    "a.date()"
   ]
  },
  {
   "cell_type": "code",
   "execution_count": 5,
   "metadata": {
    "ExecuteTime": {
     "end_time": "2025-06-11T15:30:11.257268Z",
     "start_time": "2025-06-11T15:30:11.252072Z"
    }
   },
   "outputs": [],
   "source": [
    "# Logger settings\n",
    "\n",
    "LOGGER_ENABLED = True\n",
    "\n",
    "if not LOGGER_ENABLED:\n",
    "    logger.remove()"
   ]
  },
  {
   "cell_type": "code",
   "execution_count": 6,
   "metadata": {
    "ExecuteTime": {
     "end_time": "2025-06-11T15:37:15.613205Z",
     "start_time": "2025-06-11T15:30:11.257592Z"
    }
   },
   "outputs": [
    {
     "name": "stderr",
     "output_type": "stream",
     "text": [
      "2025-06-11 19:29:25.385 | INFO     | ndf.download:_download:143 - BGC - Download start >>>\n"
     ]
    },
    {
     "name": "stdout",
     "output_type": "stream",
     "text": [
      "\u001b[32m2025-06-11T19:29:25.385657-0400\u001b[0m \u001b[1mBGC - Download start >>>\u001b[0m\n"
     ]
    },
    {
     "name": "stderr",
     "output_type": "stream",
     "text": [
      "2025-06-11 19:29:25.387 | DEBUG    | ndf.download:_download:146 - Try download bgc from https://www.bgcsef.com/TradingActivityReports/Daily/DailyAct_20250610.xlsx\n"
     ]
    },
    {
     "name": "stdout",
     "output_type": "stream",
     "text": [
      "\u001b[32m2025-06-11T19:29:25.387267-0400\u001b[0m \u001b[34m\u001b[1mTry download bgc from https://www.bgcsef.com/TradingActivityReports/Daily/DailyAct_20250610.xlsx\u001b[0m\n"
     ]
    },
    {
     "name": "stderr",
     "output_type": "stream",
     "text": [
      "2025-06-11 19:29:25.388 | INFO     | ndf.download:_download:190 - Downloading to /Users/cleiton/PycharmProjects/ndfutil/DATA/bgc_2025-06-11.xlsx from https://www.bgcsef.com/TradingActivityReports/Daily/DailyAct_20250610.xlsx\n"
     ]
    },
    {
     "name": "stdout",
     "output_type": "stream",
     "text": [
      "\u001b[32m2025-06-11T19:29:25.388833-0400\u001b[0m \u001b[1mDownloading to /Users/cleiton/PycharmProjects/ndfutil/DATA/bgc_2025-06-11.xlsx from https://www.bgcsef.com/TradingActivityReports/Daily/DailyAct_20250610.xlsx\u001b[0m\n"
     ]
    },
    {
     "name": "stderr",
     "output_type": "stream",
     "text": [
      "2025-06-11 19:29:25.389 | INFO     | ndf.download:download_manager:116 - Download settings: MAX_RETRIES:6 | TIME_TO_WAIT:10\n"
     ]
    },
    {
     "name": "stdout",
     "output_type": "stream",
     "text": [
      "\u001b[32m2025-06-11T19:29:25.389893-0400\u001b[0m \u001b[1mDownload settings: MAX_RETRIES:6 | TIME_TO_WAIT:10\u001b[0m\n"
     ]
    },
    {
     "name": "stderr",
     "output_type": "stream",
     "text": [
      "2025-06-11 19:29:25.390 | INFO     | ndf.download:download_manager:118 - Download attempt 1 trying https://www.bgcsef.com/TradingActivityReports/Daily/DailyAct_20250610.xlsx\n"
     ]
    },
    {
     "name": "stdout",
     "output_type": "stream",
     "text": [
      "\u001b[32m2025-06-11T19:29:25.390745-0400\u001b[0m \u001b[1mDownload attempt 1 trying https://www.bgcsef.com/TradingActivityReports/Daily/DailyAct_20250610.xlsx\u001b[0m\n"
     ]
    },
    {
     "name": "stderr",
     "output_type": "stream",
     "text": [
      "2025-06-11 19:29:25.536 | INFO     | ndf.download:download_manager:121 - HTTP status: 200\n"
     ]
    },
    {
     "name": "stdout",
     "output_type": "stream",
     "text": [
      "\u001b[32m2025-06-11T19:29:25.536570-0400\u001b[0m \u001b[1mHTTP status: 200\u001b[0m\n"
     ]
    },
    {
     "name": "stderr",
     "output_type": "stream",
     "text": [
      "2025-06-11 19:29:25.537 | INFO     | ndf.download:download_manager:123 - Final URL after redirects: https://www.bgcsef.com/TradingActivityReports/Daily/DailyAct_20250610.xlsx\n"
     ]
    },
    {
     "name": "stdout",
     "output_type": "stream",
     "text": [
      "\u001b[32m2025-06-11T19:29:25.537467-0400\u001b[0m \u001b[1mFinal URL after redirects: https://www.bgcsef.com/TradingActivityReports/Daily/DailyAct_20250610.xlsx\u001b[0m\n"
     ]
    },
    {
     "name": "stderr",
     "output_type": "stream",
     "text": [
      "2025-06-11 19:29:25.538 | INFO     | ndf.download:download_manager:125 - Download Ok\n"
     ]
    },
    {
     "name": "stdout",
     "output_type": "stream",
     "text": [
      "\u001b[32m2025-06-11T19:29:25.538214-0400\u001b[0m \u001b[1mDownload Ok\u001b[0m\n"
     ]
    },
    {
     "name": "stderr",
     "output_type": "stream",
     "text": [
      "2025-06-11 19:29:25.539 | INFO     | ndf.download:_download:193 - BGC - Download OK\n"
     ]
    },
    {
     "name": "stdout",
     "output_type": "stream",
     "text": [
      "\u001b[32m2025-06-11T19:29:25.539147-0400\u001b[0m \u001b[1mBGC - Download OK\u001b[0m\n"
     ]
    },
    {
     "name": "stderr",
     "output_type": "stream",
     "text": [
      "2025-06-11 19:29:25.540 | INFO     | ndf.download:_download:195 - download size: 50340 \n"
     ]
    },
    {
     "name": "stdout",
     "output_type": "stream",
     "text": [
      "\u001b[32m2025-06-11T19:29:25.540300-0400\u001b[0m \u001b[1mdownload size: 50340 \u001b[0m\n"
     ]
    },
    {
     "name": "stderr",
     "output_type": "stream",
     "text": [
      "2025-06-11 19:29:25.541 | DEBUG    | ndf.download:_download:209 - Convert XLSX to pandas dataframe\n"
     ]
    },
    {
     "name": "stdout",
     "output_type": "stream",
     "text": [
      "\u001b[32m2025-06-11T19:29:25.541645-0400\u001b[0m \u001b[34m\u001b[1mConvert XLSX to pandas dataframe\u001b[0m\n"
     ]
    },
    {
     "name": "stderr",
     "output_type": "stream",
     "text": [
      "/Users/cleiton/PycharmProjects/ndfutil/venv/lib/python3.9/site-packages/openpyxl/styles/stylesheet.py:237: UserWarning: Workbook contains no default style, apply openpyxl's default\n",
      "  warn(\"Workbook contains no default style, apply openpyxl's default\")\n",
      "2025-06-11 19:29:26.004 | DEBUG    | ndf.download:_download:211 - Creating cache...\n"
     ]
    },
    {
     "name": "stdout",
     "output_type": "stream",
     "text": [
      "\u001b[32m2025-06-11T19:29:26.004682-0400\u001b[0m \u001b[34m\u001b[1mCreating cache...\u001b[0m\n"
     ]
    },
    {
     "name": "stderr",
     "output_type": "stream",
     "text": [
      "2025-06-11 19:29:26.007 | INFO     | ndf.download:_download:213 - bgc data success cached at /Users/cleiton/PycharmProjects/ndfutil/DATA/bgc_2025-06-11.pkl\n"
     ]
    },
    {
     "name": "stdout",
     "output_type": "stream",
     "text": [
      "\u001b[32m2025-06-11T19:29:26.007029-0400\u001b[0m \u001b[1mbgc data success cached at /Users/cleiton/PycharmProjects/ndfutil/DATA/bgc_2025-06-11.pkl\u001b[0m\n"
     ]
    },
    {
     "name": "stderr",
     "output_type": "stream",
     "text": [
      "2025-06-11 19:29:26.007 | INFO     | ndf.download:_download:143 - TRADITION - Download start >>>\n"
     ]
    },
    {
     "name": "stdout",
     "output_type": "stream",
     "text": [
      "\u001b[32m2025-06-11T19:29:26.007777-0400\u001b[0m \u001b[1mTRADITION - Download start >>>\u001b[0m\n"
     ]
    },
    {
     "name": "stderr",
     "output_type": "stream",
     "text": [
      "2025-06-11 19:29:26.008 | DEBUG    | ndf.download:_download:146 - Try download tradition from https://www.traditionsef.com/dailyactivity/SEF16_MKTDATA_TFSU_20250610.csv\n"
     ]
    },
    {
     "name": "stdout",
     "output_type": "stream",
     "text": [
      "\u001b[32m2025-06-11T19:29:26.008653-0400\u001b[0m \u001b[34m\u001b[1mTry download tradition from https://www.traditionsef.com/dailyactivity/SEF16_MKTDATA_TFSU_20250610.csv\u001b[0m\n"
     ]
    },
    {
     "name": "stderr",
     "output_type": "stream",
     "text": [
      "2025-06-11 19:29:26.011 | INFO     | ndf.download:_download:167 - Loaded tradition DATA from cache /Users/cleiton/PycharmProjects/ndfutil/DATA/tradition_2025-06-11.pkl\n"
     ]
    },
    {
     "name": "stdout",
     "output_type": "stream",
     "text": [
      "\u001b[32m2025-06-11T19:29:26.011788-0400\u001b[0m \u001b[1mLoaded tradition DATA from cache /Users/cleiton/PycharmProjects/ndfutil/DATA/tradition_2025-06-11.pkl\u001b[0m\n"
     ]
    },
    {
     "name": "stderr",
     "output_type": "stream",
     "text": [
      "2025-06-11 19:29:26.012 | INFO     | ndf.download:_download:143 - TULLETPREBON - Download start >>>\n"
     ]
    },
    {
     "name": "stdout",
     "output_type": "stream",
     "text": [
      "\u001b[32m2025-06-11T19:29:26.012601-0400\u001b[0m \u001b[1mTULLETPREBON - Download start >>>\u001b[0m\n"
     ]
    },
    {
     "name": "stderr",
     "output_type": "stream",
     "text": [
      "2025-06-11 19:29:26.013 | DEBUG    | ndf.download:_download:146 - Try download tulletprebon from https://www.tullettprebon.com/swap-execution-facility/daily-activity-summary.aspx\n"
     ]
    },
    {
     "name": "stdout",
     "output_type": "stream",
     "text": [
      "\u001b[32m2025-06-11T19:29:26.013558-0400\u001b[0m \u001b[34m\u001b[1mTry download tulletprebon from https://www.tullettprebon.com/swap-execution-facility/daily-activity-summary.aspx\u001b[0m\n"
     ]
    },
    {
     "name": "stderr",
     "output_type": "stream",
     "text": [
      "2025-06-11 19:29:26.016 | INFO     | ndf.download:_download:167 - Loaded tulletprebon DATA from cache /Users/cleiton/PycharmProjects/ndfutil/DATA/tulletprebon_2025-06-11.pkl\n"
     ]
    },
    {
     "name": "stdout",
     "output_type": "stream",
     "text": [
      "\u001b[32m2025-06-11T19:29:26.016357-0400\u001b[0m \u001b[1mLoaded tulletprebon DATA from cache /Users/cleiton/PycharmProjects/ndfutil/DATA/tulletprebon_2025-06-11.pkl\u001b[0m\n"
     ]
    },
    {
     "name": "stderr",
     "output_type": "stream",
     "text": [
      "2025-06-11 19:29:26.017 | INFO     | ndf.download:_download:143 - GFI - Download start >>>\n"
     ]
    },
    {
     "name": "stdout",
     "output_type": "stream",
     "text": [
      "\u001b[32m2025-06-11T19:29:26.017187-0400\u001b[0m \u001b[1mGFI - Download start >>>\u001b[0m\n"
     ]
    },
    {
     "name": "stderr",
     "output_type": "stream",
     "text": [
      "2025-06-11 19:29:26.017 | DEBUG    | ndf.download:_download:146 - Try download gfi from https://www.gfigroup.com/doc/sef/marketdata/2025-06-10_daily_trade_data.xlsx\n"
     ]
    },
    {
     "name": "stdout",
     "output_type": "stream",
     "text": [
      "\u001b[32m2025-06-11T19:29:26.017978-0400\u001b[0m \u001b[34m\u001b[1mTry download gfi from https://www.gfigroup.com/doc/sef/marketdata/2025-06-10_daily_trade_data.xlsx\u001b[0m\n"
     ]
    },
    {
     "name": "stderr",
     "output_type": "stream",
     "text": [
      "2025-06-11 19:29:26.020 | INFO     | ndf.download:_download:167 - Loaded gfi DATA from cache /Users/cleiton/PycharmProjects/ndfutil/DATA/gfi_2025-06-11.pkl\n"
     ]
    },
    {
     "name": "stdout",
     "output_type": "stream",
     "text": [
      "\u001b[32m2025-06-11T19:29:26.020342-0400\u001b[0m \u001b[1mLoaded gfi DATA from cache /Users/cleiton/PycharmProjects/ndfutil/DATA/gfi_2025-06-11.pkl\u001b[0m\n",
      "bgc ok\n",
      "tradition ok\n",
      "prebontullet ok\n",
      "gfi ok\n"
     ]
    }
   ],
   "source": [
    "import ndf.download\n",
    "\n",
    "d = ndf.download.download(bgc_url_base=\"https://www.bgcsef.com/TradingActivityReports/Daily/DailyAct_\",\n",
    "                          bgc_url_suffix=\".xlsx\",\n",
    "                          bgc_date_format=\"%Y%m%d\",\n",
    "                          tradition_url_base=\"https://www.traditionsef.com/dailyactivity/SEF16_MKTDATA_TFSU_\",\n",
    "                          tradition_url_suffix=\".csv\",\n",
    "                          tradition_date_format=\"%Y%m%d\",\n",
    "                          tullettprebon_url=\"https://www.tullettprebon.com/swap-execution-facility/daily-activity-summary.aspx\",\n",
    "                          gfi_url_base=\"https://www.gfigroup.com/doc/sef/marketdata/\",\n",
    "                          gfi_url_suffix=\"_daily_trade_data.xlsx\",\n",
    "                          gfi_date_format=\"%Y-%m-%d\")\n",
    "d.download_all()"
   ]
  },
  {
   "cell_type": "code",
   "execution_count": 7,
   "metadata": {
    "ExecuteTime": {
     "end_time": "2025-06-11T15:37:15.626458Z",
     "start_time": "2025-06-11T15:37:15.617148Z"
    }
   },
   "outputs": [],
   "source": [
    "mining = datamining()"
   ]
  },
  {
   "cell_type": "code",
   "execution_count": 8,
   "metadata": {
    "ExecuteTime": {
     "end_time": "2025-06-11T15:44:16.327470Z",
     "start_time": "2025-06-11T15:37:15.617535Z"
    },
    "collapsed": false
   },
   "outputs": [
    {
     "name": "stderr",
     "output_type": "stream",
     "text": [
      "2025-06-11 19:29:26.033 | INFO     | ndf.download:_download:143 - BGC - Download start >>>\n"
     ]
    },
    {
     "name": "stdout",
     "output_type": "stream",
     "text": [
      "\u001b[32m2025-06-11T19:29:26.033673-0400\u001b[0m \u001b[1mBGC - Download start >>>\u001b[0m\n"
     ]
    },
    {
     "name": "stderr",
     "output_type": "stream",
     "text": [
      "2025-06-11 19:29:26.034 | DEBUG    | ndf.download:_download:146 - Try download bgc from https://www.bgcsef.com/TradingActivityReports/Daily/DailyAct_20250610.xlsx\n"
     ]
    },
    {
     "name": "stdout",
     "output_type": "stream",
     "text": [
      "\u001b[32m2025-06-11T19:29:26.034800-0400\u001b[0m \u001b[34m\u001b[1mTry download bgc from https://www.bgcsef.com/TradingActivityReports/Daily/DailyAct_20250610.xlsx\u001b[0m\n"
     ]
    },
    {
     "name": "stderr",
     "output_type": "stream",
     "text": [
      "2025-06-11 19:29:26.037 | INFO     | ndf.download:_download:167 - Loaded bgc DATA from cache /Users/cleiton/PycharmProjects/ndfutil/DATA/bgc_2025-06-11.pkl\n"
     ]
    },
    {
     "name": "stdout",
     "output_type": "stream",
     "text": [
      "\u001b[32m2025-06-11T19:29:26.037532-0400\u001b[0m \u001b[1mLoaded bgc DATA from cache /Users/cleiton/PycharmProjects/ndfutil/DATA/bgc_2025-06-11.pkl\u001b[0m\n"
     ]
    },
    {
     "data": {
      "text/plain": [
       "(True, None)"
      ]
     },
     "execution_count": 8,
     "metadata": {},
     "output_type": "execute_result"
    }
   ],
   "source": [
    "d.download_bgc()"
   ]
  },
  {
   "cell_type": "code",
   "execution_count": 9,
   "metadata": {
    "ExecuteTime": {
     "end_time": "2025-06-11T15:44:16.343109Z",
     "start_time": "2025-06-11T15:44:16.325594Z"
    },
    "collapsed": false
   },
   "outputs": [
    {
     "data": {
      "text/html": [
       "<div>\n",
       "<style scoped>\n",
       "    .dataframe tbody tr th:only-of-type {\n",
       "        vertical-align: middle;\n",
       "    }\n",
       "\n",
       "    .dataframe tbody tr th {\n",
       "        vertical-align: top;\n",
       "    }\n",
       "\n",
       "    .dataframe thead th {\n",
       "        text-align: right;\n",
       "    }\n",
       "</style>\n",
       "<table border=\"1\" class=\"dataframe\">\n",
       "  <thead>\n",
       "    <tr style=\"text-align: right;\">\n",
       "      <th></th>\n",
       "      <th>Batch Date</th>\n",
       "      <th>Asset Class</th>\n",
       "      <th>Tradeable Instrument</th>\n",
       "      <th>Description</th>\n",
       "      <th>Opening Price</th>\n",
       "      <th>Trade High</th>\n",
       "      <th>Trade Low</th>\n",
       "      <th>Closing Price</th>\n",
       "      <th>Num of Trades</th>\n",
       "      <th>Total Notional Value</th>\n",
       "    </tr>\n",
       "  </thead>\n",
       "  <tbody>\n",
       "    <tr>\n",
       "      <th>0</th>\n",
       "      <td>2025-05-23</td>\n",
       "      <td>CD</td>\n",
       "      <td>465636</td>\n",
       "      <td>S43 XOVER 5Y (SEF)</td>\n",
       "      <td>315.25</td>\n",
       "      <td>315.25</td>\n",
       "      <td>315.25</td>\n",
       "      <td>315.25</td>\n",
       "      <td>1</td>\n",
       "      <td>10000000</td>\n",
       "    </tr>\n",
       "    <tr>\n",
       "      <th>1</th>\n",
       "      <td>2025-05-23</td>\n",
       "      <td>CD</td>\n",
       "      <td>466273</td>\n",
       "      <td>IG44 5Y - SEF</td>\n",
       "      <td>60.85</td>\n",
       "      <td>60.85</td>\n",
       "      <td>59.3</td>\n",
       "      <td>59.3</td>\n",
       "      <td>5</td>\n",
       "      <td>175000000</td>\n",
       "    </tr>\n",
       "    <tr>\n",
       "      <th>2</th>\n",
       "      <td>2025-05-23</td>\n",
       "      <td>CD</td>\n",
       "      <td>466928</td>\n",
       "      <td>HY44 5Y - SEF</td>\n",
       "      <td>105.55</td>\n",
       "      <td>105.55</td>\n",
       "      <td>105.06</td>\n",
       "      <td>105.29</td>\n",
       "      <td>17</td>\n",
       "      <td>175000000</td>\n",
       "    </tr>\n",
       "    <tr>\n",
       "      <th>3</th>\n",
       "      <td>2025-05-23</td>\n",
       "      <td>CD</td>\n",
       "      <td>CDX.EM.43.V1_60M</td>\n",
       "      <td>CDX.EM.43.V1_60M</td>\n",
       "      <td>96.79</td>\n",
       "      <td>96.79</td>\n",
       "      <td>96.63</td>\n",
       "      <td>96.65</td>\n",
       "      <td>8</td>\n",
       "      <td>85000000</td>\n",
       "    </tr>\n",
       "    <tr>\n",
       "      <th>4</th>\n",
       "      <td>2025-05-23</td>\n",
       "      <td>CD</td>\n",
       "      <td>CDX.EM.HY.43-V1_60M</td>\n",
       "      <td>CDX.EM.HY.43-V1_60M</td>\n",
       "      <td>92.68</td>\n",
       "      <td>92.68</td>\n",
       "      <td>92.68</td>\n",
       "      <td>92.68</td>\n",
       "      <td>1</td>\n",
       "      <td>10000000</td>\n",
       "    </tr>\n",
       "    <tr>\n",
       "      <th>...</th>\n",
       "      <td>...</td>\n",
       "      <td>...</td>\n",
       "      <td>...</td>\n",
       "      <td>...</td>\n",
       "      <td>...</td>\n",
       "      <td>...</td>\n",
       "      <td>...</td>\n",
       "      <td>...</td>\n",
       "      <td>...</td>\n",
       "      <td>...</td>\n",
       "    </tr>\n",
       "    <tr>\n",
       "      <th>503</th>\n",
       "      <td>2025-05-23</td>\n",
       "      <td>IR</td>\n",
       "      <td>THB.1Y.THOR.NDOIS_20260527</td>\n",
       "      <td>THB.1Y.THOR.NDOIS_20260527</td>\n",
       "      <td>0.0148</td>\n",
       "      <td>0.0148</td>\n",
       "      <td>0.0148</td>\n",
       "      <td>0.0148</td>\n",
       "      <td>1</td>\n",
       "      <td>1660000000</td>\n",
       "    </tr>\n",
       "    <tr>\n",
       "      <th>504</th>\n",
       "      <td>2025-05-23</td>\n",
       "      <td>IR</td>\n",
       "      <td>THB.6M.THOR.NDOIS ISDA2021_20251127</td>\n",
       "      <td>THB.6M.THOR.NDOIS ISDA2021_20251127</td>\n",
       "      <td>0.016025</td>\n",
       "      <td>0.016025</td>\n",
       "      <td>0.016025</td>\n",
       "      <td>0.016025</td>\n",
       "      <td>1</td>\n",
       "      <td>3290000000</td>\n",
       "    </tr>\n",
       "    <tr>\n",
       "      <th>505</th>\n",
       "      <td>2025-05-23</td>\n",
       "      <td>IR</td>\n",
       "      <td>THB.9M.THOR.NDOIS ISDA2021_20260227</td>\n",
       "      <td>THB.9M.THOR.NDOIS ISDA2021_20260227</td>\n",
       "      <td>0.015375</td>\n",
       "      <td>0.015375</td>\n",
       "      <td>0.015375</td>\n",
       "      <td>0.015375</td>\n",
       "      <td>1</td>\n",
       "      <td>4400000000</td>\n",
       "    </tr>\n",
       "    <tr>\n",
       "      <th>506</th>\n",
       "      <td>2025-05-23</td>\n",
       "      <td>IR</td>\n",
       "      <td>UF.2Y.SB_20270528</td>\n",
       "      <td>UF.2Y.SB_20270528</td>\n",
       "      <td>0.01285</td>\n",
       "      <td>0.01285</td>\n",
       "      <td>0.01285</td>\n",
       "      <td>0.01285</td>\n",
       "      <td>1</td>\n",
       "      <td>360000</td>\n",
       "    </tr>\n",
       "    <tr>\n",
       "      <th>507</th>\n",
       "      <td>2025-05-23</td>\n",
       "      <td>IR</td>\n",
       "      <td>UF.5Y.SB_20300528</td>\n",
       "      <td>UF.5Y.SB_20300528</td>\n",
       "      <td>0.01665</td>\n",
       "      <td>0.01665</td>\n",
       "      <td>0.01665</td>\n",
       "      <td>0.01665</td>\n",
       "      <td>1</td>\n",
       "      <td>150000</td>\n",
       "    </tr>\n",
       "  </tbody>\n",
       "</table>\n",
       "<p>508 rows × 10 columns</p>\n",
       "</div>"
      ],
      "text/plain": [
       "     Batch Date Asset Class                 Tradeable Instrument  \\\n",
       "0    2025-05-23          CD                               465636   \n",
       "1    2025-05-23          CD                               466273   \n",
       "2    2025-05-23          CD                               466928   \n",
       "3    2025-05-23          CD                     CDX.EM.43.V1_60M   \n",
       "4    2025-05-23          CD                  CDX.EM.HY.43-V1_60M   \n",
       "..          ...         ...                                  ...   \n",
       "503  2025-05-23          IR           THB.1Y.THOR.NDOIS_20260527   \n",
       "504  2025-05-23          IR  THB.6M.THOR.NDOIS ISDA2021_20251127   \n",
       "505  2025-05-23          IR  THB.9M.THOR.NDOIS ISDA2021_20260227   \n",
       "506  2025-05-23          IR                    UF.2Y.SB_20270528   \n",
       "507  2025-05-23          IR                    UF.5Y.SB_20300528   \n",
       "\n",
       "                             Description Opening Price Trade High Trade Low  \\\n",
       "0                     S43 XOVER 5Y (SEF)        315.25     315.25    315.25   \n",
       "1                          IG44 5Y - SEF         60.85      60.85      59.3   \n",
       "2                          HY44 5Y - SEF        105.55     105.55    105.06   \n",
       "3                       CDX.EM.43.V1_60M         96.79      96.79     96.63   \n",
       "4                    CDX.EM.HY.43-V1_60M         92.68      92.68     92.68   \n",
       "..                                   ...           ...        ...       ...   \n",
       "503           THB.1Y.THOR.NDOIS_20260527        0.0148     0.0148    0.0148   \n",
       "504  THB.6M.THOR.NDOIS ISDA2021_20251127      0.016025   0.016025  0.016025   \n",
       "505  THB.9M.THOR.NDOIS ISDA2021_20260227      0.015375   0.015375  0.015375   \n",
       "506                    UF.2Y.SB_20270528       0.01285    0.01285   0.01285   \n",
       "507                    UF.5Y.SB_20300528       0.01665    0.01665   0.01665   \n",
       "\n",
       "    Closing Price Num of Trades Total Notional Value  \n",
       "0          315.25             1             10000000  \n",
       "1            59.3             5            175000000  \n",
       "2          105.29            17            175000000  \n",
       "3           96.65             8             85000000  \n",
       "4           92.68             1             10000000  \n",
       "..            ...           ...                  ...  \n",
       "503        0.0148             1           1660000000  \n",
       "504      0.016025             1           3290000000  \n",
       "505      0.015375             1           4400000000  \n",
       "506       0.01285             1               360000  \n",
       "507       0.01665             1               150000  \n",
       "\n",
       "[508 rows x 10 columns]"
      ]
     },
     "execution_count": 9,
     "metadata": {},
     "output_type": "execute_result"
    }
   ],
   "source": [
    "import joblib\n",
    "\n",
    "df = None\n",
    "df = joblib.load('/Users/cleiton/PycharmProjects/ndfutil/DATA/tulletprebon_2025-05-24.pkl')\n",
    "\n",
    "df\n"
   ]
  },
  {
   "cell_type": "code",
   "execution_count": 10,
   "metadata": {
    "ExecuteTime": {
     "end_time": "2025-06-11T15:44:16.461980Z",
     "start_time": "2025-06-11T15:44:16.345706Z"
    },
    "collapsed": false
   },
   "outputs": [
    {
     "ename": "KeyError",
     "evalue": "\"['Asset Class' 'Open' 'Low' 'High' 'Close' 'Block' 'Currency'] not found in axis\"",
     "output_type": "error",
     "traceback": [
      "\u001b[0;31m---------------------------------------------------------------------------\u001b[0m",
      "\u001b[0;31mKeyError\u001b[0m                                  Traceback (most recent call last)",
      "\u001b[0;32m/var/folders/87/q76gjq851699dx14n72h254h0000gn/T/ipykernel_99090/2978469794.py\u001b[0m in \u001b[0;36m?\u001b[0;34m()\u001b[0m\n\u001b[0;32m----> 7\u001b[0;31m \u001b[0;31m# df.drop('Unnamed: 0', axis=1, inplace=True)\u001b[0m\u001b[0;34m\u001b[0m\u001b[0;34m\u001b[0m\u001b[0m\n\u001b[0m\u001b[1;32m      8\u001b[0m \u001b[0mdf\u001b[0m\u001b[0;34m.\u001b[0m\u001b[0mdrop\u001b[0m\u001b[0;34m(\u001b[0m\u001b[0;34m[\u001b[0m\u001b[0;36m0\u001b[0m\u001b[0;34m]\u001b[0m\u001b[0;34m,\u001b[0m \u001b[0maxis\u001b[0m\u001b[0;34m=\u001b[0m\u001b[0;36m0\u001b[0m\u001b[0;34m,\u001b[0m \u001b[0minplace\u001b[0m\u001b[0;34m=\u001b[0m\u001b[0;32mTrue\u001b[0m\u001b[0;34m)\u001b[0m\u001b[0;34m\u001b[0m\u001b[0;34m\u001b[0m\u001b[0m\n\u001b[1;32m      9\u001b[0m \u001b[0mdf\u001b[0m\u001b[0;34m.\u001b[0m\u001b[0mreset_index\u001b[0m\u001b[0;34m(\u001b[0m\u001b[0mdrop\u001b[0m\u001b[0;34m=\u001b[0m\u001b[0;32mTrue\u001b[0m\u001b[0;34m,\u001b[0m \u001b[0minplace\u001b[0m\u001b[0;34m=\u001b[0m\u001b[0;32mTrue\u001b[0m\u001b[0;34m)\u001b[0m\u001b[0;34m\u001b[0m\u001b[0;34m\u001b[0m\u001b[0m\n\u001b[1;32m     10\u001b[0m \u001b[0mdf\u001b[0m\u001b[0;34m.\u001b[0m\u001b[0mcolumns\u001b[0m \u001b[0;34m=\u001b[0m \u001b[0mdf\u001b[0m\u001b[0;34m.\u001b[0m\u001b[0miloc\u001b[0m\u001b[0;34m[\u001b[0m\u001b[0;36m0\u001b[0m\u001b[0;34m]\u001b[0m\u001b[0;34m\u001b[0m\u001b[0;34m\u001b[0m\u001b[0m\n",
      "\u001b[0;32m~/PycharmProjects/ndfutil/venv/lib/python3.9/site-packages/pandas/util/_decorators.py\u001b[0m in \u001b[0;36m?\u001b[0;34m(*args, **kwargs)\u001b[0m\n\u001b[1;32m    327\u001b[0m                     \u001b[0mmsg\u001b[0m\u001b[0;34m.\u001b[0m\u001b[0mformat\u001b[0m\u001b[0;34m(\u001b[0m\u001b[0marguments\u001b[0m\u001b[0;34m=\u001b[0m\u001b[0m_format_argument_list\u001b[0m\u001b[0;34m(\u001b[0m\u001b[0mallow_args\u001b[0m\u001b[0;34m)\u001b[0m\u001b[0;34m)\u001b[0m\u001b[0;34m,\u001b[0m\u001b[0;34m\u001b[0m\u001b[0;34m\u001b[0m\u001b[0m\n\u001b[1;32m    328\u001b[0m                     \u001b[0mFutureWarning\u001b[0m\u001b[0;34m,\u001b[0m\u001b[0;34m\u001b[0m\u001b[0;34m\u001b[0m\u001b[0m\n\u001b[1;32m    329\u001b[0m                     \u001b[0mstacklevel\u001b[0m\u001b[0;34m=\u001b[0m\u001b[0mfind_stack_level\u001b[0m\u001b[0;34m(\u001b[0m\u001b[0;34m)\u001b[0m\u001b[0;34m,\u001b[0m\u001b[0;34m\u001b[0m\u001b[0;34m\u001b[0m\u001b[0m\n\u001b[1;32m    330\u001b[0m                 )\n\u001b[0;32m--> 331\u001b[0;31m             \u001b[0;32mreturn\u001b[0m \u001b[0mfunc\u001b[0m\u001b[0;34m(\u001b[0m\u001b[0;34m*\u001b[0m\u001b[0margs\u001b[0m\u001b[0;34m,\u001b[0m \u001b[0;34m**\u001b[0m\u001b[0mkwargs\u001b[0m\u001b[0;34m)\u001b[0m\u001b[0;34m\u001b[0m\u001b[0;34m\u001b[0m\u001b[0m\n\u001b[0m",
      "\u001b[0;32m~/PycharmProjects/ndfutil/venv/lib/python3.9/site-packages/pandas/core/frame.py\u001b[0m in \u001b[0;36m?\u001b[0;34m(self, labels, axis, index, columns, level, inplace, errors)\u001b[0m\n\u001b[1;32m   5395\u001b[0m                 \u001b[0mweight\u001b[0m  \u001b[0;36m250.0\u001b[0m   \u001b[0;36m150.0\u001b[0m\u001b[0;34m\u001b[0m\u001b[0;34m\u001b[0m\u001b[0m\n\u001b[1;32m   5396\u001b[0m         \u001b[0mfalcon\u001b[0m  \u001b[0mspeed\u001b[0m   \u001b[0;36m320.0\u001b[0m   \u001b[0;36m250.0\u001b[0m\u001b[0;34m\u001b[0m\u001b[0;34m\u001b[0m\u001b[0m\n\u001b[1;32m   5397\u001b[0m                 \u001b[0mweight\u001b[0m  \u001b[0;36m1.0\u001b[0m     \u001b[0;36m0.8\u001b[0m\u001b[0;34m\u001b[0m\u001b[0;34m\u001b[0m\u001b[0m\n\u001b[1;32m   5398\u001b[0m         \"\"\"\n\u001b[0;32m-> 5399\u001b[0;31m         return super().drop(\n\u001b[0m\u001b[1;32m   5400\u001b[0m             \u001b[0mlabels\u001b[0m\u001b[0;34m=\u001b[0m\u001b[0mlabels\u001b[0m\u001b[0;34m,\u001b[0m\u001b[0;34m\u001b[0m\u001b[0;34m\u001b[0m\u001b[0m\n\u001b[1;32m   5401\u001b[0m             \u001b[0maxis\u001b[0m\u001b[0;34m=\u001b[0m\u001b[0maxis\u001b[0m\u001b[0;34m,\u001b[0m\u001b[0;34m\u001b[0m\u001b[0;34m\u001b[0m\u001b[0m\n\u001b[1;32m   5402\u001b[0m             \u001b[0mindex\u001b[0m\u001b[0;34m=\u001b[0m\u001b[0mindex\u001b[0m\u001b[0;34m,\u001b[0m\u001b[0;34m\u001b[0m\u001b[0;34m\u001b[0m\u001b[0m\n",
      "\u001b[0;32m~/PycharmProjects/ndfutil/venv/lib/python3.9/site-packages/pandas/util/_decorators.py\u001b[0m in \u001b[0;36m?\u001b[0;34m(*args, **kwargs)\u001b[0m\n\u001b[1;32m    327\u001b[0m                     \u001b[0mmsg\u001b[0m\u001b[0;34m.\u001b[0m\u001b[0mformat\u001b[0m\u001b[0;34m(\u001b[0m\u001b[0marguments\u001b[0m\u001b[0;34m=\u001b[0m\u001b[0m_format_argument_list\u001b[0m\u001b[0;34m(\u001b[0m\u001b[0mallow_args\u001b[0m\u001b[0;34m)\u001b[0m\u001b[0;34m)\u001b[0m\u001b[0;34m,\u001b[0m\u001b[0;34m\u001b[0m\u001b[0;34m\u001b[0m\u001b[0m\n\u001b[1;32m    328\u001b[0m                     \u001b[0mFutureWarning\u001b[0m\u001b[0;34m,\u001b[0m\u001b[0;34m\u001b[0m\u001b[0;34m\u001b[0m\u001b[0m\n\u001b[1;32m    329\u001b[0m                     \u001b[0mstacklevel\u001b[0m\u001b[0;34m=\u001b[0m\u001b[0mfind_stack_level\u001b[0m\u001b[0;34m(\u001b[0m\u001b[0;34m)\u001b[0m\u001b[0;34m,\u001b[0m\u001b[0;34m\u001b[0m\u001b[0;34m\u001b[0m\u001b[0m\n\u001b[1;32m    330\u001b[0m                 )\n\u001b[0;32m--> 331\u001b[0;31m             \u001b[0;32mreturn\u001b[0m \u001b[0mfunc\u001b[0m\u001b[0;34m(\u001b[0m\u001b[0;34m*\u001b[0m\u001b[0margs\u001b[0m\u001b[0;34m,\u001b[0m \u001b[0;34m**\u001b[0m\u001b[0mkwargs\u001b[0m\u001b[0;34m)\u001b[0m\u001b[0;34m\u001b[0m\u001b[0;34m\u001b[0m\u001b[0m\n\u001b[0m",
      "\u001b[0;32m~/PycharmProjects/ndfutil/venv/lib/python3.9/site-packages/pandas/core/generic.py\u001b[0m in \u001b[0;36m?\u001b[0;34m(self, labels, axis, index, columns, level, inplace, errors)\u001b[0m\n\u001b[1;32m   4501\u001b[0m         \u001b[0mobj\u001b[0m \u001b[0;34m=\u001b[0m \u001b[0mself\u001b[0m\u001b[0;34m\u001b[0m\u001b[0;34m\u001b[0m\u001b[0m\n\u001b[1;32m   4502\u001b[0m \u001b[0;34m\u001b[0m\u001b[0m\n\u001b[1;32m   4503\u001b[0m         \u001b[0;32mfor\u001b[0m \u001b[0maxis\u001b[0m\u001b[0;34m,\u001b[0m \u001b[0mlabels\u001b[0m \u001b[0;32min\u001b[0m \u001b[0maxes\u001b[0m\u001b[0;34m.\u001b[0m\u001b[0mitems\u001b[0m\u001b[0;34m(\u001b[0m\u001b[0;34m)\u001b[0m\u001b[0;34m:\u001b[0m\u001b[0;34m\u001b[0m\u001b[0;34m\u001b[0m\u001b[0m\n\u001b[1;32m   4504\u001b[0m             \u001b[0;32mif\u001b[0m \u001b[0mlabels\u001b[0m \u001b[0;32mis\u001b[0m \u001b[0;32mnot\u001b[0m \u001b[0;32mNone\u001b[0m\u001b[0;34m:\u001b[0m\u001b[0;34m\u001b[0m\u001b[0;34m\u001b[0m\u001b[0m\n\u001b[0;32m-> 4505\u001b[0;31m                 \u001b[0mobj\u001b[0m \u001b[0;34m=\u001b[0m \u001b[0mobj\u001b[0m\u001b[0;34m.\u001b[0m\u001b[0m_drop_axis\u001b[0m\u001b[0;34m(\u001b[0m\u001b[0mlabels\u001b[0m\u001b[0;34m,\u001b[0m \u001b[0maxis\u001b[0m\u001b[0;34m,\u001b[0m \u001b[0mlevel\u001b[0m\u001b[0;34m=\u001b[0m\u001b[0mlevel\u001b[0m\u001b[0;34m,\u001b[0m \u001b[0merrors\u001b[0m\u001b[0;34m=\u001b[0m\u001b[0merrors\u001b[0m\u001b[0;34m)\u001b[0m\u001b[0;34m\u001b[0m\u001b[0;34m\u001b[0m\u001b[0m\n\u001b[0m\u001b[1;32m   4506\u001b[0m \u001b[0;34m\u001b[0m\u001b[0m\n\u001b[1;32m   4507\u001b[0m         \u001b[0;32mif\u001b[0m \u001b[0minplace\u001b[0m\u001b[0;34m:\u001b[0m\u001b[0;34m\u001b[0m\u001b[0;34m\u001b[0m\u001b[0m\n\u001b[1;32m   4508\u001b[0m             \u001b[0mself\u001b[0m\u001b[0;34m.\u001b[0m\u001b[0m_update_inplace\u001b[0m\u001b[0;34m(\u001b[0m\u001b[0mobj\u001b[0m\u001b[0;34m)\u001b[0m\u001b[0;34m\u001b[0m\u001b[0;34m\u001b[0m\u001b[0m\n",
      "\u001b[0;32m~/PycharmProjects/ndfutil/venv/lib/python3.9/site-packages/pandas/core/generic.py\u001b[0m in \u001b[0;36m?\u001b[0;34m(self, labels, axis, level, errors, only_slice)\u001b[0m\n\u001b[1;32m   4571\u001b[0m                 \u001b[0mmask\u001b[0m \u001b[0;34m=\u001b[0m \u001b[0;34m~\u001b[0m\u001b[0maxis\u001b[0m\u001b[0;34m.\u001b[0m\u001b[0misin\u001b[0m\u001b[0;34m(\u001b[0m\u001b[0mlabels\u001b[0m\u001b[0;34m)\u001b[0m\u001b[0;34m\u001b[0m\u001b[0;34m\u001b[0m\u001b[0m\n\u001b[1;32m   4572\u001b[0m                 \u001b[0;31m# Check if label doesn't exist along axis\u001b[0m\u001b[0;34m\u001b[0m\u001b[0;34m\u001b[0m\u001b[0m\n\u001b[1;32m   4573\u001b[0m                 \u001b[0mlabels_missing\u001b[0m \u001b[0;34m=\u001b[0m \u001b[0;34m(\u001b[0m\u001b[0maxis\u001b[0m\u001b[0;34m.\u001b[0m\u001b[0mget_indexer_for\u001b[0m\u001b[0;34m(\u001b[0m\u001b[0mlabels\u001b[0m\u001b[0;34m)\u001b[0m \u001b[0;34m==\u001b[0m \u001b[0;34m-\u001b[0m\u001b[0;36m1\u001b[0m\u001b[0;34m)\u001b[0m\u001b[0;34m.\u001b[0m\u001b[0many\u001b[0m\u001b[0;34m(\u001b[0m\u001b[0;34m)\u001b[0m\u001b[0;34m\u001b[0m\u001b[0;34m\u001b[0m\u001b[0m\n\u001b[1;32m   4574\u001b[0m                 \u001b[0;32mif\u001b[0m \u001b[0merrors\u001b[0m \u001b[0;34m==\u001b[0m \u001b[0;34m\"raise\"\u001b[0m \u001b[0;32mand\u001b[0m \u001b[0mlabels_missing\u001b[0m\u001b[0;34m:\u001b[0m\u001b[0;34m\u001b[0m\u001b[0;34m\u001b[0m\u001b[0m\n\u001b[0;32m-> 4575\u001b[0;31m                     \u001b[0;32mraise\u001b[0m \u001b[0mKeyError\u001b[0m\u001b[0;34m(\u001b[0m\u001b[0;34mf\"{labels} not found in axis\"\u001b[0m\u001b[0;34m)\u001b[0m\u001b[0;34m\u001b[0m\u001b[0;34m\u001b[0m\u001b[0m\n\u001b[0m\u001b[1;32m   4576\u001b[0m \u001b[0;34m\u001b[0m\u001b[0m\n\u001b[1;32m   4577\u001b[0m             \u001b[0;32mif\u001b[0m \u001b[0mis_extension_array_dtype\u001b[0m\u001b[0;34m(\u001b[0m\u001b[0mmask\u001b[0m\u001b[0;34m.\u001b[0m\u001b[0mdtype\u001b[0m\u001b[0;34m)\u001b[0m\u001b[0;34m:\u001b[0m\u001b[0;34m\u001b[0m\u001b[0;34m\u001b[0m\u001b[0m\n\u001b[1;32m   4578\u001b[0m                 \u001b[0;31m# GH#45860\u001b[0m\u001b[0;34m\u001b[0m\u001b[0;34m\u001b[0m\u001b[0m\n",
      "\u001b[0;31mKeyError\u001b[0m: \"['Asset Class' 'Open' 'Low' 'High' 'Close' 'Block' 'Currency'] not found in axis\""
     ]
    }
   ],
   "source": [
    "# df.drop('Unnamed: 0', axis=1, inplace=True)\n",
    "df.drop([0], axis=0, inplace=True)\n",
    "df.reset_index(drop=True, inplace=True)\n",
    "df.columns = df.iloc[0]\n",
    "df.reset_index(drop=True, inplace=True)\n",
    "df = df.rename(columns={'Contract Description': 'Description'})\n",
    "df.drop(['Asset Class', 'Open', 'Low', 'High', 'Close', 'Block', 'Currency'], axis=1, inplace=True)\n",
    "df = df[df['Volume'].notna()]\n",
    "df"
   ]
  },
  {
   "cell_type": "code",
   "execution_count": null,
   "metadata": {
    "ExecuteTime": {
     "start_time": "2025-06-11T15:44:16.406895Z"
    },
    "collapsed": false
   },
   "outputs": [],
   "source": [
    "df"
   ]
  },
  {
   "cell_type": "code",
   "execution_count": null,
   "metadata": {
    "ExecuteTime": {
     "start_time": "2025-06-11T15:44:16.409923Z"
    },
    "collapsed": false
   },
   "outputs": [],
   "source": [
    "#\n",
    "# DADOS ANTIGOS \n",
    "#\n",
    "\n",
    "import joblib\n",
    "\n",
    "df_antigo = joblib.load('/Users/cleiton/PycharmProjects/ndfutil/DATA/BGC_2023-04-28.pkl')\n",
    "\n",
    "df_antigo"
   ]
  },
  {
   "cell_type": "code",
   "execution_count": null,
   "metadata": {
    "ExecuteTime": {
     "start_time": "2025-06-11T15:44:16.411590Z"
    },
    "collapsed": false
   },
   "outputs": [],
   "source": [
    "df_antigo.drop('Unnamed: 0', axis=1, inplace=True)\n",
    "df_antigo"
   ]
  },
  {
   "cell_type": "code",
   "execution_count": null,
   "metadata": {
    "ExecuteTime": {
     "start_time": "2025-06-11T15:44:16.414219Z"
    },
    "collapsed": false
   },
   "outputs": [],
   "source": [
    "\n",
    "df_antigo.drop([0, 1, 2], axis=0, inplace=True)\n",
    "df_antigo.reset_index(drop=True, inplace=True)\n",
    "df_antigo.columns = df_antigo.iloc[0]\n",
    "df_antigo.reset_index(drop=True, inplace=True)\n",
    "df_antigo = df_antigo.rename(columns={'Contract Description': 'Description'})\n",
    "df_antigo.drop(['Asset Class', 'Open', 'Low', 'High', 'Close', 'Block', 'Currency'], axis=1, inplace=True)\n",
    "df_antigo = df_antigo[df_antigo['Volume'].notna()]\n",
    "df_antigo\n"
   ]
  },
  {
   "cell_type": "code",
   "execution_count": null,
   "metadata": {
    "ExecuteTime": {
     "start_time": "2025-06-11T15:44:16.416484Z"
    },
    "collapsed": false
   },
   "outputs": [],
   "source": [
    "mining.bgc_calcs()"
   ]
  },
  {
   "cell_type": "code",
   "execution_count": null,
   "metadata": {
    "ExecuteTime": {
     "start_time": "2025-06-11T15:44:16.418521Z"
    },
    "collapsed": false
   },
   "outputs": [],
   "source": [
    "mining.tulletprebon_calcs()"
   ]
  },
  {
   "cell_type": "code",
   "execution_count": null,
   "metadata": {
    "ExecuteTime": {
     "start_time": "2025-06-11T15:44:16.420862Z"
    }
   },
   "outputs": [],
   "source": [
    "mining.tradition_calcs()"
   ]
  },
  {
   "cell_type": "code",
   "execution_count": null,
   "metadata": {
    "ExecuteTime": {
     "start_time": "2025-06-11T15:44:16.423891Z"
    },
    "collapsed": false
   },
   "outputs": [],
   "source": [
    "import joblib\n",
    "\n",
    "df = None\n",
    "df = joblib.load('/Users/cleiton/PycharmProjects/ndfutil/DATA/gfi_2025-03-08.pkl')\n",
    "\n",
    "df\n"
   ]
  },
  {
   "cell_type": "code",
   "execution_count": null,
   "metadata": {
    "ExecuteTime": {
     "start_time": "2025-06-11T15:44:16.425971Z"
    },
    "collapsed": false
   },
   "outputs": [],
   "source": [
    "df.drop([0], axis=0, inplace=True)\n",
    "df.reset_index(drop=True, inplace=True)\n",
    "df.columns = df.iloc[0]\n",
    "df.reset_index(drop=True, inplace=True)\n",
    "df = df.rename(columns={'InstrumentDescription': 'Description'})\n",
    "df.drop(['Asset Class', 'Open', 'Low', 'High', 'Close', 'Block', 'Currency'], axis=1, inplace=True)\n",
    "df = df[df['Volume'].notna()]\n",
    "df"
   ]
  },
  {
   "cell_type": "code",
   "execution_count": null,
   "metadata": {
    "ExecuteTime": {
     "start_time": "2025-06-11T15:44:16.427677Z"
    }
   },
   "outputs": [],
   "source": [
    "mining.gfi_calcs()"
   ]
  },
  {
   "cell_type": "code",
   "execution_count": null,
   "metadata": {
    "ExecuteTime": {
     "start_time": "2025-06-11T15:44:16.429575Z"
    }
   },
   "outputs": [],
   "source": [
    "tulletprebon['source'] = 'TulletPrebon'\n",
    "tradition['source'] = 'Tradition'\n",
    "bgc['source'] = 'bgc'\n",
    "gfi['source'] = 'gfi'"
   ]
  },
  {
   "cell_type": "code",
   "execution_count": null,
   "metadata": {
    "ExecuteTime": {
     "start_time": "2025-06-11T15:44:16.430825Z"
    }
   },
   "outputs": [],
   "source": [
    "bgc"
   ]
  },
  {
   "cell_type": "code",
   "execution_count": null,
   "metadata": {
    "ExecuteTime": {
     "start_time": "2025-06-11T15:44:16.432098Z"
    }
   },
   "outputs": [],
   "source": [
    "df_result = pd.concat([tulletprebon, tradition, bgc, gfi])\n",
    "df_result"
   ]
  },
  {
   "cell_type": "code",
   "execution_count": null,
   "metadata": {
    "ExecuteTime": {
     "start_time": "2025-06-11T15:44:16.433308Z"
    }
   },
   "outputs": [],
   "source": [
    "df_totals = df_result.query('Class == \"TOTAL\"')\n",
    "df_totals"
   ]
  },
  {
   "cell_type": "code",
   "execution_count": null,
   "metadata": {
    "ExecuteTime": {
     "start_time": "2025-06-11T15:44:16.434555Z"
    }
   },
   "outputs": [],
   "source": [
    "df_totals.groupby(['Class']).sum()"
   ]
  },
  {
   "cell_type": "code",
   "execution_count": null,
   "metadata": {
    "ExecuteTime": {
     "start_time": "2025-06-11T15:44:16.435715Z"
    }
   },
   "outputs": [],
   "source": [
    "from numerize import numerize\n",
    "\n",
    "market_total = df_totals.sum()['Volume']\n",
    "market_total = numerize.numerize(float(market_total))\n",
    "market_total"
   ]
  },
  {
   "cell_type": "code",
   "execution_count": null,
   "metadata": {
    "ExecuteTime": {
     "start_time": "2025-06-11T15:44:16.436979Z"
    }
   },
   "outputs": [],
   "source": []
  },
  {
   "cell_type": "code",
   "execution_count": null,
   "metadata": {
    "ExecuteTime": {
     "start_time": "2025-06-11T15:44:16.438251Z"
    }
   },
   "outputs": [],
   "source": []
  }
 ],
 "metadata": {
  "kernelspec": {
   "display_name": "venv",
   "language": "python",
   "name": "python3"
  },
  "language_info": {
   "codemirror_mode": {
    "name": "ipython",
    "version": 3
   },
   "file_extension": ".py",
   "mimetype": "text/x-python",
   "name": "python",
   "nbconvert_exporter": "python",
   "pygments_lexer": "ipython3",
   "version": "3.9.19"
  }
 },
 "nbformat": 4,
 "nbformat_minor": 1
}
