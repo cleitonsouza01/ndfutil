{
 "cells": [
  {
   "cell_type": "code",
   "execution_count": 1,
   "metadata": {
    "ExecuteTime": {
     "end_time": "2025-03-08T19:23:00.110617Z",
     "start_time": "2025-03-08T19:22:59.071860Z"
    }
   },
   "outputs": [
    {
     "data": {
      "text/plain": "2"
     },
     "execution_count": 1,
     "metadata": {},
     "output_type": "execute_result"
    }
   ],
   "source": [
    "from loguru import logger\n",
    "import ndf.download\n",
    "from ndf.datamining import datamining\n",
    "import warnings\n",
    "import sys\n",
    "import pandas as pd\n",
    "\n",
    "warnings.simplefilter(action='ignore', category=FutureWarning)\n",
    "\n",
    "log_level = 'TRACE'\n",
    "logger.add(sys.stderr, format=\"{time} {level} {message}\", filter=\"my_module\", level=log_level)\n",
    "logger.add(sys.stdout, colorize=True, format=\"<green>{time}</green> <level>{message}</level>\")\n",
    "# logger.add(\"ndfdownload.log\", rotation=\"30 MB\", level=log_level)"
   ]
  },
  {
   "cell_type": "code",
   "execution_count": 2,
   "outputs": [],
   "source": [
    "import requests\n",
    "import time\n",
    "\n",
    "MAX_RETRIES = 4\n",
    "TIME_TO_WAIT = 10\n",
    "\n",
    "def download_manager(url):\n",
    "    r = None\n",
    "    # logger.info(f'Download settings: MAX_RETRIES:{MAX_RETRIES} | TIME_TO_WAIT:{TIME_TO_WAIT}')\n",
    "    for _ in range(MAX_RETRIES):\n",
    "        try:\n",
    "            r = requests.get(url, verify=False)\n",
    "        except requests.exceptions.RequestException as e:\n",
    "            print(f'Download fail, {e}')\n",
    "        if r:\n",
    "            print(f'Download Ok')\n",
    "            break\n",
    "        else:\n",
    "            wait = TIME_TO_WAIT * (_ + 1) if _ < 3 else TIME_TO_WAIT * (_ * 3)\n",
    "            print(f'Download fail, retry in {wait} seconds...')\n",
    "            time.sleep(wait)\n",
    "    return r"
   ],
   "metadata": {
    "collapsed": false,
    "ExecuteTime": {
     "end_time": "2025-03-08T19:23:00.116436Z",
     "start_time": "2025-03-08T19:23:00.114005Z"
    }
   }
  },
  {
   "cell_type": "code",
   "execution_count": 3,
   "outputs": [],
   "source": [
    "# download_manager('https://www.tullettprebon.com/swap-execution-facility/daily-activity-summary.aspxa')"
   ],
   "metadata": {
    "collapsed": false,
    "ExecuteTime": {
     "end_time": "2025-03-08T19:23:00.120405Z",
     "start_time": "2025-03-08T19:23:00.116866Z"
    }
   }
  },
  {
   "cell_type": "code",
   "execution_count": 4,
   "metadata": {
    "ExecuteTime": {
     "end_time": "2025-03-08T19:23:00.124841Z",
     "start_time": "2025-03-08T19:23:00.121978Z"
    }
   },
   "outputs": [
    {
     "data": {
      "text/plain": "datetime.date(2025, 3, 8)"
     },
     "execution_count": 4,
     "metadata": {},
     "output_type": "execute_result"
    }
   ],
   "source": [
    "from datetime import datetime\n",
    "\n",
    "a = datetime.now()\n",
    "a.date()"
   ]
  },
  {
   "cell_type": "code",
   "execution_count": 5,
   "metadata": {
    "ExecuteTime": {
     "end_time": "2025-03-08T19:23:00.156879Z",
     "start_time": "2025-03-08T19:23:00.125472Z"
    }
   },
   "outputs": [],
   "source": [
    "# Logger settings\n",
    "\n",
    "LOGGER_ENABLED = True\n",
    "\n",
    "if not LOGGER_ENABLED:\n",
    "    logger.remove()"
   ]
  },
  {
   "cell_type": "code",
   "execution_count": 6,
   "metadata": {
    "ExecuteTime": {
     "end_time": "2025-03-08T19:23:00.167135Z",
     "start_time": "2025-03-08T19:23:00.130942Z"
    }
   },
   "outputs": [
    {
     "name": "stderr",
     "output_type": "stream",
     "text": [
      "2025-03-08 14:23:00.129 | INFO     | ndf.download:_download:55 - BGC - Download start >>>\n"
     ]
    },
    {
     "name": "stdout",
     "output_type": "stream",
     "text": [
      "\u001B[32m2025-03-08T14:23:00.129947-0500\u001B[0m \u001B[1mBGC - Download start >>>\u001B[0m\n"
     ]
    },
    {
     "name": "stderr",
     "output_type": "stream",
     "text": [
      "2025-03-08 14:23:00.131 | DEBUG    | ndf.download:_download:58 - Try download bgc from http://dailyactprod.bgcsef.com/SEF/DailyAct/DailyAct_20250307.xlsx\n"
     ]
    },
    {
     "name": "stdout",
     "output_type": "stream",
     "text": [
      "\u001B[32m2025-03-08T14:23:00.131488-0500\u001B[0m \u001B[34m\u001B[1mTry download bgc from http://dailyactprod.bgcsef.com/SEF/DailyAct/DailyAct_20250307.xlsx\u001B[0m\n"
     ]
    },
    {
     "name": "stderr",
     "output_type": "stream",
     "text": [
      "2025-03-08 14:23:00.133 | INFO     | ndf.download:_download:80 - Loaded bgc DATA from cache /Users/cleiton/PycharmProjects/ndfutil/DATA/bgc_2025-03-08.pkl\n"
     ]
    },
    {
     "name": "stdout",
     "output_type": "stream",
     "text": [
      "\u001B[32m2025-03-08T14:23:00.133970-0500\u001B[0m \u001B[1mLoaded bgc DATA from cache /Users/cleiton/PycharmProjects/ndfutil/DATA/bgc_2025-03-08.pkl\u001B[0m\n"
     ]
    },
    {
     "name": "stderr",
     "output_type": "stream",
     "text": [
      "2025-03-08 14:23:00.134 | INFO     | ndf.download:_download:55 - TRADITION - Download start >>>\n"
     ]
    },
    {
     "name": "stdout",
     "output_type": "stream",
     "text": [
      "\u001B[32m2025-03-08T14:23:00.134936-0500\u001B[0m \u001B[1mTRADITION - Download start >>>\u001B[0m\n"
     ]
    },
    {
     "name": "stderr",
     "output_type": "stream",
     "text": [
      "2025-03-08 14:23:00.135 | DEBUG    | ndf.download:_download:58 - Try download tradition from https://www.traditionsef.com/dailyactivity/SEF16_MKTDATA_TFSU_20250307.csv\n"
     ]
    },
    {
     "name": "stdout",
     "output_type": "stream",
     "text": [
      "\u001B[32m2025-03-08T14:23:00.135537-0500\u001B[0m \u001B[34m\u001B[1mTry download tradition from https://www.traditionsef.com/dailyactivity/SEF16_MKTDATA_TFSU_20250307.csv\u001B[0m\n"
     ]
    },
    {
     "name": "stderr",
     "output_type": "stream",
     "text": [
      "2025-03-08 14:23:00.138 | INFO     | ndf.download:_download:80 - Loaded tradition DATA from cache /Users/cleiton/PycharmProjects/ndfutil/DATA/tradition_2025-03-08.pkl\n"
     ]
    },
    {
     "name": "stdout",
     "output_type": "stream",
     "text": [
      "\u001B[32m2025-03-08T14:23:00.138631-0500\u001B[0m \u001B[1mLoaded tradition DATA from cache /Users/cleiton/PycharmProjects/ndfutil/DATA/tradition_2025-03-08.pkl\u001B[0m\n"
     ]
    },
    {
     "name": "stderr",
     "output_type": "stream",
     "text": [
      "2025-03-08 14:23:00.139 | INFO     | ndf.download:_download:55 - TULLETPREBON - Download start >>>\n"
     ]
    },
    {
     "name": "stdout",
     "output_type": "stream",
     "text": [
      "\u001B[32m2025-03-08T14:23:00.139502-0500\u001B[0m \u001B[1mTULLETPREBON - Download start >>>\u001B[0m\n"
     ]
    },
    {
     "name": "stderr",
     "output_type": "stream",
     "text": [
      "2025-03-08 14:23:00.140 | DEBUG    | ndf.download:_download:58 - Try download tulletprebon from https://www.tullettprebon.com/swap-execution-facility/daily-activity-summary.aspx\n"
     ]
    },
    {
     "name": "stdout",
     "output_type": "stream",
     "text": [
      "\u001B[32m2025-03-08T14:23:00.140216-0500\u001B[0m \u001B[34m\u001B[1mTry download tulletprebon from https://www.tullettprebon.com/swap-execution-facility/daily-activity-summary.aspx\u001B[0m\n"
     ]
    },
    {
     "name": "stderr",
     "output_type": "stream",
     "text": [
      "2025-03-08 14:23:00.142 | INFO     | ndf.download:_download:80 - Loaded tulletprebon DATA from cache /Users/cleiton/PycharmProjects/ndfutil/DATA/tulletprebon_2025-03-08.pkl\n"
     ]
    },
    {
     "name": "stdout",
     "output_type": "stream",
     "text": [
      "\u001B[32m2025-03-08T14:23:00.142984-0500\u001B[0m \u001B[1mLoaded tulletprebon DATA from cache /Users/cleiton/PycharmProjects/ndfutil/DATA/tulletprebon_2025-03-08.pkl\u001B[0m\n"
     ]
    },
    {
     "name": "stderr",
     "output_type": "stream",
     "text": [
      "2025-03-08 14:23:00.143 | INFO     | ndf.download:_download:55 - GFI - Download start >>>\n"
     ]
    },
    {
     "name": "stdout",
     "output_type": "stream",
     "text": [
      "\u001B[32m2025-03-08T14:23:00.143874-0500\u001B[0m \u001B[1mGFI - Download start >>>\u001B[0m\n"
     ]
    },
    {
     "name": "stderr",
     "output_type": "stream",
     "text": [
      "2025-03-08 14:23:00.144 | DEBUG    | ndf.download:_download:58 - Try download gfi from https://www.gfigroup.com/doc/sef/marketdata/2025-03-07_daily_trade_data.xlsx\n"
     ]
    },
    {
     "name": "stdout",
     "output_type": "stream",
     "text": [
      "\u001B[32m2025-03-08T14:23:00.144569-0500\u001B[0m \u001B[34m\u001B[1mTry download gfi from https://www.gfigroup.com/doc/sef/marketdata/2025-03-07_daily_trade_data.xlsx\u001B[0m\n"
     ]
    },
    {
     "name": "stderr",
     "output_type": "stream",
     "text": [
      "2025-03-08 14:23:00.146 | INFO     | ndf.download:_download:80 - Loaded gfi DATA from cache /Users/cleiton/PycharmProjects/ndfutil/DATA/gfi_2025-03-08.pkl\n"
     ]
    },
    {
     "name": "stdout",
     "output_type": "stream",
     "text": [
      "\u001B[32m2025-03-08T14:23:00.146892-0500\u001B[0m \u001B[1mLoaded gfi DATA from cache /Users/cleiton/PycharmProjects/ndfutil/DATA/gfi_2025-03-08.pkl\u001B[0m\n",
      "bgc ok\n",
      "tradition ok\n",
      "prebontullet ok\n",
      "gfi ok\n"
     ]
    }
   ],
   "source": [
    "d = ndf.download.download()\n",
    "d.download_all()"
   ]
  },
  {
   "cell_type": "code",
   "execution_count": 7,
   "metadata": {
    "ExecuteTime": {
     "end_time": "2025-03-08T19:23:00.167258Z",
     "start_time": "2025-03-08T19:23:00.151590Z"
    }
   },
   "outputs": [],
   "source": [
    "mining = datamining()"
   ]
  },
  {
   "cell_type": "code",
   "execution_count": 8,
   "outputs": [
    {
     "name": "stderr",
     "output_type": "stream",
     "text": [
      "2025-03-08 14:23:00.154 | INFO     | ndf.download:_download:55 - BGC - Download start >>>\n"
     ]
    },
    {
     "name": "stdout",
     "output_type": "stream",
     "text": [
      "\u001B[32m2025-03-08T14:23:00.154345-0500\u001B[0m \u001B[1mBGC - Download start >>>\u001B[0m\n"
     ]
    },
    {
     "name": "stderr",
     "output_type": "stream",
     "text": [
      "2025-03-08 14:23:00.155 | DEBUG    | ndf.download:_download:58 - Try download bgc from http://dailyactprod.bgcsef.com/SEF/DailyAct/DailyAct_20250307.xlsx\n"
     ]
    },
    {
     "name": "stdout",
     "output_type": "stream",
     "text": [
      "\u001B[32m2025-03-08T14:23:00.155201-0500\u001B[0m \u001B[34m\u001B[1mTry download bgc from http://dailyactprod.bgcsef.com/SEF/DailyAct/DailyAct_20250307.xlsx\u001B[0m\n"
     ]
    },
    {
     "name": "stderr",
     "output_type": "stream",
     "text": [
      "2025-03-08 14:23:00.157 | INFO     | ndf.download:_download:80 - Loaded bgc DATA from cache /Users/cleiton/PycharmProjects/ndfutil/DATA/bgc_2025-03-08.pkl\n"
     ]
    },
    {
     "name": "stdout",
     "output_type": "stream",
     "text": [
      "\u001B[32m2025-03-08T14:23:00.157402-0500\u001B[0m \u001B[1mLoaded bgc DATA from cache /Users/cleiton/PycharmProjects/ndfutil/DATA/bgc_2025-03-08.pkl\u001B[0m\n"
     ]
    },
    {
     "data": {
      "text/plain": "True"
     },
     "execution_count": 8,
     "metadata": {},
     "output_type": "execute_result"
    }
   ],
   "source": [
    "d.download_bgc()"
   ],
   "metadata": {
    "collapsed": false,
    "ExecuteTime": {
     "end_time": "2025-03-08T19:23:00.168279Z",
     "start_time": "2025-03-08T19:23:00.154569Z"
    }
   }
  },
  {
   "cell_type": "code",
   "execution_count": 9,
   "outputs": [
    {
     "data": {
      "text/plain": "    BGC SEF PERMITTED AND REQUIRED INSTRUMENTS DAILY PRICE AND VOLUME  \\\n0                   Daily Activity Report for 20250307                  \n1                                          Asset Class                  \n2                                                   CD                  \n3                                                   CD                  \n4                                                   CD                  \n..                                                 ...                  \n495                                                 IR                  \n496                                                 IR                  \n497                                                 IR                  \n498                                                NaN                  \n499  Copyright © 2013 BGC Derivative Markets, L.P. ...                  \n\n    Unnamed: 1                                         Unnamed: 2 Unnamed: 3  \\\n0          NaN                                                NaN        NaN   \n1     Currency                              InstrumentDescription       Open   \n2          EUR                                    S42 XO 5Y. .ICC     293.25   \n3          EUR                                    S42 XO 5Y. .LCH      293.5   \n4          EUR                                   S42 EUR V1 - LCH       54.5   \n..         ...                                                ...        ...   \n495        USD   ZCI 20250307 20250311 5YUSD USD 1M8 0 5Y8 0 5...    2.45225   \n496        TRY   OIS 20250307 20250310 18MTRY TRY 3M5 179 3M5 ...      35.05   \n497        USD   OPT 20250307 20260311 10YUSD USD 12M1 0 12M1 ...        667   \n498        NaN                                                NaN        NaN   \n499        NaN                                                NaN        NaN   \n\n    Unnamed: 4 Unnamed: 5 Unnamed: 6 Unnamed: 7 Unnamed: 8  \n0          NaN        NaN        NaN        NaN        NaN  \n1          Low       High      Close      Block     Volume  \n2       293.25     296.75     296.75        NaN   40000000  \n3        293.5     297.75     297.75        NaN   70000000  \n4         54.5       54.5       54.5        NaN  200000000  \n..         ...        ...        ...        ...        ...  \n495    2.45225     2.4825     2.4825        NaN  190000000  \n496      35.05      35.05      35.05        NaN  330000000  \n497      666.5        667      666.5        NaN  437500000  \n498        NaN        NaN        NaN        NaN        NaN  \n499        NaN        NaN        NaN        NaN        NaN  \n\n[500 rows x 9 columns]",
      "text/html": "<div>\n<style scoped>\n    .dataframe tbody tr th:only-of-type {\n        vertical-align: middle;\n    }\n\n    .dataframe tbody tr th {\n        vertical-align: top;\n    }\n\n    .dataframe thead th {\n        text-align: right;\n    }\n</style>\n<table border=\"1\" class=\"dataframe\">\n  <thead>\n    <tr style=\"text-align: right;\">\n      <th></th>\n      <th>BGC SEF PERMITTED AND REQUIRED INSTRUMENTS DAILY PRICE AND VOLUME</th>\n      <th>Unnamed: 1</th>\n      <th>Unnamed: 2</th>\n      <th>Unnamed: 3</th>\n      <th>Unnamed: 4</th>\n      <th>Unnamed: 5</th>\n      <th>Unnamed: 6</th>\n      <th>Unnamed: 7</th>\n      <th>Unnamed: 8</th>\n    </tr>\n  </thead>\n  <tbody>\n    <tr>\n      <th>0</th>\n      <td>Daily Activity Report for 20250307</td>\n      <td>NaN</td>\n      <td>NaN</td>\n      <td>NaN</td>\n      <td>NaN</td>\n      <td>NaN</td>\n      <td>NaN</td>\n      <td>NaN</td>\n      <td>NaN</td>\n    </tr>\n    <tr>\n      <th>1</th>\n      <td>Asset Class</td>\n      <td>Currency</td>\n      <td>InstrumentDescription</td>\n      <td>Open</td>\n      <td>Low</td>\n      <td>High</td>\n      <td>Close</td>\n      <td>Block</td>\n      <td>Volume</td>\n    </tr>\n    <tr>\n      <th>2</th>\n      <td>CD</td>\n      <td>EUR</td>\n      <td>S42 XO 5Y. .ICC</td>\n      <td>293.25</td>\n      <td>293.25</td>\n      <td>296.75</td>\n      <td>296.75</td>\n      <td>NaN</td>\n      <td>40000000</td>\n    </tr>\n    <tr>\n      <th>3</th>\n      <td>CD</td>\n      <td>EUR</td>\n      <td>S42 XO 5Y. .LCH</td>\n      <td>293.5</td>\n      <td>293.5</td>\n      <td>297.75</td>\n      <td>297.75</td>\n      <td>NaN</td>\n      <td>70000000</td>\n    </tr>\n    <tr>\n      <th>4</th>\n      <td>CD</td>\n      <td>EUR</td>\n      <td>S42 EUR V1 - LCH</td>\n      <td>54.5</td>\n      <td>54.5</td>\n      <td>54.5</td>\n      <td>54.5</td>\n      <td>NaN</td>\n      <td>200000000</td>\n    </tr>\n    <tr>\n      <th>...</th>\n      <td>...</td>\n      <td>...</td>\n      <td>...</td>\n      <td>...</td>\n      <td>...</td>\n      <td>...</td>\n      <td>...</td>\n      <td>...</td>\n      <td>...</td>\n    </tr>\n    <tr>\n      <th>495</th>\n      <td>IR</td>\n      <td>USD</td>\n      <td>ZCI 20250307 20250311 5YUSD USD 1M8 0 5Y8 0 5...</td>\n      <td>2.45225</td>\n      <td>2.45225</td>\n      <td>2.4825</td>\n      <td>2.4825</td>\n      <td>NaN</td>\n      <td>190000000</td>\n    </tr>\n    <tr>\n      <th>496</th>\n      <td>IR</td>\n      <td>TRY</td>\n      <td>OIS 20250307 20250310 18MTRY TRY 3M5 179 3M5 ...</td>\n      <td>35.05</td>\n      <td>35.05</td>\n      <td>35.05</td>\n      <td>35.05</td>\n      <td>NaN</td>\n      <td>330000000</td>\n    </tr>\n    <tr>\n      <th>497</th>\n      <td>IR</td>\n      <td>USD</td>\n      <td>OPT 20250307 20260311 10YUSD USD 12M1 0 12M1 ...</td>\n      <td>667</td>\n      <td>666.5</td>\n      <td>667</td>\n      <td>666.5</td>\n      <td>NaN</td>\n      <td>437500000</td>\n    </tr>\n    <tr>\n      <th>498</th>\n      <td>NaN</td>\n      <td>NaN</td>\n      <td>NaN</td>\n      <td>NaN</td>\n      <td>NaN</td>\n      <td>NaN</td>\n      <td>NaN</td>\n      <td>NaN</td>\n      <td>NaN</td>\n    </tr>\n    <tr>\n      <th>499</th>\n      <td>Copyright © 2013 BGC Derivative Markets, L.P. ...</td>\n      <td>NaN</td>\n      <td>NaN</td>\n      <td>NaN</td>\n      <td>NaN</td>\n      <td>NaN</td>\n      <td>NaN</td>\n      <td>NaN</td>\n      <td>NaN</td>\n    </tr>\n  </tbody>\n</table>\n<p>500 rows × 9 columns</p>\n</div>"
     },
     "execution_count": 9,
     "metadata": {},
     "output_type": "execute_result"
    }
   ],
   "source": [
    "import joblib\n",
    "\n",
    "df = None\n",
    "df = joblib.load('/Users/cleiton/PycharmProjects/ndfutil/DATA/bgc_2025-03-08.pkl')\n",
    "\n",
    "df\n"
   ],
   "metadata": {
    "collapsed": false,
    "ExecuteTime": {
     "end_time": "2025-03-08T19:23:00.199384Z",
     "start_time": "2025-03-08T19:23:00.162444Z"
    }
   }
  },
  {
   "cell_type": "code",
   "execution_count": 10,
   "outputs": [
    {
     "data": {
      "text/plain": "0                                InstrumentDescription     Volume\n0                                InstrumentDescription     Volume\n1                                      S42 XO 5Y. .ICC   40000000\n2                                      S42 XO 5Y. .LCH   70000000\n3                                     S42 EUR V1 - LCH  200000000\n4                                      S42 XO V2 - LCH   50000000\n..                                                 ...        ...\n492   IRS 20250307 20250311 5YEUR EUR 12M2 167 6M1 ...  703900000\n493   ZCI 20250307 20250311 5YUSD USD 1Y8 0 5Y8 0 5...  153000000\n494   ZCI 20250307 20250311 5YUSD USD 1M8 0 5Y8 0 5...  190000000\n495   OIS 20250307 20250310 18MTRY TRY 3M5 179 3M5 ...  330000000\n496   OPT 20250307 20260311 10YUSD USD 12M1 0 12M1 ...  437500000\n\n[497 rows x 2 columns]",
      "text/html": "<div>\n<style scoped>\n    .dataframe tbody tr th:only-of-type {\n        vertical-align: middle;\n    }\n\n    .dataframe tbody tr th {\n        vertical-align: top;\n    }\n\n    .dataframe thead th {\n        text-align: right;\n    }\n</style>\n<table border=\"1\" class=\"dataframe\">\n  <thead>\n    <tr style=\"text-align: right;\">\n      <th></th>\n      <th>InstrumentDescription</th>\n      <th>Volume</th>\n    </tr>\n  </thead>\n  <tbody>\n    <tr>\n      <th>0</th>\n      <td>InstrumentDescription</td>\n      <td>Volume</td>\n    </tr>\n    <tr>\n      <th>1</th>\n      <td>S42 XO 5Y. .ICC</td>\n      <td>40000000</td>\n    </tr>\n    <tr>\n      <th>2</th>\n      <td>S42 XO 5Y. .LCH</td>\n      <td>70000000</td>\n    </tr>\n    <tr>\n      <th>3</th>\n      <td>S42 EUR V1 - LCH</td>\n      <td>200000000</td>\n    </tr>\n    <tr>\n      <th>4</th>\n      <td>S42 XO V2 - LCH</td>\n      <td>50000000</td>\n    </tr>\n    <tr>\n      <th>...</th>\n      <td>...</td>\n      <td>...</td>\n    </tr>\n    <tr>\n      <th>492</th>\n      <td>IRS 20250307 20250311 5YEUR EUR 12M2 167 6M1 ...</td>\n      <td>703900000</td>\n    </tr>\n    <tr>\n      <th>493</th>\n      <td>ZCI 20250307 20250311 5YUSD USD 1Y8 0 5Y8 0 5...</td>\n      <td>153000000</td>\n    </tr>\n    <tr>\n      <th>494</th>\n      <td>ZCI 20250307 20250311 5YUSD USD 1M8 0 5Y8 0 5...</td>\n      <td>190000000</td>\n    </tr>\n    <tr>\n      <th>495</th>\n      <td>OIS 20250307 20250310 18MTRY TRY 3M5 179 3M5 ...</td>\n      <td>330000000</td>\n    </tr>\n    <tr>\n      <th>496</th>\n      <td>OPT 20250307 20260311 10YUSD USD 12M1 0 12M1 ...</td>\n      <td>437500000</td>\n    </tr>\n  </tbody>\n</table>\n<p>497 rows × 2 columns</p>\n</div>"
     },
     "execution_count": 10,
     "metadata": {},
     "output_type": "execute_result"
    }
   ],
   "source": [
    "# df.drop('Unnamed: 0', axis=1, inplace=True)\n",
    "df.drop([0], axis=0, inplace=True)\n",
    "df.reset_index(drop=True, inplace=True)\n",
    "df.columns = df.iloc[0]\n",
    "df.reset_index(drop=True, inplace=True)\n",
    "df = df.rename(columns={'Contract Description': 'Description'})\n",
    "df.drop(['Asset Class', 'Open', 'Low', 'High', 'Close', 'Block', 'Currency'], axis=1, inplace=True)\n",
    "df = df[df['Volume'].notna()]\n",
    "df"
   ],
   "metadata": {
    "collapsed": false,
    "ExecuteTime": {
     "end_time": "2025-03-08T19:23:00.351712Z",
     "start_time": "2025-03-08T19:23:00.181006Z"
    }
   }
  },
  {
   "cell_type": "code",
   "execution_count": 11,
   "outputs": [
    {
     "data": {
      "text/plain": "0                                InstrumentDescription     Volume\n0                                InstrumentDescription     Volume\n1                                      S42 XO 5Y. .ICC   40000000\n2                                      S42 XO 5Y. .LCH   70000000\n3                                     S42 EUR V1 - LCH  200000000\n4                                      S42 XO V2 - LCH   50000000\n..                                                 ...        ...\n492   IRS 20250307 20250311 5YEUR EUR 12M2 167 6M1 ...  703900000\n493   ZCI 20250307 20250311 5YUSD USD 1Y8 0 5Y8 0 5...  153000000\n494   ZCI 20250307 20250311 5YUSD USD 1M8 0 5Y8 0 5...  190000000\n495   OIS 20250307 20250310 18MTRY TRY 3M5 179 3M5 ...  330000000\n496   OPT 20250307 20260311 10YUSD USD 12M1 0 12M1 ...  437500000\n\n[497 rows x 2 columns]",
      "text/html": "<div>\n<style scoped>\n    .dataframe tbody tr th:only-of-type {\n        vertical-align: middle;\n    }\n\n    .dataframe tbody tr th {\n        vertical-align: top;\n    }\n\n    .dataframe thead th {\n        text-align: right;\n    }\n</style>\n<table border=\"1\" class=\"dataframe\">\n  <thead>\n    <tr style=\"text-align: right;\">\n      <th></th>\n      <th>InstrumentDescription</th>\n      <th>Volume</th>\n    </tr>\n  </thead>\n  <tbody>\n    <tr>\n      <th>0</th>\n      <td>InstrumentDescription</td>\n      <td>Volume</td>\n    </tr>\n    <tr>\n      <th>1</th>\n      <td>S42 XO 5Y. .ICC</td>\n      <td>40000000</td>\n    </tr>\n    <tr>\n      <th>2</th>\n      <td>S42 XO 5Y. .LCH</td>\n      <td>70000000</td>\n    </tr>\n    <tr>\n      <th>3</th>\n      <td>S42 EUR V1 - LCH</td>\n      <td>200000000</td>\n    </tr>\n    <tr>\n      <th>4</th>\n      <td>S42 XO V2 - LCH</td>\n      <td>50000000</td>\n    </tr>\n    <tr>\n      <th>...</th>\n      <td>...</td>\n      <td>...</td>\n    </tr>\n    <tr>\n      <th>492</th>\n      <td>IRS 20250307 20250311 5YEUR EUR 12M2 167 6M1 ...</td>\n      <td>703900000</td>\n    </tr>\n    <tr>\n      <th>493</th>\n      <td>ZCI 20250307 20250311 5YUSD USD 1Y8 0 5Y8 0 5...</td>\n      <td>153000000</td>\n    </tr>\n    <tr>\n      <th>494</th>\n      <td>ZCI 20250307 20250311 5YUSD USD 1M8 0 5Y8 0 5...</td>\n      <td>190000000</td>\n    </tr>\n    <tr>\n      <th>495</th>\n      <td>OIS 20250307 20250310 18MTRY TRY 3M5 179 3M5 ...</td>\n      <td>330000000</td>\n    </tr>\n    <tr>\n      <th>496</th>\n      <td>OPT 20250307 20260311 10YUSD USD 12M1 0 12M1 ...</td>\n      <td>437500000</td>\n    </tr>\n  </tbody>\n</table>\n<p>497 rows × 2 columns</p>\n</div>"
     },
     "execution_count": 11,
     "metadata": {},
     "output_type": "execute_result"
    }
   ],
   "source": [
    "df"
   ],
   "metadata": {
    "collapsed": false,
    "ExecuteTime": {
     "end_time": "2025-03-08T19:23:00.352051Z",
     "start_time": "2025-03-08T19:23:00.192425Z"
    }
   }
  },
  {
   "cell_type": "code",
   "execution_count": 12,
   "outputs": [
    {
     "data": {
      "text/plain": "     Unnamed: 0  \\\n0           NaN   \n1           NaN   \n2           NaN   \n3           NaN   \n4           NaN   \n..          ...   \n455         NaN   \n456         NaN   \n457         NaN   \n458         NaN   \n459         NaN   \n\n    BGC SEF PERMITTED AND REQUIRED INSTRUMENTS DAILY PRICE AND VOLUME  \\\n0                                                  NaN                  \n1                                                  NaN                  \n2    Copyright © 2013 BGC Derivative Market, L.P.  ...                  \n3                                           Trade Date                  \n4                                           2023-04-27                  \n..                                                 ...                  \n455                                         2023-04-27                  \n456                                         2023-04-27                  \n457                                         2023-04-27                  \n458                                         2023-04-27                  \n459                                                NaN                  \n\n      Unnamed: 2 Unnamed: 3                          Unnamed: 4 Unnamed: 5  \\\n0            NaN        NaN                                 NaN        NaN   \n1            NaN        NaN                                 NaN        NaN   \n2            NaN        NaN                                 NaN        NaN   \n3    Asset Class   Currency               InstrumentDescription       Open   \n4             CD        EUR                    S39 EUR 5Y. .LCH       84.5   \n..           ...        ...                                 ...        ...   \n455           IR        EUR   OPT 20230427 20280502 12MEUR EUR       185.5   \n456           IR        EUR   OPT 20230427 20280502 20YEUR EUR        2181   \n457           IR        EUR   OPT 20230427 20290502 10YEUR EUR        1457   \n458           IR        USD   OPT 20230427 20300501 20YUSD USD        2320   \n459          NaN        NaN                                 NaN        NaN   \n\n    Unnamed: 6 Unnamed: 7 Unnamed: 8 Unnamed: 9 Unnamed: 10 Unnamed: 11  \\\n0          NaN        NaN        NaN        NaN         NaN         NaN   \n1          NaN        NaN        NaN        NaN         NaN         NaN   \n2          NaN        NaN        NaN        NaN         NaN         NaN   \n3     OpenType        Low    LowType       High    HighType       Close   \n4        TRANS      83.75        BID       84.5         BID       83.75   \n..         ...        ...        ...        ...         ...         ...   \n455      TRANS      185.5      TRANS      185.5       TRANS         185   \n456      TRANS       2181      TRANS       2181       TRANS        2181   \n457      TRANS       1457      TRANS       1457       TRANS        1457   \n458      TRANS       2320      TRANS       2320       TRANS        2320   \n459        NaN        NaN        NaN        NaN         NaN         NaN   \n\n    Unnamed: 12 Unnamed: 13 Unnamed: 14 Unnamed: 15  \n0           NaN         NaN         NaN         NaN  \n1           NaN         NaN         NaN         NaN  \n2           NaN         NaN         NaN         NaN  \n3     CloseType       Block  EDRPVolume      Volume  \n4         TRANS         NaN         NaN    75000000  \n..          ...         ...         ...         ...  \n455       TRANS         NaN         NaN   200000000  \n456       TRANS         NaN         NaN    50000000  \n457       TRANS         NaN         NaN    32000000  \n458       TRANS         NaN         NaN    25000000  \n459         NaN         NaN         NaN         NaN  \n\n[460 rows x 16 columns]",
      "text/html": "<div>\n<style scoped>\n    .dataframe tbody tr th:only-of-type {\n        vertical-align: middle;\n    }\n\n    .dataframe tbody tr th {\n        vertical-align: top;\n    }\n\n    .dataframe thead th {\n        text-align: right;\n    }\n</style>\n<table border=\"1\" class=\"dataframe\">\n  <thead>\n    <tr style=\"text-align: right;\">\n      <th></th>\n      <th>Unnamed: 0</th>\n      <th>BGC SEF PERMITTED AND REQUIRED INSTRUMENTS DAILY PRICE AND VOLUME</th>\n      <th>Unnamed: 2</th>\n      <th>Unnamed: 3</th>\n      <th>Unnamed: 4</th>\n      <th>Unnamed: 5</th>\n      <th>Unnamed: 6</th>\n      <th>Unnamed: 7</th>\n      <th>Unnamed: 8</th>\n      <th>Unnamed: 9</th>\n      <th>Unnamed: 10</th>\n      <th>Unnamed: 11</th>\n      <th>Unnamed: 12</th>\n      <th>Unnamed: 13</th>\n      <th>Unnamed: 14</th>\n      <th>Unnamed: 15</th>\n    </tr>\n  </thead>\n  <tbody>\n    <tr>\n      <th>0</th>\n      <td>NaN</td>\n      <td>NaN</td>\n      <td>NaN</td>\n      <td>NaN</td>\n      <td>NaN</td>\n      <td>NaN</td>\n      <td>NaN</td>\n      <td>NaN</td>\n      <td>NaN</td>\n      <td>NaN</td>\n      <td>NaN</td>\n      <td>NaN</td>\n      <td>NaN</td>\n      <td>NaN</td>\n      <td>NaN</td>\n      <td>NaN</td>\n    </tr>\n    <tr>\n      <th>1</th>\n      <td>NaN</td>\n      <td>NaN</td>\n      <td>NaN</td>\n      <td>NaN</td>\n      <td>NaN</td>\n      <td>NaN</td>\n      <td>NaN</td>\n      <td>NaN</td>\n      <td>NaN</td>\n      <td>NaN</td>\n      <td>NaN</td>\n      <td>NaN</td>\n      <td>NaN</td>\n      <td>NaN</td>\n      <td>NaN</td>\n      <td>NaN</td>\n    </tr>\n    <tr>\n      <th>2</th>\n      <td>NaN</td>\n      <td>Copyright © 2013 BGC Derivative Market, L.P.  ...</td>\n      <td>NaN</td>\n      <td>NaN</td>\n      <td>NaN</td>\n      <td>NaN</td>\n      <td>NaN</td>\n      <td>NaN</td>\n      <td>NaN</td>\n      <td>NaN</td>\n      <td>NaN</td>\n      <td>NaN</td>\n      <td>NaN</td>\n      <td>NaN</td>\n      <td>NaN</td>\n      <td>NaN</td>\n    </tr>\n    <tr>\n      <th>3</th>\n      <td>NaN</td>\n      <td>Trade Date</td>\n      <td>Asset Class</td>\n      <td>Currency</td>\n      <td>InstrumentDescription</td>\n      <td>Open</td>\n      <td>OpenType</td>\n      <td>Low</td>\n      <td>LowType</td>\n      <td>High</td>\n      <td>HighType</td>\n      <td>Close</td>\n      <td>CloseType</td>\n      <td>Block</td>\n      <td>EDRPVolume</td>\n      <td>Volume</td>\n    </tr>\n    <tr>\n      <th>4</th>\n      <td>NaN</td>\n      <td>2023-04-27</td>\n      <td>CD</td>\n      <td>EUR</td>\n      <td>S39 EUR 5Y. .LCH</td>\n      <td>84.5</td>\n      <td>TRANS</td>\n      <td>83.75</td>\n      <td>BID</td>\n      <td>84.5</td>\n      <td>BID</td>\n      <td>83.75</td>\n      <td>TRANS</td>\n      <td>NaN</td>\n      <td>NaN</td>\n      <td>75000000</td>\n    </tr>\n    <tr>\n      <th>...</th>\n      <td>...</td>\n      <td>...</td>\n      <td>...</td>\n      <td>...</td>\n      <td>...</td>\n      <td>...</td>\n      <td>...</td>\n      <td>...</td>\n      <td>...</td>\n      <td>...</td>\n      <td>...</td>\n      <td>...</td>\n      <td>...</td>\n      <td>...</td>\n      <td>...</td>\n      <td>...</td>\n    </tr>\n    <tr>\n      <th>455</th>\n      <td>NaN</td>\n      <td>2023-04-27</td>\n      <td>IR</td>\n      <td>EUR</td>\n      <td>OPT 20230427 20280502 12MEUR EUR</td>\n      <td>185.5</td>\n      <td>TRANS</td>\n      <td>185.5</td>\n      <td>TRANS</td>\n      <td>185.5</td>\n      <td>TRANS</td>\n      <td>185</td>\n      <td>TRANS</td>\n      <td>NaN</td>\n      <td>NaN</td>\n      <td>200000000</td>\n    </tr>\n    <tr>\n      <th>456</th>\n      <td>NaN</td>\n      <td>2023-04-27</td>\n      <td>IR</td>\n      <td>EUR</td>\n      <td>OPT 20230427 20280502 20YEUR EUR</td>\n      <td>2181</td>\n      <td>TRANS</td>\n      <td>2181</td>\n      <td>TRANS</td>\n      <td>2181</td>\n      <td>TRANS</td>\n      <td>2181</td>\n      <td>TRANS</td>\n      <td>NaN</td>\n      <td>NaN</td>\n      <td>50000000</td>\n    </tr>\n    <tr>\n      <th>457</th>\n      <td>NaN</td>\n      <td>2023-04-27</td>\n      <td>IR</td>\n      <td>EUR</td>\n      <td>OPT 20230427 20290502 10YEUR EUR</td>\n      <td>1457</td>\n      <td>TRANS</td>\n      <td>1457</td>\n      <td>TRANS</td>\n      <td>1457</td>\n      <td>TRANS</td>\n      <td>1457</td>\n      <td>TRANS</td>\n      <td>NaN</td>\n      <td>NaN</td>\n      <td>32000000</td>\n    </tr>\n    <tr>\n      <th>458</th>\n      <td>NaN</td>\n      <td>2023-04-27</td>\n      <td>IR</td>\n      <td>USD</td>\n      <td>OPT 20230427 20300501 20YUSD USD</td>\n      <td>2320</td>\n      <td>TRANS</td>\n      <td>2320</td>\n      <td>TRANS</td>\n      <td>2320</td>\n      <td>TRANS</td>\n      <td>2320</td>\n      <td>TRANS</td>\n      <td>NaN</td>\n      <td>NaN</td>\n      <td>25000000</td>\n    </tr>\n    <tr>\n      <th>459</th>\n      <td>NaN</td>\n      <td>NaN</td>\n      <td>NaN</td>\n      <td>NaN</td>\n      <td>NaN</td>\n      <td>NaN</td>\n      <td>NaN</td>\n      <td>NaN</td>\n      <td>NaN</td>\n      <td>NaN</td>\n      <td>NaN</td>\n      <td>NaN</td>\n      <td>NaN</td>\n      <td>NaN</td>\n      <td>NaN</td>\n      <td>NaN</td>\n    </tr>\n  </tbody>\n</table>\n<p>460 rows × 16 columns</p>\n</div>"
     },
     "execution_count": 12,
     "metadata": {},
     "output_type": "execute_result"
    }
   ],
   "source": [
    "#\n",
    "# DADOS ANTIGOS \n",
    "#\n",
    "\n",
    "import joblib\n",
    "\n",
    "df_antigo = joblib.load('/Users/cleiton/PycharmProjects/ndfutil/DATA/BGC_2023-04-28.pkl')\n",
    "\n",
    "df_antigo"
   ],
   "metadata": {
    "collapsed": false,
    "ExecuteTime": {
     "end_time": "2025-03-08T19:23:00.369346Z",
     "start_time": "2025-03-08T19:23:00.196297Z"
    }
   }
  },
  {
   "cell_type": "code",
   "execution_count": 13,
   "outputs": [
    {
     "data": {
      "text/plain": "    BGC SEF PERMITTED AND REQUIRED INSTRUMENTS DAILY PRICE AND VOLUME  \\\n0                                                  NaN                  \n1                                                  NaN                  \n2    Copyright © 2013 BGC Derivative Market, L.P.  ...                  \n3                                           Trade Date                  \n4                                           2023-04-27                  \n..                                                 ...                  \n455                                         2023-04-27                  \n456                                         2023-04-27                  \n457                                         2023-04-27                  \n458                                         2023-04-27                  \n459                                                NaN                  \n\n      Unnamed: 2 Unnamed: 3                          Unnamed: 4 Unnamed: 5  \\\n0            NaN        NaN                                 NaN        NaN   \n1            NaN        NaN                                 NaN        NaN   \n2            NaN        NaN                                 NaN        NaN   \n3    Asset Class   Currency               InstrumentDescription       Open   \n4             CD        EUR                    S39 EUR 5Y. .LCH       84.5   \n..           ...        ...                                 ...        ...   \n455           IR        EUR   OPT 20230427 20280502 12MEUR EUR       185.5   \n456           IR        EUR   OPT 20230427 20280502 20YEUR EUR        2181   \n457           IR        EUR   OPT 20230427 20290502 10YEUR EUR        1457   \n458           IR        USD   OPT 20230427 20300501 20YUSD USD        2320   \n459          NaN        NaN                                 NaN        NaN   \n\n    Unnamed: 6 Unnamed: 7 Unnamed: 8 Unnamed: 9 Unnamed: 10 Unnamed: 11  \\\n0          NaN        NaN        NaN        NaN         NaN         NaN   \n1          NaN        NaN        NaN        NaN         NaN         NaN   \n2          NaN        NaN        NaN        NaN         NaN         NaN   \n3     OpenType        Low    LowType       High    HighType       Close   \n4        TRANS      83.75        BID       84.5         BID       83.75   \n..         ...        ...        ...        ...         ...         ...   \n455      TRANS      185.5      TRANS      185.5       TRANS         185   \n456      TRANS       2181      TRANS       2181       TRANS        2181   \n457      TRANS       1457      TRANS       1457       TRANS        1457   \n458      TRANS       2320      TRANS       2320       TRANS        2320   \n459        NaN        NaN        NaN        NaN         NaN         NaN   \n\n    Unnamed: 12 Unnamed: 13 Unnamed: 14 Unnamed: 15  \n0           NaN         NaN         NaN         NaN  \n1           NaN         NaN         NaN         NaN  \n2           NaN         NaN         NaN         NaN  \n3     CloseType       Block  EDRPVolume      Volume  \n4         TRANS         NaN         NaN    75000000  \n..          ...         ...         ...         ...  \n455       TRANS         NaN         NaN   200000000  \n456       TRANS         NaN         NaN    50000000  \n457       TRANS         NaN         NaN    32000000  \n458       TRANS         NaN         NaN    25000000  \n459         NaN         NaN         NaN         NaN  \n\n[460 rows x 15 columns]",
      "text/html": "<div>\n<style scoped>\n    .dataframe tbody tr th:only-of-type {\n        vertical-align: middle;\n    }\n\n    .dataframe tbody tr th {\n        vertical-align: top;\n    }\n\n    .dataframe thead th {\n        text-align: right;\n    }\n</style>\n<table border=\"1\" class=\"dataframe\">\n  <thead>\n    <tr style=\"text-align: right;\">\n      <th></th>\n      <th>BGC SEF PERMITTED AND REQUIRED INSTRUMENTS DAILY PRICE AND VOLUME</th>\n      <th>Unnamed: 2</th>\n      <th>Unnamed: 3</th>\n      <th>Unnamed: 4</th>\n      <th>Unnamed: 5</th>\n      <th>Unnamed: 6</th>\n      <th>Unnamed: 7</th>\n      <th>Unnamed: 8</th>\n      <th>Unnamed: 9</th>\n      <th>Unnamed: 10</th>\n      <th>Unnamed: 11</th>\n      <th>Unnamed: 12</th>\n      <th>Unnamed: 13</th>\n      <th>Unnamed: 14</th>\n      <th>Unnamed: 15</th>\n    </tr>\n  </thead>\n  <tbody>\n    <tr>\n      <th>0</th>\n      <td>NaN</td>\n      <td>NaN</td>\n      <td>NaN</td>\n      <td>NaN</td>\n      <td>NaN</td>\n      <td>NaN</td>\n      <td>NaN</td>\n      <td>NaN</td>\n      <td>NaN</td>\n      <td>NaN</td>\n      <td>NaN</td>\n      <td>NaN</td>\n      <td>NaN</td>\n      <td>NaN</td>\n      <td>NaN</td>\n    </tr>\n    <tr>\n      <th>1</th>\n      <td>NaN</td>\n      <td>NaN</td>\n      <td>NaN</td>\n      <td>NaN</td>\n      <td>NaN</td>\n      <td>NaN</td>\n      <td>NaN</td>\n      <td>NaN</td>\n      <td>NaN</td>\n      <td>NaN</td>\n      <td>NaN</td>\n      <td>NaN</td>\n      <td>NaN</td>\n      <td>NaN</td>\n      <td>NaN</td>\n    </tr>\n    <tr>\n      <th>2</th>\n      <td>Copyright © 2013 BGC Derivative Market, L.P.  ...</td>\n      <td>NaN</td>\n      <td>NaN</td>\n      <td>NaN</td>\n      <td>NaN</td>\n      <td>NaN</td>\n      <td>NaN</td>\n      <td>NaN</td>\n      <td>NaN</td>\n      <td>NaN</td>\n      <td>NaN</td>\n      <td>NaN</td>\n      <td>NaN</td>\n      <td>NaN</td>\n      <td>NaN</td>\n    </tr>\n    <tr>\n      <th>3</th>\n      <td>Trade Date</td>\n      <td>Asset Class</td>\n      <td>Currency</td>\n      <td>InstrumentDescription</td>\n      <td>Open</td>\n      <td>OpenType</td>\n      <td>Low</td>\n      <td>LowType</td>\n      <td>High</td>\n      <td>HighType</td>\n      <td>Close</td>\n      <td>CloseType</td>\n      <td>Block</td>\n      <td>EDRPVolume</td>\n      <td>Volume</td>\n    </tr>\n    <tr>\n      <th>4</th>\n      <td>2023-04-27</td>\n      <td>CD</td>\n      <td>EUR</td>\n      <td>S39 EUR 5Y. .LCH</td>\n      <td>84.5</td>\n      <td>TRANS</td>\n      <td>83.75</td>\n      <td>BID</td>\n      <td>84.5</td>\n      <td>BID</td>\n      <td>83.75</td>\n      <td>TRANS</td>\n      <td>NaN</td>\n      <td>NaN</td>\n      <td>75000000</td>\n    </tr>\n    <tr>\n      <th>...</th>\n      <td>...</td>\n      <td>...</td>\n      <td>...</td>\n      <td>...</td>\n      <td>...</td>\n      <td>...</td>\n      <td>...</td>\n      <td>...</td>\n      <td>...</td>\n      <td>...</td>\n      <td>...</td>\n      <td>...</td>\n      <td>...</td>\n      <td>...</td>\n      <td>...</td>\n    </tr>\n    <tr>\n      <th>455</th>\n      <td>2023-04-27</td>\n      <td>IR</td>\n      <td>EUR</td>\n      <td>OPT 20230427 20280502 12MEUR EUR</td>\n      <td>185.5</td>\n      <td>TRANS</td>\n      <td>185.5</td>\n      <td>TRANS</td>\n      <td>185.5</td>\n      <td>TRANS</td>\n      <td>185</td>\n      <td>TRANS</td>\n      <td>NaN</td>\n      <td>NaN</td>\n      <td>200000000</td>\n    </tr>\n    <tr>\n      <th>456</th>\n      <td>2023-04-27</td>\n      <td>IR</td>\n      <td>EUR</td>\n      <td>OPT 20230427 20280502 20YEUR EUR</td>\n      <td>2181</td>\n      <td>TRANS</td>\n      <td>2181</td>\n      <td>TRANS</td>\n      <td>2181</td>\n      <td>TRANS</td>\n      <td>2181</td>\n      <td>TRANS</td>\n      <td>NaN</td>\n      <td>NaN</td>\n      <td>50000000</td>\n    </tr>\n    <tr>\n      <th>457</th>\n      <td>2023-04-27</td>\n      <td>IR</td>\n      <td>EUR</td>\n      <td>OPT 20230427 20290502 10YEUR EUR</td>\n      <td>1457</td>\n      <td>TRANS</td>\n      <td>1457</td>\n      <td>TRANS</td>\n      <td>1457</td>\n      <td>TRANS</td>\n      <td>1457</td>\n      <td>TRANS</td>\n      <td>NaN</td>\n      <td>NaN</td>\n      <td>32000000</td>\n    </tr>\n    <tr>\n      <th>458</th>\n      <td>2023-04-27</td>\n      <td>IR</td>\n      <td>USD</td>\n      <td>OPT 20230427 20300501 20YUSD USD</td>\n      <td>2320</td>\n      <td>TRANS</td>\n      <td>2320</td>\n      <td>TRANS</td>\n      <td>2320</td>\n      <td>TRANS</td>\n      <td>2320</td>\n      <td>TRANS</td>\n      <td>NaN</td>\n      <td>NaN</td>\n      <td>25000000</td>\n    </tr>\n    <tr>\n      <th>459</th>\n      <td>NaN</td>\n      <td>NaN</td>\n      <td>NaN</td>\n      <td>NaN</td>\n      <td>NaN</td>\n      <td>NaN</td>\n      <td>NaN</td>\n      <td>NaN</td>\n      <td>NaN</td>\n      <td>NaN</td>\n      <td>NaN</td>\n      <td>NaN</td>\n      <td>NaN</td>\n      <td>NaN</td>\n      <td>NaN</td>\n    </tr>\n  </tbody>\n</table>\n<p>460 rows × 15 columns</p>\n</div>"
     },
     "execution_count": 13,
     "metadata": {},
     "output_type": "execute_result"
    }
   ],
   "source": [
    "df_antigo.drop('Unnamed: 0', axis=1, inplace=True)\n",
    "df_antigo"
   ],
   "metadata": {
    "collapsed": false,
    "ExecuteTime": {
     "end_time": "2025-03-08T19:23:00.370718Z",
     "start_time": "2025-03-08T19:23:00.210779Z"
    }
   }
  },
  {
   "cell_type": "code",
   "execution_count": 14,
   "outputs": [
    {
     "data": {
      "text/plain": "0    Trade Date               InstrumentDescription  OpenType  LowType  \\\n0    Trade Date               InstrumentDescription  OpenType  LowType   \n1    2023-04-27                    S39 EUR 5Y. .LCH     TRANS      BID   \n2    2023-04-27                     S39 XO 5Y. .LCH     TRANS      ASK   \n3    2023-04-27                    S39 EUR 5y. .ICC     TRANS      ASK   \n4    2023-04-27                    S39 EUR V1 - ICC     TRANS    TRANS   \n..          ...                                 ...       ...      ...   \n451  2023-04-27   OPT 20230427 20280501 30YUSD USD      TRANS    TRANS   \n452  2023-04-27   OPT 20230427 20280502 12MEUR EUR      TRANS    TRANS   \n453  2023-04-27   OPT 20230427 20280502 20YEUR EUR      TRANS    TRANS   \n454  2023-04-27   OPT 20230427 20290502 10YEUR EUR      TRANS    TRANS   \n455  2023-04-27   OPT 20230427 20300501 20YUSD USD      TRANS    TRANS   \n\n0    HighType  CloseType  EDRPVolume     Volume  \n0    HighType  CloseType  EDRPVolume     Volume  \n1         BID      TRANS         NaN   75000000  \n2         ASK      TRANS         NaN   10000000  \n3         BID      TRANS         NaN  125000000  \n4       TRANS      TRANS         NaN  300000000  \n..        ...        ...         ...        ...  \n451     TRANS      TRANS         NaN   50000000  \n452     TRANS      TRANS         NaN  200000000  \n453     TRANS      TRANS         NaN   50000000  \n454     TRANS      TRANS         NaN   32000000  \n455     TRANS      TRANS         NaN   25000000  \n\n[456 rows x 8 columns]",
      "text/html": "<div>\n<style scoped>\n    .dataframe tbody tr th:only-of-type {\n        vertical-align: middle;\n    }\n\n    .dataframe tbody tr th {\n        vertical-align: top;\n    }\n\n    .dataframe thead th {\n        text-align: right;\n    }\n</style>\n<table border=\"1\" class=\"dataframe\">\n  <thead>\n    <tr style=\"text-align: right;\">\n      <th></th>\n      <th>Trade Date</th>\n      <th>InstrumentDescription</th>\n      <th>OpenType</th>\n      <th>LowType</th>\n      <th>HighType</th>\n      <th>CloseType</th>\n      <th>EDRPVolume</th>\n      <th>Volume</th>\n    </tr>\n  </thead>\n  <tbody>\n    <tr>\n      <th>0</th>\n      <td>Trade Date</td>\n      <td>InstrumentDescription</td>\n      <td>OpenType</td>\n      <td>LowType</td>\n      <td>HighType</td>\n      <td>CloseType</td>\n      <td>EDRPVolume</td>\n      <td>Volume</td>\n    </tr>\n    <tr>\n      <th>1</th>\n      <td>2023-04-27</td>\n      <td>S39 EUR 5Y. .LCH</td>\n      <td>TRANS</td>\n      <td>BID</td>\n      <td>BID</td>\n      <td>TRANS</td>\n      <td>NaN</td>\n      <td>75000000</td>\n    </tr>\n    <tr>\n      <th>2</th>\n      <td>2023-04-27</td>\n      <td>S39 XO 5Y. .LCH</td>\n      <td>TRANS</td>\n      <td>ASK</td>\n      <td>ASK</td>\n      <td>TRANS</td>\n      <td>NaN</td>\n      <td>10000000</td>\n    </tr>\n    <tr>\n      <th>3</th>\n      <td>2023-04-27</td>\n      <td>S39 EUR 5y. .ICC</td>\n      <td>TRANS</td>\n      <td>ASK</td>\n      <td>BID</td>\n      <td>TRANS</td>\n      <td>NaN</td>\n      <td>125000000</td>\n    </tr>\n    <tr>\n      <th>4</th>\n      <td>2023-04-27</td>\n      <td>S39 EUR V1 - ICC</td>\n      <td>TRANS</td>\n      <td>TRANS</td>\n      <td>TRANS</td>\n      <td>TRANS</td>\n      <td>NaN</td>\n      <td>300000000</td>\n    </tr>\n    <tr>\n      <th>...</th>\n      <td>...</td>\n      <td>...</td>\n      <td>...</td>\n      <td>...</td>\n      <td>...</td>\n      <td>...</td>\n      <td>...</td>\n      <td>...</td>\n    </tr>\n    <tr>\n      <th>451</th>\n      <td>2023-04-27</td>\n      <td>OPT 20230427 20280501 30YUSD USD</td>\n      <td>TRANS</td>\n      <td>TRANS</td>\n      <td>TRANS</td>\n      <td>TRANS</td>\n      <td>NaN</td>\n      <td>50000000</td>\n    </tr>\n    <tr>\n      <th>452</th>\n      <td>2023-04-27</td>\n      <td>OPT 20230427 20280502 12MEUR EUR</td>\n      <td>TRANS</td>\n      <td>TRANS</td>\n      <td>TRANS</td>\n      <td>TRANS</td>\n      <td>NaN</td>\n      <td>200000000</td>\n    </tr>\n    <tr>\n      <th>453</th>\n      <td>2023-04-27</td>\n      <td>OPT 20230427 20280502 20YEUR EUR</td>\n      <td>TRANS</td>\n      <td>TRANS</td>\n      <td>TRANS</td>\n      <td>TRANS</td>\n      <td>NaN</td>\n      <td>50000000</td>\n    </tr>\n    <tr>\n      <th>454</th>\n      <td>2023-04-27</td>\n      <td>OPT 20230427 20290502 10YEUR EUR</td>\n      <td>TRANS</td>\n      <td>TRANS</td>\n      <td>TRANS</td>\n      <td>TRANS</td>\n      <td>NaN</td>\n      <td>32000000</td>\n    </tr>\n    <tr>\n      <th>455</th>\n      <td>2023-04-27</td>\n      <td>OPT 20230427 20300501 20YUSD USD</td>\n      <td>TRANS</td>\n      <td>TRANS</td>\n      <td>TRANS</td>\n      <td>TRANS</td>\n      <td>NaN</td>\n      <td>25000000</td>\n    </tr>\n  </tbody>\n</table>\n<p>456 rows × 8 columns</p>\n</div>"
     },
     "execution_count": 14,
     "metadata": {},
     "output_type": "execute_result"
    }
   ],
   "source": [
    "\n",
    "df_antigo.drop([0, 1, 2], axis=0, inplace=True)\n",
    "df_antigo.reset_index(drop=True, inplace=True)\n",
    "df_antigo.columns = df_antigo.iloc[0]\n",
    "df_antigo.reset_index(drop=True, inplace=True)\n",
    "df_antigo = df_antigo.rename(columns={'Contract Description': 'Description'})\n",
    "df_antigo.drop(['Asset Class', 'Open', 'Low', 'High', 'Close', 'Block', 'Currency'], axis=1, inplace=True)\n",
    "df_antigo = df_antigo[df_antigo['Volume'].notna()]\n",
    "df_antigo\n"
   ],
   "metadata": {
    "collapsed": false,
    "ExecuteTime": {
     "end_time": "2025-03-08T19:23:00.372193Z",
     "start_time": "2025-03-08T19:23:00.226133Z"
    }
   }
  },
  {
   "cell_type": "code",
   "execution_count": 15,
   "outputs": [
    {
     "name": "stderr",
     "output_type": "stream",
     "text": [
      "2025-03-08 14:23:00.236 | INFO     | ndf.datamining:bgc_calcs:500 - bgc calcs starting\n"
     ]
    },
    {
     "name": "stdout",
     "output_type": "stream",
     "text": [
      "\u001B[32m2025-03-08T14:23:00.236581-0500\u001B[0m \u001B[1mbgc calcs starting\u001B[0m\n"
     ]
    },
    {
     "name": "stderr",
     "output_type": "stream",
     "text": [
      "2025-03-08 14:23:00.237 | DEBUG    | ndf.datamining:bgc_calcs:502 - Opening CACHE FILE /Users/cleiton/PycharmProjects/ndfutil/DATA/bgc_2025-03-08.pkl\n"
     ]
    },
    {
     "name": "stdout",
     "output_type": "stream",
     "text": [
      "\u001B[32m2025-03-08T14:23:00.237710-0500\u001B[0m \u001B[34m\u001B[1mOpening CACHE FILE /Users/cleiton/PycharmProjects/ndfutil/DATA/bgc_2025-03-08.pkl\u001B[0m\n"
     ]
    },
    {
     "name": "stderr",
     "output_type": "stream",
     "text": [
      "2025-03-08 14:23:00.244 | DEBUG    | ndf.datamining:bgc_calcs:547 - BGC before mining:\n",
      "0                     Description    Volume\n",
      "0  USDBRL NDF 07MAR2025 BILATERAL  31960000\n",
      "1  USDBRL NDF 31MAR2025 BILATERAL  32000000\n"
     ]
    },
    {
     "name": "stdout",
     "output_type": "stream",
     "text": [
      "\u001B[32m2025-03-08T14:23:00.244351-0500\u001B[0m \u001B[34m\u001B[1mBGC before mining:\n",
      "0                     Description    Volume\n",
      "0  USDBRL NDF 07MAR2025 BILATERAL  31960000\n",
      "1  USDBRL NDF 31MAR2025 BILATERAL  32000000\u001B[0m\n"
     ]
    },
    {
     "name": "stderr",
     "output_type": "stream",
     "text": [
      "2025-03-08 14:23:00.252 | DEBUG    | ndf.datamining:bgc_calcs:616 - BGC _summary ===>\n",
      "       Total for human    Volume\n",
      "Class                           \n",
      "BMF                32M  32000000\n",
      "BROKEN          31.96M  31960000\n",
      "TOTAL           63.96M  63960000\n",
      "\n"
     ]
    },
    {
     "name": "stdout",
     "output_type": "stream",
     "text": [
      "\u001B[32m2025-03-08T14:23:00.252273-0500\u001B[0m \u001B[34m\u001B[1mBGC _summary ===>\n",
      "       Total for human    Volume\n",
      "Class                           \n",
      "BMF                32M  32000000\n",
      "BROKEN          31.96M  31960000\n",
      "TOTAL           63.96M  63960000\n",
      "\u001B[0m\n"
     ]
    },
    {
     "data": {
      "text/plain": "       Total for human    Volume\nClass                           \nBMF                32M  32000000\nBROKEN          31.96M  31960000\nTOTAL           63.96M  63960000",
      "text/html": "<div>\n<style scoped>\n    .dataframe tbody tr th:only-of-type {\n        vertical-align: middle;\n    }\n\n    .dataframe tbody tr th {\n        vertical-align: top;\n    }\n\n    .dataframe thead th {\n        text-align: right;\n    }\n</style>\n<table border=\"1\" class=\"dataframe\">\n  <thead>\n    <tr style=\"text-align: right;\">\n      <th></th>\n      <th>Total for human</th>\n      <th>Volume</th>\n    </tr>\n    <tr>\n      <th>Class</th>\n      <th></th>\n      <th></th>\n    </tr>\n  </thead>\n  <tbody>\n    <tr>\n      <th>BMF</th>\n      <td>32M</td>\n      <td>32000000</td>\n    </tr>\n    <tr>\n      <th>BROKEN</th>\n      <td>31.96M</td>\n      <td>31960000</td>\n    </tr>\n    <tr>\n      <th>TOTAL</th>\n      <td>63.96M</td>\n      <td>63960000</td>\n    </tr>\n  </tbody>\n</table>\n</div>"
     },
     "execution_count": 15,
     "metadata": {},
     "output_type": "execute_result"
    }
   ],
   "source": [
    "mining.bgc_calcs()"
   ],
   "metadata": {
    "collapsed": false,
    "ExecuteTime": {
     "end_time": "2025-03-08T19:23:00.380994Z",
     "start_time": "2025-03-08T19:23:00.237313Z"
    }
   }
  },
  {
   "cell_type": "code",
   "execution_count": 16,
   "outputs": [
    {
     "name": "stderr",
     "output_type": "stream",
     "text": [
      "2025-03-08 14:23:00.258 | INFO     | ndf.datamining:tulletprebon_calcs:177 - tulletprebon calcs starting\n"
     ]
    },
    {
     "name": "stdout",
     "output_type": "stream",
     "text": [
      "\u001B[32m2025-03-08T14:23:00.258604-0500\u001B[0m \u001B[1mtulletprebon calcs starting\u001B[0m\n"
     ]
    },
    {
     "name": "stderr",
     "output_type": "stream",
     "text": [
      "2025-03-08 14:23:00.259 | DEBUG    | ndf.datamining:tulletprebon_calcs:179 - Opening CACHE FILE /Users/cleiton/PycharmProjects/ndfutil/DATA/tulletprebon_2025-03-08.pkl\n"
     ]
    },
    {
     "name": "stdout",
     "output_type": "stream",
     "text": [
      "\u001B[32m2025-03-08T14:23:00.259757-0500\u001B[0m \u001B[34m\u001B[1mOpening CACHE FILE /Users/cleiton/PycharmProjects/ndfutil/DATA/tulletprebon_2025-03-08.pkl\u001B[0m\n"
     ]
    },
    {
     "name": "stderr",
     "output_type": "stream",
     "text": [
      "2025-03-08 14:23:00.268 | DEBUG    | ndf.datamining:tulletprebon_calcs:198 - tullet before mining:\n",
      "    Batch Date Asset Class       Tradeable Instrument  \\\n",
      "0   2025-03-07          CU     0D_NDF.USD.BRL.TOD_NDF   \n",
      "1   2025-03-07          CU     0D_NDF.USD.BRL.TOM_NDF   \n",
      "2   2025-03-07          CU   22D_NDF.USD.BRL.BMF1_NDF   \n",
      "3   2025-03-07          CU            26D_NDF_USD_BRL   \n",
      "4   2025-03-07          CU  300D_NDF.USD.BRL.300D_NDF   \n",
      "5   2025-03-07          CU            35D_NDF_EUR_BRL   \n",
      "6   2025-03-07          CU            35D_NDF_USD_BRL   \n",
      "7   2025-03-07          CU           369D_NDF_USD_BRL   \n",
      "8   2025-03-07          CU      3D_NDF.USD.BRL.3D_NDF   \n",
      "9   2025-03-07          CU             4D_NDF_USD_BRL   \n",
      "10  2025-03-07          CU   55D_NDF.USD.BRL.BMF2_NDF   \n",
      "11  2025-03-07          CU             5D_NDF_USD_BRL   \n",
      "12  2025-03-07          CU      6D_NDF.USD.BRL.6D_NDF   \n",
      "13  2025-03-07          CU             6D_NDF_USD_BRL   \n",
      "14  2025-03-07          CU    8D_NDF.USD.BRL.IMM1_NDF   \n",
      "15  2025-03-07          CU            96D_NDF_USD_BRL   \n",
      "16  2025-03-07          CU   99D_NDF.USD.BRL.IMM2_NDF   \n",
      "\n",
      "                           Description Opening Price Trade High Trade Low  \\\n",
      "0               0D_NDF.USD.BRL.TOD_NDF        5.7616     5.7616   5.75865   \n",
      "1               0D_NDF.USD.BRL.TOM_NDF        5.7716     5.7951    5.7716   \n",
      "2             22D_NDF.USD.BRL.BMF1_NDF         5.789     5.8272     5.786   \n",
      "3   NDF_USD_BRL Maturing on 2025-04-02         5.792       5.82     5.792   \n",
      "4            300D_NDF.USD.BRL.300D_NDF        6.2046     6.2046    6.2046   \n",
      "5   NDF_EUR_BRL Maturing on 2025-04-11         6.315      6.315     6.315   \n",
      "6   NDF_USD_BRL Maturing on 2025-04-11         5.832      5.832     5.832   \n",
      "7   NDF_USD_BRL Maturing on 2026-03-11         6.283      6.311     6.283   \n",
      "8                3D_NDF.USD.BRL.3D_NDF        5.7758     5.7758    5.7758   \n",
      "9   NDF_USD_BRL Maturing on 2025-03-11        5.7649     5.7649    5.7649   \n",
      "10            55D_NDF.USD.BRL.BMF2_NDF        5.8265     5.8523    5.8265   \n",
      "11  NDF_USD_BRL Maturing on 2025-03-12        5.7695     5.7946    5.7695   \n",
      "12               6D_NDF.USD.BRL.6D_NDF        5.7928     5.7928    5.7928   \n",
      "13  NDF_USD_BRL Maturing on 2025-03-13       5.77145      5.792   5.77145   \n",
      "14             8D_NDF.USD.BRL.IMM1_NDF         5.788      5.788     5.788   \n",
      "15  NDF_USD_BRL Maturing on 2025-06-11         5.905      5.905     5.905   \n",
      "16            99D_NDF.USD.BRL.IMM2_NDF        5.9027     5.9027    5.9027   \n",
      "\n",
      "   Closing Price Num of Trades Total Notional Value        Source Class  \n",
      "0        5.75865             2             77500000  TULLETPREBON        \n",
      "1         5.7951             6             73000000  TULLETPREBON        \n",
      "2           5.82            22           1247200000  TULLETPREBON        \n",
      "3           5.82             6            477000000  TULLETPREBON        \n",
      "4         6.2046             1             30000000  TULLETPREBON        \n",
      "5          6.315             1               500000  TULLETPREBON        \n",
      "6          5.832             2             19400000  TULLETPREBON        \n",
      "7           6.31             4             44100000  TULLETPREBON        \n",
      "8         5.7758             2             16000000  TULLETPREBON        \n",
      "9         5.7649             1             64000000  TULLETPREBON        \n",
      "10        5.8523             4            220000000  TULLETPREBON        \n",
      "11         5.792             3            124400000  TULLETPREBON        \n",
      "12        5.7928             1             22000000  TULLETPREBON        \n",
      "13         5.792             2             20950000  TULLETPREBON        \n",
      "14         5.788             1             79100000  TULLETPREBON        \n",
      "15         5.905             1               900000  TULLETPREBON        \n",
      "16        5.9027             1             80000000  TULLETPREBON        \n"
     ]
    },
    {
     "name": "stdout",
     "output_type": "stream",
     "text": [
      "\u001B[32m2025-03-08T14:23:00.268226-0500\u001B[0m \u001B[34m\u001B[1mtullet before mining:\n",
      "    Batch Date Asset Class       Tradeable Instrument  \\\n",
      "0   2025-03-07          CU     0D_NDF.USD.BRL.TOD_NDF   \n",
      "1   2025-03-07          CU     0D_NDF.USD.BRL.TOM_NDF   \n",
      "2   2025-03-07          CU   22D_NDF.USD.BRL.BMF1_NDF   \n",
      "3   2025-03-07          CU            26D_NDF_USD_BRL   \n",
      "4   2025-03-07          CU  300D_NDF.USD.BRL.300D_NDF   \n",
      "5   2025-03-07          CU            35D_NDF_EUR_BRL   \n",
      "6   2025-03-07          CU            35D_NDF_USD_BRL   \n",
      "7   2025-03-07          CU           369D_NDF_USD_BRL   \n",
      "8   2025-03-07          CU      3D_NDF.USD.BRL.3D_NDF   \n",
      "9   2025-03-07          CU             4D_NDF_USD_BRL   \n",
      "10  2025-03-07          CU   55D_NDF.USD.BRL.BMF2_NDF   \n",
      "11  2025-03-07          CU             5D_NDF_USD_BRL   \n",
      "12  2025-03-07          CU      6D_NDF.USD.BRL.6D_NDF   \n",
      "13  2025-03-07          CU             6D_NDF_USD_BRL   \n",
      "14  2025-03-07          CU    8D_NDF.USD.BRL.IMM1_NDF   \n",
      "15  2025-03-07          CU            96D_NDF_USD_BRL   \n",
      "16  2025-03-07          CU   99D_NDF.USD.BRL.IMM2_NDF   \n",
      "\n",
      "                           Description Opening Price Trade High Trade Low  \\\n",
      "0               0D_NDF.USD.BRL.TOD_NDF        5.7616     5.7616   5.75865   \n",
      "1               0D_NDF.USD.BRL.TOM_NDF        5.7716     5.7951    5.7716   \n",
      "2             22D_NDF.USD.BRL.BMF1_NDF         5.789     5.8272     5.786   \n",
      "3   NDF_USD_BRL Maturing on 2025-04-02         5.792       5.82     5.792   \n",
      "4            300D_NDF.USD.BRL.300D_NDF        6.2046     6.2046    6.2046   \n",
      "5   NDF_EUR_BRL Maturing on 2025-04-11         6.315      6.315     6.315   \n",
      "6   NDF_USD_BRL Maturing on 2025-04-11         5.832      5.832     5.832   \n",
      "7   NDF_USD_BRL Maturing on 2026-03-11         6.283      6.311     6.283   \n",
      "8                3D_NDF.USD.BRL.3D_NDF        5.7758     5.7758    5.7758   \n",
      "9   NDF_USD_BRL Maturing on 2025-03-11        5.7649     5.7649    5.7649   \n",
      "10            55D_NDF.USD.BRL.BMF2_NDF        5.8265     5.8523    5.8265   \n",
      "11  NDF_USD_BRL Maturing on 2025-03-12        5.7695     5.7946    5.7695   \n",
      "12               6D_NDF.USD.BRL.6D_NDF        5.7928     5.7928    5.7928   \n",
      "13  NDF_USD_BRL Maturing on 2025-03-13       5.77145      5.792   5.77145   \n",
      "14             8D_NDF.USD.BRL.IMM1_NDF         5.788      5.788     5.788   \n",
      "15  NDF_USD_BRL Maturing on 2025-06-11         5.905      5.905     5.905   \n",
      "16            99D_NDF.USD.BRL.IMM2_NDF        5.9027     5.9027    5.9027   \n",
      "\n",
      "   Closing Price Num of Trades Total Notional Value        Source Class  \n",
      "0        5.75865             2             77500000  TULLETPREBON        \n",
      "1         5.7951             6             73000000  TULLETPREBON        \n",
      "2           5.82            22           1247200000  TULLETPREBON        \n",
      "3           5.82             6            477000000  TULLETPREBON        \n",
      "4         6.2046             1             30000000  TULLETPREBON        \n",
      "5          6.315             1               500000  TULLETPREBON        \n",
      "6          5.832             2             19400000  TULLETPREBON        \n",
      "7           6.31             4             44100000  TULLETPREBON        \n",
      "8         5.7758             2             16000000  TULLETPREBON        \n",
      "9         5.7649             1             64000000  TULLETPREBON        \n",
      "10        5.8523             4            220000000  TULLETPREBON        \n",
      "11         5.792             3            124400000  TULLETPREBON        \n",
      "12        5.7928             1             22000000  TULLETPREBON        \n",
      "13         5.792             2             20950000  TULLETPREBON        \n",
      "14         5.788             1             79100000  TULLETPREBON        \n",
      "15         5.905             1               900000  TULLETPREBON        \n",
      "16        5.9027             1             80000000  TULLETPREBON        \u001B[0m\n"
     ]
    },
    {
     "name": "stderr",
     "output_type": "stream",
     "text": [
      "2025-03-08 14:23:00.269 | DEBUG    | ndf.datamining:tulletprebon_calcs:203 -     Batch Date Asset Class       Tradeable Instrument  \\\n",
      "0   2025-03-07          CU     0D_NDF.USD.BRL.TOD_NDF   \n",
      "1   2025-03-07          CU     0D_NDF.USD.BRL.TOM_NDF   \n",
      "2   2025-03-07          CU   22D_NDF.USD.BRL.BMF1_NDF   \n",
      "3   2025-03-07          CU            26D_NDF_USD_BRL   \n",
      "4   2025-03-07          CU  300D_NDF.USD.BRL.300D_NDF   \n",
      "5   2025-03-07          CU            35D_NDF_EUR_BRL   \n",
      "6   2025-03-07          CU            35D_NDF_USD_BRL   \n",
      "7   2025-03-07          CU           369D_NDF_USD_BRL   \n",
      "8   2025-03-07          CU      3D_NDF.USD.BRL.3D_NDF   \n",
      "9   2025-03-07          CU             4D_NDF_USD_BRL   \n",
      "10  2025-03-07          CU   55D_NDF.USD.BRL.BMF2_NDF   \n",
      "11  2025-03-07          CU             5D_NDF_USD_BRL   \n",
      "12  2025-03-07          CU      6D_NDF.USD.BRL.6D_NDF   \n",
      "13  2025-03-07          CU             6D_NDF_USD_BRL   \n",
      "14  2025-03-07          CU    8D_NDF.USD.BRL.IMM1_NDF   \n",
      "15  2025-03-07          CU            96D_NDF_USD_BRL   \n",
      "16  2025-03-07          CU   99D_NDF.USD.BRL.IMM2_NDF   \n",
      "\n",
      "                           Description Opening Price Trade High Trade Low  \\\n",
      "0               0D_NDF.USD.BRL.TOD_NDF        5.7616     5.7616   5.75865   \n",
      "1               0D_NDF.USD.BRL.TOM_NDF        5.7716     5.7951    5.7716   \n",
      "2             22D_NDF.USD.BRL.BMF1_NDF         5.789     5.8272     5.786   \n",
      "3   NDF_USD_BRL Maturing on 2025-04-02         5.792       5.82     5.792   \n",
      "4            300D_NDF.USD.BRL.300D_NDF        6.2046     6.2046    6.2046   \n",
      "5   NDF_EUR_BRL Maturing on 2025-04-11         6.315      6.315     6.315   \n",
      "6   NDF_USD_BRL Maturing on 2025-04-11         5.832      5.832     5.832   \n",
      "7   NDF_USD_BRL Maturing on 2026-03-11         6.283      6.311     6.283   \n",
      "8                3D_NDF.USD.BRL.3D_NDF        5.7758     5.7758    5.7758   \n",
      "9   NDF_USD_BRL Maturing on 2025-03-11        5.7649     5.7649    5.7649   \n",
      "10            55D_NDF.USD.BRL.BMF2_NDF        5.8265     5.8523    5.8265   \n",
      "11  NDF_USD_BRL Maturing on 2025-03-12        5.7695     5.7946    5.7695   \n",
      "12               6D_NDF.USD.BRL.6D_NDF        5.7928     5.7928    5.7928   \n",
      "13  NDF_USD_BRL Maturing on 2025-03-13       5.77145      5.792   5.77145   \n",
      "14             8D_NDF.USD.BRL.IMM1_NDF         5.788      5.788     5.788   \n",
      "15  NDF_USD_BRL Maturing on 2025-06-11         5.905      5.905     5.905   \n",
      "16            99D_NDF.USD.BRL.IMM2_NDF        5.9027     5.9027    5.9027   \n",
      "\n",
      "   Closing Price Num of Trades Total Notional Value        Source Class  \n",
      "0        5.75865             2             77500000  TULLETPREBON        \n",
      "1         5.7951             6             73000000  TULLETPREBON        \n",
      "2           5.82            22           1247200000  TULLETPREBON        \n",
      "3           5.82             6            477000000  TULLETPREBON        \n",
      "4         6.2046             1             30000000  TULLETPREBON        \n",
      "5          6.315             1               500000  TULLETPREBON        \n",
      "6          5.832             2             19400000  TULLETPREBON        \n",
      "7           6.31             4             44100000  TULLETPREBON        \n",
      "8         5.7758             2             16000000  TULLETPREBON        \n",
      "9         5.7649             1             64000000  TULLETPREBON        \n",
      "10        5.8523             4            220000000  TULLETPREBON        \n",
      "11         5.792             3            124400000  TULLETPREBON        \n",
      "12        5.7928             1             22000000  TULLETPREBON        \n",
      "13         5.792             2             20950000  TULLETPREBON        \n",
      "14         5.788             1             79100000  TULLETPREBON        \n",
      "15         5.905             1               900000  TULLETPREBON        \n",
      "16        5.9027             1             80000000  TULLETPREBON        \n"
     ]
    },
    {
     "name": "stdout",
     "output_type": "stream",
     "text": [
      "\u001B[32m2025-03-08T14:23:00.269179-0500\u001B[0m \u001B[34m\u001B[1m    Batch Date Asset Class       Tradeable Instrument  \\\n",
      "0   2025-03-07          CU     0D_NDF.USD.BRL.TOD_NDF   \n",
      "1   2025-03-07          CU     0D_NDF.USD.BRL.TOM_NDF   \n",
      "2   2025-03-07          CU   22D_NDF.USD.BRL.BMF1_NDF   \n",
      "3   2025-03-07          CU            26D_NDF_USD_BRL   \n",
      "4   2025-03-07          CU  300D_NDF.USD.BRL.300D_NDF   \n",
      "5   2025-03-07          CU            35D_NDF_EUR_BRL   \n",
      "6   2025-03-07          CU            35D_NDF_USD_BRL   \n",
      "7   2025-03-07          CU           369D_NDF_USD_BRL   \n",
      "8   2025-03-07          CU      3D_NDF.USD.BRL.3D_NDF   \n",
      "9   2025-03-07          CU             4D_NDF_USD_BRL   \n",
      "10  2025-03-07          CU   55D_NDF.USD.BRL.BMF2_NDF   \n",
      "11  2025-03-07          CU             5D_NDF_USD_BRL   \n",
      "12  2025-03-07          CU      6D_NDF.USD.BRL.6D_NDF   \n",
      "13  2025-03-07          CU             6D_NDF_USD_BRL   \n",
      "14  2025-03-07          CU    8D_NDF.USD.BRL.IMM1_NDF   \n",
      "15  2025-03-07          CU            96D_NDF_USD_BRL   \n",
      "16  2025-03-07          CU   99D_NDF.USD.BRL.IMM2_NDF   \n",
      "\n",
      "                           Description Opening Price Trade High Trade Low  \\\n",
      "0               0D_NDF.USD.BRL.TOD_NDF        5.7616     5.7616   5.75865   \n",
      "1               0D_NDF.USD.BRL.TOM_NDF        5.7716     5.7951    5.7716   \n",
      "2             22D_NDF.USD.BRL.BMF1_NDF         5.789     5.8272     5.786   \n",
      "3   NDF_USD_BRL Maturing on 2025-04-02         5.792       5.82     5.792   \n",
      "4            300D_NDF.USD.BRL.300D_NDF        6.2046     6.2046    6.2046   \n",
      "5   NDF_EUR_BRL Maturing on 2025-04-11         6.315      6.315     6.315   \n",
      "6   NDF_USD_BRL Maturing on 2025-04-11         5.832      5.832     5.832   \n",
      "7   NDF_USD_BRL Maturing on 2026-03-11         6.283      6.311     6.283   \n",
      "8                3D_NDF.USD.BRL.3D_NDF        5.7758     5.7758    5.7758   \n",
      "9   NDF_USD_BRL Maturing on 2025-03-11        5.7649     5.7649    5.7649   \n",
      "10            55D_NDF.USD.BRL.BMF2_NDF        5.8265     5.8523    5.8265   \n",
      "11  NDF_USD_BRL Maturing on 2025-03-12        5.7695     5.7946    5.7695   \n",
      "12               6D_NDF.USD.BRL.6D_NDF        5.7928     5.7928    5.7928   \n",
      "13  NDF_USD_BRL Maturing on 2025-03-13       5.77145      5.792   5.77145   \n",
      "14             8D_NDF.USD.BRL.IMM1_NDF         5.788      5.788     5.788   \n",
      "15  NDF_USD_BRL Maturing on 2025-06-11         5.905      5.905     5.905   \n",
      "16            99D_NDF.USD.BRL.IMM2_NDF        5.9027     5.9027    5.9027   \n",
      "\n",
      "   Closing Price Num of Trades Total Notional Value        Source Class  \n",
      "0        5.75865             2             77500000  TULLETPREBON        \n",
      "1         5.7951             6             73000000  TULLETPREBON        \n",
      "2           5.82            22           1247200000  TULLETPREBON        \n",
      "3           5.82             6            477000000  TULLETPREBON        \n",
      "4         6.2046             1             30000000  TULLETPREBON        \n",
      "5          6.315             1               500000  TULLETPREBON        \n",
      "6          5.832             2             19400000  TULLETPREBON        \n",
      "7           6.31             4             44100000  TULLETPREBON        \n",
      "8         5.7758             2             16000000  TULLETPREBON        \n",
      "9         5.7649             1             64000000  TULLETPREBON        \n",
      "10        5.8523             4            220000000  TULLETPREBON        \n",
      "11         5.792             3            124400000  TULLETPREBON        \n",
      "12        5.7928             1             22000000  TULLETPREBON        \n",
      "13         5.792             2             20950000  TULLETPREBON        \n",
      "14         5.788             1             79100000  TULLETPREBON        \n",
      "15         5.905             1               900000  TULLETPREBON        \n",
      "16        5.9027             1             80000000  TULLETPREBON        \u001B[0m\n"
     ]
    },
    {
     "name": "stderr",
     "output_type": "stream",
     "text": [
      "2025-03-08 14:23:00.287 | DEBUG    | ndf.datamining:tulletprebon_calcs:357 - TULLETPREBON Summary ===>\n",
      "        Total for human        Volume\n",
      "Class                                \n",
      "BMF1              1.25B  1.247200e+09\n",
      "BMF2               220M  2.200000e+08\n",
      "BROKEN           117.1M  1.171000e+08\n",
      "LONGER             110M  1.100000e+08\n",
      "PTAX              77.5M  7.750000e+07\n",
      "TOMPTAX             73M  7.300000e+07\n",
      "TOTAL              2.6B  2.596050e+09\n",
      "XP              751.25M  7.512500e+08\n",
      "\n"
     ]
    },
    {
     "name": "stdout",
     "output_type": "stream",
     "text": [
      "\u001B[32m2025-03-08T14:23:00.287243-0500\u001B[0m \u001B[34m\u001B[1mTULLETPREBON Summary ===>\n",
      "        Total for human        Volume\n",
      "Class                                \n",
      "BMF1              1.25B  1.247200e+09\n",
      "BMF2               220M  2.200000e+08\n",
      "BROKEN           117.1M  1.171000e+08\n",
      "LONGER             110M  1.100000e+08\n",
      "PTAX              77.5M  7.750000e+07\n",
      "TOMPTAX             73M  7.300000e+07\n",
      "TOTAL              2.6B  2.596050e+09\n",
      "XP              751.25M  7.512500e+08\n",
      "\u001B[0m\n"
     ]
    },
    {
     "data": {
      "text/plain": "        Total for human        Volume\nClass                                \nBMF1              1.25B  1.247200e+09\nBMF2               220M  2.200000e+08\nBROKEN           117.1M  1.171000e+08\nLONGER             110M  1.100000e+08\nPTAX              77.5M  7.750000e+07\nTOMPTAX             73M  7.300000e+07\nTOTAL              2.6B  2.596050e+09\nXP              751.25M  7.512500e+08",
      "text/html": "<div>\n<style scoped>\n    .dataframe tbody tr th:only-of-type {\n        vertical-align: middle;\n    }\n\n    .dataframe tbody tr th {\n        vertical-align: top;\n    }\n\n    .dataframe thead th {\n        text-align: right;\n    }\n</style>\n<table border=\"1\" class=\"dataframe\">\n  <thead>\n    <tr style=\"text-align: right;\">\n      <th></th>\n      <th>Total for human</th>\n      <th>Volume</th>\n    </tr>\n    <tr>\n      <th>Class</th>\n      <th></th>\n      <th></th>\n    </tr>\n  </thead>\n  <tbody>\n    <tr>\n      <th>BMF1</th>\n      <td>1.25B</td>\n      <td>1.247200e+09</td>\n    </tr>\n    <tr>\n      <th>BMF2</th>\n      <td>220M</td>\n      <td>2.200000e+08</td>\n    </tr>\n    <tr>\n      <th>BROKEN</th>\n      <td>117.1M</td>\n      <td>1.171000e+08</td>\n    </tr>\n    <tr>\n      <th>LONGER</th>\n      <td>110M</td>\n      <td>1.100000e+08</td>\n    </tr>\n    <tr>\n      <th>PTAX</th>\n      <td>77.5M</td>\n      <td>7.750000e+07</td>\n    </tr>\n    <tr>\n      <th>TOMPTAX</th>\n      <td>73M</td>\n      <td>7.300000e+07</td>\n    </tr>\n    <tr>\n      <th>TOTAL</th>\n      <td>2.6B</td>\n      <td>2.596050e+09</td>\n    </tr>\n    <tr>\n      <th>XP</th>\n      <td>751.25M</td>\n      <td>7.512500e+08</td>\n    </tr>\n  </tbody>\n</table>\n</div>"
     },
     "execution_count": 16,
     "metadata": {},
     "output_type": "execute_result"
    }
   ],
   "source": [
    "mining.tulletprebon_calcs()"
   ],
   "metadata": {
    "collapsed": false,
    "ExecuteTime": {
     "end_time": "2025-03-08T19:23:00.384422Z",
     "start_time": "2025-03-08T19:23:00.258736Z"
    }
   }
  },
  {
   "cell_type": "code",
   "execution_count": 17,
   "metadata": {
    "ExecuteTime": {
     "end_time": "2025-03-08T19:23:00.715454Z",
     "start_time": "2025-03-08T19:23:00.295055Z"
    }
   },
   "outputs": [
    {
     "name": "stderr",
     "output_type": "stream",
     "text": [
      "2025-03-08 14:23:00.294 | INFO     | ndf.datamining:tradition_calcs:40 - tradition calcs starting\n"
     ]
    },
    {
     "name": "stdout",
     "output_type": "stream",
     "text": [
      "\u001B[32m2025-03-08T14:23:00.294421-0500\u001B[0m \u001B[1mtradition calcs starting\u001B[0m\n"
     ]
    },
    {
     "name": "stderr",
     "output_type": "stream",
     "text": [
      "2025-03-08 14:23:00.295 | DEBUG    | ndf.datamining:tradition_calcs:42 - Opening CACHE FILE /Users/cleiton/PycharmProjects/ndfutil/DATA/tradition_2025-03-08.pkl\n"
     ]
    },
    {
     "name": "stdout",
     "output_type": "stream",
     "text": [
      "\u001B[32m2025-03-08T14:23:00.295559-0500\u001B[0m \u001B[34m\u001B[1mOpening CACHE FILE /Users/cleiton/PycharmProjects/ndfutil/DATA/tradition_2025-03-08.pkl\u001B[0m\n"
     ]
    },
    {
     "name": "stderr",
     "output_type": "stream",
     "text": [
      "2025-03-08 14:23:00.558 | DEBUG    | ndf.datamining:tradition_calcs:167 - TRADITION Summary ===>\n",
      "       Total for human      Volume\n",
      "Class                             \n",
      "BROKEN           1.75B  1745750020\n",
      "TOTAL            1.75B  1745750020\n",
      "\n"
     ]
    },
    {
     "name": "stdout",
     "output_type": "stream",
     "text": [
      "\u001B[32m2025-03-08T14:23:00.558413-0500\u001B[0m \u001B[34m\u001B[1mTRADITION Summary ===>\n",
      "       Total for human      Volume\n",
      "Class                             \n",
      "BROKEN           1.75B  1745750020\n",
      "TOTAL            1.75B  1745750020\n",
      "\u001B[0m\n"
     ]
    },
    {
     "data": {
      "text/plain": "       Total for human      Volume\nClass                             \nBROKEN           1.75B  1745750020\nTOTAL            1.75B  1745750020",
      "text/html": "<div>\n<style scoped>\n    .dataframe tbody tr th:only-of-type {\n        vertical-align: middle;\n    }\n\n    .dataframe tbody tr th {\n        vertical-align: top;\n    }\n\n    .dataframe thead th {\n        text-align: right;\n    }\n</style>\n<table border=\"1\" class=\"dataframe\">\n  <thead>\n    <tr style=\"text-align: right;\">\n      <th></th>\n      <th>Total for human</th>\n      <th>Volume</th>\n    </tr>\n    <tr>\n      <th>Class</th>\n      <th></th>\n      <th></th>\n    </tr>\n  </thead>\n  <tbody>\n    <tr>\n      <th>BROKEN</th>\n      <td>1.75B</td>\n      <td>1745750020</td>\n    </tr>\n    <tr>\n      <th>TOTAL</th>\n      <td>1.75B</td>\n      <td>1745750020</td>\n    </tr>\n  </tbody>\n</table>\n</div>"
     },
     "execution_count": 17,
     "metadata": {},
     "output_type": "execute_result"
    }
   ],
   "source": [
    "mining.tradition_calcs()"
   ]
  },
  {
   "cell_type": "code",
   "execution_count": 18,
   "outputs": [
    {
     "data": {
      "text/plain": "    GFI SEF PERMITTED AND REQUIRED INSTRUMENTS DAILY PRICE AND VOLUME  \\\n0                   Daily Activity Report for 20250307                  \n1                                          Asset Class                  \n2                                                   CD                  \n3                                                   CD                  \n4                                                   CD                  \n..                                                 ...                  \n214                                                 IR                  \n215                                                 IR                  \n216                                                 IR                  \n217                                                NaN                  \n218  Copyright © 2013 GFI Swaps Exchange LLC.  All ...                  \n\n    Unnamed: 1                                    Unnamed: 2 Unnamed: 3  \\\n0          NaN                                           NaN        NaN   \n1     Currency                         InstrumentDescription       Open   \n2          USD                              HY43 V1 5y - ICC   106.8925   \n3          EUR                              S42 Eur 5y. .ICC      54.75   \n4          EUR                            S42 Xover 5y. .LCH        294   \n..         ...                                           ...        ...   \n214        CLP  CLP/CAMARA Interest Rate Swap  CLP/CAMARA 1Y      5.055   \n215        CLP  CLP/CAMARA Interest Rate Swap  CLP/CAMARA 3M      5.045   \n216        COP              COPNon DeliverableIRS COP IBR 6M      8.725   \n217        NaN                                           NaN        NaN   \n218        NaN                                           NaN        NaN   \n\n    Unnamed: 4 Unnamed: 5 Unnamed: 6 Unnamed: 7    Unnamed: 8  \n0          NaN        NaN        NaN        NaN           NaN  \n1          Low       High      Close      Block        Volume  \n2     106.8925   106.8925   106.8925        NaN      10000000  \n3        54.75     55.125     55.125        NaN      75000000  \n4          294        294        294        NaN     400000000  \n..         ...        ...        ...        ...           ...  \n214      5.055      5.055      5.055        NaN   50000000000  \n215      5.045      5.045      5.045        NaN  375000000000  \n216      8.725      8.725      8.725        NaN  261000000000  \n217        NaN        NaN        NaN        NaN           NaN  \n218        NaN        NaN        NaN        NaN           NaN  \n\n[219 rows x 9 columns]",
      "text/html": "<div>\n<style scoped>\n    .dataframe tbody tr th:only-of-type {\n        vertical-align: middle;\n    }\n\n    .dataframe tbody tr th {\n        vertical-align: top;\n    }\n\n    .dataframe thead th {\n        text-align: right;\n    }\n</style>\n<table border=\"1\" class=\"dataframe\">\n  <thead>\n    <tr style=\"text-align: right;\">\n      <th></th>\n      <th>GFI SEF PERMITTED AND REQUIRED INSTRUMENTS DAILY PRICE AND VOLUME</th>\n      <th>Unnamed: 1</th>\n      <th>Unnamed: 2</th>\n      <th>Unnamed: 3</th>\n      <th>Unnamed: 4</th>\n      <th>Unnamed: 5</th>\n      <th>Unnamed: 6</th>\n      <th>Unnamed: 7</th>\n      <th>Unnamed: 8</th>\n    </tr>\n  </thead>\n  <tbody>\n    <tr>\n      <th>0</th>\n      <td>Daily Activity Report for 20250307</td>\n      <td>NaN</td>\n      <td>NaN</td>\n      <td>NaN</td>\n      <td>NaN</td>\n      <td>NaN</td>\n      <td>NaN</td>\n      <td>NaN</td>\n      <td>NaN</td>\n    </tr>\n    <tr>\n      <th>1</th>\n      <td>Asset Class</td>\n      <td>Currency</td>\n      <td>InstrumentDescription</td>\n      <td>Open</td>\n      <td>Low</td>\n      <td>High</td>\n      <td>Close</td>\n      <td>Block</td>\n      <td>Volume</td>\n    </tr>\n    <tr>\n      <th>2</th>\n      <td>CD</td>\n      <td>USD</td>\n      <td>HY43 V1 5y - ICC</td>\n      <td>106.8925</td>\n      <td>106.8925</td>\n      <td>106.8925</td>\n      <td>106.8925</td>\n      <td>NaN</td>\n      <td>10000000</td>\n    </tr>\n    <tr>\n      <th>3</th>\n      <td>CD</td>\n      <td>EUR</td>\n      <td>S42 Eur 5y. .ICC</td>\n      <td>54.75</td>\n      <td>54.75</td>\n      <td>55.125</td>\n      <td>55.125</td>\n      <td>NaN</td>\n      <td>75000000</td>\n    </tr>\n    <tr>\n      <th>4</th>\n      <td>CD</td>\n      <td>EUR</td>\n      <td>S42 Xover 5y. .LCH</td>\n      <td>294</td>\n      <td>294</td>\n      <td>294</td>\n      <td>294</td>\n      <td>NaN</td>\n      <td>400000000</td>\n    </tr>\n    <tr>\n      <th>...</th>\n      <td>...</td>\n      <td>...</td>\n      <td>...</td>\n      <td>...</td>\n      <td>...</td>\n      <td>...</td>\n      <td>...</td>\n      <td>...</td>\n      <td>...</td>\n    </tr>\n    <tr>\n      <th>214</th>\n      <td>IR</td>\n      <td>CLP</td>\n      <td>CLP/CAMARA Interest Rate Swap  CLP/CAMARA 1Y</td>\n      <td>5.055</td>\n      <td>5.055</td>\n      <td>5.055</td>\n      <td>5.055</td>\n      <td>NaN</td>\n      <td>50000000000</td>\n    </tr>\n    <tr>\n      <th>215</th>\n      <td>IR</td>\n      <td>CLP</td>\n      <td>CLP/CAMARA Interest Rate Swap  CLP/CAMARA 3M</td>\n      <td>5.045</td>\n      <td>5.045</td>\n      <td>5.045</td>\n      <td>5.045</td>\n      <td>NaN</td>\n      <td>375000000000</td>\n    </tr>\n    <tr>\n      <th>216</th>\n      <td>IR</td>\n      <td>COP</td>\n      <td>COPNon DeliverableIRS COP IBR 6M</td>\n      <td>8.725</td>\n      <td>8.725</td>\n      <td>8.725</td>\n      <td>8.725</td>\n      <td>NaN</td>\n      <td>261000000000</td>\n    </tr>\n    <tr>\n      <th>217</th>\n      <td>NaN</td>\n      <td>NaN</td>\n      <td>NaN</td>\n      <td>NaN</td>\n      <td>NaN</td>\n      <td>NaN</td>\n      <td>NaN</td>\n      <td>NaN</td>\n      <td>NaN</td>\n    </tr>\n    <tr>\n      <th>218</th>\n      <td>Copyright © 2013 GFI Swaps Exchange LLC.  All ...</td>\n      <td>NaN</td>\n      <td>NaN</td>\n      <td>NaN</td>\n      <td>NaN</td>\n      <td>NaN</td>\n      <td>NaN</td>\n      <td>NaN</td>\n      <td>NaN</td>\n    </tr>\n  </tbody>\n</table>\n<p>219 rows × 9 columns</p>\n</div>"
     },
     "execution_count": 18,
     "metadata": {},
     "output_type": "execute_result"
    }
   ],
   "source": [
    "import joblib\n",
    "\n",
    "df = None\n",
    "df = joblib.load('/Users/cleiton/PycharmProjects/ndfutil/DATA/gfi_2025-03-08.pkl')\n",
    "\n",
    "df\n"
   ],
   "metadata": {
    "collapsed": false,
    "ExecuteTime": {
     "end_time": "2025-03-08T19:23:00.736963Z",
     "start_time": "2025-03-08T19:23:00.575202Z"
    }
   }
  },
  {
   "cell_type": "code",
   "execution_count": 19,
   "outputs": [
    {
     "data": {
      "text/plain": "0                                     Description        Volume\n0                           InstrumentDescription        Volume\n1                                HY43 V1 5y - ICC      10000000\n2                                S42 Eur 5y. .ICC      75000000\n3                              S42 Xover 5y. .LCH     400000000\n4                                S42 Eur 5y. .LCH      75000000\n..                                            ...           ...\n211              COPNon DeliverableIRS COP IBR 9M  119000000000\n212             COPNon DeliverableIRS COP IBR 12M   91000000000\n213  CLP/CAMARA Interest Rate Swap  CLP/CAMARA 1Y   50000000000\n214  CLP/CAMARA Interest Rate Swap  CLP/CAMARA 3M  375000000000\n215              COPNon DeliverableIRS COP IBR 6M  261000000000\n\n[216 rows x 2 columns]",
      "text/html": "<div>\n<style scoped>\n    .dataframe tbody tr th:only-of-type {\n        vertical-align: middle;\n    }\n\n    .dataframe tbody tr th {\n        vertical-align: top;\n    }\n\n    .dataframe thead th {\n        text-align: right;\n    }\n</style>\n<table border=\"1\" class=\"dataframe\">\n  <thead>\n    <tr style=\"text-align: right;\">\n      <th></th>\n      <th>Description</th>\n      <th>Volume</th>\n    </tr>\n  </thead>\n  <tbody>\n    <tr>\n      <th>0</th>\n      <td>InstrumentDescription</td>\n      <td>Volume</td>\n    </tr>\n    <tr>\n      <th>1</th>\n      <td>HY43 V1 5y - ICC</td>\n      <td>10000000</td>\n    </tr>\n    <tr>\n      <th>2</th>\n      <td>S42 Eur 5y. .ICC</td>\n      <td>75000000</td>\n    </tr>\n    <tr>\n      <th>3</th>\n      <td>S42 Xover 5y. .LCH</td>\n      <td>400000000</td>\n    </tr>\n    <tr>\n      <th>4</th>\n      <td>S42 Eur 5y. .LCH</td>\n      <td>75000000</td>\n    </tr>\n    <tr>\n      <th>...</th>\n      <td>...</td>\n      <td>...</td>\n    </tr>\n    <tr>\n      <th>211</th>\n      <td>COPNon DeliverableIRS COP IBR 9M</td>\n      <td>119000000000</td>\n    </tr>\n    <tr>\n      <th>212</th>\n      <td>COPNon DeliverableIRS COP IBR 12M</td>\n      <td>91000000000</td>\n    </tr>\n    <tr>\n      <th>213</th>\n      <td>CLP/CAMARA Interest Rate Swap  CLP/CAMARA 1Y</td>\n      <td>50000000000</td>\n    </tr>\n    <tr>\n      <th>214</th>\n      <td>CLP/CAMARA Interest Rate Swap  CLP/CAMARA 3M</td>\n      <td>375000000000</td>\n    </tr>\n    <tr>\n      <th>215</th>\n      <td>COPNon DeliverableIRS COP IBR 6M</td>\n      <td>261000000000</td>\n    </tr>\n  </tbody>\n</table>\n<p>216 rows × 2 columns</p>\n</div>"
     },
     "execution_count": 19,
     "metadata": {},
     "output_type": "execute_result"
    }
   ],
   "source": [
    "df.drop([0], axis=0, inplace=True)\n",
    "df.reset_index(drop=True, inplace=True)\n",
    "df.columns = df.iloc[0]\n",
    "df.reset_index(drop=True, inplace=True)\n",
    "df = df.rename(columns={'InstrumentDescription': 'Description'})\n",
    "df.drop(['Asset Class', 'Open', 'Low', 'High', 'Close', 'Block', 'Currency'], axis=1, inplace=True)\n",
    "df = df[df['Volume'].notna()]\n",
    "df"
   ],
   "metadata": {
    "collapsed": false,
    "ExecuteTime": {
     "end_time": "2025-03-08T19:23:00.741674Z",
     "start_time": "2025-03-08T19:23:00.587203Z"
    }
   }
  },
  {
   "cell_type": "code",
   "execution_count": 20,
   "metadata": {
    "ExecuteTime": {
     "end_time": "2025-03-08T19:23:00.849293Z",
     "start_time": "2025-03-08T19:23:00.598361Z"
    }
   },
   "outputs": [
    {
     "name": "stderr",
     "output_type": "stream",
     "text": [
      "2025-03-08 14:23:00.597 | INFO     | ndf.datamining:gfi_calcs:367 - gfi calcs starting\n"
     ]
    },
    {
     "name": "stdout",
     "output_type": "stream",
     "text": [
      "\u001B[32m2025-03-08T14:23:00.597471-0500\u001B[0m \u001B[1mgfi calcs starting\u001B[0m\n"
     ]
    },
    {
     "name": "stderr",
     "output_type": "stream",
     "text": [
      "2025-03-08 14:23:00.598 | DEBUG    | ndf.datamining:gfi_calcs:369 - Opening CACHE FILE /Users/cleiton/PycharmProjects/ndfutil/DATA/gfi_2025-03-08.pkl\n"
     ]
    },
    {
     "name": "stdout",
     "output_type": "stream",
     "text": [
      "\u001B[32m2025-03-08T14:23:00.598751-0500\u001B[0m \u001B[34m\u001B[1mOpening CACHE FILE /Users/cleiton/PycharmProjects/ndfutil/DATA/gfi_2025-03-08.pkl\u001B[0m\n"
     ]
    },
    {
     "name": "stderr",
     "output_type": "stream",
     "text": [
      "2025-03-08 14:23:00.603 | DEBUG    | ndf.datamining:gfi_calcs:421 - GFI before mining:\n",
      "0                     Description     Volume\n",
      "0  USDBRL NDF 17MAR2025 BILATERAL  176000000\n",
      "1  USDBRL NDF 10MAR2025 BILATERAL  286000000\n",
      "2  USDBRL NDF 07MAR2025 BILATERAL  111000000\n",
      "3  USDBRL NDF 30SEP2025 BILATERAL   25000000\n",
      "4  USDBRL NDF 30MAY2025 BILATERAL  176000000\n",
      "5  USDBRL NDF 11MAR2025 BILATERAL   44000000\n",
      "6  USDBRL NDF 20MAR2025 BILATERAL   76000000\n",
      "7  USDBRL NDF 31MAR2025 BILATERAL  664300000\n"
     ]
    },
    {
     "name": "stdout",
     "output_type": "stream",
     "text": [
      "\u001B[32m2025-03-08T14:23:00.603781-0500\u001B[0m \u001B[34m\u001B[1mGFI before mining:\n",
      "0                     Description     Volume\n",
      "0  USDBRL NDF 17MAR2025 BILATERAL  176000000\n",
      "1  USDBRL NDF 10MAR2025 BILATERAL  286000000\n",
      "2  USDBRL NDF 07MAR2025 BILATERAL  111000000\n",
      "3  USDBRL NDF 30SEP2025 BILATERAL   25000000\n",
      "4  USDBRL NDF 30MAY2025 BILATERAL  176000000\n",
      "5  USDBRL NDF 11MAR2025 BILATERAL   44000000\n",
      "6  USDBRL NDF 20MAR2025 BILATERAL   76000000\n",
      "7  USDBRL NDF 31MAR2025 BILATERAL  664300000\u001B[0m\n"
     ]
    },
    {
     "name": "stderr",
     "output_type": "stream",
     "text": [
      "2025-03-08 14:23:00.638 | DEBUG    | ndf.datamining:gfi_calcs:490 - GFI _summary ===>\n",
      "            Total for human      Volume\n",
      "Class                                  \n",
      "BMF                  664.3M   664300000\n",
      "BMF 10/2025             25M    25000000\n",
      "BMF3                   176M   176000000\n",
      "BROKEN                 693M   693000000\n",
      "TOTAL                 1.56B  1558300000\n",
      "\n"
     ]
    },
    {
     "name": "stdout",
     "output_type": "stream",
     "text": [
      "\u001B[32m2025-03-08T14:23:00.638719-0500\u001B[0m \u001B[34m\u001B[1mGFI _summary ===>\n",
      "            Total for human      Volume\n",
      "Class                                  \n",
      "BMF                  664.3M   664300000\n",
      "BMF 10/2025             25M    25000000\n",
      "BMF3                   176M   176000000\n",
      "BROKEN                 693M   693000000\n",
      "TOTAL                 1.56B  1558300000\n",
      "\u001B[0m\n"
     ]
    },
    {
     "data": {
      "text/plain": "            Total for human      Volume\nClass                                  \nBMF                  664.3M   664300000\nBMF 10/2025             25M    25000000\nBMF3                   176M   176000000\nBROKEN                 693M   693000000\nTOTAL                 1.56B  1558300000",
      "text/html": "<div>\n<style scoped>\n    .dataframe tbody tr th:only-of-type {\n        vertical-align: middle;\n    }\n\n    .dataframe tbody tr th {\n        vertical-align: top;\n    }\n\n    .dataframe thead th {\n        text-align: right;\n    }\n</style>\n<table border=\"1\" class=\"dataframe\">\n  <thead>\n    <tr style=\"text-align: right;\">\n      <th></th>\n      <th>Total for human</th>\n      <th>Volume</th>\n    </tr>\n    <tr>\n      <th>Class</th>\n      <th></th>\n      <th></th>\n    </tr>\n  </thead>\n  <tbody>\n    <tr>\n      <th>BMF</th>\n      <td>664.3M</td>\n      <td>664300000</td>\n    </tr>\n    <tr>\n      <th>BMF 10/2025</th>\n      <td>25M</td>\n      <td>25000000</td>\n    </tr>\n    <tr>\n      <th>BMF3</th>\n      <td>176M</td>\n      <td>176000000</td>\n    </tr>\n    <tr>\n      <th>BROKEN</th>\n      <td>693M</td>\n      <td>693000000</td>\n    </tr>\n    <tr>\n      <th>TOTAL</th>\n      <td>1.56B</td>\n      <td>1558300000</td>\n    </tr>\n  </tbody>\n</table>\n</div>"
     },
     "execution_count": 20,
     "metadata": {},
     "output_type": "execute_result"
    }
   ],
   "source": [
    "mining.gfi_calcs()"
   ]
  },
  {
   "cell_type": "code",
   "execution_count": 21,
   "metadata": {
    "ExecuteTime": {
     "end_time": "2025-03-08T19:23:01.079275Z",
     "start_time": "2025-03-08T19:23:00.646360Z"
    }
   },
   "outputs": [
    {
     "ename": "NameError",
     "evalue": "name 'tulletprebon' is not defined",
     "output_type": "error",
     "traceback": [
      "\u001B[0;31m---------------------------------------------------------------------------\u001B[0m",
      "\u001B[0;31mNameError\u001B[0m                                 Traceback (most recent call last)",
      "Cell \u001B[0;32mIn[21], line 1\u001B[0m\n\u001B[0;32m----> 1\u001B[0m \u001B[43mtulletprebon\u001B[49m[\u001B[38;5;124m'\u001B[39m\u001B[38;5;124msource\u001B[39m\u001B[38;5;124m'\u001B[39m] \u001B[38;5;241m=\u001B[39m \u001B[38;5;124m'\u001B[39m\u001B[38;5;124mTulletPrebon\u001B[39m\u001B[38;5;124m'\u001B[39m\n\u001B[1;32m      2\u001B[0m tradition[\u001B[38;5;124m'\u001B[39m\u001B[38;5;124msource\u001B[39m\u001B[38;5;124m'\u001B[39m] \u001B[38;5;241m=\u001B[39m \u001B[38;5;124m'\u001B[39m\u001B[38;5;124mTradition\u001B[39m\u001B[38;5;124m'\u001B[39m\n\u001B[1;32m      3\u001B[0m bgc[\u001B[38;5;124m'\u001B[39m\u001B[38;5;124msource\u001B[39m\u001B[38;5;124m'\u001B[39m] \u001B[38;5;241m=\u001B[39m \u001B[38;5;124m'\u001B[39m\u001B[38;5;124mbgc\u001B[39m\u001B[38;5;124m'\u001B[39m\n",
      "\u001B[0;31mNameError\u001B[0m: name 'tulletprebon' is not defined"
     ]
    }
   ],
   "source": [
    "tulletprebon['source'] = 'TulletPrebon'\n",
    "tradition['source'] = 'Tradition'\n",
    "bgc['source'] = 'bgc'\n",
    "gfi['source'] = 'gfi'"
   ]
  },
  {
   "cell_type": "code",
   "execution_count": null,
   "metadata": {
    "ExecuteTime": {
     "start_time": "2025-03-08T19:23:00.791891Z"
    }
   },
   "outputs": [],
   "source": [
    "bgc"
   ]
  },
  {
   "cell_type": "code",
   "execution_count": null,
   "metadata": {
    "ExecuteTime": {
     "start_time": "2025-03-08T19:23:00.793889Z"
    }
   },
   "outputs": [],
   "source": [
    "df_result = pd.concat([tulletprebon, tradition, bgc, gfi])\n",
    "df_result"
   ]
  },
  {
   "cell_type": "code",
   "execution_count": null,
   "metadata": {
    "ExecuteTime": {
     "start_time": "2025-03-08T19:23:00.795806Z"
    }
   },
   "outputs": [],
   "source": [
    "df_totals = df_result.query('Class == \"TOTAL\"')\n",
    "df_totals"
   ]
  },
  {
   "cell_type": "code",
   "execution_count": null,
   "metadata": {
    "ExecuteTime": {
     "start_time": "2025-03-08T19:23:00.797354Z"
    }
   },
   "outputs": [],
   "source": [
    "df_totals.groupby(['Class']).sum()"
   ]
  },
  {
   "cell_type": "code",
   "execution_count": null,
   "metadata": {
    "ExecuteTime": {
     "start_time": "2025-03-08T19:23:00.799210Z"
    }
   },
   "outputs": [],
   "source": [
    "from numerize import numerize\n",
    "\n",
    "market_total = df_totals.sum()['Volume']\n",
    "market_total = numerize.numerize(float(market_total))\n",
    "market_total"
   ]
  },
  {
   "cell_type": "code",
   "execution_count": null,
   "metadata": {
    "ExecuteTime": {
     "start_time": "2025-03-08T19:23:00.800593Z"
    }
   },
   "outputs": [],
   "source": []
  },
  {
   "cell_type": "code",
   "execution_count": null,
   "metadata": {
    "ExecuteTime": {
     "start_time": "2025-03-08T19:23:00.801797Z"
    }
   },
   "outputs": [],
   "source": []
  }
 ],
 "metadata": {
  "kernelspec": {
   "display_name": "Python 3 (ipykernel)",
   "language": "python",
   "name": "python3"
  },
  "language_info": {
   "codemirror_mode": {
    "name": "ipython",
    "version": 3
   },
   "file_extension": ".py",
   "mimetype": "text/x-python",
   "name": "python",
   "nbconvert_exporter": "python",
   "pygments_lexer": "ipython3",
   "version": "3.9.16"
  }
 },
 "nbformat": 4,
 "nbformat_minor": 1
}
