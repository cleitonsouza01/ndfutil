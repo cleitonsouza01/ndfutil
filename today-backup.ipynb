{
 "cells": [
  {
   "cell_type": "code",
   "execution_count": 1,
   "metadata": {
    "ExecuteTime": {
     "end_time": "2023-05-30T01:51:39.280898Z",
     "start_time": "2023-05-30T01:51:38.264007Z"
    }
   },
   "outputs": [
    {
     "data": {
      "text/plain": "2"
     },
     "execution_count": 1,
     "metadata": {},
     "output_type": "execute_result"
    }
   ],
   "source": [
    "from loguru import logger\n",
    "import ndf.download\n",
    "from ndf.datamining import datamining\n",
    "import warnings\n",
    "import sys\n",
    "import pandas as pd\n",
    "\n",
    "warnings.simplefilter(action='ignore', category=FutureWarning)\n",
    "\n",
    "log_level = 'ERROR'\n",
    "logger.add(sys.stderr, format=\"{time} {level} {message}\", filter=\"my_module\", level=log_level)\n",
    "# logger.add(sys.stdout, colorize=True, format=\"<green>{time}</green> <level>{message}</level>\")\n",
    "logger.add(\"ndfdownload.log\", rotation=\"30 MB\", level=log_level)"
   ]
  },
  {
   "cell_type": "code",
   "execution_count": 2,
   "metadata": {
    "ExecuteTime": {
     "end_time": "2023-05-30T01:51:39.285215Z",
     "start_time": "2023-05-30T01:51:39.282728Z"
    }
   },
   "outputs": [
    {
     "data": {
      "text/plain": "datetime.date(2023, 5, 29)"
     },
     "execution_count": 2,
     "metadata": {},
     "output_type": "execute_result"
    }
   ],
   "source": [
    "from datetime import datetime\n",
    "\n",
    "a = datetime.now()\n",
    "a.date()"
   ]
  },
  {
   "cell_type": "code",
   "execution_count": 3,
   "metadata": {
    "ExecuteTime": {
     "end_time": "2023-05-30T01:51:39.287954Z",
     "start_time": "2023-05-30T01:51:39.286717Z"
    }
   },
   "outputs": [],
   "source": [
    "logger.remove()"
   ]
  },
  {
   "cell_type": "code",
   "execution_count": 4,
   "metadata": {
    "ExecuteTime": {
     "end_time": "2023-05-30T01:51:39.297335Z",
     "start_time": "2023-05-30T01:51:39.290759Z"
    }
   },
   "outputs": [
    {
     "name": "stdout",
     "output_type": "stream",
     "text": [
      "bgc ok\n",
      "tradition ok\n",
      "prebontullet ok\n",
      "gfi ok\n"
     ]
    }
   ],
   "source": [
    "d = ndf.download.download()\n",
    "d.download_all()"
   ]
  },
  {
   "cell_type": "code",
   "execution_count": 5,
   "metadata": {
    "ExecuteTime": {
     "end_time": "2023-05-30T01:51:39.316378Z",
     "start_time": "2023-05-30T01:51:39.298982Z"
    }
   },
   "outputs": [],
   "source": [
    "mining = datamining()"
   ]
  },
  {
   "cell_type": "code",
   "execution_count": 6,
   "metadata": {
    "ExecuteTime": {
     "end_time": "2023-05-30T01:51:39.324886Z",
     "start_time": "2023-05-30T01:51:39.301976Z"
    }
   },
   "outputs": [],
   "source": [
    "tulletprebon = mining.tulletprebon_calcs()"
   ]
  },
  {
   "cell_type": "code",
   "execution_count": 7,
   "metadata": {
    "ExecuteTime": {
     "end_time": "2023-05-30T01:51:39.340602Z",
     "start_time": "2023-05-30T01:51:39.324598Z"
    }
   },
   "outputs": [],
   "source": [
    "bgc = mining.bgc_calcs()"
   ]
  },
  {
   "cell_type": "code",
   "execution_count": 8,
   "metadata": {
    "ExecuteTime": {
     "end_time": "2023-05-30T01:51:39.352469Z",
     "start_time": "2023-05-30T01:51:39.340140Z"
    }
   },
   "outputs": [],
   "source": [
    "tradition = mining.tradition_calcs()"
   ]
  },
  {
   "cell_type": "code",
   "execution_count": 9,
   "metadata": {
    "ExecuteTime": {
     "end_time": "2023-05-30T01:51:39.368620Z",
     "start_time": "2023-05-30T01:51:39.354085Z"
    }
   },
   "outputs": [],
   "source": [
    "gfi = mining.gfi_calcs()"
   ]
  },
  {
   "cell_type": "code",
   "execution_count": 10,
   "metadata": {
    "ExecuteTime": {
     "end_time": "2023-05-30T01:51:39.371501Z",
     "start_time": "2023-05-30T01:51:39.369719Z"
    }
   },
   "outputs": [],
   "source": [
    "tulletprebon['source'] = 'TulletPrebon'\n",
    "tradition['source'] = 'Tradition'\n",
    "bgc['source'] = 'bgc'\n",
    "gfi['source'] = 'gfi'"
   ]
  },
  {
   "cell_type": "code",
   "execution_count": 11,
   "metadata": {
    "ExecuteTime": {
     "end_time": "2023-05-30T01:51:39.377859Z",
     "start_time": "2023-05-30T01:51:39.374183Z"
    }
   },
   "outputs": [
    {
     "data": {
      "text/plain": "       Total for human      Volume source\nClass                                    \nBMF               1.3B  1295000000    bgc\nBMF2            372.5M   372500000    bgc\nBMF4               50M    50000000    bgc\nBROKEN          346.5M   346500000    bgc\nTOTAL            2.06B  2064000000    bgc",
      "text/html": "<div>\n<style scoped>\n    .dataframe tbody tr th:only-of-type {\n        vertical-align: middle;\n    }\n\n    .dataframe tbody tr th {\n        vertical-align: top;\n    }\n\n    .dataframe thead th {\n        text-align: right;\n    }\n</style>\n<table border=\"1\" class=\"dataframe\">\n  <thead>\n    <tr style=\"text-align: right;\">\n      <th></th>\n      <th>Total for human</th>\n      <th>Volume</th>\n      <th>source</th>\n    </tr>\n    <tr>\n      <th>Class</th>\n      <th></th>\n      <th></th>\n      <th></th>\n    </tr>\n  </thead>\n  <tbody>\n    <tr>\n      <th>BMF</th>\n      <td>1.3B</td>\n      <td>1295000000</td>\n      <td>bgc</td>\n    </tr>\n    <tr>\n      <th>BMF2</th>\n      <td>372.5M</td>\n      <td>372500000</td>\n      <td>bgc</td>\n    </tr>\n    <tr>\n      <th>BMF4</th>\n      <td>50M</td>\n      <td>50000000</td>\n      <td>bgc</td>\n    </tr>\n    <tr>\n      <th>BROKEN</th>\n      <td>346.5M</td>\n      <td>346500000</td>\n      <td>bgc</td>\n    </tr>\n    <tr>\n      <th>TOTAL</th>\n      <td>2.06B</td>\n      <td>2064000000</td>\n      <td>bgc</td>\n    </tr>\n  </tbody>\n</table>\n</div>"
     },
     "execution_count": 11,
     "metadata": {},
     "output_type": "execute_result"
    }
   ],
   "source": [
    "bgc"
   ]
  },
  {
   "cell_type": "code",
   "execution_count": 12,
   "metadata": {
    "ExecuteTime": {
     "end_time": "2023-05-30T01:51:39.384941Z",
     "start_time": "2023-05-30T01:51:39.382657Z"
    }
   },
   "outputs": [
    {
     "data": {
      "text/plain": "          Total for human      Volume        source\nClass                                              \nBMF1                3.75B  3752800000  TulletPrebon\nBMF2                 874M   874000000  TulletPrebon\nBMF3                 470M   470000000  TulletPrebon\nBROKEN              1.26B  1258000000  TulletPrebon\nGT 1 YEAR             25M    25000000  TulletPrebon\nLONGER               710M   710000000  TulletPrebon\nPTAX               356.5M   356500000  TulletPrebon\nTOMPTAX               20M    20000000  TulletPrebon\nTOTAL               7.69B  7691550000  TulletPrebon\nXP                225.25M   225250000  TulletPrebon\nTOTAL                   0           0     Tradition\nBMF                  1.3B  1295000000           bgc\nBMF2               372.5M   372500000           bgc\nBMF4                  50M    50000000           bgc\nBROKEN             346.5M   346500000           bgc\nTOTAL               2.06B  2064000000           bgc\nBMF                 1.29B  1293000000           gfi\nBMF2                 725M   725000000           gfi\nBROKEN               570M   570000000           gfi\nTOTAL               2.59B  2588000000           gfi",
      "text/html": "<div>\n<style scoped>\n    .dataframe tbody tr th:only-of-type {\n        vertical-align: middle;\n    }\n\n    .dataframe tbody tr th {\n        vertical-align: top;\n    }\n\n    .dataframe thead th {\n        text-align: right;\n    }\n</style>\n<table border=\"1\" class=\"dataframe\">\n  <thead>\n    <tr style=\"text-align: right;\">\n      <th></th>\n      <th>Total for human</th>\n      <th>Volume</th>\n      <th>source</th>\n    </tr>\n    <tr>\n      <th>Class</th>\n      <th></th>\n      <th></th>\n      <th></th>\n    </tr>\n  </thead>\n  <tbody>\n    <tr>\n      <th>BMF1</th>\n      <td>3.75B</td>\n      <td>3752800000</td>\n      <td>TulletPrebon</td>\n    </tr>\n    <tr>\n      <th>BMF2</th>\n      <td>874M</td>\n      <td>874000000</td>\n      <td>TulletPrebon</td>\n    </tr>\n    <tr>\n      <th>BMF3</th>\n      <td>470M</td>\n      <td>470000000</td>\n      <td>TulletPrebon</td>\n    </tr>\n    <tr>\n      <th>BROKEN</th>\n      <td>1.26B</td>\n      <td>1258000000</td>\n      <td>TulletPrebon</td>\n    </tr>\n    <tr>\n      <th>GT 1 YEAR</th>\n      <td>25M</td>\n      <td>25000000</td>\n      <td>TulletPrebon</td>\n    </tr>\n    <tr>\n      <th>LONGER</th>\n      <td>710M</td>\n      <td>710000000</td>\n      <td>TulletPrebon</td>\n    </tr>\n    <tr>\n      <th>PTAX</th>\n      <td>356.5M</td>\n      <td>356500000</td>\n      <td>TulletPrebon</td>\n    </tr>\n    <tr>\n      <th>TOMPTAX</th>\n      <td>20M</td>\n      <td>20000000</td>\n      <td>TulletPrebon</td>\n    </tr>\n    <tr>\n      <th>TOTAL</th>\n      <td>7.69B</td>\n      <td>7691550000</td>\n      <td>TulletPrebon</td>\n    </tr>\n    <tr>\n      <th>XP</th>\n      <td>225.25M</td>\n      <td>225250000</td>\n      <td>TulletPrebon</td>\n    </tr>\n    <tr>\n      <th>TOTAL</th>\n      <td>0</td>\n      <td>0</td>\n      <td>Tradition</td>\n    </tr>\n    <tr>\n      <th>BMF</th>\n      <td>1.3B</td>\n      <td>1295000000</td>\n      <td>bgc</td>\n    </tr>\n    <tr>\n      <th>BMF2</th>\n      <td>372.5M</td>\n      <td>372500000</td>\n      <td>bgc</td>\n    </tr>\n    <tr>\n      <th>BMF4</th>\n      <td>50M</td>\n      <td>50000000</td>\n      <td>bgc</td>\n    </tr>\n    <tr>\n      <th>BROKEN</th>\n      <td>346.5M</td>\n      <td>346500000</td>\n      <td>bgc</td>\n    </tr>\n    <tr>\n      <th>TOTAL</th>\n      <td>2.06B</td>\n      <td>2064000000</td>\n      <td>bgc</td>\n    </tr>\n    <tr>\n      <th>BMF</th>\n      <td>1.29B</td>\n      <td>1293000000</td>\n      <td>gfi</td>\n    </tr>\n    <tr>\n      <th>BMF2</th>\n      <td>725M</td>\n      <td>725000000</td>\n      <td>gfi</td>\n    </tr>\n    <tr>\n      <th>BROKEN</th>\n      <td>570M</td>\n      <td>570000000</td>\n      <td>gfi</td>\n    </tr>\n    <tr>\n      <th>TOTAL</th>\n      <td>2.59B</td>\n      <td>2588000000</td>\n      <td>gfi</td>\n    </tr>\n  </tbody>\n</table>\n</div>"
     },
     "execution_count": 12,
     "metadata": {},
     "output_type": "execute_result"
    }
   ],
   "source": [
    "df_result = pd.concat([tulletprebon, tradition, bgc, gfi])\n",
    "df_result"
   ]
  },
  {
   "cell_type": "code",
   "execution_count": 13,
   "metadata": {
    "ExecuteTime": {
     "end_time": "2023-05-30T01:51:39.399605Z",
     "start_time": "2023-05-30T01:51:39.389798Z"
    }
   },
   "outputs": [
    {
     "data": {
      "text/plain": "      Total for human      Volume        source\nClass                                          \nTOTAL           7.69B  7691550000  TulletPrebon\nTOTAL               0           0     Tradition\nTOTAL           2.06B  2064000000           bgc\nTOTAL           2.59B  2588000000           gfi",
      "text/html": "<div>\n<style scoped>\n    .dataframe tbody tr th:only-of-type {\n        vertical-align: middle;\n    }\n\n    .dataframe tbody tr th {\n        vertical-align: top;\n    }\n\n    .dataframe thead th {\n        text-align: right;\n    }\n</style>\n<table border=\"1\" class=\"dataframe\">\n  <thead>\n    <tr style=\"text-align: right;\">\n      <th></th>\n      <th>Total for human</th>\n      <th>Volume</th>\n      <th>source</th>\n    </tr>\n    <tr>\n      <th>Class</th>\n      <th></th>\n      <th></th>\n      <th></th>\n    </tr>\n  </thead>\n  <tbody>\n    <tr>\n      <th>TOTAL</th>\n      <td>7.69B</td>\n      <td>7691550000</td>\n      <td>TulletPrebon</td>\n    </tr>\n    <tr>\n      <th>TOTAL</th>\n      <td>0</td>\n      <td>0</td>\n      <td>Tradition</td>\n    </tr>\n    <tr>\n      <th>TOTAL</th>\n      <td>2.06B</td>\n      <td>2064000000</td>\n      <td>bgc</td>\n    </tr>\n    <tr>\n      <th>TOTAL</th>\n      <td>2.59B</td>\n      <td>2588000000</td>\n      <td>gfi</td>\n    </tr>\n  </tbody>\n</table>\n</div>"
     },
     "execution_count": 13,
     "metadata": {},
     "output_type": "execute_result"
    }
   ],
   "source": [
    "df_totals = df_result.query('Class == \"TOTAL\"')\n",
    "df_totals"
   ]
  },
  {
   "cell_type": "code",
   "execution_count": 14,
   "metadata": {
    "ExecuteTime": {
     "end_time": "2023-05-30T01:51:39.469695Z",
     "start_time": "2023-05-30T01:51:39.395549Z"
    }
   },
   "outputs": [
    {
     "data": {
      "text/plain": "            Volume\nClass             \nTOTAL  12343550000",
      "text/html": "<div>\n<style scoped>\n    .dataframe tbody tr th:only-of-type {\n        vertical-align: middle;\n    }\n\n    .dataframe tbody tr th {\n        vertical-align: top;\n    }\n\n    .dataframe thead th {\n        text-align: right;\n    }\n</style>\n<table border=\"1\" class=\"dataframe\">\n  <thead>\n    <tr style=\"text-align: right;\">\n      <th></th>\n      <th>Volume</th>\n    </tr>\n    <tr>\n      <th>Class</th>\n      <th></th>\n    </tr>\n  </thead>\n  <tbody>\n    <tr>\n      <th>TOTAL</th>\n      <td>12343550000</td>\n    </tr>\n  </tbody>\n</table>\n</div>"
     },
     "execution_count": 14,
     "metadata": {},
     "output_type": "execute_result"
    }
   ],
   "source": [
    "df_totals.groupby(['Class']).sum()"
   ]
  },
  {
   "cell_type": "code",
   "execution_count": 15,
   "metadata": {
    "ExecuteTime": {
     "end_time": "2023-05-30T01:51:39.519145Z",
     "start_time": "2023-05-30T01:51:39.400055Z"
    }
   },
   "outputs": [
    {
     "data": {
      "text/plain": "'12.34B'"
     },
     "execution_count": 15,
     "metadata": {},
     "output_type": "execute_result"
    }
   ],
   "source": [
    "from numerize import numerize\n",
    "\n",
    "market_total = df_totals.sum()['Volume']\n",
    "market_total = numerize.numerize(float(market_total))\n",
    "market_total"
   ]
  },
  {
   "cell_type": "code",
   "execution_count": 16,
   "metadata": {
    "ExecuteTime": {
     "end_time": "2023-05-30T01:51:39.582862Z",
     "start_time": "2023-05-30T01:51:39.404559Z"
    }
   },
   "outputs": [
    {
     "data": {
      "text/plain": "      Total for human      Volume        source\nClass                                          \nTOTAL           7.69B  7691550000  TulletPrebon\nTOTAL               0           0     Tradition\nTOTAL           2.06B  2064000000           bgc\nTOTAL           2.59B  2588000000           gfi",
      "text/html": "<div>\n<style scoped>\n    .dataframe tbody tr th:only-of-type {\n        vertical-align: middle;\n    }\n\n    .dataframe tbody tr th {\n        vertical-align: top;\n    }\n\n    .dataframe thead th {\n        text-align: right;\n    }\n</style>\n<table border=\"1\" class=\"dataframe\">\n  <thead>\n    <tr style=\"text-align: right;\">\n      <th></th>\n      <th>Total for human</th>\n      <th>Volume</th>\n      <th>source</th>\n    </tr>\n    <tr>\n      <th>Class</th>\n      <th></th>\n      <th></th>\n      <th></th>\n    </tr>\n  </thead>\n  <tbody>\n    <tr>\n      <th>TOTAL</th>\n      <td>7.69B</td>\n      <td>7691550000</td>\n      <td>TulletPrebon</td>\n    </tr>\n    <tr>\n      <th>TOTAL</th>\n      <td>0</td>\n      <td>0</td>\n      <td>Tradition</td>\n    </tr>\n    <tr>\n      <th>TOTAL</th>\n      <td>2.06B</td>\n      <td>2064000000</td>\n      <td>bgc</td>\n    </tr>\n    <tr>\n      <th>TOTAL</th>\n      <td>2.59B</td>\n      <td>2588000000</td>\n      <td>gfi</td>\n    </tr>\n  </tbody>\n</table>\n</div>"
     },
     "execution_count": 16,
     "metadata": {},
     "output_type": "execute_result"
    }
   ],
   "source": [
    "summary = mining.market_summary()\n",
    "summary"
   ]
  },
  {
   "cell_type": "code",
   "execution_count": 17,
   "metadata": {
    "ExecuteTime": {
     "end_time": "2023-05-30T01:51:39.607751Z",
     "start_time": "2023-05-30T01:51:39.458323Z"
    }
   },
   "outputs": [
    {
     "data": {
      "text/plain": "'12.34B'"
     },
     "execution_count": 17,
     "metadata": {},
     "output_type": "execute_result"
    }
   ],
   "source": [
    "market_total = mining.market_total()\n",
    "market_total"
   ]
  },
  {
   "cell_type": "code",
   "execution_count": 18,
   "outputs": [
    {
     "data": {
      "text/plain": "<Figure size 500x600 with 1 Axes>",
      "image/png": "[encoded data removed]"
     },
     "metadata": {},
     "output_type": "display_data"
    }
   ],
   "source": [
    "import matplotlib.pyplot as plt\n",
    "\n",
    "market_total = mining.market_total()\n",
    "summary = mining.market_summary()\n",
    "\n",
    "fig = plt.figure(figsize=(5, 6))\n",
    "plt.pie(summary['Volume'], labels=summary['source'], autopct='%1.0f%%')\n",
    "plt.title(f'NDF Market Summary - Total ${market_total}')\n",
    "plt.savefig('pie.png', dpi=fig.dpi, bbox_inches='tight')\n",
    "# plt.show()\n"
   ],
   "metadata": {
    "collapsed": false,
    "ExecuteTime": {
     "end_time": "2023-05-30T01:51:39.808723Z",
     "start_time": "2023-05-30T01:51:39.511019Z"
    }
   }
  },
  {
   "cell_type": "code",
   "execution_count": 19,
   "outputs": [
    {
     "data": {
      "text/plain": "True"
     },
     "execution_count": 19,
     "metadata": {},
     "output_type": "execute_result"
    },
    {
     "data": {
      "text/plain": "<Figure size 500x600 with 1 Axes>",
      "image/png": "[encoded data removed]"
     },
     "metadata": {},
     "output_type": "display_data"
    }
   ],
   "source": [
    "mining.generate_chart()"
   ],
   "metadata": {
    "collapsed": false,
    "ExecuteTime": {
     "end_time": "2023-05-30T01:51:52.310489Z",
     "start_time": "2023-05-30T01:51:52.080709Z"
    }
   }
  }
 ],
 "metadata": {
  "kernelspec": {
   "display_name": "Python 3 (ipykernel)",
   "language": "python",
   "name": "python3"
  },
  "language_info": {
   "codemirror_mode": {
    "name": "ipython",
    "version": 3
   },
   "file_extension": ".py",
   "mimetype": "text/x-python",
   "name": "python",
   "nbconvert_exporter": "python",
   "pygments_lexer": "ipython3",
   "version": "3.9.16"
  }
 },
 "nbformat": 4,
 "nbformat_minor": 1
}
