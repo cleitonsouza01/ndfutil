{
 "cells": [
  {
   "cell_type": "code",
   "execution_count": 1,
   "metadata": {
    "ExecuteTime": {
     "end_time": "2023-08-18T16:13:37.724385400Z",
     "start_time": "2023-08-18T16:13:19.669145900Z"
    }
   },
   "outputs": [
    {
     "data": {
      "text/plain": "2"
     },
     "execution_count": 1,
     "metadata": {},
     "output_type": "execute_result"
    }
   ],
   "source": [
    "import pandas\n",
    "from loguru import logger\n",
    "import ndf.download\n",
    "from ndf.datamining import datamining\n",
    "import warnings\n",
    "import sys\n",
    "import pandas as pd\n",
    "\n",
    "warnings.simplefilter(action='ignore', category=FutureWarning)\n",
    "\n",
    "log_level = 'ERROR'\n",
    "logger.add(sys.stderr, format=\"{time} {level} {message}\", filter=\"my_module\", level=log_level)\n",
    "# logger.add(sys.stdout, colorize=True, format=\"<green>{time}</green> <level>{message}</level>\")\n",
    "logger.add(\"ndfdownload.log\", rotation=\"30 MB\", level=log_level)"
   ]
  },
  {
   "cell_type": "code",
   "execution_count": 2,
   "metadata": {
    "ExecuteTime": {
     "end_time": "2023-08-18T16:13:37.849875200Z",
     "start_time": "2023-08-18T16:13:37.705818400Z"
    }
   },
   "outputs": [
    {
     "data": {
      "text/plain": "datetime.date(2023, 8, 18)"
     },
     "execution_count": 2,
     "metadata": {},
     "output_type": "execute_result"
    }
   ],
   "source": [
    "from datetime import datetime\n",
    "\n",
    "a = datetime.now()\n",
    "a.date()"
   ]
  },
  {
   "cell_type": "code",
   "execution_count": 3,
   "metadata": {
    "ExecuteTime": {
     "end_time": "2023-08-18T16:13:37.907534300Z",
     "start_time": "2023-08-18T16:13:37.727444300Z"
    }
   },
   "outputs": [],
   "source": [
    "logger.remove()"
   ]
  },
  {
   "cell_type": "code",
   "execution_count": 4,
   "metadata": {
    "ExecuteTime": {
     "end_time": "2023-08-18T16:13:46.535493800Z",
     "start_time": "2023-08-18T16:13:37.766801700Z"
    }
   },
   "outputs": [
    {
     "name": "stderr",
     "output_type": "stream",
     "text": [
      "C:\\Users\\souzacle\\PycharmProjects\\ndfutil\\venv\\lib\\site-packages\\urllib3\\connectionpool.py:1045: InsecureRequestWarning: Unverified HTTPS request is being made to host 'www.traditionsef.com'. Adding certificate verification is strongly advised. See: https://urllib3.readthedocs.io/en/1.26.x/advanced-usage.html#ssl-warnings\n",
      "  warnings.warn(\n",
      "C:\\Users\\souzacle\\PycharmProjects\\ndfutil\\venv\\lib\\site-packages\\scrapy\\selector\\unified.py:83: UserWarning: Selector got both text and root, root is being ignored.\n",
      "  super().__init__(text=text, type=st, root=root, **kwargs)\n"
     ]
    },
    {
     "name": "stdout",
     "output_type": "stream",
     "text": [
      "bgc ok\n",
      "tradition ok\n",
      "prebontullet ok\n",
      "gfi ok\n"
     ]
    }
   ],
   "source": [
    "d = ndf.download.download()\n",
    "d.download_all()"
   ]
  },
  {
   "cell_type": "code",
   "execution_count": 5,
   "metadata": {
    "ExecuteTime": {
     "end_time": "2023-08-18T16:13:46.624771500Z",
     "start_time": "2023-08-18T16:13:46.504181200Z"
    }
   },
   "outputs": [],
   "source": [
    "mining = datamining()"
   ]
  },
  {
   "cell_type": "code",
   "execution_count": 6,
   "metadata": {
    "ExecuteTime": {
     "end_time": "2023-08-18T16:13:46.861284600Z",
     "start_time": "2023-08-18T16:13:46.525389700Z"
    }
   },
   "outputs": [
    {
     "data": {
      "text/plain": "          Total for human      Volume\nClass                                \nBMF1               871.1M   871100000\nBMF2                 130M   130000000\nBROKEN             278.5M   278500000\nGT 1 YEAR             70M    70000000\nLONGER               130M   130000000\nPTAX               120.5M   120500000\nTOMPTAX             62.5M    62500000\nTOTAL               1.96B  1956700000\nXP                 294.1M   294100000",
      "text/html": "<div>\n<style scoped>\n    .dataframe tbody tr th:only-of-type {\n        vertical-align: middle;\n    }\n\n    .dataframe tbody tr th {\n        vertical-align: top;\n    }\n\n    .dataframe thead th {\n        text-align: right;\n    }\n</style>\n<table border=\"1\" class=\"dataframe\">\n  <thead>\n    <tr style=\"text-align: right;\">\n      <th></th>\n      <th>Total for human</th>\n      <th>Volume</th>\n    </tr>\n    <tr>\n      <th>Class</th>\n      <th></th>\n      <th></th>\n    </tr>\n  </thead>\n  <tbody>\n    <tr>\n      <th>BMF1</th>\n      <td>871.1M</td>\n      <td>871100000</td>\n    </tr>\n    <tr>\n      <th>BMF2</th>\n      <td>130M</td>\n      <td>130000000</td>\n    </tr>\n    <tr>\n      <th>BROKEN</th>\n      <td>278.5M</td>\n      <td>278500000</td>\n    </tr>\n    <tr>\n      <th>GT 1 YEAR</th>\n      <td>70M</td>\n      <td>70000000</td>\n    </tr>\n    <tr>\n      <th>LONGER</th>\n      <td>130M</td>\n      <td>130000000</td>\n    </tr>\n    <tr>\n      <th>PTAX</th>\n      <td>120.5M</td>\n      <td>120500000</td>\n    </tr>\n    <tr>\n      <th>TOMPTAX</th>\n      <td>62.5M</td>\n      <td>62500000</td>\n    </tr>\n    <tr>\n      <th>TOTAL</th>\n      <td>1.96B</td>\n      <td>1956700000</td>\n    </tr>\n    <tr>\n      <th>XP</th>\n      <td>294.1M</td>\n      <td>294100000</td>\n    </tr>\n  </tbody>\n</table>\n</div>"
     },
     "execution_count": 6,
     "metadata": {},
     "output_type": "execute_result"
    }
   ],
   "source": [
    "tulletprebon = mining.tulletprebon_calcs()\n",
    "tulletprebon"
   ]
  },
  {
   "cell_type": "code",
   "execution_count": 7,
   "metadata": {
    "ExecuteTime": {
     "end_time": "2023-08-18T16:13:47.058589800Z",
     "start_time": "2023-08-18T16:13:46.722234200Z"
    }
   },
   "outputs": [
    {
     "data": {
      "text/plain": "       Total for human     Volume\nClass                            \nBMF               129M  129000000\nBROKEN         128.84M  128842400\nTOTAL          257.84M  257842400",
      "text/html": "<div>\n<style scoped>\n    .dataframe tbody tr th:only-of-type {\n        vertical-align: middle;\n    }\n\n    .dataframe tbody tr th {\n        vertical-align: top;\n    }\n\n    .dataframe thead th {\n        text-align: right;\n    }\n</style>\n<table border=\"1\" class=\"dataframe\">\n  <thead>\n    <tr style=\"text-align: right;\">\n      <th></th>\n      <th>Total for human</th>\n      <th>Volume</th>\n    </tr>\n    <tr>\n      <th>Class</th>\n      <th></th>\n      <th></th>\n    </tr>\n  </thead>\n  <tbody>\n    <tr>\n      <th>BMF</th>\n      <td>129M</td>\n      <td>129000000</td>\n    </tr>\n    <tr>\n      <th>BROKEN</th>\n      <td>128.84M</td>\n      <td>128842400</td>\n    </tr>\n    <tr>\n      <th>TOTAL</th>\n      <td>257.84M</td>\n      <td>257842400</td>\n    </tr>\n  </tbody>\n</table>\n</div>"
     },
     "execution_count": 7,
     "metadata": {},
     "output_type": "execute_result"
    }
   ],
   "source": [
    "bgc = mining.bgc_calcs()\n",
    "bgc"
   ]
  },
  {
   "cell_type": "code",
   "execution_count": 8,
   "metadata": {
    "ExecuteTime": {
     "end_time": "2023-08-18T16:13:48.148516900Z",
     "start_time": "2023-08-18T16:13:46.807684500Z"
    }
   },
   "outputs": [
    {
     "data": {
      "text/plain": "       Total for human   Volume\nClass                          \nBMF               2.5M  2500000\nBROKEN            2.5M  2500000\nTOTAL               5M  5000000",
      "text/html": "<div>\n<style scoped>\n    .dataframe tbody tr th:only-of-type {\n        vertical-align: middle;\n    }\n\n    .dataframe tbody tr th {\n        vertical-align: top;\n    }\n\n    .dataframe thead th {\n        text-align: right;\n    }\n</style>\n<table border=\"1\" class=\"dataframe\">\n  <thead>\n    <tr style=\"text-align: right;\">\n      <th></th>\n      <th>Total for human</th>\n      <th>Volume</th>\n    </tr>\n    <tr>\n      <th>Class</th>\n      <th></th>\n      <th></th>\n    </tr>\n  </thead>\n  <tbody>\n    <tr>\n      <th>BMF</th>\n      <td>2.5M</td>\n      <td>2500000</td>\n    </tr>\n    <tr>\n      <th>BROKEN</th>\n      <td>2.5M</td>\n      <td>2500000</td>\n    </tr>\n    <tr>\n      <th>TOTAL</th>\n      <td>5M</td>\n      <td>5000000</td>\n    </tr>\n  </tbody>\n</table>\n</div>"
     },
     "execution_count": 8,
     "metadata": {},
     "output_type": "execute_result"
    }
   ],
   "source": [
    "tradition = mining.tradition_calcs()\n",
    "tradition"
   ]
  },
  {
   "cell_type": "code",
   "execution_count": 9,
   "metadata": {
    "ExecuteTime": {
     "end_time": "2023-08-18T16:13:48.223731500Z",
     "start_time": "2023-08-18T16:13:47.926215200Z"
    }
   },
   "outputs": [
    {
     "data": {
      "text/plain": "       Total for human     Volume\nClass                            \nBMF               215M  215000000\nBROKEN             65M   65000000\nTOTAL             280M  280000000",
      "text/html": "<div>\n<style scoped>\n    .dataframe tbody tr th:only-of-type {\n        vertical-align: middle;\n    }\n\n    .dataframe tbody tr th {\n        vertical-align: top;\n    }\n\n    .dataframe thead th {\n        text-align: right;\n    }\n</style>\n<table border=\"1\" class=\"dataframe\">\n  <thead>\n    <tr style=\"text-align: right;\">\n      <th></th>\n      <th>Total for human</th>\n      <th>Volume</th>\n    </tr>\n    <tr>\n      <th>Class</th>\n      <th></th>\n      <th></th>\n    </tr>\n  </thead>\n  <tbody>\n    <tr>\n      <th>BMF</th>\n      <td>215M</td>\n      <td>215000000</td>\n    </tr>\n    <tr>\n      <th>BROKEN</th>\n      <td>65M</td>\n      <td>65000000</td>\n    </tr>\n    <tr>\n      <th>TOTAL</th>\n      <td>280M</td>\n      <td>280000000</td>\n    </tr>\n  </tbody>\n</table>\n</div>"
     },
     "execution_count": 9,
     "metadata": {},
     "output_type": "execute_result"
    }
   ],
   "source": [
    "gfi = mining.gfi_calcs()\n",
    "gfi"
   ]
  },
  {
   "cell_type": "code",
   "execution_count": 10,
   "metadata": {
    "ExecuteTime": {
     "end_time": "2023-08-18T16:13:48.249989900Z",
     "start_time": "2023-08-18T16:13:48.035270300Z"
    }
   },
   "outputs": [],
   "source": [
    "tulletprebon['source'] = 'TulletPrebon'\n",
    "tradition['source'] = 'Tradition'\n",
    "bgc['source'] = 'bgc'\n",
    "gfi['source'] = 'gfi'"
   ]
  },
  {
   "cell_type": "code",
   "execution_count": 11,
   "metadata": {
    "ExecuteTime": {
     "end_time": "2023-08-18T16:13:48.408438200Z",
     "start_time": "2023-08-18T16:13:48.050707100Z"
    }
   },
   "outputs": [
    {
     "data": {
      "text/plain": "       Total for human   Volume     source\nClass                                     \nBMF               2.5M  2500000  Tradition\nBROKEN            2.5M  2500000  Tradition\nTOTAL               5M  5000000  Tradition",
      "text/html": "<div>\n<style scoped>\n    .dataframe tbody tr th:only-of-type {\n        vertical-align: middle;\n    }\n\n    .dataframe tbody tr th {\n        vertical-align: top;\n    }\n\n    .dataframe thead th {\n        text-align: right;\n    }\n</style>\n<table border=\"1\" class=\"dataframe\">\n  <thead>\n    <tr style=\"text-align: right;\">\n      <th></th>\n      <th>Total for human</th>\n      <th>Volume</th>\n      <th>source</th>\n    </tr>\n    <tr>\n      <th>Class</th>\n      <th></th>\n      <th></th>\n      <th></th>\n    </tr>\n  </thead>\n  <tbody>\n    <tr>\n      <th>BMF</th>\n      <td>2.5M</td>\n      <td>2500000</td>\n      <td>Tradition</td>\n    </tr>\n    <tr>\n      <th>BROKEN</th>\n      <td>2.5M</td>\n      <td>2500000</td>\n      <td>Tradition</td>\n    </tr>\n    <tr>\n      <th>TOTAL</th>\n      <td>5M</td>\n      <td>5000000</td>\n      <td>Tradition</td>\n    </tr>\n  </tbody>\n</table>\n</div>"
     },
     "execution_count": 11,
     "metadata": {},
     "output_type": "execute_result"
    }
   ],
   "source": [
    "tradition"
   ]
  },
  {
   "cell_type": "code",
   "execution_count": 12,
   "outputs": [
    {
     "data": {
      "text/plain": "       Total for human  Volume\nClass                         \nTOTAL                0       0",
      "text/html": "<div>\n<style scoped>\n    .dataframe tbody tr th:only-of-type {\n        vertical-align: middle;\n    }\n\n    .dataframe tbody tr th {\n        vertical-align: top;\n    }\n\n    .dataframe thead th {\n        text-align: right;\n    }\n</style>\n<table border=\"1\" class=\"dataframe\">\n  <thead>\n    <tr style=\"text-align: right;\">\n      <th></th>\n      <th>Total for human</th>\n      <th>Volume</th>\n    </tr>\n    <tr>\n      <th>Class</th>\n      <th></th>\n      <th></th>\n    </tr>\n  </thead>\n  <tbody>\n    <tr>\n      <th>TOTAL</th>\n      <td>0</td>\n      <td>0</td>\n    </tr>\n  </tbody>\n</table>\n</div>"
     },
     "execution_count": 12,
     "metadata": {},
     "output_type": "execute_result"
    }
   ],
   "source": [
    "pd.DataFrame({'Class': ['TOTAL'], 'Total for human': [0], 'Volume': [0]}).set_index('Class')"
   ],
   "metadata": {
    "collapsed": false,
    "ExecuteTime": {
     "end_time": "2023-08-18T16:13:48.507670800Z",
     "start_time": "2023-08-18T16:13:48.138450100Z"
    }
   }
  },
  {
   "cell_type": "code",
   "execution_count": 13,
   "metadata": {
    "ExecuteTime": {
     "end_time": "2023-08-18T16:13:48.948492300Z",
     "start_time": "2023-08-18T16:13:48.219417200Z"
    }
   },
   "outputs": [
    {
     "data": {
      "text/plain": "          Total for human      Volume        source\nClass                                              \nBMF1               871.1M   871100000  TulletPrebon\nBMF2                 130M   130000000  TulletPrebon\nBROKEN             278.5M   278500000  TulletPrebon\nGT 1 YEAR             70M    70000000  TulletPrebon\nLONGER               130M   130000000  TulletPrebon\nPTAX               120.5M   120500000  TulletPrebon\nTOMPTAX             62.5M    62500000  TulletPrebon\nTOTAL               1.96B  1956700000  TulletPrebon\nXP                 294.1M   294100000  TulletPrebon\nBMF                  2.5M     2500000     Tradition\nBROKEN               2.5M     2500000     Tradition\nTOTAL                  5M     5000000     Tradition\nBMF                  129M   129000000           bgc\nBROKEN            128.84M   128842400           bgc\nTOTAL             257.84M   257842400           bgc\nBMF                  215M   215000000           gfi\nBROKEN                65M    65000000           gfi\nTOTAL                280M   280000000           gfi",
      "text/html": "<div>\n<style scoped>\n    .dataframe tbody tr th:only-of-type {\n        vertical-align: middle;\n    }\n\n    .dataframe tbody tr th {\n        vertical-align: top;\n    }\n\n    .dataframe thead th {\n        text-align: right;\n    }\n</style>\n<table border=\"1\" class=\"dataframe\">\n  <thead>\n    <tr style=\"text-align: right;\">\n      <th></th>\n      <th>Total for human</th>\n      <th>Volume</th>\n      <th>source</th>\n    </tr>\n    <tr>\n      <th>Class</th>\n      <th></th>\n      <th></th>\n      <th></th>\n    </tr>\n  </thead>\n  <tbody>\n    <tr>\n      <th>BMF1</th>\n      <td>871.1M</td>\n      <td>871100000</td>\n      <td>TulletPrebon</td>\n    </tr>\n    <tr>\n      <th>BMF2</th>\n      <td>130M</td>\n      <td>130000000</td>\n      <td>TulletPrebon</td>\n    </tr>\n    <tr>\n      <th>BROKEN</th>\n      <td>278.5M</td>\n      <td>278500000</td>\n      <td>TulletPrebon</td>\n    </tr>\n    <tr>\n      <th>GT 1 YEAR</th>\n      <td>70M</td>\n      <td>70000000</td>\n      <td>TulletPrebon</td>\n    </tr>\n    <tr>\n      <th>LONGER</th>\n      <td>130M</td>\n      <td>130000000</td>\n      <td>TulletPrebon</td>\n    </tr>\n    <tr>\n      <th>PTAX</th>\n      <td>120.5M</td>\n      <td>120500000</td>\n      <td>TulletPrebon</td>\n    </tr>\n    <tr>\n      <th>TOMPTAX</th>\n      <td>62.5M</td>\n      <td>62500000</td>\n      <td>TulletPrebon</td>\n    </tr>\n    <tr>\n      <th>TOTAL</th>\n      <td>1.96B</td>\n      <td>1956700000</td>\n      <td>TulletPrebon</td>\n    </tr>\n    <tr>\n      <th>XP</th>\n      <td>294.1M</td>\n      <td>294100000</td>\n      <td>TulletPrebon</td>\n    </tr>\n    <tr>\n      <th>BMF</th>\n      <td>2.5M</td>\n      <td>2500000</td>\n      <td>Tradition</td>\n    </tr>\n    <tr>\n      <th>BROKEN</th>\n      <td>2.5M</td>\n      <td>2500000</td>\n      <td>Tradition</td>\n    </tr>\n    <tr>\n      <th>TOTAL</th>\n      <td>5M</td>\n      <td>5000000</td>\n      <td>Tradition</td>\n    </tr>\n    <tr>\n      <th>BMF</th>\n      <td>129M</td>\n      <td>129000000</td>\n      <td>bgc</td>\n    </tr>\n    <tr>\n      <th>BROKEN</th>\n      <td>128.84M</td>\n      <td>128842400</td>\n      <td>bgc</td>\n    </tr>\n    <tr>\n      <th>TOTAL</th>\n      <td>257.84M</td>\n      <td>257842400</td>\n      <td>bgc</td>\n    </tr>\n    <tr>\n      <th>BMF</th>\n      <td>215M</td>\n      <td>215000000</td>\n      <td>gfi</td>\n    </tr>\n    <tr>\n      <th>BROKEN</th>\n      <td>65M</td>\n      <td>65000000</td>\n      <td>gfi</td>\n    </tr>\n    <tr>\n      <th>TOTAL</th>\n      <td>280M</td>\n      <td>280000000</td>\n      <td>gfi</td>\n    </tr>\n  </tbody>\n</table>\n</div>"
     },
     "execution_count": 13,
     "metadata": {},
     "output_type": "execute_result"
    }
   ],
   "source": [
    "df_result = pd.concat([tulletprebon, tradition, bgc, gfi])\n",
    "df_result"
   ]
  },
  {
   "cell_type": "code",
   "execution_count": 14,
   "metadata": {
    "ExecuteTime": {
     "end_time": "2023-08-18T16:13:49.025115400Z",
     "start_time": "2023-08-18T16:13:48.339146800Z"
    }
   },
   "outputs": [
    {
     "data": {
      "text/plain": "      Total for human      Volume        source\nClass                                          \nTOTAL           1.96B  1956700000  TulletPrebon\nTOTAL              5M     5000000     Tradition\nTOTAL         257.84M   257842400           bgc\nTOTAL            280M   280000000           gfi",
      "text/html": "<div>\n<style scoped>\n    .dataframe tbody tr th:only-of-type {\n        vertical-align: middle;\n    }\n\n    .dataframe tbody tr th {\n        vertical-align: top;\n    }\n\n    .dataframe thead th {\n        text-align: right;\n    }\n</style>\n<table border=\"1\" class=\"dataframe\">\n  <thead>\n    <tr style=\"text-align: right;\">\n      <th></th>\n      <th>Total for human</th>\n      <th>Volume</th>\n      <th>source</th>\n    </tr>\n    <tr>\n      <th>Class</th>\n      <th></th>\n      <th></th>\n      <th></th>\n    </tr>\n  </thead>\n  <tbody>\n    <tr>\n      <th>TOTAL</th>\n      <td>1.96B</td>\n      <td>1956700000</td>\n      <td>TulletPrebon</td>\n    </tr>\n    <tr>\n      <th>TOTAL</th>\n      <td>5M</td>\n      <td>5000000</td>\n      <td>Tradition</td>\n    </tr>\n    <tr>\n      <th>TOTAL</th>\n      <td>257.84M</td>\n      <td>257842400</td>\n      <td>bgc</td>\n    </tr>\n    <tr>\n      <th>TOTAL</th>\n      <td>280M</td>\n      <td>280000000</td>\n      <td>gfi</td>\n    </tr>\n  </tbody>\n</table>\n</div>"
     },
     "execution_count": 14,
     "metadata": {},
     "output_type": "execute_result"
    }
   ],
   "source": [
    "df_totals = df_result.query('Class == \"TOTAL\"')\n",
    "df_totals"
   ]
  },
  {
   "cell_type": "code",
   "execution_count": 15,
   "metadata": {
    "ExecuteTime": {
     "end_time": "2023-08-18T16:13:49.090049400Z",
     "start_time": "2023-08-18T16:13:48.458459900Z"
    }
   },
   "outputs": [
    {
     "data": {
      "text/plain": "           Volume\nClass            \nTOTAL  2499542400",
      "text/html": "<div>\n<style scoped>\n    .dataframe tbody tr th:only-of-type {\n        vertical-align: middle;\n    }\n\n    .dataframe tbody tr th {\n        vertical-align: top;\n    }\n\n    .dataframe thead th {\n        text-align: right;\n    }\n</style>\n<table border=\"1\" class=\"dataframe\">\n  <thead>\n    <tr style=\"text-align: right;\">\n      <th></th>\n      <th>Volume</th>\n    </tr>\n    <tr>\n      <th>Class</th>\n      <th></th>\n    </tr>\n  </thead>\n  <tbody>\n    <tr>\n      <th>TOTAL</th>\n      <td>2499542400</td>\n    </tr>\n  </tbody>\n</table>\n</div>"
     },
     "execution_count": 15,
     "metadata": {},
     "output_type": "execute_result"
    }
   ],
   "source": [
    "df_totals.groupby(['Class']).sum()"
   ]
  },
  {
   "cell_type": "code",
   "execution_count": 16,
   "metadata": {
    "ExecuteTime": {
     "end_time": "2023-08-18T16:13:49.209317300Z",
     "start_time": "2023-08-18T16:13:48.491958200Z"
    }
   },
   "outputs": [
    {
     "data": {
      "text/plain": "'2.5B'"
     },
     "execution_count": 16,
     "metadata": {},
     "output_type": "execute_result"
    }
   ],
   "source": [
    "from numerize import numerize\n",
    "\n",
    "market_total = df_totals.sum()['Volume']\n",
    "market_total = numerize.numerize(float(market_total))\n",
    "market_total"
   ]
  },
  {
   "cell_type": "code",
   "execution_count": 17,
   "metadata": {
    "ExecuteTime": {
     "end_time": "2023-08-18T16:13:51.037613400Z",
     "start_time": "2023-08-18T16:13:48.587608Z"
    }
   },
   "outputs": [
    {
     "data": {
      "text/plain": "      Total for human      Volume        source\nClass                                          \nTOTAL           1.96B  1956700000  TulletPrebon\nTOTAL              5M     5000000     Tradition\nTOTAL         257.84M   257842400           bgc\nTOTAL            280M   280000000           gfi",
      "text/html": "<div>\n<style scoped>\n    .dataframe tbody tr th:only-of-type {\n        vertical-align: middle;\n    }\n\n    .dataframe tbody tr th {\n        vertical-align: top;\n    }\n\n    .dataframe thead th {\n        text-align: right;\n    }\n</style>\n<table border=\"1\" class=\"dataframe\">\n  <thead>\n    <tr style=\"text-align: right;\">\n      <th></th>\n      <th>Total for human</th>\n      <th>Volume</th>\n      <th>source</th>\n    </tr>\n    <tr>\n      <th>Class</th>\n      <th></th>\n      <th></th>\n      <th></th>\n    </tr>\n  </thead>\n  <tbody>\n    <tr>\n      <th>TOTAL</th>\n      <td>1.96B</td>\n      <td>1956700000</td>\n      <td>TulletPrebon</td>\n    </tr>\n    <tr>\n      <th>TOTAL</th>\n      <td>5M</td>\n      <td>5000000</td>\n      <td>Tradition</td>\n    </tr>\n    <tr>\n      <th>TOTAL</th>\n      <td>257.84M</td>\n      <td>257842400</td>\n      <td>bgc</td>\n    </tr>\n    <tr>\n      <th>TOTAL</th>\n      <td>280M</td>\n      <td>280000000</td>\n      <td>gfi</td>\n    </tr>\n  </tbody>\n</table>\n</div>"
     },
     "execution_count": 17,
     "metadata": {},
     "output_type": "execute_result"
    }
   ],
   "source": [
    "summary = mining.market_summary()\n",
    "summary"
   ]
  },
  {
   "cell_type": "code",
   "execution_count": 18,
   "metadata": {
    "ExecuteTime": {
     "end_time": "2023-08-18T16:13:52.283754Z",
     "start_time": "2023-08-18T16:13:50.603284500Z"
    }
   },
   "outputs": [
    {
     "data": {
      "text/plain": "'2.5B'"
     },
     "execution_count": 18,
     "metadata": {},
     "output_type": "execute_result"
    }
   ],
   "source": [
    "market_total = mining.market_total()\n",
    "market_total"
   ]
  },
  {
   "cell_type": "code",
   "execution_count": 18,
   "outputs": [],
   "source": [],
   "metadata": {
    "collapsed": false,
    "ExecuteTime": {
     "end_time": "2023-08-18T16:13:52.311251Z",
     "start_time": "2023-08-18T16:13:52.128939400Z"
    }
   }
  },
  {
   "cell_type": "code",
   "execution_count": 19,
   "outputs": [
    {
     "data": {
      "text/plain": "             source Total for human\nClass                              \nTOTAL  TulletPrebon           1.96B\nTOTAL     Tradition              5M\nTOTAL           bgc         257.84M\nTOTAL           gfi            280M",
      "text/html": "<div>\n<style scoped>\n    .dataframe tbody tr th:only-of-type {\n        vertical-align: middle;\n    }\n\n    .dataframe tbody tr th {\n        vertical-align: top;\n    }\n\n    .dataframe thead th {\n        text-align: right;\n    }\n</style>\n<table border=\"1\" class=\"dataframe\">\n  <thead>\n    <tr style=\"text-align: right;\">\n      <th></th>\n      <th>source</th>\n      <th>Total for human</th>\n    </tr>\n    <tr>\n      <th>Class</th>\n      <th></th>\n      <th></th>\n    </tr>\n  </thead>\n  <tbody>\n    <tr>\n      <th>TOTAL</th>\n      <td>TulletPrebon</td>\n      <td>1.96B</td>\n    </tr>\n    <tr>\n      <th>TOTAL</th>\n      <td>Tradition</td>\n      <td>5M</td>\n    </tr>\n    <tr>\n      <th>TOTAL</th>\n      <td>bgc</td>\n      <td>257.84M</td>\n    </tr>\n    <tr>\n      <th>TOTAL</th>\n      <td>gfi</td>\n      <td>280M</td>\n    </tr>\n  </tbody>\n</table>\n</div>"
     },
     "execution_count": 19,
     "metadata": {},
     "output_type": "execute_result"
    }
   ],
   "source": [
    "a = summary[['source', 'Total for human']]\n",
    "a"
   ],
   "metadata": {
    "collapsed": false,
    "ExecuteTime": {
     "end_time": "2023-08-18T16:13:52.367828400Z",
     "start_time": "2023-08-18T16:13:52.144135300Z"
    }
   }
  },
  {
   "cell_type": "code",
   "execution_count": 20,
   "outputs": [
    {
     "data": {
      "text/plain": "[]"
     },
     "execution_count": 20,
     "metadata": {},
     "output_type": "execute_result"
    }
   ],
   "source": [
    "labels = summary[['source', 'Total for human']]\n",
    "labels = labels.values.tolist()\n",
    "labels_chart = []\n",
    "for item in labels_chart:\n",
    "        labels_chart.append(f'{item[0]} ${item[1]}')\n",
    "labels_chart"
   ],
   "metadata": {
    "collapsed": false,
    "ExecuteTime": {
     "end_time": "2023-08-18T16:13:52.584196300Z",
     "start_time": "2023-08-18T16:13:52.195889200Z"
    }
   }
  },
  {
   "cell_type": "code",
   "execution_count": 21,
   "outputs": [
    {
     "ename": "TypeError",
     "evalue": "'type' object is not iterable",
     "output_type": "error",
     "traceback": [
      "\u001B[1;31m---------------------------------------------------------------------------\u001B[0m",
      "\u001B[1;31mTypeError\u001B[0m                                 Traceback (most recent call last)",
      "Cell \u001B[1;32mIn[21], line 10\u001B[0m\n\u001B[0;32m      8\u001B[0m labels \u001B[38;5;241m=\u001B[39m labels\u001B[38;5;241m.\u001B[39mvalues\u001B[38;5;241m.\u001B[39mtolist()\n\u001B[0;32m      9\u001B[0m labels_chart \u001B[38;5;241m=\u001B[39m []\n\u001B[1;32m---> 10\u001B[0m \u001B[38;5;28;01mfor\u001B[39;00m item \u001B[38;5;129;01min\u001B[39;00m \u001B[38;5;28mlist\u001B[39m:\n\u001B[0;32m     11\u001B[0m         labels_chart\u001B[38;5;241m.\u001B[39mappend(\u001B[38;5;124mf\u001B[39m\u001B[38;5;124m'\u001B[39m\u001B[38;5;132;01m{\u001B[39;00mitem[\u001B[38;5;241m0\u001B[39m]\u001B[38;5;132;01m}\u001B[39;00m\u001B[38;5;124m $\u001B[39m\u001B[38;5;132;01m{\u001B[39;00mitem[\u001B[38;5;241m1\u001B[39m]\u001B[38;5;132;01m}\u001B[39;00m\u001B[38;5;124m'\u001B[39m)\n\u001B[0;32m     13\u001B[0m font1 \u001B[38;5;241m=\u001B[39m {\u001B[38;5;124m'\u001B[39m\u001B[38;5;124mfamily\u001B[39m\u001B[38;5;124m'\u001B[39m:\u001B[38;5;124m'\u001B[39m\u001B[38;5;124mserif\u001B[39m\u001B[38;5;124m'\u001B[39m,\u001B[38;5;124m'\u001B[39m\u001B[38;5;124mcolor\u001B[39m\u001B[38;5;124m'\u001B[39m:\u001B[38;5;124m'\u001B[39m\u001B[38;5;124mblue\u001B[39m\u001B[38;5;124m'\u001B[39m,\u001B[38;5;124m'\u001B[39m\u001B[38;5;124msize\u001B[39m\u001B[38;5;124m'\u001B[39m:\u001B[38;5;241m18\u001B[39m}\n",
      "\u001B[1;31mTypeError\u001B[0m: 'type' object is not iterable"
     ]
    }
   ],
   "source": [
    "import matplotlib.pyplot as plt\n",
    "\n",
    "market_total = mining.market_total()\n",
    "summary = mining.market_summary()\n",
    "\n",
    "# Labels prepare\n",
    "labels = summary[['source', 'Total for human']]\n",
    "labels = labels.values.tolist()\n",
    "labels_chart = []\n",
    "for item in list:\n",
    "        labels_chart.append(f'{item[0]} ${item[1]}')\n",
    "\n",
    "font1 = {'family':'serif','color':'blue','size':18}\n",
    "colors = ['#045ca3', '#f5b12b', '#d11e20', '#8ec5f2']\n",
    "fig = plt.figure(figsize=(5, 6))\n",
    "plt.pie(summary['Volume'], labels=labels_chart, labeldistance=1.15, autopct='%1.0f%%',\n",
    "        wedgeprops = { 'linewidth' : 3, 'edgecolor' : 'white' }, colors=colors,\n",
    "        textprops={'fontsize': 14})\n",
    "plt.legend(labels_chart, loc='lower left', bbox_to_anchor=(-0.35, .5), fontsize=10)\n",
    "plt.title(f'NDF Market Summary\\n Total ${market_total}', fontdict=font1)\n",
    "plt.savefig('pie.png', dpi=fig.dpi, bbox_inches='tight')\n"
   ],
   "metadata": {
    "collapsed": false,
    "ExecuteTime": {
     "end_time": "2023-08-18T16:13:56.093961100Z",
     "start_time": "2023-08-18T16:13:52.240513400Z"
    }
   }
  },
  {
   "cell_type": "code",
   "execution_count": null,
   "outputs": [],
   "source": [
    "print(plt.savefig('pie.png', dpi=fig.dpi, bbox_inches='tight'))"
   ],
   "metadata": {
    "collapsed": false,
    "ExecuteTime": {
     "start_time": "2023-08-18T16:13:56.079101900Z"
    }
   }
  },
  {
   "cell_type": "code",
   "execution_count": null,
   "outputs": [],
   "source": [
    "mining.market_total()"
   ],
   "metadata": {
    "collapsed": false,
    "ExecuteTime": {
     "start_time": "2023-08-18T16:13:56.082102300Z"
    }
   }
  },
  {
   "cell_type": "code",
   "execution_count": null,
   "outputs": [],
   "source": [
    "mining.market_summary()"
   ],
   "metadata": {
    "collapsed": false,
    "ExecuteTime": {
     "start_time": "2023-08-18T16:13:56.085102300Z"
    }
   }
  },
  {
   "cell_type": "code",
   "execution_count": null,
   "outputs": [],
   "source": [
    "mining.generate_chart()"
   ],
   "metadata": {
    "collapsed": false,
    "ExecuteTime": {
     "start_time": "2023-08-18T16:13:56.089413300Z"
    }
   }
  }
 ],
 "metadata": {
  "kernelspec": {
   "display_name": "Python 3 (ipykernel)",
   "language": "python",
   "name": "python3"
  },
  "language_info": {
   "codemirror_mode": {
    "name": "ipython",
    "version": 3
   },
   "file_extension": ".py",
   "mimetype": "text/x-python",
   "name": "python",
   "nbconvert_exporter": "python",
   "pygments_lexer": "ipython3",
   "version": "3.9.16"
  }
 },
 "nbformat": 4,
 "nbformat_minor": 1
}
