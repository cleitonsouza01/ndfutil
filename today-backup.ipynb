{
 "cells": [
  {
   "cell_type": "code",
   "execution_count": 1,
   "metadata": {
    "ExecuteTime": {
     "end_time": "2023-05-31T22:45:43.947346Z",
     "start_time": "2023-05-31T22:45:42.382264600Z"
    }
   },
   "outputs": [
    {
     "data": {
      "text/plain": "2"
     },
     "execution_count": 1,
     "metadata": {},
     "output_type": "execute_result"
    }
   ],
   "source": [
    "import pandas\n",
    "from loguru import logger\n",
    "import ndf.download\n",
    "from ndf.datamining import datamining\n",
    "import warnings\n",
    "import sys\n",
    "import pandas as pd\n",
    "\n",
    "warnings.simplefilter(action='ignore', category=FutureWarning)\n",
    "\n",
    "log_level = 'ERROR'\n",
    "logger.add(sys.stderr, format=\"{time} {level} {message}\", filter=\"my_module\", level=log_level)\n",
    "# logger.add(sys.stdout, colorize=True, format=\"<green>{time}</green> <level>{message}</level>\")\n",
    "logger.add(\"ndfdownload.log\", rotation=\"30 MB\", level=log_level)"
   ]
  },
  {
   "cell_type": "code",
   "execution_count": 2,
   "metadata": {
    "ExecuteTime": {
     "end_time": "2023-05-31T22:45:44.013576500Z",
     "start_time": "2023-05-31T22:45:43.953972400Z"
    }
   },
   "outputs": [
    {
     "data": {
      "text/plain": "datetime.date(2023, 5, 31)"
     },
     "execution_count": 2,
     "metadata": {},
     "output_type": "execute_result"
    }
   ],
   "source": [
    "from datetime import datetime\n",
    "\n",
    "a = datetime.now()\n",
    "a.date()"
   ]
  },
  {
   "cell_type": "code",
   "execution_count": 3,
   "metadata": {
    "ExecuteTime": {
     "end_time": "2023-05-31T22:45:44.013576500Z",
     "start_time": "2023-05-31T22:45:43.972393800Z"
    }
   },
   "outputs": [],
   "source": [
    "logger.remove()"
   ]
  },
  {
   "cell_type": "code",
   "execution_count": 4,
   "metadata": {
    "ExecuteTime": {
     "end_time": "2023-05-31T22:45:44.013576500Z",
     "start_time": "2023-05-31T22:45:43.989004900Z"
    }
   },
   "outputs": [
    {
     "name": "stdout",
     "output_type": "stream",
     "text": [
      "bgc ok\n",
      "tradition ok\n",
      "prebontullet ok\n",
      "gfi ok\n"
     ]
    }
   ],
   "source": [
    "d = ndf.download.download()\n",
    "d.download_all()"
   ]
  },
  {
   "cell_type": "code",
   "execution_count": 5,
   "metadata": {
    "ExecuteTime": {
     "end_time": "2023-05-31T22:45:44.029594600Z",
     "start_time": "2023-05-31T22:45:44.013576500Z"
    }
   },
   "outputs": [],
   "source": [
    "mining = datamining()"
   ]
  },
  {
   "cell_type": "code",
   "execution_count": 6,
   "metadata": {
    "ExecuteTime": {
     "end_time": "2023-05-31T22:45:44.097411100Z",
     "start_time": "2023-05-31T22:45:44.029594600Z"
    }
   },
   "outputs": [
    {
     "data": {
      "text/plain": "       Total for human      Volume\nClass                             \nBMF1             3.75B  3753800000\nBMF2             3.28B  3276400000\nBMF3              515M   515000000\nBROKEN          595.1M   595100000\nLONGER            330M   330000000\nPTAX              448M   448000000\nTOTAL            9.49B  9488200000\nXP              569.9M   569900000",
      "text/html": "<div>\n<style scoped>\n    .dataframe tbody tr th:only-of-type {\n        vertical-align: middle;\n    }\n\n    .dataframe tbody tr th {\n        vertical-align: top;\n    }\n\n    .dataframe thead th {\n        text-align: right;\n    }\n</style>\n<table border=\"1\" class=\"dataframe\">\n  <thead>\n    <tr style=\"text-align: right;\">\n      <th></th>\n      <th>Total for human</th>\n      <th>Volume</th>\n    </tr>\n    <tr>\n      <th>Class</th>\n      <th></th>\n      <th></th>\n    </tr>\n  </thead>\n  <tbody>\n    <tr>\n      <th>BMF1</th>\n      <td>3.75B</td>\n      <td>3753800000</td>\n    </tr>\n    <tr>\n      <th>BMF2</th>\n      <td>3.28B</td>\n      <td>3276400000</td>\n    </tr>\n    <tr>\n      <th>BMF3</th>\n      <td>515M</td>\n      <td>515000000</td>\n    </tr>\n    <tr>\n      <th>BROKEN</th>\n      <td>595.1M</td>\n      <td>595100000</td>\n    </tr>\n    <tr>\n      <th>LONGER</th>\n      <td>330M</td>\n      <td>330000000</td>\n    </tr>\n    <tr>\n      <th>PTAX</th>\n      <td>448M</td>\n      <td>448000000</td>\n    </tr>\n    <tr>\n      <th>TOTAL</th>\n      <td>9.49B</td>\n      <td>9488200000</td>\n    </tr>\n    <tr>\n      <th>XP</th>\n      <td>569.9M</td>\n      <td>569900000</td>\n    </tr>\n  </tbody>\n</table>\n</div>"
     },
     "execution_count": 6,
     "metadata": {},
     "output_type": "execute_result"
    }
   ],
   "source": [
    "tulletprebon = mining.tulletprebon_calcs()\n",
    "tulletprebon"
   ]
  },
  {
   "cell_type": "code",
   "execution_count": 7,
   "metadata": {
    "ExecuteTime": {
     "end_time": "2023-05-31T22:45:44.106086200Z",
     "start_time": "2023-05-31T22:45:44.071289600Z"
    }
   },
   "outputs": [
    {
     "data": {
      "text/plain": "       Total for human     Volume\nClass                            \nBMF             354.5M  354500000\nBMF2            346.5M  346500000\nBROKEN              6M    6000000\nTOTAL             707M  707000000",
      "text/html": "<div>\n<style scoped>\n    .dataframe tbody tr th:only-of-type {\n        vertical-align: middle;\n    }\n\n    .dataframe tbody tr th {\n        vertical-align: top;\n    }\n\n    .dataframe thead th {\n        text-align: right;\n    }\n</style>\n<table border=\"1\" class=\"dataframe\">\n  <thead>\n    <tr style=\"text-align: right;\">\n      <th></th>\n      <th>Total for human</th>\n      <th>Volume</th>\n    </tr>\n    <tr>\n      <th>Class</th>\n      <th></th>\n      <th></th>\n    </tr>\n  </thead>\n  <tbody>\n    <tr>\n      <th>BMF</th>\n      <td>354.5M</td>\n      <td>354500000</td>\n    </tr>\n    <tr>\n      <th>BMF2</th>\n      <td>346.5M</td>\n      <td>346500000</td>\n    </tr>\n    <tr>\n      <th>BROKEN</th>\n      <td>6M</td>\n      <td>6000000</td>\n    </tr>\n    <tr>\n      <th>TOTAL</th>\n      <td>707M</td>\n      <td>707000000</td>\n    </tr>\n  </tbody>\n</table>\n</div>"
     },
     "execution_count": 7,
     "metadata": {},
     "output_type": "execute_result"
    }
   ],
   "source": [
    "bgc = mining.bgc_calcs()\n",
    "bgc"
   ]
  },
  {
   "cell_type": "code",
   "execution_count": 8,
   "metadata": {
    "ExecuteTime": {
     "end_time": "2023-05-31T22:45:44.272183600Z",
     "start_time": "2023-05-31T22:45:44.106086200Z"
    }
   },
   "outputs": [
    {
     "data": {
      "text/plain": "       Total for human     Volume\nClass                            \nBROKEN            100M  100000000\nTOTAL             100M  100000000",
      "text/html": "<div>\n<style scoped>\n    .dataframe tbody tr th:only-of-type {\n        vertical-align: middle;\n    }\n\n    .dataframe tbody tr th {\n        vertical-align: top;\n    }\n\n    .dataframe thead th {\n        text-align: right;\n    }\n</style>\n<table border=\"1\" class=\"dataframe\">\n  <thead>\n    <tr style=\"text-align: right;\">\n      <th></th>\n      <th>Total for human</th>\n      <th>Volume</th>\n    </tr>\n    <tr>\n      <th>Class</th>\n      <th></th>\n      <th></th>\n    </tr>\n  </thead>\n  <tbody>\n    <tr>\n      <th>BROKEN</th>\n      <td>100M</td>\n      <td>100000000</td>\n    </tr>\n    <tr>\n      <th>TOTAL</th>\n      <td>100M</td>\n      <td>100000000</td>\n    </tr>\n  </tbody>\n</table>\n</div>"
     },
     "execution_count": 8,
     "metadata": {},
     "output_type": "execute_result"
    }
   ],
   "source": [
    "tradition = mining.tradition_calcs()\n",
    "tradition"
   ]
  },
  {
   "cell_type": "code",
   "execution_count": 9,
   "metadata": {
    "ExecuteTime": {
     "end_time": "2023-05-31T22:45:44.297772200Z",
     "start_time": "2023-05-31T22:45:44.272183600Z"
    }
   },
   "outputs": [
    {
     "data": {
      "text/plain": "       Total for human      Volume\nClass                             \nBMF               1.6B  1599500000\nBMF2             1.57B  1572500000\nBROKEN             37M    37000000\nTOTAL            3.21B  3209000000",
      "text/html": "<div>\n<style scoped>\n    .dataframe tbody tr th:only-of-type {\n        vertical-align: middle;\n    }\n\n    .dataframe tbody tr th {\n        vertical-align: top;\n    }\n\n    .dataframe thead th {\n        text-align: right;\n    }\n</style>\n<table border=\"1\" class=\"dataframe\">\n  <thead>\n    <tr style=\"text-align: right;\">\n      <th></th>\n      <th>Total for human</th>\n      <th>Volume</th>\n    </tr>\n    <tr>\n      <th>Class</th>\n      <th></th>\n      <th></th>\n    </tr>\n  </thead>\n  <tbody>\n    <tr>\n      <th>BMF</th>\n      <td>1.6B</td>\n      <td>1599500000</td>\n    </tr>\n    <tr>\n      <th>BMF2</th>\n      <td>1.57B</td>\n      <td>1572500000</td>\n    </tr>\n    <tr>\n      <th>BROKEN</th>\n      <td>37M</td>\n      <td>37000000</td>\n    </tr>\n    <tr>\n      <th>TOTAL</th>\n      <td>3.21B</td>\n      <td>3209000000</td>\n    </tr>\n  </tbody>\n</table>\n</div>"
     },
     "execution_count": 9,
     "metadata": {},
     "output_type": "execute_result"
    }
   ],
   "source": [
    "gfi = mining.gfi_calcs()\n",
    "gfi"
   ]
  },
  {
   "cell_type": "code",
   "execution_count": 10,
   "metadata": {
    "ExecuteTime": {
     "end_time": "2023-05-31T22:45:44.353800400Z",
     "start_time": "2023-05-31T22:45:44.297772200Z"
    }
   },
   "outputs": [],
   "source": [
    "tulletprebon['source'] = 'TulletPrebon'\n",
    "tradition['source'] = 'Tradition'\n",
    "bgc['source'] = 'bgc'\n",
    "gfi['source'] = 'gfi'"
   ]
  },
  {
   "cell_type": "code",
   "execution_count": 11,
   "metadata": {
    "ExecuteTime": {
     "end_time": "2023-05-31T22:45:44.388412Z",
     "start_time": "2023-05-31T22:45:44.305855800Z"
    }
   },
   "outputs": [
    {
     "data": {
      "text/plain": "       Total for human     Volume     source\nClass                                       \nBROKEN            100M  100000000  Tradition\nTOTAL             100M  100000000  Tradition",
      "text/html": "<div>\n<style scoped>\n    .dataframe tbody tr th:only-of-type {\n        vertical-align: middle;\n    }\n\n    .dataframe tbody tr th {\n        vertical-align: top;\n    }\n\n    .dataframe thead th {\n        text-align: right;\n    }\n</style>\n<table border=\"1\" class=\"dataframe\">\n  <thead>\n    <tr style=\"text-align: right;\">\n      <th></th>\n      <th>Total for human</th>\n      <th>Volume</th>\n      <th>source</th>\n    </tr>\n    <tr>\n      <th>Class</th>\n      <th></th>\n      <th></th>\n      <th></th>\n    </tr>\n  </thead>\n  <tbody>\n    <tr>\n      <th>BROKEN</th>\n      <td>100M</td>\n      <td>100000000</td>\n      <td>Tradition</td>\n    </tr>\n    <tr>\n      <th>TOTAL</th>\n      <td>100M</td>\n      <td>100000000</td>\n      <td>Tradition</td>\n    </tr>\n  </tbody>\n</table>\n</div>"
     },
     "execution_count": 11,
     "metadata": {},
     "output_type": "execute_result"
    }
   ],
   "source": [
    "tradition"
   ]
  },
  {
   "cell_type": "code",
   "execution_count": 12,
   "outputs": [
    {
     "data": {
      "text/plain": "       Total for human  Volume\nClass                         \nTOTAL                0       0",
      "text/html": "<div>\n<style scoped>\n    .dataframe tbody tr th:only-of-type {\n        vertical-align: middle;\n    }\n\n    .dataframe tbody tr th {\n        vertical-align: top;\n    }\n\n    .dataframe thead th {\n        text-align: right;\n    }\n</style>\n<table border=\"1\" class=\"dataframe\">\n  <thead>\n    <tr style=\"text-align: right;\">\n      <th></th>\n      <th>Total for human</th>\n      <th>Volume</th>\n    </tr>\n    <tr>\n      <th>Class</th>\n      <th></th>\n      <th></th>\n    </tr>\n  </thead>\n  <tbody>\n    <tr>\n      <th>TOTAL</th>\n      <td>0</td>\n      <td>0</td>\n    </tr>\n  </tbody>\n</table>\n</div>"
     },
     "execution_count": 12,
     "metadata": {},
     "output_type": "execute_result"
    }
   ],
   "source": [
    "pd.DataFrame({'Class': ['TOTAL'], 'Total for human': [0], 'Volume': [0]}).set_index('Class')"
   ],
   "metadata": {
    "collapsed": false,
    "ExecuteTime": {
     "end_time": "2023-05-31T22:45:44.463414Z",
     "start_time": "2023-05-31T22:45:44.322002Z"
    }
   }
  },
  {
   "cell_type": "code",
   "execution_count": 13,
   "metadata": {
    "ExecuteTime": {
     "end_time": "2023-05-31T22:45:44.471861300Z",
     "start_time": "2023-05-31T22:45:44.337905700Z"
    }
   },
   "outputs": [
    {
     "data": {
      "text/plain": "       Total for human      Volume        source\nClass                                           \nBMF1             3.75B  3753800000  TulletPrebon\nBMF2             3.28B  3276400000  TulletPrebon\nBMF3              515M   515000000  TulletPrebon\nBROKEN          595.1M   595100000  TulletPrebon\nLONGER            330M   330000000  TulletPrebon\nPTAX              448M   448000000  TulletPrebon\nTOTAL            9.49B  9488200000  TulletPrebon\nXP              569.9M   569900000  TulletPrebon\nBROKEN            100M   100000000     Tradition\nTOTAL             100M   100000000     Tradition\nBMF             354.5M   354500000           bgc\nBMF2            346.5M   346500000           bgc\nBROKEN              6M     6000000           bgc\nTOTAL             707M   707000000           bgc\nBMF               1.6B  1599500000           gfi\nBMF2             1.57B  1572500000           gfi\nBROKEN             37M    37000000           gfi\nTOTAL            3.21B  3209000000           gfi",
      "text/html": "<div>\n<style scoped>\n    .dataframe tbody tr th:only-of-type {\n        vertical-align: middle;\n    }\n\n    .dataframe tbody tr th {\n        vertical-align: top;\n    }\n\n    .dataframe thead th {\n        text-align: right;\n    }\n</style>\n<table border=\"1\" class=\"dataframe\">\n  <thead>\n    <tr style=\"text-align: right;\">\n      <th></th>\n      <th>Total for human</th>\n      <th>Volume</th>\n      <th>source</th>\n    </tr>\n    <tr>\n      <th>Class</th>\n      <th></th>\n      <th></th>\n      <th></th>\n    </tr>\n  </thead>\n  <tbody>\n    <tr>\n      <th>BMF1</th>\n      <td>3.75B</td>\n      <td>3753800000</td>\n      <td>TulletPrebon</td>\n    </tr>\n    <tr>\n      <th>BMF2</th>\n      <td>3.28B</td>\n      <td>3276400000</td>\n      <td>TulletPrebon</td>\n    </tr>\n    <tr>\n      <th>BMF3</th>\n      <td>515M</td>\n      <td>515000000</td>\n      <td>TulletPrebon</td>\n    </tr>\n    <tr>\n      <th>BROKEN</th>\n      <td>595.1M</td>\n      <td>595100000</td>\n      <td>TulletPrebon</td>\n    </tr>\n    <tr>\n      <th>LONGER</th>\n      <td>330M</td>\n      <td>330000000</td>\n      <td>TulletPrebon</td>\n    </tr>\n    <tr>\n      <th>PTAX</th>\n      <td>448M</td>\n      <td>448000000</td>\n      <td>TulletPrebon</td>\n    </tr>\n    <tr>\n      <th>TOTAL</th>\n      <td>9.49B</td>\n      <td>9488200000</td>\n      <td>TulletPrebon</td>\n    </tr>\n    <tr>\n      <th>XP</th>\n      <td>569.9M</td>\n      <td>569900000</td>\n      <td>TulletPrebon</td>\n    </tr>\n    <tr>\n      <th>BROKEN</th>\n      <td>100M</td>\n      <td>100000000</td>\n      <td>Tradition</td>\n    </tr>\n    <tr>\n      <th>TOTAL</th>\n      <td>100M</td>\n      <td>100000000</td>\n      <td>Tradition</td>\n    </tr>\n    <tr>\n      <th>BMF</th>\n      <td>354.5M</td>\n      <td>354500000</td>\n      <td>bgc</td>\n    </tr>\n    <tr>\n      <th>BMF2</th>\n      <td>346.5M</td>\n      <td>346500000</td>\n      <td>bgc</td>\n    </tr>\n    <tr>\n      <th>BROKEN</th>\n      <td>6M</td>\n      <td>6000000</td>\n      <td>bgc</td>\n    </tr>\n    <tr>\n      <th>TOTAL</th>\n      <td>707M</td>\n      <td>707000000</td>\n      <td>bgc</td>\n    </tr>\n    <tr>\n      <th>BMF</th>\n      <td>1.6B</td>\n      <td>1599500000</td>\n      <td>gfi</td>\n    </tr>\n    <tr>\n      <th>BMF2</th>\n      <td>1.57B</td>\n      <td>1572500000</td>\n      <td>gfi</td>\n    </tr>\n    <tr>\n      <th>BROKEN</th>\n      <td>37M</td>\n      <td>37000000</td>\n      <td>gfi</td>\n    </tr>\n    <tr>\n      <th>TOTAL</th>\n      <td>3.21B</td>\n      <td>3209000000</td>\n      <td>gfi</td>\n    </tr>\n  </tbody>\n</table>\n</div>"
     },
     "execution_count": 13,
     "metadata": {},
     "output_type": "execute_result"
    }
   ],
   "source": [
    "df_result = pd.concat([tulletprebon, tradition, bgc, gfi])\n",
    "df_result"
   ]
  },
  {
   "cell_type": "code",
   "execution_count": 14,
   "metadata": {
    "ExecuteTime": {
     "end_time": "2023-05-31T22:45:44.492486400Z",
     "start_time": "2023-05-31T22:45:44.355113200Z"
    }
   },
   "outputs": [
    {
     "data": {
      "text/plain": "      Total for human      Volume        source\nClass                                          \nTOTAL           9.49B  9488200000  TulletPrebon\nTOTAL            100M   100000000     Tradition\nTOTAL            707M   707000000           bgc\nTOTAL           3.21B  3209000000           gfi",
      "text/html": "<div>\n<style scoped>\n    .dataframe tbody tr th:only-of-type {\n        vertical-align: middle;\n    }\n\n    .dataframe tbody tr th {\n        vertical-align: top;\n    }\n\n    .dataframe thead th {\n        text-align: right;\n    }\n</style>\n<table border=\"1\" class=\"dataframe\">\n  <thead>\n    <tr style=\"text-align: right;\">\n      <th></th>\n      <th>Total for human</th>\n      <th>Volume</th>\n      <th>source</th>\n    </tr>\n    <tr>\n      <th>Class</th>\n      <th></th>\n      <th></th>\n      <th></th>\n    </tr>\n  </thead>\n  <tbody>\n    <tr>\n      <th>TOTAL</th>\n      <td>9.49B</td>\n      <td>9488200000</td>\n      <td>TulletPrebon</td>\n    </tr>\n    <tr>\n      <th>TOTAL</th>\n      <td>100M</td>\n      <td>100000000</td>\n      <td>Tradition</td>\n    </tr>\n    <tr>\n      <th>TOTAL</th>\n      <td>707M</td>\n      <td>707000000</td>\n      <td>bgc</td>\n    </tr>\n    <tr>\n      <th>TOTAL</th>\n      <td>3.21B</td>\n      <td>3209000000</td>\n      <td>gfi</td>\n    </tr>\n  </tbody>\n</table>\n</div>"
     },
     "execution_count": 14,
     "metadata": {},
     "output_type": "execute_result"
    }
   ],
   "source": [
    "df_totals = df_result.query('Class == \"TOTAL\"')\n",
    "df_totals"
   ]
  },
  {
   "cell_type": "code",
   "execution_count": 15,
   "metadata": {
    "ExecuteTime": {
     "end_time": "2023-05-31T22:45:44.521485900Z",
     "start_time": "2023-05-31T22:45:44.376740600Z"
    }
   },
   "outputs": [
    {
     "data": {
      "text/plain": "            Volume\nClass             \nTOTAL  13504200000",
      "text/html": "<div>\n<style scoped>\n    .dataframe tbody tr th:only-of-type {\n        vertical-align: middle;\n    }\n\n    .dataframe tbody tr th {\n        vertical-align: top;\n    }\n\n    .dataframe thead th {\n        text-align: right;\n    }\n</style>\n<table border=\"1\" class=\"dataframe\">\n  <thead>\n    <tr style=\"text-align: right;\">\n      <th></th>\n      <th>Volume</th>\n    </tr>\n    <tr>\n      <th>Class</th>\n      <th></th>\n    </tr>\n  </thead>\n  <tbody>\n    <tr>\n      <th>TOTAL</th>\n      <td>13504200000</td>\n    </tr>\n  </tbody>\n</table>\n</div>"
     },
     "execution_count": 15,
     "metadata": {},
     "output_type": "execute_result"
    }
   ],
   "source": [
    "df_totals.groupby(['Class']).sum()"
   ]
  },
  {
   "cell_type": "code",
   "execution_count": 16,
   "metadata": {
    "ExecuteTime": {
     "end_time": "2023-05-31T22:45:44.521485900Z",
     "start_time": "2023-05-31T22:45:44.388412Z"
    }
   },
   "outputs": [
    {
     "data": {
      "text/plain": "'13.5B'"
     },
     "execution_count": 16,
     "metadata": {},
     "output_type": "execute_result"
    }
   ],
   "source": [
    "from numerize import numerize\n",
    "\n",
    "market_total = df_totals.sum()['Volume']\n",
    "market_total = numerize.numerize(float(market_total))\n",
    "market_total"
   ]
  },
  {
   "cell_type": "code",
   "execution_count": 17,
   "metadata": {
    "ExecuteTime": {
     "end_time": "2023-05-31T22:45:45.004607900Z",
     "start_time": "2023-05-31T22:45:44.409006200Z"
    }
   },
   "outputs": [
    {
     "data": {
      "text/plain": "      Total for human      Volume        source\nClass                                          \nTOTAL           9.49B  9488200000  TulletPrebon\nTOTAL            100M   100000000     Tradition\nTOTAL            707M   707000000           bgc\nTOTAL           3.21B  3209000000           gfi",
      "text/html": "<div>\n<style scoped>\n    .dataframe tbody tr th:only-of-type {\n        vertical-align: middle;\n    }\n\n    .dataframe tbody tr th {\n        vertical-align: top;\n    }\n\n    .dataframe thead th {\n        text-align: right;\n    }\n</style>\n<table border=\"1\" class=\"dataframe\">\n  <thead>\n    <tr style=\"text-align: right;\">\n      <th></th>\n      <th>Total for human</th>\n      <th>Volume</th>\n      <th>source</th>\n    </tr>\n    <tr>\n      <th>Class</th>\n      <th></th>\n      <th></th>\n      <th></th>\n    </tr>\n  </thead>\n  <tbody>\n    <tr>\n      <th>TOTAL</th>\n      <td>9.49B</td>\n      <td>9488200000</td>\n      <td>TulletPrebon</td>\n    </tr>\n    <tr>\n      <th>TOTAL</th>\n      <td>100M</td>\n      <td>100000000</td>\n      <td>Tradition</td>\n    </tr>\n    <tr>\n      <th>TOTAL</th>\n      <td>707M</td>\n      <td>707000000</td>\n      <td>bgc</td>\n    </tr>\n    <tr>\n      <th>TOTAL</th>\n      <td>3.21B</td>\n      <td>3209000000</td>\n      <td>gfi</td>\n    </tr>\n  </tbody>\n</table>\n</div>"
     },
     "execution_count": 17,
     "metadata": {},
     "output_type": "execute_result"
    }
   ],
   "source": [
    "summary = mining.market_summary()\n",
    "summary"
   ]
  },
  {
   "cell_type": "code",
   "execution_count": 18,
   "metadata": {
    "ExecuteTime": {
     "end_time": "2023-05-31T22:45:45.294974Z",
     "start_time": "2023-05-31T22:45:44.794016100Z"
    }
   },
   "outputs": [
    {
     "data": {
      "text/plain": "'13.5B'"
     },
     "execution_count": 18,
     "metadata": {},
     "output_type": "execute_result"
    }
   ],
   "source": [
    "market_total = mining.market_total()\n",
    "market_total"
   ]
  },
  {
   "cell_type": "code",
   "execution_count": 18,
   "outputs": [],
   "source": [],
   "metadata": {
    "collapsed": false,
    "ExecuteTime": {
     "end_time": "2023-05-31T22:45:45.308329600Z",
     "start_time": "2023-05-31T22:45:45.293980400Z"
    }
   }
  },
  {
   "cell_type": "code",
   "execution_count": 19,
   "outputs": [
    {
     "data": {
      "text/plain": "             source Total for human\nClass                              \nTOTAL  TulletPrebon           9.49B\nTOTAL     Tradition            100M\nTOTAL           bgc            707M\nTOTAL           gfi           3.21B",
      "text/html": "<div>\n<style scoped>\n    .dataframe tbody tr th:only-of-type {\n        vertical-align: middle;\n    }\n\n    .dataframe tbody tr th {\n        vertical-align: top;\n    }\n\n    .dataframe thead th {\n        text-align: right;\n    }\n</style>\n<table border=\"1\" class=\"dataframe\">\n  <thead>\n    <tr style=\"text-align: right;\">\n      <th></th>\n      <th>source</th>\n      <th>Total for human</th>\n    </tr>\n    <tr>\n      <th>Class</th>\n      <th></th>\n      <th></th>\n    </tr>\n  </thead>\n  <tbody>\n    <tr>\n      <th>TOTAL</th>\n      <td>TulletPrebon</td>\n      <td>9.49B</td>\n    </tr>\n    <tr>\n      <th>TOTAL</th>\n      <td>Tradition</td>\n      <td>100M</td>\n    </tr>\n    <tr>\n      <th>TOTAL</th>\n      <td>bgc</td>\n      <td>707M</td>\n    </tr>\n    <tr>\n      <th>TOTAL</th>\n      <td>gfi</td>\n      <td>3.21B</td>\n    </tr>\n  </tbody>\n</table>\n</div>"
     },
     "execution_count": 19,
     "metadata": {},
     "output_type": "execute_result"
    }
   ],
   "source": [
    "a = summary[['source', 'Total for human']]\n",
    "a"
   ],
   "metadata": {
    "collapsed": false,
    "ExecuteTime": {
     "end_time": "2023-05-31T22:45:45.374494400Z",
     "start_time": "2023-05-31T22:45:45.308329600Z"
    }
   }
  },
  {
   "cell_type": "code",
   "execution_count": 21,
   "outputs": [
    {
     "data": {
      "text/plain": "[]"
     },
     "execution_count": 21,
     "metadata": {},
     "output_type": "execute_result"
    }
   ],
   "source": [
    "labels = summary[['source', 'Total for human']]\n",
    "labels = labels.values.tolist()\n",
    "labels_chart = []\n",
    "for item in labels_chart:\n",
    "        labels_chart.append(f'{item[0]} ${item[1]}')\n",
    "labels_chart"
   ],
   "metadata": {
    "collapsed": false,
    "ExecuteTime": {
     "end_time": "2023-05-31T22:46:08.129852600Z",
     "start_time": "2023-05-31T22:46:08.056471500Z"
    }
   }
  },
  {
   "cell_type": "code",
   "execution_count": 22,
   "outputs": [
    {
     "ename": "TypeError",
     "evalue": "'type' object is not iterable",
     "output_type": "error",
     "traceback": [
      "\u001B[1;31m---------------------------------------------------------------------------\u001B[0m",
      "\u001B[1;31mTypeError\u001B[0m                                 Traceback (most recent call last)",
      "Cell \u001B[1;32mIn[22], line 10\u001B[0m\n\u001B[0;32m      8\u001B[0m labels \u001B[38;5;241m=\u001B[39m labels\u001B[38;5;241m.\u001B[39mvalues\u001B[38;5;241m.\u001B[39mtolist()\n\u001B[0;32m      9\u001B[0m labels_chart \u001B[38;5;241m=\u001B[39m []\n\u001B[1;32m---> 10\u001B[0m \u001B[38;5;28;01mfor\u001B[39;00m item \u001B[38;5;129;01min\u001B[39;00m \u001B[38;5;28mlist\u001B[39m:\n\u001B[0;32m     11\u001B[0m         labels_chart\u001B[38;5;241m.\u001B[39mappend(\u001B[38;5;124mf\u001B[39m\u001B[38;5;124m'\u001B[39m\u001B[38;5;132;01m{\u001B[39;00mitem[\u001B[38;5;241m0\u001B[39m]\u001B[38;5;132;01m}\u001B[39;00m\u001B[38;5;124m $\u001B[39m\u001B[38;5;132;01m{\u001B[39;00mitem[\u001B[38;5;241m1\u001B[39m]\u001B[38;5;132;01m}\u001B[39;00m\u001B[38;5;124m'\u001B[39m)\n\u001B[0;32m     13\u001B[0m font1 \u001B[38;5;241m=\u001B[39m {\u001B[38;5;124m'\u001B[39m\u001B[38;5;124mfamily\u001B[39m\u001B[38;5;124m'\u001B[39m:\u001B[38;5;124m'\u001B[39m\u001B[38;5;124mserif\u001B[39m\u001B[38;5;124m'\u001B[39m,\u001B[38;5;124m'\u001B[39m\u001B[38;5;124mcolor\u001B[39m\u001B[38;5;124m'\u001B[39m:\u001B[38;5;124m'\u001B[39m\u001B[38;5;124mblue\u001B[39m\u001B[38;5;124m'\u001B[39m,\u001B[38;5;124m'\u001B[39m\u001B[38;5;124msize\u001B[39m\u001B[38;5;124m'\u001B[39m:\u001B[38;5;241m18\u001B[39m}\n",
      "\u001B[1;31mTypeError\u001B[0m: 'type' object is not iterable"
     ]
    }
   ],
   "source": [
    "import matplotlib.pyplot as plt\n",
    "\n",
    "market_total = mining.market_total()\n",
    "summary = mining.market_summary()\n",
    "\n",
    "# Labels prepare\n",
    "labels = summary[['source', 'Total for human']]\n",
    "labels = labels.values.tolist()\n",
    "labels_chart = []\n",
    "for item in list:\n",
    "        labels_chart.append(f'{item[0]} ${item[1]}')\n",
    "\n",
    "font1 = {'family':'serif','color':'blue','size':18}\n",
    "colors = ['#045ca3', '#f5b12b', '#d11e20', '#8ec5f2']\n",
    "fig = plt.figure(figsize=(5, 6))\n",
    "plt.pie(summary['Volume'], labels=labels_chart, labeldistance=1.15, autopct='%1.0f%%',\n",
    "        wedgeprops = { 'linewidth' : 3, 'edgecolor' : 'white' }, colors=colors,\n",
    "        textprops={'fontsize': 14})\n",
    "plt.legend(labels_chart, loc='lower left', bbox_to_anchor=(-0.35, .5), fontsize=10)\n",
    "plt.title(f'NDF Market Summary\\n Total ${market_total}', fontdict=font1)\n",
    "plt.savefig('pie.png', dpi=fig.dpi, bbox_inches='tight')\n"
   ],
   "metadata": {
    "collapsed": false,
    "ExecuteTime": {
     "end_time": "2023-05-31T22:46:11.943300800Z",
     "start_time": "2023-05-31T22:46:10.873219200Z"
    }
   }
  },
  {
   "cell_type": "code",
   "execution_count": null,
   "outputs": [],
   "source": [
    "print(plt.savefig('pie.png', dpi=fig.dpi, bbox_inches='tight'))"
   ],
   "metadata": {
    "collapsed": false
   }
  },
  {
   "cell_type": "code",
   "execution_count": null,
   "outputs": [],
   "source": [
    "mining.market_total()"
   ],
   "metadata": {
    "collapsed": false
   }
  },
  {
   "cell_type": "code",
   "execution_count": null,
   "outputs": [],
   "source": [
    "mining.market_summary()"
   ],
   "metadata": {
    "collapsed": false
   }
  },
  {
   "cell_type": "code",
   "execution_count": 23,
   "outputs": [
    {
     "data": {
      "text/plain": "True"
     },
     "execution_count": 23,
     "metadata": {},
     "output_type": "execute_result"
    },
    {
     "data": {
      "text/plain": "<Figure size 500x600 with 1 Axes>",
      "image/png": "[encoded data removed]"
     },
     "metadata": {},
     "output_type": "display_data"
    }
   ],
   "source": [
    "mining.generate_chart()"
   ],
   "metadata": {
    "collapsed": false,
    "ExecuteTime": {
     "end_time": "2023-05-31T22:46:17.163330900Z",
     "start_time": "2023-05-31T22:46:16.104592800Z"
    }
   }
  }
 ],
 "metadata": {
  "kernelspec": {
   "display_name": "Python 3 (ipykernel)",
   "language": "python",
   "name": "python3"
  },
  "language_info": {
   "codemirror_mode": {
    "name": "ipython",
    "version": 3
   },
   "file_extension": ".py",
   "mimetype": "text/x-python",
   "name": "python",
   "nbconvert_exporter": "python",
   "pygments_lexer": "ipython3",
   "version": "3.9.16"
  }
 },
 "nbformat": 4,
 "nbformat_minor": 1
}
