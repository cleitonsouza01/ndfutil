{
 "cells": [
  {
   "cell_type": "code",
   "execution_count": 1,
   "metadata": {
    "ExecuteTime": {
     "end_time": "2023-05-30T23:16:41.374443200Z",
     "start_time": "2023-05-30T23:16:39.596208700Z"
    }
   },
   "outputs": [
    {
     "data": {
      "text/plain": "2"
     },
     "execution_count": 1,
     "metadata": {},
     "output_type": "execute_result"
    }
   ],
   "source": [
    "import pandas\n",
    "from loguru import logger\n",
    "import ndf.download\n",
    "from ndf.datamining import datamining\n",
    "import warnings\n",
    "import sys\n",
    "import pandas as pd\n",
    "\n",
    "warnings.simplefilter(action='ignore', category=FutureWarning)\n",
    "\n",
    "log_level = 'ERROR'\n",
    "logger.add(sys.stderr, format=\"{time} {level} {message}\", filter=\"my_module\", level=log_level)\n",
    "# logger.add(sys.stdout, colorize=True, format=\"<green>{time}</green> <level>{message}</level>\")\n",
    "logger.add(\"ndfdownload.log\", rotation=\"30 MB\", level=log_level)"
   ]
  },
  {
   "cell_type": "code",
   "execution_count": 2,
   "metadata": {
    "ExecuteTime": {
     "end_time": "2023-05-30T23:16:41.454445900Z",
     "start_time": "2023-05-30T23:16:41.379072Z"
    }
   },
   "outputs": [
    {
     "data": {
      "text/plain": "datetime.date(2023, 5, 30)"
     },
     "execution_count": 2,
     "metadata": {},
     "output_type": "execute_result"
    }
   ],
   "source": [
    "from datetime import datetime\n",
    "\n",
    "a = datetime.now()\n",
    "a.date()"
   ]
  },
  {
   "cell_type": "code",
   "execution_count": 3,
   "metadata": {
    "ExecuteTime": {
     "end_time": "2023-05-30T23:16:41.454948100Z",
     "start_time": "2023-05-30T23:16:41.387858800Z"
    }
   },
   "outputs": [],
   "source": [
    "logger.remove()"
   ]
  },
  {
   "cell_type": "code",
   "execution_count": 4,
   "metadata": {
    "ExecuteTime": {
     "end_time": "2023-05-30T23:16:41.454948100Z",
     "start_time": "2023-05-30T23:16:41.404393200Z"
    }
   },
   "outputs": [
    {
     "name": "stdout",
     "output_type": "stream",
     "text": [
      "bgc ok\n",
      "tradition ok\n",
      "prebontullet ok\n",
      "gfi ok\n"
     ]
    }
   ],
   "source": [
    "d = ndf.download.download()\n",
    "d.download_all()"
   ]
  },
  {
   "cell_type": "code",
   "execution_count": 5,
   "metadata": {
    "ExecuteTime": {
     "end_time": "2023-05-30T23:16:41.454948100Z",
     "start_time": "2023-05-30T23:16:41.454948100Z"
    }
   },
   "outputs": [],
   "source": [
    "mining = datamining()"
   ]
  },
  {
   "cell_type": "code",
   "execution_count": 6,
   "metadata": {
    "ExecuteTime": {
     "end_time": "2023-05-30T23:16:41.537387800Z",
     "start_time": "2023-05-30T23:16:41.454948100Z"
    }
   },
   "outputs": [
    {
     "data": {
      "text/plain": "        Total for human      Volume\nClass                              \nBMF1             537.9M   537900000\nBMF2               334M   334000000\nLONGER              30M    30000000\nPTAX                 1M     1000000\nTOMPTAX            175M   175000000\nTOTAL             1.53B  1527400000\nXP               449.5M   449500000",
      "text/html": "<div>\n<style scoped>\n    .dataframe tbody tr th:only-of-type {\n        vertical-align: middle;\n    }\n\n    .dataframe tbody tr th {\n        vertical-align: top;\n    }\n\n    .dataframe thead th {\n        text-align: right;\n    }\n</style>\n<table border=\"1\" class=\"dataframe\">\n  <thead>\n    <tr style=\"text-align: right;\">\n      <th></th>\n      <th>Total for human</th>\n      <th>Volume</th>\n    </tr>\n    <tr>\n      <th>Class</th>\n      <th></th>\n      <th></th>\n    </tr>\n  </thead>\n  <tbody>\n    <tr>\n      <th>BMF1</th>\n      <td>537.9M</td>\n      <td>537900000</td>\n    </tr>\n    <tr>\n      <th>BMF2</th>\n      <td>334M</td>\n      <td>334000000</td>\n    </tr>\n    <tr>\n      <th>LONGER</th>\n      <td>30M</td>\n      <td>30000000</td>\n    </tr>\n    <tr>\n      <th>PTAX</th>\n      <td>1M</td>\n      <td>1000000</td>\n    </tr>\n    <tr>\n      <th>TOMPTAX</th>\n      <td>175M</td>\n      <td>175000000</td>\n    </tr>\n    <tr>\n      <th>TOTAL</th>\n      <td>1.53B</td>\n      <td>1527400000</td>\n    </tr>\n    <tr>\n      <th>XP</th>\n      <td>449.5M</td>\n      <td>449500000</td>\n    </tr>\n  </tbody>\n</table>\n</div>"
     },
     "execution_count": 6,
     "metadata": {},
     "output_type": "execute_result"
    }
   ],
   "source": [
    "tulletprebon = mining.tulletprebon_calcs()\n",
    "tulletprebon"
   ]
  },
  {
   "cell_type": "code",
   "execution_count": 7,
   "metadata": {
    "ExecuteTime": {
     "end_time": "2023-05-30T23:16:41.571337500Z",
     "start_time": "2023-05-30T23:16:41.529191900Z"
    }
   },
   "outputs": [
    {
     "data": {
      "text/plain": "       Total for human     Volume\nClass                            \nBMF            470.36M  470360000\nBMF2              460M  460000000\nBROKEN            1.5M    1500000\nTOTAL          931.86M  931860000",
      "text/html": "<div>\n<style scoped>\n    .dataframe tbody tr th:only-of-type {\n        vertical-align: middle;\n    }\n\n    .dataframe tbody tr th {\n        vertical-align: top;\n    }\n\n    .dataframe thead th {\n        text-align: right;\n    }\n</style>\n<table border=\"1\" class=\"dataframe\">\n  <thead>\n    <tr style=\"text-align: right;\">\n      <th></th>\n      <th>Total for human</th>\n      <th>Volume</th>\n    </tr>\n    <tr>\n      <th>Class</th>\n      <th></th>\n      <th></th>\n    </tr>\n  </thead>\n  <tbody>\n    <tr>\n      <th>BMF</th>\n      <td>470.36M</td>\n      <td>470360000</td>\n    </tr>\n    <tr>\n      <th>BMF2</th>\n      <td>460M</td>\n      <td>460000000</td>\n    </tr>\n    <tr>\n      <th>BROKEN</th>\n      <td>1.5M</td>\n      <td>1500000</td>\n    </tr>\n    <tr>\n      <th>TOTAL</th>\n      <td>931.86M</td>\n      <td>931860000</td>\n    </tr>\n  </tbody>\n</table>\n</div>"
     },
     "execution_count": 7,
     "metadata": {},
     "output_type": "execute_result"
    }
   ],
   "source": [
    "bgc = mining.bgc_calcs()\n",
    "bgc"
   ]
  },
  {
   "cell_type": "code",
   "execution_count": 8,
   "metadata": {
    "ExecuteTime": {
     "end_time": "2023-05-30T23:16:41.704251200Z",
     "start_time": "2023-05-30T23:16:41.554971300Z"
    }
   },
   "outputs": [
    {
     "name": "stderr",
     "output_type": "stream",
     "text": [
      "C:\\Users\\souzacle\\PycharmProjects\\ndfutil\\venv\\lib\\site-packages\\pandas\\core\\dtypes\\astype.py:189: RuntimeWarning: invalid value encountered in cast\n",
      "  return values.astype(dtype, copy=copy)\n"
     ]
    },
    {
     "data": {
      "text/plain": "      Total for human  Volume\nClass                        \nTOTAL               0       0",
      "text/html": "<div>\n<style scoped>\n    .dataframe tbody tr th:only-of-type {\n        vertical-align: middle;\n    }\n\n    .dataframe tbody tr th {\n        vertical-align: top;\n    }\n\n    .dataframe thead th {\n        text-align: right;\n    }\n</style>\n<table border=\"1\" class=\"dataframe\">\n  <thead>\n    <tr style=\"text-align: right;\">\n      <th></th>\n      <th>Total for human</th>\n      <th>Volume</th>\n    </tr>\n    <tr>\n      <th>Class</th>\n      <th></th>\n      <th></th>\n    </tr>\n  </thead>\n  <tbody>\n    <tr>\n      <th>TOTAL</th>\n      <td>0</td>\n      <td>0</td>\n    </tr>\n  </tbody>\n</table>\n</div>"
     },
     "execution_count": 8,
     "metadata": {},
     "output_type": "execute_result"
    }
   ],
   "source": [
    "tradition = mining.tradition_calcs()\n",
    "tradition"
   ]
  },
  {
   "cell_type": "code",
   "execution_count": 9,
   "metadata": {
    "ExecuteTime": {
     "end_time": "2023-05-30T23:16:41.886236400Z",
     "start_time": "2023-05-30T23:16:41.592779100Z"
    }
   },
   "outputs": [
    {
     "data": {
      "text/plain": "       Total for human     Volume\nClass                            \nBMF             547.5M  547500000\nBMF2              345M  345000000\nBROKEN              4M    4000000\nTOTAL           896.5M  896500000",
      "text/html": "<div>\n<style scoped>\n    .dataframe tbody tr th:only-of-type {\n        vertical-align: middle;\n    }\n\n    .dataframe tbody tr th {\n        vertical-align: top;\n    }\n\n    .dataframe thead th {\n        text-align: right;\n    }\n</style>\n<table border=\"1\" class=\"dataframe\">\n  <thead>\n    <tr style=\"text-align: right;\">\n      <th></th>\n      <th>Total for human</th>\n      <th>Volume</th>\n    </tr>\n    <tr>\n      <th>Class</th>\n      <th></th>\n      <th></th>\n    </tr>\n  </thead>\n  <tbody>\n    <tr>\n      <th>BMF</th>\n      <td>547.5M</td>\n      <td>547500000</td>\n    </tr>\n    <tr>\n      <th>BMF2</th>\n      <td>345M</td>\n      <td>345000000</td>\n    </tr>\n    <tr>\n      <th>BROKEN</th>\n      <td>4M</td>\n      <td>4000000</td>\n    </tr>\n    <tr>\n      <th>TOTAL</th>\n      <td>896.5M</td>\n      <td>896500000</td>\n    </tr>\n  </tbody>\n</table>\n</div>"
     },
     "execution_count": 9,
     "metadata": {},
     "output_type": "execute_result"
    }
   ],
   "source": [
    "gfi = mining.gfi_calcs()\n",
    "gfi"
   ]
  },
  {
   "cell_type": "code",
   "execution_count": 10,
   "metadata": {
    "ExecuteTime": {
     "end_time": "2023-05-30T23:16:41.904713600Z",
     "start_time": "2023-05-30T23:16:41.631704800Z"
    }
   },
   "outputs": [],
   "source": [
    "tulletprebon['source'] = 'TulletPrebon'\n",
    "tradition['source'] = 'Tradition'\n",
    "bgc['source'] = 'bgc'\n",
    "gfi['source'] = 'gfi'"
   ]
  },
  {
   "cell_type": "code",
   "execution_count": 11,
   "metadata": {
    "ExecuteTime": {
     "end_time": "2023-05-30T23:16:41.904713600Z",
     "start_time": "2023-05-30T23:16:41.671815700Z"
    }
   },
   "outputs": [
    {
     "data": {
      "text/plain": "      Total for human  Volume     source\nClass                                   \nTOTAL               0       0  Tradition",
      "text/html": "<div>\n<style scoped>\n    .dataframe tbody tr th:only-of-type {\n        vertical-align: middle;\n    }\n\n    .dataframe tbody tr th {\n        vertical-align: top;\n    }\n\n    .dataframe thead th {\n        text-align: right;\n    }\n</style>\n<table border=\"1\" class=\"dataframe\">\n  <thead>\n    <tr style=\"text-align: right;\">\n      <th></th>\n      <th>Total for human</th>\n      <th>Volume</th>\n      <th>source</th>\n    </tr>\n    <tr>\n      <th>Class</th>\n      <th></th>\n      <th></th>\n      <th></th>\n    </tr>\n  </thead>\n  <tbody>\n    <tr>\n      <th>TOTAL</th>\n      <td>0</td>\n      <td>0</td>\n      <td>Tradition</td>\n    </tr>\n  </tbody>\n</table>\n</div>"
     },
     "execution_count": 11,
     "metadata": {},
     "output_type": "execute_result"
    }
   ],
   "source": [
    "tradition"
   ]
  },
  {
   "cell_type": "code",
   "execution_count": 12,
   "outputs": [
    {
     "data": {
      "text/plain": "       Total for human  Volume\nClass                         \nTOTAL                0       0",
      "text/html": "<div>\n<style scoped>\n    .dataframe tbody tr th:only-of-type {\n        vertical-align: middle;\n    }\n\n    .dataframe tbody tr th {\n        vertical-align: top;\n    }\n\n    .dataframe thead th {\n        text-align: right;\n    }\n</style>\n<table border=\"1\" class=\"dataframe\">\n  <thead>\n    <tr style=\"text-align: right;\">\n      <th></th>\n      <th>Total for human</th>\n      <th>Volume</th>\n    </tr>\n    <tr>\n      <th>Class</th>\n      <th></th>\n      <th></th>\n    </tr>\n  </thead>\n  <tbody>\n    <tr>\n      <th>TOTAL</th>\n      <td>0</td>\n      <td>0</td>\n    </tr>\n  </tbody>\n</table>\n</div>"
     },
     "execution_count": 12,
     "metadata": {},
     "output_type": "execute_result"
    }
   ],
   "source": [
    "pd.DataFrame({'Class': ['TOTAL'], 'Total for human': [0], 'Volume': [0]}).set_index('Class')"
   ],
   "metadata": {
    "collapsed": false,
    "ExecuteTime": {
     "end_time": "2023-05-30T23:16:41.904713600Z",
     "start_time": "2023-05-30T23:16:41.671815700Z"
    }
   }
  },
  {
   "cell_type": "code",
   "execution_count": 13,
   "metadata": {
    "ExecuteTime": {
     "end_time": "2023-05-30T23:16:41.904713600Z",
     "start_time": "2023-05-30T23:16:41.688949400Z"
    }
   },
   "outputs": [
    {
     "data": {
      "text/plain": "        Total for human      Volume        source\nClass                                            \nBMF1             537.9M   537900000  TulletPrebon\nBMF2               334M   334000000  TulletPrebon\nLONGER              30M    30000000  TulletPrebon\nPTAX                 1M     1000000  TulletPrebon\nTOMPTAX            175M   175000000  TulletPrebon\nTOTAL             1.53B  1527400000  TulletPrebon\nXP               449.5M   449500000  TulletPrebon\nTOTAL                 0           0     Tradition\nBMF             470.36M   470360000           bgc\nBMF2               460M   460000000           bgc\nBROKEN             1.5M     1500000           bgc\nTOTAL           931.86M   931860000           bgc\nBMF              547.5M   547500000           gfi\nBMF2               345M   345000000           gfi\nBROKEN               4M     4000000           gfi\nTOTAL            896.5M   896500000           gfi",
      "text/html": "<div>\n<style scoped>\n    .dataframe tbody tr th:only-of-type {\n        vertical-align: middle;\n    }\n\n    .dataframe tbody tr th {\n        vertical-align: top;\n    }\n\n    .dataframe thead th {\n        text-align: right;\n    }\n</style>\n<table border=\"1\" class=\"dataframe\">\n  <thead>\n    <tr style=\"text-align: right;\">\n      <th></th>\n      <th>Total for human</th>\n      <th>Volume</th>\n      <th>source</th>\n    </tr>\n    <tr>\n      <th>Class</th>\n      <th></th>\n      <th></th>\n      <th></th>\n    </tr>\n  </thead>\n  <tbody>\n    <tr>\n      <th>BMF1</th>\n      <td>537.9M</td>\n      <td>537900000</td>\n      <td>TulletPrebon</td>\n    </tr>\n    <tr>\n      <th>BMF2</th>\n      <td>334M</td>\n      <td>334000000</td>\n      <td>TulletPrebon</td>\n    </tr>\n    <tr>\n      <th>LONGER</th>\n      <td>30M</td>\n      <td>30000000</td>\n      <td>TulletPrebon</td>\n    </tr>\n    <tr>\n      <th>PTAX</th>\n      <td>1M</td>\n      <td>1000000</td>\n      <td>TulletPrebon</td>\n    </tr>\n    <tr>\n      <th>TOMPTAX</th>\n      <td>175M</td>\n      <td>175000000</td>\n      <td>TulletPrebon</td>\n    </tr>\n    <tr>\n      <th>TOTAL</th>\n      <td>1.53B</td>\n      <td>1527400000</td>\n      <td>TulletPrebon</td>\n    </tr>\n    <tr>\n      <th>XP</th>\n      <td>449.5M</td>\n      <td>449500000</td>\n      <td>TulletPrebon</td>\n    </tr>\n    <tr>\n      <th>TOTAL</th>\n      <td>0</td>\n      <td>0</td>\n      <td>Tradition</td>\n    </tr>\n    <tr>\n      <th>BMF</th>\n      <td>470.36M</td>\n      <td>470360000</td>\n      <td>bgc</td>\n    </tr>\n    <tr>\n      <th>BMF2</th>\n      <td>460M</td>\n      <td>460000000</td>\n      <td>bgc</td>\n    </tr>\n    <tr>\n      <th>BROKEN</th>\n      <td>1.5M</td>\n      <td>1500000</td>\n      <td>bgc</td>\n    </tr>\n    <tr>\n      <th>TOTAL</th>\n      <td>931.86M</td>\n      <td>931860000</td>\n      <td>bgc</td>\n    </tr>\n    <tr>\n      <th>BMF</th>\n      <td>547.5M</td>\n      <td>547500000</td>\n      <td>gfi</td>\n    </tr>\n    <tr>\n      <th>BMF2</th>\n      <td>345M</td>\n      <td>345000000</td>\n      <td>gfi</td>\n    </tr>\n    <tr>\n      <th>BROKEN</th>\n      <td>4M</td>\n      <td>4000000</td>\n      <td>gfi</td>\n    </tr>\n    <tr>\n      <th>TOTAL</th>\n      <td>896.5M</td>\n      <td>896500000</td>\n      <td>gfi</td>\n    </tr>\n  </tbody>\n</table>\n</div>"
     },
     "execution_count": 13,
     "metadata": {},
     "output_type": "execute_result"
    }
   ],
   "source": [
    "df_result = pd.concat([tulletprebon, tradition, bgc, gfi])\n",
    "df_result"
   ]
  },
  {
   "cell_type": "code",
   "execution_count": 14,
   "metadata": {
    "ExecuteTime": {
     "end_time": "2023-05-30T23:16:41.904713600Z",
     "start_time": "2023-05-30T23:16:41.704251200Z"
    }
   },
   "outputs": [
    {
     "data": {
      "text/plain": "      Total for human      Volume        source\nClass                                          \nTOTAL           1.53B  1527400000  TulletPrebon\nTOTAL               0           0     Tradition\nTOTAL         931.86M   931860000           bgc\nTOTAL          896.5M   896500000           gfi",
      "text/html": "<div>\n<style scoped>\n    .dataframe tbody tr th:only-of-type {\n        vertical-align: middle;\n    }\n\n    .dataframe tbody tr th {\n        vertical-align: top;\n    }\n\n    .dataframe thead th {\n        text-align: right;\n    }\n</style>\n<table border=\"1\" class=\"dataframe\">\n  <thead>\n    <tr style=\"text-align: right;\">\n      <th></th>\n      <th>Total for human</th>\n      <th>Volume</th>\n      <th>source</th>\n    </tr>\n    <tr>\n      <th>Class</th>\n      <th></th>\n      <th></th>\n      <th></th>\n    </tr>\n  </thead>\n  <tbody>\n    <tr>\n      <th>TOTAL</th>\n      <td>1.53B</td>\n      <td>1527400000</td>\n      <td>TulletPrebon</td>\n    </tr>\n    <tr>\n      <th>TOTAL</th>\n      <td>0</td>\n      <td>0</td>\n      <td>Tradition</td>\n    </tr>\n    <tr>\n      <th>TOTAL</th>\n      <td>931.86M</td>\n      <td>931860000</td>\n      <td>bgc</td>\n    </tr>\n    <tr>\n      <th>TOTAL</th>\n      <td>896.5M</td>\n      <td>896500000</td>\n      <td>gfi</td>\n    </tr>\n  </tbody>\n</table>\n</div>"
     },
     "execution_count": 14,
     "metadata": {},
     "output_type": "execute_result"
    }
   ],
   "source": [
    "df_totals = df_result.query('Class == \"TOTAL\"')\n",
    "df_totals"
   ]
  },
  {
   "cell_type": "code",
   "execution_count": 15,
   "metadata": {
    "ExecuteTime": {
     "end_time": "2023-05-30T23:16:41.953887800Z",
     "start_time": "2023-05-30T23:16:41.720939800Z"
    }
   },
   "outputs": [
    {
     "data": {
      "text/plain": "           Volume\nClass            \nTOTAL  3355760000",
      "text/html": "<div>\n<style scoped>\n    .dataframe tbody tr th:only-of-type {\n        vertical-align: middle;\n    }\n\n    .dataframe tbody tr th {\n        vertical-align: top;\n    }\n\n    .dataframe thead th {\n        text-align: right;\n    }\n</style>\n<table border=\"1\" class=\"dataframe\">\n  <thead>\n    <tr style=\"text-align: right;\">\n      <th></th>\n      <th>Volume</th>\n    </tr>\n    <tr>\n      <th>Class</th>\n      <th></th>\n    </tr>\n  </thead>\n  <tbody>\n    <tr>\n      <th>TOTAL</th>\n      <td>3355760000</td>\n    </tr>\n  </tbody>\n</table>\n</div>"
     },
     "execution_count": 15,
     "metadata": {},
     "output_type": "execute_result"
    }
   ],
   "source": [
    "df_totals.groupby(['Class']).sum()"
   ]
  },
  {
   "cell_type": "code",
   "execution_count": 16,
   "metadata": {
    "ExecuteTime": {
     "end_time": "2023-05-30T23:16:41.986643700Z",
     "start_time": "2023-05-30T23:16:41.737354900Z"
    }
   },
   "outputs": [
    {
     "data": {
      "text/plain": "'3.36B'"
     },
     "execution_count": 16,
     "metadata": {},
     "output_type": "execute_result"
    }
   ],
   "source": [
    "from numerize import numerize\n",
    "\n",
    "market_total = df_totals.sum()['Volume']\n",
    "market_total = numerize.numerize(float(market_total))\n",
    "market_total"
   ]
  },
  {
   "cell_type": "code",
   "execution_count": 17,
   "metadata": {
    "ExecuteTime": {
     "end_time": "2023-05-30T23:16:42.237138800Z",
     "start_time": "2023-05-30T23:16:41.760480600Z"
    }
   },
   "outputs": [
    {
     "name": "stderr",
     "output_type": "stream",
     "text": [
      "C:\\Users\\souzacle\\PycharmProjects\\ndfutil\\venv\\lib\\site-packages\\pandas\\core\\dtypes\\astype.py:189: RuntimeWarning: invalid value encountered in cast\n",
      "  return values.astype(dtype, copy=copy)\n",
      "C:\\Users\\souzacle\\PycharmProjects\\ndfutil\\venv\\lib\\site-packages\\pandas\\core\\dtypes\\astype.py:189: RuntimeWarning: invalid value encountered in cast\n",
      "  return values.astype(dtype, copy=copy)\n"
     ]
    },
    {
     "data": {
      "text/plain": "      Total for human      Volume        source\nClass                                          \nTOTAL           1.53B  1527400000  TulletPrebon\nTOTAL               0           0     Tradition\nTOTAL         931.86M   931860000           bgc\nTOTAL          896.5M   896500000           gfi",
      "text/html": "<div>\n<style scoped>\n    .dataframe tbody tr th:only-of-type {\n        vertical-align: middle;\n    }\n\n    .dataframe tbody tr th {\n        vertical-align: top;\n    }\n\n    .dataframe thead th {\n        text-align: right;\n    }\n</style>\n<table border=\"1\" class=\"dataframe\">\n  <thead>\n    <tr style=\"text-align: right;\">\n      <th></th>\n      <th>Total for human</th>\n      <th>Volume</th>\n      <th>source</th>\n    </tr>\n    <tr>\n      <th>Class</th>\n      <th></th>\n      <th></th>\n      <th></th>\n    </tr>\n  </thead>\n  <tbody>\n    <tr>\n      <th>TOTAL</th>\n      <td>1.53B</td>\n      <td>1527400000</td>\n      <td>TulletPrebon</td>\n    </tr>\n    <tr>\n      <th>TOTAL</th>\n      <td>0</td>\n      <td>0</td>\n      <td>Tradition</td>\n    </tr>\n    <tr>\n      <th>TOTAL</th>\n      <td>931.86M</td>\n      <td>931860000</td>\n      <td>bgc</td>\n    </tr>\n    <tr>\n      <th>TOTAL</th>\n      <td>896.5M</td>\n      <td>896500000</td>\n      <td>gfi</td>\n    </tr>\n  </tbody>\n</table>\n</div>"
     },
     "execution_count": 17,
     "metadata": {},
     "output_type": "execute_result"
    }
   ],
   "source": [
    "summary = mining.market_summary()\n",
    "summary"
   ]
  },
  {
   "cell_type": "code",
   "execution_count": 18,
   "metadata": {
    "ExecuteTime": {
     "end_time": "2023-05-30T23:16:42.594273800Z",
     "start_time": "2023-05-30T23:16:42.064539500Z"
    }
   },
   "outputs": [
    {
     "name": "stderr",
     "output_type": "stream",
     "text": [
      "C:\\Users\\souzacle\\PycharmProjects\\ndfutil\\venv\\lib\\site-packages\\pandas\\core\\dtypes\\astype.py:189: RuntimeWarning: invalid value encountered in cast\n",
      "  return values.astype(dtype, copy=copy)\n",
      "C:\\Users\\souzacle\\PycharmProjects\\ndfutil\\venv\\lib\\site-packages\\pandas\\core\\dtypes\\astype.py:189: RuntimeWarning: invalid value encountered in cast\n",
      "  return values.astype(dtype, copy=copy)\n"
     ]
    },
    {
     "data": {
      "text/plain": "'3.36B'"
     },
     "execution_count": 18,
     "metadata": {},
     "output_type": "execute_result"
    }
   ],
   "source": [
    "market_total = mining.market_total()\n",
    "market_total"
   ]
  },
  {
   "cell_type": "code",
   "execution_count": 19,
   "outputs": [
    {
     "data": {
      "text/plain": "             source Total for human\nClass                              \nTOTAL  TulletPrebon           1.53B\nTOTAL     Tradition               0\nTOTAL           bgc         931.86M\nTOTAL           gfi          896.5M",
      "text/html": "<div>\n<style scoped>\n    .dataframe tbody tr th:only-of-type {\n        vertical-align: middle;\n    }\n\n    .dataframe tbody tr th {\n        vertical-align: top;\n    }\n\n    .dataframe thead th {\n        text-align: right;\n    }\n</style>\n<table border=\"1\" class=\"dataframe\">\n  <thead>\n    <tr style=\"text-align: right;\">\n      <th></th>\n      <th>source</th>\n      <th>Total for human</th>\n    </tr>\n    <tr>\n      <th>Class</th>\n      <th></th>\n      <th></th>\n    </tr>\n  </thead>\n  <tbody>\n    <tr>\n      <th>TOTAL</th>\n      <td>TulletPrebon</td>\n      <td>1.53B</td>\n    </tr>\n    <tr>\n      <th>TOTAL</th>\n      <td>Tradition</td>\n      <td>0</td>\n    </tr>\n    <tr>\n      <th>TOTAL</th>\n      <td>bgc</td>\n      <td>931.86M</td>\n    </tr>\n    <tr>\n      <th>TOTAL</th>\n      <td>gfi</td>\n      <td>896.5M</td>\n    </tr>\n  </tbody>\n</table>\n</div>"
     },
     "execution_count": 19,
     "metadata": {},
     "output_type": "execute_result"
    }
   ],
   "source": [
    "summary[['source', 'Total for human']]"
   ],
   "metadata": {
    "collapsed": false,
    "ExecuteTime": {
     "end_time": "2023-05-30T23:16:42.671910800Z",
     "start_time": "2023-05-30T23:16:42.254509400Z"
    }
   }
  },
  {
   "cell_type": "code",
   "execution_count": 20,
   "outputs": [
    {
     "name": "stderr",
     "output_type": "stream",
     "text": [
      "C:\\Users\\souzacle\\PycharmProjects\\ndfutil\\venv\\lib\\site-packages\\pandas\\core\\dtypes\\astype.py:189: RuntimeWarning: invalid value encountered in cast\n",
      "  return values.astype(dtype, copy=copy)\n",
      "C:\\Users\\souzacle\\PycharmProjects\\ndfutil\\venv\\lib\\site-packages\\pandas\\core\\dtypes\\astype.py:189: RuntimeWarning: invalid value encountered in cast\n",
      "  return values.astype(dtype, copy=copy)\n",
      "C:\\Users\\souzacle\\PycharmProjects\\ndfutil\\venv\\lib\\site-packages\\pandas\\core\\dtypes\\astype.py:189: RuntimeWarning: invalid value encountered in cast\n",
      "  return values.astype(dtype, copy=copy)\n",
      "C:\\Users\\souzacle\\PycharmProjects\\ndfutil\\venv\\lib\\site-packages\\pandas\\core\\dtypes\\astype.py:189: RuntimeWarning: invalid value encountered in cast\n",
      "  return values.astype(dtype, copy=copy)\n"
     ]
    },
    {
     "data": {
      "text/plain": "<Figure size 500x600 with 1 Axes>",
      "image/png": "[encoded data removed]"
     },
     "metadata": {},
     "output_type": "display_data"
    }
   ],
   "source": [
    "import matplotlib.pyplot as plt\n",
    "\n",
    "market_total = mining.market_total()\n",
    "summary = mining.market_summary()\n",
    "\n",
    "colors = ['#045ca3', '#f5b12b', '#d11e20', '#8ec5f2']\n",
    "fig = plt.figure(figsize=(5, 6))\n",
    "plt.pie(summary['Volume'], labels=summary['source'], labeldistance=1.15, autopct='%1.0f%%',\n",
    "        wedgeprops = { 'linewidth' : 3, 'edgecolor' : 'white' }, colors=colors,\n",
    "        textprops={'fontsize': 14})\n",
    "plt.title(f'NDF Market Summary - Total ${market_total}')\n",
    "plt.savefig('pie.png', dpi=fig.dpi, bbox_inches='tight')\n"
   ],
   "metadata": {
    "collapsed": false,
    "ExecuteTime": {
     "end_time": "2023-05-30T23:16:43.437924600Z",
     "start_time": "2023-05-30T23:16:42.272766700Z"
    }
   }
  },
  {
   "cell_type": "code",
   "execution_count": 21,
   "outputs": [
    {
     "name": "stderr",
     "output_type": "stream",
     "text": [
      "C:\\Users\\souzacle\\PycharmProjects\\ndfutil\\venv\\lib\\site-packages\\pandas\\core\\dtypes\\astype.py:189: RuntimeWarning: invalid value encountered in cast\n",
      "  return values.astype(dtype, copy=copy)\n",
      "C:\\Users\\souzacle\\PycharmProjects\\ndfutil\\venv\\lib\\site-packages\\pandas\\core\\dtypes\\astype.py:189: RuntimeWarning: invalid value encountered in cast\n",
      "  return values.astype(dtype, copy=copy)\n"
     ]
    },
    {
     "data": {
      "text/plain": "'3.36B'"
     },
     "execution_count": 21,
     "metadata": {},
     "output_type": "execute_result"
    }
   ],
   "source": [
    "mining.market_total()"
   ],
   "metadata": {
    "collapsed": false,
    "ExecuteTime": {
     "end_time": "2023-05-30T23:16:43.799116400Z",
     "start_time": "2023-05-30T23:16:43.161465900Z"
    }
   }
  },
  {
   "cell_type": "code",
   "execution_count": 22,
   "outputs": [
    {
     "name": "stderr",
     "output_type": "stream",
     "text": [
      "C:\\Users\\souzacle\\PycharmProjects\\ndfutil\\venv\\lib\\site-packages\\pandas\\core\\dtypes\\astype.py:189: RuntimeWarning: invalid value encountered in cast\n",
      "  return values.astype(dtype, copy=copy)\n",
      "C:\\Users\\souzacle\\PycharmProjects\\ndfutil\\venv\\lib\\site-packages\\pandas\\core\\dtypes\\astype.py:189: RuntimeWarning: invalid value encountered in cast\n",
      "  return values.astype(dtype, copy=copy)\n"
     ]
    },
    {
     "data": {
      "text/plain": "      Total for human      Volume        source\nClass                                          \nTOTAL           1.53B  1527400000  TulletPrebon\nTOTAL               0           0     Tradition\nTOTAL         931.86M   931860000           bgc\nTOTAL          896.5M   896500000           gfi",
      "text/html": "<div>\n<style scoped>\n    .dataframe tbody tr th:only-of-type {\n        vertical-align: middle;\n    }\n\n    .dataframe tbody tr th {\n        vertical-align: top;\n    }\n\n    .dataframe thead th {\n        text-align: right;\n    }\n</style>\n<table border=\"1\" class=\"dataframe\">\n  <thead>\n    <tr style=\"text-align: right;\">\n      <th></th>\n      <th>Total for human</th>\n      <th>Volume</th>\n      <th>source</th>\n    </tr>\n    <tr>\n      <th>Class</th>\n      <th></th>\n      <th></th>\n      <th></th>\n    </tr>\n  </thead>\n  <tbody>\n    <tr>\n      <th>TOTAL</th>\n      <td>1.53B</td>\n      <td>1527400000</td>\n      <td>TulletPrebon</td>\n    </tr>\n    <tr>\n      <th>TOTAL</th>\n      <td>0</td>\n      <td>0</td>\n      <td>Tradition</td>\n    </tr>\n    <tr>\n      <th>TOTAL</th>\n      <td>931.86M</td>\n      <td>931860000</td>\n      <td>bgc</td>\n    </tr>\n    <tr>\n      <th>TOTAL</th>\n      <td>896.5M</td>\n      <td>896500000</td>\n      <td>gfi</td>\n    </tr>\n  </tbody>\n</table>\n</div>"
     },
     "execution_count": 22,
     "metadata": {},
     "output_type": "execute_result"
    }
   ],
   "source": [
    "mining.market_summary()"
   ],
   "metadata": {
    "collapsed": false,
    "ExecuteTime": {
     "end_time": "2023-05-30T23:16:43.886913Z",
     "start_time": "2023-05-30T23:16:43.412401200Z"
    }
   }
  },
  {
   "cell_type": "code",
   "execution_count": 23,
   "outputs": [
    {
     "name": "stderr",
     "output_type": "stream",
     "text": [
      "C:\\Users\\souzacle\\PycharmProjects\\ndfutil\\venv\\lib\\site-packages\\pandas\\core\\dtypes\\astype.py:189: RuntimeWarning: invalid value encountered in cast\n",
      "  return values.astype(dtype, copy=copy)\n",
      "C:\\Users\\souzacle\\PycharmProjects\\ndfutil\\venv\\lib\\site-packages\\pandas\\core\\dtypes\\astype.py:189: RuntimeWarning: invalid value encountered in cast\n",
      "  return values.astype(dtype, copy=copy)\n",
      "C:\\Users\\souzacle\\PycharmProjects\\ndfutil\\venv\\lib\\site-packages\\pandas\\core\\dtypes\\astype.py:189: RuntimeWarning: invalid value encountered in cast\n",
      "  return values.astype(dtype, copy=copy)\n",
      "C:\\Users\\souzacle\\PycharmProjects\\ndfutil\\venv\\lib\\site-packages\\pandas\\core\\dtypes\\astype.py:189: RuntimeWarning: invalid value encountered in cast\n",
      "  return values.astype(dtype, copy=copy)\n"
     ]
    },
    {
     "data": {
      "text/plain": "True"
     },
     "execution_count": 23,
     "metadata": {},
     "output_type": "execute_result"
    },
    {
     "data": {
      "text/plain": "<Figure size 500x600 with 1 Axes>",
      "image/png": "[encoded data removed]"
     },
     "metadata": {},
     "output_type": "display_data"
    }
   ],
   "source": [
    "mining.generate_chart()"
   ],
   "metadata": {
    "collapsed": false,
    "ExecuteTime": {
     "end_time": "2023-05-30T23:16:44.810825200Z",
     "start_time": "2023-05-30T23:16:43.653996100Z"
    }
   }
  }
 ],
 "metadata": {
  "kernelspec": {
   "display_name": "Python 3 (ipykernel)",
   "language": "python",
   "name": "python3"
  },
  "language_info": {
   "codemirror_mode": {
    "name": "ipython",
    "version": 3
   },
   "file_extension": ".py",
   "mimetype": "text/x-python",
   "name": "python",
   "nbconvert_exporter": "python",
   "pygments_lexer": "ipython3",
   "version": "3.9.16"
  }
 },
 "nbformat": 4,
 "nbformat_minor": 1
}
