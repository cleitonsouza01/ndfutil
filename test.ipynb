{
 "cells": [
  {
   "cell_type": "code",
   "execution_count": 1,
   "metadata": {
    "collapsed": true,
    "ExecuteTime": {
     "end_time": "2023-05-08T02:30:58.272063Z",
     "start_time": "2023-05-08T02:30:57.545929Z"
    }
   },
   "outputs": [],
   "source": [
    "from loguru import logger\n",
    "\n",
    "import ndf.download\n",
    "from ndf import download"
   ]
  },
  {
   "cell_type": "code",
   "execution_count": 2,
   "outputs": [
    {
     "data": {
      "text/plain": "2"
     },
     "execution_count": 2,
     "metadata": {},
     "output_type": "execute_result"
    }
   ],
   "source": [
    "import sys\n",
    "\n",
    "log_level = 'ERROR'\n",
    "logger.add(sys.stderr, format=\"{time} {level} {message}\", filter=\"my_module\", level=log_level)\n",
    "# logger.add(sys.stdout, colorize=True, format=\"<green>{time}</green> <level>{message}</level>\")\n",
    "logger.add(\"ndfdownload.log\", rotation=\"30 MB\", level=log_level)\n",
    "\n"
   ],
   "metadata": {
    "collapsed": false,
    "ExecuteTime": {
     "end_time": "2023-05-08T02:30:58.287248Z",
     "start_time": "2023-05-08T02:30:58.278641Z"
    }
   }
  },
  {
   "cell_type": "code",
   "execution_count": 3,
   "outputs": [],
   "source": [
    "# d = download.download()\n",
    "# d.download()"
   ],
   "metadata": {
    "collapsed": false,
    "ExecuteTime": {
     "end_time": "2023-05-08T02:30:58.292269Z",
     "start_time": "2023-05-08T02:30:58.288327Z"
    }
   }
  },
  {
   "cell_type": "code",
   "execution_count": 4,
   "outputs": [
    {
     "name": "stderr",
     "output_type": "stream",
     "text": [
      "2023-05-07 22:30:58.294 | INFO     | ndf.datamining:tulletprebon_calcs:166 - tulletprebon calcs starting\n",
      "2023-05-07 22:30:58.295 | DEBUG    | ndf.datamining:tulletprebon_calcs:168 - Opening /Users/cleiton/PycharmProjects/ndfutil/DATA/tulletprebon_2023-04-14.pkl\n",
      "2023-05-07 22:30:58.295 | DEBUG    | ndf.datamining:tulletprebon_calcs:170 - File not found, trying to download tulletprebon 2023-04-14\n",
      "2023-05-07 22:30:58.296 | DEBUG    | ndf.download:download_prebontullet:140 - >>> 2023-04-14\n",
      "2023-05-07 22:30:58.296 | INFO     | ndf.datamining:tulletprebon_calcs:176 - TULLET PREBON FILE EMPTY ***\n"
     ]
    }
   ],
   "source": [
    "from ndf.datamining import datamining\n",
    "\n",
    "mining = datamining()\n",
    "\n",
    "mining.tulletprebon_calcs('2023-04-14')\n"
   ],
   "metadata": {
    "collapsed": false,
    "ExecuteTime": {
     "end_time": "2023-05-08T02:30:58.324288Z",
     "start_time": "2023-05-08T02:30:58.291828Z"
    }
   }
  },
  {
   "cell_type": "code",
   "execution_count": 8,
   "outputs": [
    {
     "name": "stderr",
     "output_type": "stream",
     "text": [
      "2023-05-07 22:31:24.648 | INFO     | ndf.datamining:bgc_calcs:466 - bgc calcs starting\n",
      "2023-05-07 22:31:24.649 | DEBUG    | ndf.datamining:bgc_calcs:468 - Opening /Users/cleiton/PycharmProjects/ndfutil/DATA/bgc_2023-04-18.pkl\n",
      "2023-05-07 22:31:24.649 | DEBUG    | ndf.datamining:bgc_calcs:470 - File not found, trying to download bgc 2023-04-18\n",
      "2023-05-07 22:31:24.650 | DEBUG    | ndf.download:_download:33 - Try download BGC from http://dailyactprod.bgcsef.com/SEF/DailyAct/DailyAct_20230418.xls\n",
      "2023-05-07 22:31:24.651 | INFO     | ndf.download:_download:69 - Downloading to /Users/cleiton/PycharmProjects/ndfutil/DATA/BGC_2023-04-18.xls from http://dailyactprod.bgcsef.com/SEF/DailyAct/DailyAct_20230418.xls\n",
      "2023-05-07 22:31:24.931 | INFO     | ndf.download:_download:71 - download size: 117248 \n",
      "2023-05-07 22:31:24.932 | DEBUG    | ndf.download:_download:83 - Convert XLS to pandas dataframe\n",
      "2023-05-07 22:31:24.948 | DEBUG    | ndf.download:_download:85 - Creating cache...\n",
      "2023-05-07 22:31:24.950 | INFO     | ndf.download:_download:87 - BGC data success cached at /Users/cleiton/PycharmProjects/ndfutil/DATA/BGC_2023-04-18.pkl\n",
      "2023-05-07 22:31:24.957 | DEBUG    | ndf.datamining:bgc_calcs:566 - Index(['Trade Date', 'Description', 'OpenType', 'LowType', 'HighType',\n",
      "       'CloseType', 'EDRPVolume', 'Volume', 'Source', 'Class'],\n",
      "      dtype='object', name=0)\n",
      "2023-05-07 22:31:24.962 | DEBUG    | ndf.datamining:bgc_calcs:579 - df_bgc_summary ===>\n",
      "0      Total for human     Volume\n",
      "Class                            \n",
      "BROKEN            539M  539000000\n",
      "\n"
     ]
    },
    {
     "name": "stdout",
     "output_type": "stream",
     "text": [
      "USDBRL NDF 18APR2023 BILATERAL\n",
      "USDBRL NDF 28APR2023 BILATERAL\n",
      "CLASS:  None\n",
      "CLASS:  None\n"
     ]
    },
    {
     "data": {
      "text/plain": "0      Total for human     Volume\nClass                            \nBROKEN            539M  539000000",
      "text/html": "<div>\n<style scoped>\n    .dataframe tbody tr th:only-of-type {\n        vertical-align: middle;\n    }\n\n    .dataframe tbody tr th {\n        vertical-align: top;\n    }\n\n    .dataframe thead th {\n        text-align: right;\n    }\n</style>\n<table border=\"1\" class=\"dataframe\">\n  <thead>\n    <tr style=\"text-align: right;\">\n      <th></th>\n      <th>Total for human</th>\n      <th>Volume</th>\n    </tr>\n    <tr>\n      <th>Class</th>\n      <th></th>\n      <th></th>\n    </tr>\n  </thead>\n  <tbody>\n    <tr>\n      <th>BROKEN</th>\n      <td>539M</td>\n      <td>539000000</td>\n    </tr>\n  </tbody>\n</table>\n</div>"
     },
     "execution_count": 8,
     "metadata": {},
     "output_type": "execute_result"
    }
   ],
   "source": [
    "mining.bgc_calcs('2023-04-18')"
   ],
   "metadata": {
    "collapsed": false,
    "ExecuteTime": {
     "end_time": "2023-05-08T02:31:25.004842Z",
     "start_time": "2023-05-08T02:31:24.650106Z"
    }
   }
  },
  {
   "cell_type": "code",
   "execution_count": null,
   "outputs": [],
   "source": [
    "mining.gfi_calcs('2023-04-14')"
   ],
   "metadata": {
    "collapsed": false
   }
  },
  {
   "cell_type": "code",
   "execution_count": null,
   "outputs": [],
   "source": [
    "mining.tradition_calcs('2023-04-14')"
   ],
   "metadata": {
    "collapsed": false
   }
  },
  {
   "cell_type": "code",
   "execution_count": null,
   "outputs": [],
   "source": [
    "mining.tradition_calcs()\n"
   ],
   "metadata": {
    "collapsed": false
   }
  },
  {
   "cell_type": "code",
   "execution_count": null,
   "outputs": [],
   "source": [
    "mining.bgc_calcs()\n"
   ],
   "metadata": {
    "collapsed": false
   }
  },
  {
   "cell_type": "code",
   "execution_count": null,
   "outputs": [],
   "source": [
    "mining.gfi_calcs()"
   ],
   "metadata": {
    "collapsed": false
   }
  },
  {
   "cell_type": "code",
   "execution_count": null,
   "outputs": [],
   "source": [],
   "metadata": {
    "collapsed": false
   }
  },
  {
   "cell_type": "code",
   "execution_count": null,
   "outputs": [],
   "source": [
    "from pathlib import Path\n",
    "from ndf.util import get_cache_filename\n",
    "\n",
    "Path(get_cache_filename('gfi')).is_file()"
   ],
   "metadata": {
    "collapsed": false
   }
  }
 ],
 "metadata": {
  "kernelspec": {
   "display_name": "Python 3",
   "language": "python",
   "name": "python3"
  },
  "language_info": {
   "codemirror_mode": {
    "name": "ipython",
    "version": 2
   },
   "file_extension": ".py",
   "mimetype": "text/x-python",
   "name": "python",
   "nbconvert_exporter": "python",
   "pygments_lexer": "ipython2",
   "version": "2.7.6"
  }
 },
 "nbformat": 4,
 "nbformat_minor": 0
}
