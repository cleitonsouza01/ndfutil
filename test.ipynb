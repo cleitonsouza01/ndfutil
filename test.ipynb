{
 "cells": [
  {
   "cell_type": "code",
   "execution_count": 2,
   "metadata": {
    "collapsed": true,
    "ExecuteTime": {
     "start_time": "2023-04-25T21:14:09.921041Z",
     "end_time": "2023-04-25T21:14:10.690042Z"
    }
   },
   "outputs": [],
   "source": [
    "from loguru import logger\n",
    "\n",
    "from ndf.download import ndf"
   ]
  },
  {
   "cell_type": "code",
   "execution_count": 3,
   "outputs": [
    {
     "name": "stderr",
     "output_type": "stream",
     "text": [
      "2023-04-25 21:14:10.692 | INFO     | __main__:<module>:1 - Starting service\n",
      "2023-04-25 21:14:10.700 | INFO     | ndf.download:_download:87 - Loaded BGC DATA from cache DATA\\BGC_2023-04-25.pkl\n",
      "2023-04-25 21:14:10.706 | INFO     | ndf.download:_download:87 - Loaded TRADITION DATA from cache DATA\\TRADITION_2023-04-25.pkl\n",
      "2023-04-25 21:14:10.712 | INFO     | ndf.download:_download:87 - Loaded TULLETPREBON DATA from cache DATA\\TULLETPREBON_2023-04-25.pkl\n",
      "2023-04-25 21:14:10.717 | INFO     | ndf.download:_download:87 - Loaded GFI DATA from cache DATA\\GFI_2023-04-25.pkl\n"
     ]
    }
   ],
   "source": [
    "logger.info(\"Starting service\")\n",
    "\n",
    "n = ndf()\n",
    "\n",
    "n.download_all()\n"
   ],
   "metadata": {
    "collapsed": false,
    "ExecuteTime": {
     "start_time": "2023-04-25T21:14:10.692041Z",
     "end_time": "2023-04-25T21:14:10.787543Z"
    }
   }
  },
  {
   "cell_type": "code",
   "execution_count": 3,
   "outputs": [],
   "source": [],
   "metadata": {
    "collapsed": false,
    "ExecuteTime": {
     "start_time": "2023-04-25T21:14:10.745543Z",
     "end_time": "2023-04-25T21:14:10.788042Z"
    }
   }
  }
 ],
 "metadata": {
  "kernelspec": {
   "display_name": "Python 3",
   "language": "python",
   "name": "python3"
  },
  "language_info": {
   "codemirror_mode": {
    "name": "ipython",
    "version": 2
   },
   "file_extension": ".py",
   "mimetype": "text/x-python",
   "name": "python",
   "nbconvert_exporter": "python",
   "pygments_lexer": "ipython2",
   "version": "2.7.6"
  }
 },
 "nbformat": 4,
 "nbformat_minor": 0
}
