{
 "cells": [
  {
   "cell_type": "code",
   "execution_count": 12,
   "metadata": {
    "collapsed": true,
    "ExecuteTime": {
     "start_time": "2023-05-03T19:14:27.509054Z",
     "end_time": "2023-05-03T19:14:27.543022Z"
    }
   },
   "outputs": [],
   "source": [
    "from loguru import logger\n",
    "\n",
    "from ndf.download import ndf"
   ]
  },
  {
   "cell_type": "code",
   "execution_count": 13,
   "outputs": [],
   "source": [
    "# logger.info(\"Starting service\")\n",
    "#\n",
    "# n = ndf()\n",
    "#\n",
    "# n.download_all()\n"
   ],
   "metadata": {
    "collapsed": false,
    "ExecuteTime": {
     "start_time": "2023-05-03T19:14:27.519037Z",
     "end_time": "2023-05-03T19:14:27.582996Z"
    }
   }
  },
  {
   "cell_type": "code",
   "execution_count": 14,
   "outputs": [
    {
     "data": {
      "text/plain": "datetime.datetime(2022, 7, 1, 0, 0)"
     },
     "execution_count": 14,
     "metadata": {},
     "output_type": "execute_result"
    }
   ],
   "source": [
    "from ndf.util import get_last_business_day\n",
    "from datetime import datetime\n",
    "\n",
    "get_last_business_day(datetime(2022, 7, 5))"
   ],
   "metadata": {
    "collapsed": false,
    "ExecuteTime": {
     "start_time": "2023-05-03T19:14:27.536307Z",
     "end_time": "2023-05-03T19:14:27.641104Z"
    }
   }
  },
  {
   "cell_type": "code",
   "execution_count": 15,
   "outputs": [
    {
     "name": "stderr",
     "output_type": "stream",
     "text": [
      "2023-05-03 19:14:27.628 | INFO     | ndf.datamining:gfi_calcs:316 - GFI calcs starting\n",
      "2023-05-03 19:14:27.630 | INFO     | ndf.datamining:gfi_calcs:317 - Opening C:\\Users\\souzacle\\PycharmProjects\\ndfutil\\DATA\\gfi_2023-04-28.pkl\n",
      "2023-05-03 19:14:27.636 | DEBUG    | ndf.datamining:gfi_calcs:343 - GFI before mining:\n",
      "0                     Description      Volume\n",
      "0  USDBRL NDF 27APR2023 BILATERAL   285000000\n",
      "1  USDBRL NDF 28APR2023 BILATERAL  1725000000\n",
      "2  USDBRL NDF 31MAY2023 BILATERAL  1440000000\n",
      "3  USDBRL NDF 18DEC2023 BILATERAL    19910000\n",
      "4  USDBRL NDF 18MAR2024 BILATERAL    20000000\n",
      "2023-05-03 19:14:27.646 | DEBUG    | ndf.datamining:gfi_calcs:423 - GFI _summary ===>\n",
      "0      Total for human      Volume\n",
      "Class                             \n",
      "BROKEN           3.49B  3489910000\n",
      "\n"
     ]
    },
    {
     "name": "stdout",
     "output_type": "stream",
     "text": [
      "USDBRL NDF 27APR2023 BILATERAL\n",
      "USDBRL NDF 28APR2023 BILATERAL\n",
      "USDBRL NDF 31MAY2023 BILATERAL\n",
      "USDBRL NDF 18DEC2023 BILATERAL\n",
      "USDBRL NDF 18MAR2024 BILATERAL\n",
      "CLASS:  None\n",
      "CLASS:  None\n",
      "CLASS:  None\n",
      "CLASS:  None\n",
      "CLASS:  None\n"
     ]
    }
   ],
   "source": [
    "import ndf.datamining\n",
    "\n",
    "mining = ndf.datamining.datamining()\n",
    "\n",
    "# result = mining.tulletprebon_calcs(ndf.util.get_cache_filename('tulletprebon', '2023-04-28'))\n",
    "result2 = mining.gfi_calcs(ndf.util.get_cache_filename('gfi', '2023-04-28'))\n"
   ],
   "metadata": {
    "collapsed": false,
    "ExecuteTime": {
     "start_time": "2023-05-03T19:14:27.630177Z",
     "end_time": "2023-05-03T19:14:27.659977Z"
    }
   }
  },
  {
   "cell_type": "code",
   "execution_count": 16,
   "outputs": [
    {
     "data": {
      "text/plain": "0      Total for human      Volume\nClass                             \nBROKEN           3.49B  3489910000",
      "text/html": "<div>\n<style scoped>\n    .dataframe tbody tr th:only-of-type {\n        vertical-align: middle;\n    }\n\n    .dataframe tbody tr th {\n        vertical-align: top;\n    }\n\n    .dataframe thead th {\n        text-align: right;\n    }\n</style>\n<table border=\"1\" class=\"dataframe\">\n  <thead>\n    <tr style=\"text-align: right;\">\n      <th></th>\n      <th>Total for human</th>\n      <th>Volume</th>\n    </tr>\n    <tr>\n      <th>Class</th>\n      <th></th>\n      <th></th>\n    </tr>\n  </thead>\n  <tbody>\n    <tr>\n      <th>BROKEN</th>\n      <td>3.49B</td>\n      <td>3489910000</td>\n    </tr>\n  </tbody>\n</table>\n</div>"
     },
     "execution_count": 16,
     "metadata": {},
     "output_type": "execute_result"
    }
   ],
   "source": [
    "result2"
   ],
   "metadata": {
    "collapsed": false,
    "ExecuteTime": {
     "start_time": "2023-05-03T19:14:27.658992Z",
     "end_time": "2023-05-03T19:14:27.714715Z"
    }
   }
  }
 ],
 "metadata": {
  "kernelspec": {
   "display_name": "Python 3",
   "language": "python",
   "name": "python3"
  },
  "language_info": {
   "codemirror_mode": {
    "name": "ipython",
    "version": 2
   },
   "file_extension": ".py",
   "mimetype": "text/x-python",
   "name": "python",
   "nbconvert_exporter": "python",
   "pygments_lexer": "ipython2",
   "version": "2.7.6"
  }
 },
 "nbformat": 4,
 "nbformat_minor": 0
}
