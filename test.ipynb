{
 "cells": [
  {
   "cell_type": "code",
   "execution_count": 9,
   "metadata": {
    "collapsed": true,
    "ExecuteTime": {
     "end_time": "2023-05-07T19:26:35.024776Z",
     "start_time": "2023-05-07T19:26:35.013685Z"
    }
   },
   "outputs": [],
   "source": [
    "from loguru import logger\n",
    "\n",
    "from ndf import download"
   ]
  },
  {
   "cell_type": "code",
   "execution_count": 10,
   "outputs": [
    {
     "data": {
      "text/plain": "4"
     },
     "execution_count": 10,
     "metadata": {},
     "output_type": "execute_result"
    }
   ],
   "source": [
    "import sys\n",
    "\n",
    "log_level = 'ERROR'\n",
    "logger.add(sys.stderr, format=\"{time} {level} {message}\", filter=\"my_module\", level=log_level)\n",
    "# logger.add(sys.stdout, colorize=True, format=\"<green>{time}</green> <level>{message}</level>\")\n",
    "logger.add(\"ndfdownload.log\", rotation=\"30 MB\", level=log_level)\n",
    "\n"
   ],
   "metadata": {
    "collapsed": false,
    "ExecuteTime": {
     "end_time": "2023-05-07T19:26:35.028815Z",
     "start_time": "2023-05-07T19:26:35.021938Z"
    }
   }
  },
  {
   "cell_type": "code",
   "execution_count": 11,
   "outputs": [
    {
     "data": {
      "text/plain": "datetime.datetime(2022, 7, 1, 0, 0)"
     },
     "execution_count": 11,
     "metadata": {},
     "output_type": "execute_result"
    }
   ],
   "source": [
    "from ndf.util import get_last_business_day\n",
    "from datetime import datetime\n",
    "\n",
    "get_last_business_day(datetime(2022, 7, 5))"
   ],
   "metadata": {
    "collapsed": false,
    "ExecuteTime": {
     "end_time": "2023-05-07T19:26:35.053047Z",
     "start_time": "2023-05-07T19:26:35.029899Z"
    }
   }
  },
  {
   "cell_type": "code",
   "execution_count": 12,
   "outputs": [
    {
     "name": "stderr",
     "output_type": "stream",
     "text": [
      "2023-05-07 15:26:35.044 | INFO     | ndf.datamining:gfi_calcs:329 - GFI calcs starting\n",
      "2023-05-07 15:26:35.044 | INFO     | ndf.datamining:gfi_calcs:330 - Opening /Users/cleiton/PycharmProjects/ndfutil/DATA/GFI_2023-04-28.pkl\n",
      "2023-05-07 15:26:35.049 | DEBUG    | ndf.datamining:gfi_calcs:356 - GFI before mining:\n",
      "0                     Description      Volume\n",
      "0  USDBRL NDF 27APR2023 BILATERAL   285000000\n",
      "1  USDBRL NDF 28APR2023 BILATERAL  1725000000\n",
      "2  USDBRL NDF 31MAY2023 BILATERAL  1440000000\n",
      "3  USDBRL NDF 18DEC2023 BILATERAL    19910000\n",
      "4  USDBRL NDF 18MAR2024 BILATERAL    20000000\n",
      "2023-05-07 15:26:35.054 | DEBUG    | ndf.datamining:gfi_calcs:436 - GFI _summary ===>\n",
      "0      Total for human      Volume\n",
      "Class                             \n",
      "BROKEN           3.49B  3489910000\n",
      "\n"
     ]
    },
    {
     "name": "stdout",
     "output_type": "stream",
     "text": [
      "USDBRL NDF 27APR2023 BILATERAL\n",
      "USDBRL NDF 28APR2023 BILATERAL\n",
      "USDBRL NDF 31MAY2023 BILATERAL\n",
      "USDBRL NDF 18DEC2023 BILATERAL\n",
      "USDBRL NDF 18MAR2024 BILATERAL\n",
      "CLASS:  None\n",
      "CLASS:  None\n",
      "CLASS:  None\n",
      "CLASS:  None\n",
      "CLASS:  None\n"
     ]
    }
   ],
   "source": [
    "import ndf.datamining\n",
    "\n",
    "mining = ndf.datamining.datamining()\n",
    "\n",
    "# result = mining.tulletprebon_calcs(ndf.util.get_cache_filename('tulletprebon', '2023-04-28'))\n",
    "result2 = mining.gfi_calcs(ndf.util.get_cache_filename('GFI', '2023-04-28'))\n",
    "# result2 = mining.gfi_calcs('/Users/cleiton/PycharmProjects/ndfutil/DATA/GFI_2023-04-28.pkl')\n"
   ],
   "metadata": {
    "collapsed": false,
    "ExecuteTime": {
     "end_time": "2023-05-07T19:26:35.060422Z",
     "start_time": "2023-05-07T19:26:35.045264Z"
    }
   }
  },
  {
   "cell_type": "code",
   "execution_count": 13,
   "outputs": [
    {
     "name": "stderr",
     "output_type": "stream",
     "text": [
      "2023-05-07 15:26:35.058 | INFO     | ndf.datamining:tradition_calcs:32 - TRADITION Data mining starting\n",
      "2023-05-07 15:26:35.059 | DEBUG    | ndf.datamining:tradition_calcs:34 - Opening /Users/cleiton/PycharmProjects/ndfutil/DATA/tradition_2023-05-07.pkl\n",
      "/Users/cleiton/PycharmProjects/ndfutil/ndf/datamining.py:135: FutureWarning: The default value of numeric_only in DataFrameGroupBy.sum is deprecated. In a future version, numeric_only will default to False. Either specify numeric_only or select only columns which should be valid for the function.\n",
      "  df_tradition_summary = df_tradition.groupby('Class').sum()\n",
      "/Users/cleiton/PycharmProjects/ndfutil/ndf/datamining.py:139: FutureWarning: The default value of numeric_only in DataFrameGroupBy.sum is deprecated. In a future version, numeric_only will default to False. Either specify numeric_only or select only columns which should be valid for the function.\n",
      "  for number in df_tradition.groupby('Class').sum()['Volume']:\n",
      "2023-05-07 15:26:35.090 | DEBUG    | ndf.datamining:tradition_calcs:149 - TRADITION Summary ===>\n",
      "       Total for human  Total_Trade_Count\n",
      "Class                                    \n",
      "BROKEN             52M                  4\n",
      "\n"
     ]
    },
    {
     "name": "stdout",
     "output_type": "stream",
     "text": [
      "['Trade_Date', 'Description', 'Internal_Prod_Des', 'Contract_Type', 'Volume', 'Total_Trade_Count', 'Source', 'Class']\n",
      "   Trade_Date     Description  \\\n",
      "0    20230504   SN_USDBRL_NDF   \n",
      "1    20230504  29D_USDBRL_NDF   \n",
      "\n",
      "                                   Internal_Prod_Des Contract_Type  \\\n",
      "0  Spot Next Non-Deliverable Forward - United Sta...           NaN   \n",
      "1  29 Day Non-Deliverable Forward - United States...           NaN   \n",
      "\n",
      "       Volume  Total_Trade_Count     Source   Class  \n",
      "0  26000000.0                  2  TRADITION  BROKEN  \n",
      "1  26000000.0                  2  TRADITION  BROKEN  \n",
      "        Trade_Date      Volume  Total_Trade_Count\n",
      "Class                                            \n",
      "BROKEN    40461008  52000000.0                  4\n"
     ]
    }
   ],
   "source": [
    "tradition = mining.tradition_calcs()"
   ],
   "metadata": {
    "collapsed": false,
    "ExecuteTime": {
     "end_time": "2023-05-07T19:26:35.120518Z",
     "start_time": "2023-05-07T19:26:35.060815Z"
    }
   }
  },
  {
   "cell_type": "code",
   "execution_count": 14,
   "outputs": [
    {
     "name": "stderr",
     "output_type": "stream",
     "text": [
      "2023-05-07 15:26:35.094 | INFO     | ndf.datamining:tradition_calcs:32 - TRADITION Data mining starting\n",
      "2023-05-07 15:26:35.094 | DEBUG    | ndf.datamining:tradition_calcs:34 - Opening /Users/cleiton/PycharmProjects/ndfutil/DATA/tradition_2023-04-25.pkl\n",
      "/Users/cleiton/PycharmProjects/ndfutil/ndf/datamining.py:135: FutureWarning: The default value of numeric_only in DataFrameGroupBy.sum is deprecated. In a future version, numeric_only will default to False. Either specify numeric_only or select only columns which should be valid for the function.\n",
      "  df_tradition_summary = df_tradition.groupby('Class').sum()\n",
      "/Users/cleiton/PycharmProjects/ndfutil/ndf/datamining.py:139: FutureWarning: The default value of numeric_only in DataFrameGroupBy.sum is deprecated. In a future version, numeric_only will default to False. Either specify numeric_only or select only columns which should be valid for the function.\n",
      "  for number in df_tradition.groupby('Class').sum()['Volume']:\n",
      "2023-05-07 15:26:35.124 | DEBUG    | ndf.datamining:tradition_calcs:149 - TRADITION Summary ===>\n",
      "       Total for human  Total_Trade_Count\n",
      "Class                                    \n",
      "BROKEN            290M                  6\n",
      "\n"
     ]
    },
    {
     "name": "stdout",
     "output_type": "stream",
     "text": [
      "['Trade_Date', 'Description', 'Internal_Prod_Des', 'Contract_Type', 'Volume', 'Total_Trade_Count', 'Source', 'Class']\n",
      "   Trade_Date     Description  \\\n",
      "0    20230424   1W_USDBRL_NDF   \n",
      "1    20230424  39D_USDBRL_NDF   \n",
      "\n",
      "                                   Internal_Prod_Des Contract_Type  \\\n",
      "0  1 Week Non-Deliverable Forward - United States...           NaN   \n",
      "1  39 Day Non-Deliverable Forward - United States...           NaN   \n",
      "\n",
      "        Volume  Total_Trade_Count     Source   Class  \n",
      "0  145000000.0                  3  TRADITION  BROKEN  \n",
      "1  145000000.0                  3  TRADITION  BROKEN  \n",
      "        Trade_Date       Volume  Total_Trade_Count\n",
      "Class                                             \n",
      "BROKEN    40460848  290000000.0                  6\n"
     ]
    },
    {
     "data": {
      "text/plain": "       Total for human  Total_Trade_Count\nClass                                    \nBROKEN            290M                  6",
      "text/html": "<div>\n<style scoped>\n    .dataframe tbody tr th:only-of-type {\n        vertical-align: middle;\n    }\n\n    .dataframe tbody tr th {\n        vertical-align: top;\n    }\n\n    .dataframe thead th {\n        text-align: right;\n    }\n</style>\n<table border=\"1\" class=\"dataframe\">\n  <thead>\n    <tr style=\"text-align: right;\">\n      <th></th>\n      <th>Total for human</th>\n      <th>Total_Trade_Count</th>\n    </tr>\n    <tr>\n      <th>Class</th>\n      <th></th>\n      <th></th>\n    </tr>\n  </thead>\n  <tbody>\n    <tr>\n      <th>BROKEN</th>\n      <td>290M</td>\n      <td>6</td>\n    </tr>\n  </tbody>\n</table>\n</div>"
     },
     "execution_count": 14,
     "metadata": {},
     "output_type": "execute_result"
    }
   ],
   "source": [
    "mining.tradition_calcs('2023-04-25')"
   ],
   "metadata": {
    "collapsed": false,
    "ExecuteTime": {
     "end_time": "2023-05-07T19:26:35.130954Z",
     "start_time": "2023-05-07T19:26:35.095384Z"
    }
   }
  },
  {
   "cell_type": "code",
   "execution_count": 15,
   "outputs": [
    {
     "name": "stderr",
     "output_type": "stream",
     "text": [
      "2023-05-07 15:26:35.131 | INFO     | ndf.datamining:tulletprebon_calcs:155 - TULLET PREBON calcs starting\n",
      "2023-05-07 15:26:35.131 | DEBUG    | ndf.datamining:tulletprebon_calcs:157 - Opening /Users/cleiton/PycharmProjects/ndfutil/DATA/tulletprebon_2023-04-26.pkl\n",
      "2023-05-07 15:26:35.139 | DEBUG    | ndf.datamining:tulletprebon_calcs:169 - tullet before mining:\n",
      "    Batch Date Asset Class       Tradeable Instrument  \\\n",
      "0   2023-04-25          CU     0D_NDF.USD.BRL.TOD_NDF   \n",
      "1   2023-04-25          CU     0D_NDF.USD.BRL.TOM_NDF   \n",
      "2   2023-04-25          CU    11D_NDF.USD.BRL.11D_NDF   \n",
      "3   2023-04-25          CU  131D_NDF.USD.BRL.131D_NDF   \n",
      "4   2023-04-25          CU    14D_NDF.USD.BRL.14D_NDF   \n",
      "5   2023-04-25          CU  159D_NDF.USD.BRL.159D_NDF   \n",
      "6   2023-04-25          CU    15D_NDF.USD.BRL.15D_NDF   \n",
      "7   2023-04-25          CU    18D_NDF.USD.BRL.18D_NDF   \n",
      "8   2023-04-25          CU      1D_NDF.USD.BRL.1D_NDF   \n",
      "9   2023-04-25          CU  341D_NDF.USD.BRL.341D_NDF   \n",
      "10  2023-04-25          CU    34D_NDF.USD.BRL.34D_NDF   \n",
      "11  2023-04-25          CU   36D_NDF.USD.BRL.BMF2_NDF   \n",
      "12  2023-04-25          CU      5D_NDF.USD.BRL.2D_NDF   \n",
      "13  2023-04-25          CU  617D_NDF.USD.BRL.617D_NDF   \n",
      "14  2023-04-25          CU   69D_NDF.USD.BRL.BMF3_NDF   \n",
      "15  2023-04-25          CU    6D_NDF.USD.BRL.BMF1_NDF   \n",
      "16  2023-04-25          CU      7D_NDF.USD.BRL.7D_NDF   \n",
      "17  2023-04-25          CU             8D_NDF_USD_BRL   \n",
      "18  2023-04-25          CU   97D_NDF.USD.BRL.BMF4_NDF   \n",
      "\n",
      "                           Description Opening Price Trade High Trade Low  \\\n",
      "0               0D_NDF.USD.BRL.TOD_NDF        5.0709     5.0709   5.05605   \n",
      "1               0D_NDF.USD.BRL.TOM_NDF        5.0574     5.0807    5.0495   \n",
      "2              11D_NDF.USD.BRL.11D_NDF        5.0727    5.08465    5.0727   \n",
      "3            131D_NDF.USD.BRL.131D_NDF        5.1973     5.1973    5.1944   \n",
      "4              14D_NDF.USD.BRL.14D_NDF       5.08095    5.08095   5.08095   \n",
      "5            159D_NDF.USD.BRL.159D_NDF         5.226      5.226     5.226   \n",
      "6              15D_NDF.USD.BRL.15D_NDF       5.08265    5.08265   5.08265   \n",
      "7              18D_NDF.USD.BRL.18D_NDF       5.08275    5.08275   5.08275   \n",
      "8                1D_NDF.USD.BRL.1D_NDF         5.068      5.068     5.068   \n",
      "9            341D_NDF.USD.BRL.341D_NDF        5.3765     5.3765    5.3765   \n",
      "10             34D_NDF.USD.BRL.34D_NDF        5.0786     5.1026    5.0786   \n",
      "11            36D_NDF.USD.BRL.BMF2_NDF        5.0715    5.11705   5.06655   \n",
      "12               5D_NDF.USD.BRL.2D_NDF         5.057     5.0646     5.057   \n",
      "13           617D_NDF.USD.BRL.617D_NDF       5.61697    5.61697     5.578   \n",
      "14            69D_NDF.USD.BRL.BMF3_NDF        5.1239     5.1318    5.1239   \n",
      "15             6D_NDF.USD.BRL.BMF1_NDF         5.059      5.085     5.035   \n",
      "16               7D_NDF.USD.BRL.7D_NDF        5.0826     5.0826    5.0826   \n",
      "17  NDF_USD_BRL Maturing on 2023-05-03        5.0582     5.0843    5.0382   \n",
      "18            97D_NDF.USD.BRL.BMF4_NDF        5.1412     5.1598    5.1412   \n",
      "\n",
      "   Closing Price Num of Trades Total Notional Value        Source Class  \n",
      "0        5.06616             3             52000000  TULLETPREBON        \n",
      "1        5.06105            22           1026100000  TULLETPREBON        \n",
      "2        5.08465             3            100000000  TULLETPREBON        \n",
      "3         5.1944             3            150000000  TULLETPREBON        \n",
      "4        5.08095             1            200000000  TULLETPREBON        \n",
      "5          5.226             1             15000000  TULLETPREBON        \n",
      "6        5.08265             1             65000000  TULLETPREBON        \n",
      "7        5.08275             1             60000000  TULLETPREBON        \n",
      "8          5.068             1             20000000  TULLETPREBON        \n",
      "9         5.3765             1             15000000  TULLETPREBON        \n",
      "10        5.1026             4            386000000  TULLETPREBON        \n",
      "11        5.0958            23           1698500000  TULLETPREBON        \n",
      "12        5.0646             3             92000000  TULLETPREBON        \n",
      "13         5.578             3            155000000  TULLETPREBON        \n",
      "14        5.1318             2             60000000  TULLETPREBON        \n",
      "15        5.0618            63           3447700000  TULLETPREBON        \n",
      "16        5.0826             1             50000000  TULLETPREBON        \n",
      "17        5.0712            40             70000000  TULLETPREBON        \n",
      "18        5.1502             5            250000000  TULLETPREBON        \n",
      "/Users/cleiton/PycharmProjects/ndfutil/ndf/datamining.py:308: FutureWarning: The default value of numeric_only in DataFrameGroupBy.sum is deprecated. In a future version, numeric_only will default to False. Either specify numeric_only or select only columns which should be valid for the function.\n",
      "  df_summary = df.groupby('Class').sum()\n",
      "/Users/cleiton/PycharmProjects/ndfutil/ndf/datamining.py:311: FutureWarning: The default value of numeric_only in DataFrameGroupBy.sum is deprecated. In a future version, numeric_only will default to False. Either specify numeric_only or select only columns which should be valid for the function.\n",
      "  for number in df.groupby('Class').sum()['Total Notional Value']:\n",
      "2023-05-07 15:26:35.152 | DEBUG    | ndf.datamining:tulletprebon_calcs:323 - TULLETPREBON Summary ===>\n",
      "          Total for human  Num of Trades   Days  Total Notional Value\n",
      "Class                                                                \n",
      "BMF1                3.45B             63    6.0          3.447700e+09\n",
      "BMF2                 1.7B             23   36.0          1.698500e+09\n",
      "BMF3                  60M              2   69.0          6.000000e+07\n",
      "BROKEN               587M             11   71.0          5.870000e+08\n",
      "GT 1 YEAR            170M              4  958.0          1.700000e+08\n",
      "LONGER               801M             13  421.0          8.010000e+08\n",
      "MATURING              70M             40    0.0          7.000000e+07\n",
      "PTAX                  52M              3    0.0          5.200000e+07\n",
      "TOMPTAX             1.03B             22    0.0          1.026100e+09\n",
      "\n"
     ]
    },
    {
     "name": "stdout",
     "output_type": "stream",
     "text": [
      "DAYS:11 BMF1:6\n",
      "DAYS:11 BMF2:36\n",
      "DAYS:11 BMF3:69\n",
      "\n",
      "DAYS:14 BMF1:6\n",
      "DAYS:14 BMF2:36\n",
      "DAYS:14 BMF3:69\n",
      "\n",
      "DAYS:15 BMF1:6\n",
      "DAYS:15 BMF2:36\n",
      "DAYS:15 BMF3:69\n",
      "\n",
      "DAYS:18 BMF1:6\n",
      "DAYS:18 BMF2:36\n",
      "DAYS:18 BMF3:69\n",
      "\n",
      "DAYS:1 BMF1:6\n",
      "DAYS:1 BMF2:36\n",
      "DAYS:1 BMF3:69\n",
      "\n",
      "DAYS:5 BMF1:6\n",
      "DAYS:5 BMF2:36\n",
      "DAYS:5 BMF3:69\n",
      "\n",
      "DAYS:7 BMF1:6\n",
      "DAYS:7 BMF2:36\n",
      "DAYS:7 BMF3:69\n",
      "\n"
     ]
    },
    {
     "data": {
      "text/plain": "          Total for human  Num of Trades   Days  Total Notional Value\nClass                                                                \nBMF1                3.45B             63    6.0          3.447700e+09\nBMF2                 1.7B             23   36.0          1.698500e+09\nBMF3                  60M              2   69.0          6.000000e+07\nBROKEN               587M             11   71.0          5.870000e+08\nGT 1 YEAR            170M              4  958.0          1.700000e+08\nLONGER               801M             13  421.0          8.010000e+08\nMATURING              70M             40    0.0          7.000000e+07\nPTAX                  52M              3    0.0          5.200000e+07\nTOMPTAX             1.03B             22    0.0          1.026100e+09",
      "text/html": "<div>\n<style scoped>\n    .dataframe tbody tr th:only-of-type {\n        vertical-align: middle;\n    }\n\n    .dataframe tbody tr th {\n        vertical-align: top;\n    }\n\n    .dataframe thead th {\n        text-align: right;\n    }\n</style>\n<table border=\"1\" class=\"dataframe\">\n  <thead>\n    <tr style=\"text-align: right;\">\n      <th></th>\n      <th>Total for human</th>\n      <th>Num of Trades</th>\n      <th>Days</th>\n      <th>Total Notional Value</th>\n    </tr>\n    <tr>\n      <th>Class</th>\n      <th></th>\n      <th></th>\n      <th></th>\n      <th></th>\n    </tr>\n  </thead>\n  <tbody>\n    <tr>\n      <th>BMF1</th>\n      <td>3.45B</td>\n      <td>63</td>\n      <td>6.0</td>\n      <td>3.447700e+09</td>\n    </tr>\n    <tr>\n      <th>BMF2</th>\n      <td>1.7B</td>\n      <td>23</td>\n      <td>36.0</td>\n      <td>1.698500e+09</td>\n    </tr>\n    <tr>\n      <th>BMF3</th>\n      <td>60M</td>\n      <td>2</td>\n      <td>69.0</td>\n      <td>6.000000e+07</td>\n    </tr>\n    <tr>\n      <th>BROKEN</th>\n      <td>587M</td>\n      <td>11</td>\n      <td>71.0</td>\n      <td>5.870000e+08</td>\n    </tr>\n    <tr>\n      <th>GT 1 YEAR</th>\n      <td>170M</td>\n      <td>4</td>\n      <td>958.0</td>\n      <td>1.700000e+08</td>\n    </tr>\n    <tr>\n      <th>LONGER</th>\n      <td>801M</td>\n      <td>13</td>\n      <td>421.0</td>\n      <td>8.010000e+08</td>\n    </tr>\n    <tr>\n      <th>MATURING</th>\n      <td>70M</td>\n      <td>40</td>\n      <td>0.0</td>\n      <td>7.000000e+07</td>\n    </tr>\n    <tr>\n      <th>PTAX</th>\n      <td>52M</td>\n      <td>3</td>\n      <td>0.0</td>\n      <td>5.200000e+07</td>\n    </tr>\n    <tr>\n      <th>TOMPTAX</th>\n      <td>1.03B</td>\n      <td>22</td>\n      <td>0.0</td>\n      <td>1.026100e+09</td>\n    </tr>\n  </tbody>\n</table>\n</div>"
     },
     "execution_count": 15,
     "metadata": {},
     "output_type": "execute_result"
    }
   ],
   "source": [
    "mining.tulletprebon_calcs('2023-04-26')"
   ],
   "metadata": {
    "collapsed": false,
    "ExecuteTime": {
     "end_time": "2023-05-07T19:26:35.187389Z",
     "start_time": "2023-05-07T19:26:35.131182Z"
    }
   }
  },
  {
   "cell_type": "code",
   "execution_count": 16,
   "outputs": [
    {
     "name": "stderr",
     "output_type": "stream",
     "text": [
      "2023-05-07 15:26:35.161 | INFO     | ndf.download:_download:51 - Loaded BGC DATA from cache DATA/BGC_2023-05-07.pkl\n",
      "2023-05-07 15:26:35.163 | INFO     | ndf.download:_download:51 - Loaded TRADITION DATA from cache DATA/TRADITION_2023-05-07.pkl\n",
      "2023-05-07 15:26:35.164 | INFO     | ndf.download:_download:51 - Loaded TULLETPREBON DATA from cache DATA/TULLETPREBON_2023-05-07.pkl\n",
      "2023-05-07 15:26:35.165 | INFO     | ndf.download:_download:51 - Loaded GFI DATA from cache DATA/GFI_2023-05-07.pkl\n"
     ]
    }
   ],
   "source": [
    "ndfdown = download.download()\n",
    "\n",
    "ndfdown.download_all()"
   ],
   "metadata": {
    "collapsed": false,
    "ExecuteTime": {
     "end_time": "2023-05-07T19:26:35.187765Z",
     "start_time": "2023-05-07T19:26:35.168697Z"
    }
   }
  },
  {
   "cell_type": "code",
   "execution_count": 16,
   "outputs": [],
   "source": [],
   "metadata": {
    "collapsed": false,
    "ExecuteTime": {
     "end_time": "2023-05-07T19:26:35.187962Z",
     "start_time": "2023-05-07T19:26:35.170091Z"
    }
   }
  }
 ],
 "metadata": {
  "kernelspec": {
   "display_name": "Python 3",
   "language": "python",
   "name": "python3"
  },
  "language_info": {
   "codemirror_mode": {
    "name": "ipython",
    "version": 2
   },
   "file_extension": ".py",
   "mimetype": "text/x-python",
   "name": "python",
   "nbconvert_exporter": "python",
   "pygments_lexer": "ipython2",
   "version": "2.7.6"
  }
 },
 "nbformat": 4,
 "nbformat_minor": 0
}
