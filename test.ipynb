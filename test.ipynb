{
 "cells": [
  {
   "cell_type": "code",
   "execution_count": 1,
   "metadata": {
    "collapsed": true,
    "ExecuteTime": {
     "end_time": "2023-05-11T16:22:29.228702200Z",
     "start_time": "2023-05-11T16:22:28.075214700Z"
    }
   },
   "outputs": [],
   "source": [
    "import datetime as datetime\n",
    "from loguru import logger\n",
    "\n",
    "import ndf.download\n",
    "from ndf import download"
   ]
  },
  {
   "cell_type": "code",
   "execution_count": 2,
   "outputs": [],
   "source": [
    "import warnings\n",
    "warnings.simplefilter(action='ignore', category=FutureWarning)"
   ],
   "metadata": {
    "collapsed": false,
    "ExecuteTime": {
     "end_time": "2023-05-11T16:22:29.241063100Z",
     "start_time": "2023-05-11T16:22:29.230066900Z"
    }
   }
  },
  {
   "cell_type": "code",
   "execution_count": 3,
   "outputs": [
    {
     "data": {
      "text/plain": "2"
     },
     "execution_count": 3,
     "metadata": {},
     "output_type": "execute_result"
    }
   ],
   "source": [
    "import sys\n",
    "\n",
    "log_level = 'ERROR'\n",
    "logger.add(sys.stderr, format=\"{time} {level} {message}\", filter=\"my_module\", level=log_level)\n",
    "# logger.add(sys.stdout, colorize=True, format=\"<green>{time}</green> <level>{message}</level>\")\n",
    "logger.add(\"ndfdownload.log\", rotation=\"30 MB\", level=log_level)\n",
    "\n"
   ],
   "metadata": {
    "collapsed": false,
    "ExecuteTime": {
     "end_time": "2023-05-11T16:22:29.284859700Z",
     "start_time": "2023-05-11T16:22:29.243054500Z"
    }
   }
  },
  {
   "cell_type": "markdown",
   "source": [
    "## Remove DEBUG"
   ],
   "metadata": {
    "collapsed": false
   }
  },
  {
   "cell_type": "code",
   "execution_count": 4,
   "outputs": [],
   "source": [
    "logger.remove()"
   ],
   "metadata": {
    "collapsed": false,
    "ExecuteTime": {
     "end_time": "2023-05-11T16:22:29.285356900Z",
     "start_time": "2023-05-11T16:22:29.259132600Z"
    }
   }
  },
  {
   "cell_type": "code",
   "execution_count": 5,
   "outputs": [],
   "source": [
    "logger.debug('teste debug')\n",
    "logger.info('teste info')\n"
   ],
   "metadata": {
    "collapsed": false,
    "ExecuteTime": {
     "end_time": "2023-05-11T16:22:29.308112900Z",
     "start_time": "2023-05-11T16:22:29.274727200Z"
    }
   }
  },
  {
   "cell_type": "code",
   "execution_count": 6,
   "outputs": [],
   "source": [
    "# d = download.download()\n",
    "# d.download_all()"
   ],
   "metadata": {
    "collapsed": false,
    "ExecuteTime": {
     "end_time": "2023-05-11T16:22:29.308112900Z",
     "start_time": "2023-05-11T16:22:29.293267800Z"
    }
   }
  },
  {
   "cell_type": "code",
   "execution_count": 7,
   "outputs": [],
   "source": [
    "from ndf.datamining import datamining\n",
    "\n",
    "mining = datamining()\n",
    "\n",
    "mining.tulletprebon_calcs('2023-04-14')\n"
   ],
   "metadata": {
    "collapsed": false,
    "ExecuteTime": {
     "end_time": "2023-05-11T16:22:29.344100200Z",
     "start_time": "2023-05-11T16:22:29.306045100Z"
    }
   }
  },
  {
   "cell_type": "code",
   "execution_count": 8,
   "outputs": [
    {
     "name": "stdout",
     "output_type": "stream",
     "text": [
      "4 == 5  |  2023-04-28 00:00:00 | USDBRL NDF 28APR2023 BILATERAL\n",
      "5 == 5  |  2023-05-31 00:00:00 | USDBRL NDF 31MAY2023 BILATERAL\n"
     ]
    },
    {
     "data": {
      "text/plain": "                      Description     Volume Source       Class\n0  USDBRL NDF 14APR2023 BILATERAL  102000000    GFI      BROKEN\n1  USDBRL NDF 28APR2023 BILATERAL  402000000    GFI  BMF 5/2023\n2  USDBRL NDF 31MAY2023 BILATERAL  300000000    GFI         BMF\n3                             NaN  804000000    NaN       TOTAL",
      "text/html": "<div>\n<style scoped>\n    .dataframe tbody tr th:only-of-type {\n        vertical-align: middle;\n    }\n\n    .dataframe tbody tr th {\n        vertical-align: top;\n    }\n\n    .dataframe thead th {\n        text-align: right;\n    }\n</style>\n<table border=\"1\" class=\"dataframe\">\n  <thead>\n    <tr style=\"text-align: right;\">\n      <th></th>\n      <th>Description</th>\n      <th>Volume</th>\n      <th>Source</th>\n      <th>Class</th>\n    </tr>\n  </thead>\n  <tbody>\n    <tr>\n      <th>0</th>\n      <td>USDBRL NDF 14APR2023 BILATERAL</td>\n      <td>102000000</td>\n      <td>GFI</td>\n      <td>BROKEN</td>\n    </tr>\n    <tr>\n      <th>1</th>\n      <td>USDBRL NDF 28APR2023 BILATERAL</td>\n      <td>402000000</td>\n      <td>GFI</td>\n      <td>BMF 5/2023</td>\n    </tr>\n    <tr>\n      <th>2</th>\n      <td>USDBRL NDF 31MAY2023 BILATERAL</td>\n      <td>300000000</td>\n      <td>GFI</td>\n      <td>BMF</td>\n    </tr>\n    <tr>\n      <th>3</th>\n      <td>NaN</td>\n      <td>804000000</td>\n      <td>NaN</td>\n      <td>TOTAL</td>\n    </tr>\n  </tbody>\n</table>\n</div>"
     },
     "execution_count": 8,
     "metadata": {},
     "output_type": "execute_result"
    }
   ],
   "source": [
    "gfi = mining.gfi_calcs('2023-04-14', 'raw')\n",
    "gfi"
   ],
   "metadata": {
    "collapsed": false,
    "ExecuteTime": {
     "end_time": "2023-05-11T16:22:29.380801700Z",
     "start_time": "2023-05-11T16:22:29.336130500Z"
    }
   }
  },
  {
   "cell_type": "code",
   "execution_count": 9,
   "outputs": [
    {
     "name": "stdout",
     "output_type": "stream",
     "text": [
      "4 == 5  |  2023-04-28 00:00:00 | USDBRL NDF 28APR2023 BILATERAL\n",
      "5 == 5  |  2023-05-31 00:00:00 | USDBRL NDF 31MAY2023 BILATERAL\n"
     ]
    },
    {
     "data": {
      "text/plain": "           Total for human     Volume\nClass                                \nBMF                   300M  300000000\nBMF 5/2023            402M  402000000\nBROKEN                102M  102000000\nTOTAL                 804M  804000000",
      "text/html": "<div>\n<style scoped>\n    .dataframe tbody tr th:only-of-type {\n        vertical-align: middle;\n    }\n\n    .dataframe tbody tr th {\n        vertical-align: top;\n    }\n\n    .dataframe thead th {\n        text-align: right;\n    }\n</style>\n<table border=\"1\" class=\"dataframe\">\n  <thead>\n    <tr style=\"text-align: right;\">\n      <th></th>\n      <th>Total for human</th>\n      <th>Volume</th>\n    </tr>\n    <tr>\n      <th>Class</th>\n      <th></th>\n      <th></th>\n    </tr>\n  </thead>\n  <tbody>\n    <tr>\n      <th>BMF</th>\n      <td>300M</td>\n      <td>300000000</td>\n    </tr>\n    <tr>\n      <th>BMF 5/2023</th>\n      <td>402M</td>\n      <td>402000000</td>\n    </tr>\n    <tr>\n      <th>BROKEN</th>\n      <td>102M</td>\n      <td>102000000</td>\n    </tr>\n    <tr>\n      <th>TOTAL</th>\n      <td>804M</td>\n      <td>804000000</td>\n    </tr>\n  </tbody>\n</table>\n</div>"
     },
     "execution_count": 9,
     "metadata": {},
     "output_type": "execute_result"
    }
   ],
   "source": [
    "mining.gfi_calcs('2023-04-14')"
   ],
   "metadata": {
    "collapsed": false,
    "ExecuteTime": {
     "end_time": "2023-05-11T16:22:29.455429300Z",
     "start_time": "2023-05-11T16:22:29.365915100Z"
    }
   }
  },
  {
   "cell_type": "code",
   "execution_count": 10,
   "outputs": [
    {
     "name": "stdout",
     "output_type": "stream",
     "text": [
      "5 == 5  |  2023-05-31 00:00:00 | USDBRL NDF 31MAY2023 BILATERAL\n"
     ]
    },
    {
     "data": {
      "text/plain": "       Total for human      Volume\nClass                             \nBMF               655M   655000000\nBROKEN            707M   707000000\nTOTAL            1.36B  1362000000",
      "text/html": "<div>\n<style scoped>\n    .dataframe tbody tr th:only-of-type {\n        vertical-align: middle;\n    }\n\n    .dataframe tbody tr th {\n        vertical-align: top;\n    }\n\n    .dataframe thead th {\n        text-align: right;\n    }\n</style>\n<table border=\"1\" class=\"dataframe\">\n  <thead>\n    <tr style=\"text-align: right;\">\n      <th></th>\n      <th>Total for human</th>\n      <th>Volume</th>\n    </tr>\n    <tr>\n      <th>Class</th>\n      <th></th>\n      <th></th>\n    </tr>\n  </thead>\n  <tbody>\n    <tr>\n      <th>BMF</th>\n      <td>655M</td>\n      <td>655000000</td>\n    </tr>\n    <tr>\n      <th>BROKEN</th>\n      <td>707M</td>\n      <td>707000000</td>\n    </tr>\n    <tr>\n      <th>TOTAL</th>\n      <td>1.36B</td>\n      <td>1362000000</td>\n    </tr>\n  </tbody>\n</table>\n</div>"
     },
     "execution_count": 10,
     "metadata": {},
     "output_type": "execute_result"
    }
   ],
   "source": [
    "mining.gfi_calcs()"
   ],
   "metadata": {
    "collapsed": false,
    "ExecuteTime": {
     "end_time": "2023-05-11T16:22:29.510341900Z",
     "start_time": "2023-05-11T16:22:29.409041Z"
    }
   }
  },
  {
   "cell_type": "code",
   "execution_count": 11,
   "outputs": [
    {
     "name": "stdout",
     "output_type": "stream",
     "text": [
      "5 == 5  |  2023-05-31 00:00:00 | USDBRL NDF 31MAY2023 BILATERAL\n"
     ]
    },
    {
     "data": {
      "text/plain": "                      Description      Volume Source   Class\n0  USDBRL NDF 10MAY2023 BILATERAL   185000000    GFI  BROKEN\n1  USDBRL NDF 11MAY2023 BILATERAL   222000000    GFI  BROKEN\n2  USDBRL NDF 12MAY2023 BILATERAL    30000000    GFI  BROKEN\n3  USDBRL NDF 16MAY2023 BILATERAL    70000000    GFI  BROKEN\n4  USDBRL NDF 17MAY2023 BILATERAL    10000000    GFI  BROKEN\n5  USDBRL NDF 19MAY2023 BILATERAL   120000000    GFI  BROKEN\n6  USDBRL NDF 23MAY2023 BILATERAL    70000000    GFI  BROKEN\n7  USDBRL NDF 31MAY2023 BILATERAL   655000000    GFI     BMF\n8                             NaN  1362000000    NaN   TOTAL",
      "text/html": "<div>\n<style scoped>\n    .dataframe tbody tr th:only-of-type {\n        vertical-align: middle;\n    }\n\n    .dataframe tbody tr th {\n        vertical-align: top;\n    }\n\n    .dataframe thead th {\n        text-align: right;\n    }\n</style>\n<table border=\"1\" class=\"dataframe\">\n  <thead>\n    <tr style=\"text-align: right;\">\n      <th></th>\n      <th>Description</th>\n      <th>Volume</th>\n      <th>Source</th>\n      <th>Class</th>\n    </tr>\n  </thead>\n  <tbody>\n    <tr>\n      <th>0</th>\n      <td>USDBRL NDF 10MAY2023 BILATERAL</td>\n      <td>185000000</td>\n      <td>GFI</td>\n      <td>BROKEN</td>\n    </tr>\n    <tr>\n      <th>1</th>\n      <td>USDBRL NDF 11MAY2023 BILATERAL</td>\n      <td>222000000</td>\n      <td>GFI</td>\n      <td>BROKEN</td>\n    </tr>\n    <tr>\n      <th>2</th>\n      <td>USDBRL NDF 12MAY2023 BILATERAL</td>\n      <td>30000000</td>\n      <td>GFI</td>\n      <td>BROKEN</td>\n    </tr>\n    <tr>\n      <th>3</th>\n      <td>USDBRL NDF 16MAY2023 BILATERAL</td>\n      <td>70000000</td>\n      <td>GFI</td>\n      <td>BROKEN</td>\n    </tr>\n    <tr>\n      <th>4</th>\n      <td>USDBRL NDF 17MAY2023 BILATERAL</td>\n      <td>10000000</td>\n      <td>GFI</td>\n      <td>BROKEN</td>\n    </tr>\n    <tr>\n      <th>5</th>\n      <td>USDBRL NDF 19MAY2023 BILATERAL</td>\n      <td>120000000</td>\n      <td>GFI</td>\n      <td>BROKEN</td>\n    </tr>\n    <tr>\n      <th>6</th>\n      <td>USDBRL NDF 23MAY2023 BILATERAL</td>\n      <td>70000000</td>\n      <td>GFI</td>\n      <td>BROKEN</td>\n    </tr>\n    <tr>\n      <th>7</th>\n      <td>USDBRL NDF 31MAY2023 BILATERAL</td>\n      <td>655000000</td>\n      <td>GFI</td>\n      <td>BMF</td>\n    </tr>\n    <tr>\n      <th>8</th>\n      <td>NaN</td>\n      <td>1362000000</td>\n      <td>NaN</td>\n      <td>TOTAL</td>\n    </tr>\n  </tbody>\n</table>\n</div>"
     },
     "execution_count": 11,
     "metadata": {},
     "output_type": "execute_result"
    }
   ],
   "source": [
    "mining.gfi_calcs(presentation='raw')\n"
   ],
   "metadata": {
    "collapsed": false,
    "ExecuteTime": {
     "end_time": "2023-05-11T16:22:29.562841200Z",
     "start_time": "2023-05-11T16:22:29.427525100Z"
    }
   }
  },
  {
   "cell_type": "code",
   "execution_count": 12,
   "outputs": [
    {
     "name": "stdout",
     "output_type": "stream",
     "text": [
      "5 == 5  |  2023-05-31 00:00:00 | USDBRL NDF 31MAY2023 BILATERAL\n"
     ]
    },
    {
     "data": {
      "text/plain": "       Total for human      Volume\nClass                             \nBMF               655M   655000000\nBROKEN            707M   707000000\nTOTAL            1.36B  1362000000",
      "text/html": "<div>\n<style scoped>\n    .dataframe tbody tr th:only-of-type {\n        vertical-align: middle;\n    }\n\n    .dataframe tbody tr th {\n        vertical-align: top;\n    }\n\n    .dataframe thead th {\n        text-align: right;\n    }\n</style>\n<table border=\"1\" class=\"dataframe\">\n  <thead>\n    <tr style=\"text-align: right;\">\n      <th></th>\n      <th>Total for human</th>\n      <th>Volume</th>\n    </tr>\n    <tr>\n      <th>Class</th>\n      <th></th>\n      <th></th>\n    </tr>\n  </thead>\n  <tbody>\n    <tr>\n      <th>BMF</th>\n      <td>655M</td>\n      <td>655000000</td>\n    </tr>\n    <tr>\n      <th>BROKEN</th>\n      <td>707M</td>\n      <td>707000000</td>\n    </tr>\n    <tr>\n      <th>TOTAL</th>\n      <td>1.36B</td>\n      <td>1362000000</td>\n    </tr>\n  </tbody>\n</table>\n</div>"
     },
     "execution_count": 12,
     "metadata": {},
     "output_type": "execute_result"
    }
   ],
   "source": [
    "mining.gfi_calcs()"
   ],
   "metadata": {
    "collapsed": false,
    "ExecuteTime": {
     "end_time": "2023-05-11T16:22:29.562841200Z",
     "start_time": "2023-05-11T16:22:29.460413900Z"
    }
   }
  },
  {
   "cell_type": "code",
   "execution_count": 13,
   "outputs": [
    {
     "name": "stdout",
     "output_type": "stream",
     "text": [
      "5 == 5  |  2023-05-31 00:00:00 | USDBRL NDF 31MAY2023 BILATERAL\n",
      "3 == 5  |  2025-03-31 00:00:00 | USDBRL NDF 31MAR2025 BILATERAL\n"
     ]
    },
    {
     "data": {
      "text/plain": "           Total for human     Volume\nClass                                \nBMF                   338M  338000000\nBMF 4/2025             20M   20000000\nBROKEN                307M  307000000\nTOTAL                 665M  665000000",
      "text/html": "<div>\n<style scoped>\n    .dataframe tbody tr th:only-of-type {\n        vertical-align: middle;\n    }\n\n    .dataframe tbody tr th {\n        vertical-align: top;\n    }\n\n    .dataframe thead th {\n        text-align: right;\n    }\n</style>\n<table border=\"1\" class=\"dataframe\">\n  <thead>\n    <tr style=\"text-align: right;\">\n      <th></th>\n      <th>Total for human</th>\n      <th>Volume</th>\n    </tr>\n    <tr>\n      <th>Class</th>\n      <th></th>\n      <th></th>\n    </tr>\n  </thead>\n  <tbody>\n    <tr>\n      <th>BMF</th>\n      <td>338M</td>\n      <td>338000000</td>\n    </tr>\n    <tr>\n      <th>BMF 4/2025</th>\n      <td>20M</td>\n      <td>20000000</td>\n    </tr>\n    <tr>\n      <th>BROKEN</th>\n      <td>307M</td>\n      <td>307000000</td>\n    </tr>\n    <tr>\n      <th>TOTAL</th>\n      <td>665M</td>\n      <td>665000000</td>\n    </tr>\n  </tbody>\n</table>\n</div>"
     },
     "execution_count": 13,
     "metadata": {},
     "output_type": "execute_result"
    }
   ],
   "source": [
    "mining.bgc_calcs()"
   ],
   "metadata": {
    "collapsed": false,
    "ExecuteTime": {
     "end_time": "2023-05-11T16:22:29.562841200Z",
     "start_time": "2023-05-11T16:22:29.489280700Z"
    }
   }
  },
  {
   "cell_type": "code",
   "execution_count": 14,
   "outputs": [
    {
     "name": "stdout",
     "output_type": "stream",
     "text": [
      "5 == 5  |  2023-05-31 00:00:00 | USDBRL NDF 31MAY2023 BILATERAL\n",
      "3 == 5  |  2025-03-31 00:00:00 | USDBRL NDF 31MAR2025 BILATERAL\n"
     ]
    },
    {
     "data": {
      "text/plain": "   Trade Date                     Description OpenType LowType HighType  \\\n0  2023-05-10  USDBRL NDF 10MAY2023 BILATERAL    TRANS   TRANS    TRANS   \n1  2023-05-10  USDBRL NDF 11MAY2023 BILATERAL    TRANS   TRANS    TRANS   \n2  2023-05-10  USDBRL NDF 31MAY2023 BILATERAL    TRANS   TRANS    TRANS   \n3  2023-05-10  USDBRL NDF 16JUN2023 BILATERAL    TRANS   TRANS    TRANS   \n4  2023-05-10  USDBRL NDF 31MAR2025 BILATERAL    TRANS   TRANS    TRANS   \n5         NaN                             NaN      NaN     NaN      NaN   \n\n  CloseType EDRPVolume     Volume Source       Class  \n0     TRANS        NaN  187000000    BGC      BROKEN  \n1     TRANS        NaN   45000000    BGC      BROKEN  \n2     TRANS        NaN  338000000    BGC         BMF  \n3     TRANS        NaN   75000000    BGC      BROKEN  \n4     TRANS        NaN   20000000    BGC  BMF 4/2025  \n5       NaN        NaN  665000000    NaN       TOTAL  ",
      "text/html": "<div>\n<style scoped>\n    .dataframe tbody tr th:only-of-type {\n        vertical-align: middle;\n    }\n\n    .dataframe tbody tr th {\n        vertical-align: top;\n    }\n\n    .dataframe thead th {\n        text-align: right;\n    }\n</style>\n<table border=\"1\" class=\"dataframe\">\n  <thead>\n    <tr style=\"text-align: right;\">\n      <th></th>\n      <th>Trade Date</th>\n      <th>Description</th>\n      <th>OpenType</th>\n      <th>LowType</th>\n      <th>HighType</th>\n      <th>CloseType</th>\n      <th>EDRPVolume</th>\n      <th>Volume</th>\n      <th>Source</th>\n      <th>Class</th>\n    </tr>\n  </thead>\n  <tbody>\n    <tr>\n      <th>0</th>\n      <td>2023-05-10</td>\n      <td>USDBRL NDF 10MAY2023 BILATERAL</td>\n      <td>TRANS</td>\n      <td>TRANS</td>\n      <td>TRANS</td>\n      <td>TRANS</td>\n      <td>NaN</td>\n      <td>187000000</td>\n      <td>BGC</td>\n      <td>BROKEN</td>\n    </tr>\n    <tr>\n      <th>1</th>\n      <td>2023-05-10</td>\n      <td>USDBRL NDF 11MAY2023 BILATERAL</td>\n      <td>TRANS</td>\n      <td>TRANS</td>\n      <td>TRANS</td>\n      <td>TRANS</td>\n      <td>NaN</td>\n      <td>45000000</td>\n      <td>BGC</td>\n      <td>BROKEN</td>\n    </tr>\n    <tr>\n      <th>2</th>\n      <td>2023-05-10</td>\n      <td>USDBRL NDF 31MAY2023 BILATERAL</td>\n      <td>TRANS</td>\n      <td>TRANS</td>\n      <td>TRANS</td>\n      <td>TRANS</td>\n      <td>NaN</td>\n      <td>338000000</td>\n      <td>BGC</td>\n      <td>BMF</td>\n    </tr>\n    <tr>\n      <th>3</th>\n      <td>2023-05-10</td>\n      <td>USDBRL NDF 16JUN2023 BILATERAL</td>\n      <td>TRANS</td>\n      <td>TRANS</td>\n      <td>TRANS</td>\n      <td>TRANS</td>\n      <td>NaN</td>\n      <td>75000000</td>\n      <td>BGC</td>\n      <td>BROKEN</td>\n    </tr>\n    <tr>\n      <th>4</th>\n      <td>2023-05-10</td>\n      <td>USDBRL NDF 31MAR2025 BILATERAL</td>\n      <td>TRANS</td>\n      <td>TRANS</td>\n      <td>TRANS</td>\n      <td>TRANS</td>\n      <td>NaN</td>\n      <td>20000000</td>\n      <td>BGC</td>\n      <td>BMF 4/2025</td>\n    </tr>\n    <tr>\n      <th>5</th>\n      <td>NaN</td>\n      <td>NaN</td>\n      <td>NaN</td>\n      <td>NaN</td>\n      <td>NaN</td>\n      <td>NaN</td>\n      <td>NaN</td>\n      <td>665000000</td>\n      <td>NaN</td>\n      <td>TOTAL</td>\n    </tr>\n  </tbody>\n</table>\n</div>"
     },
     "execution_count": 14,
     "metadata": {},
     "output_type": "execute_result"
    }
   ],
   "source": [
    "mining.bgc_calcs(presentation='raw')"
   ],
   "metadata": {
    "collapsed": false,
    "ExecuteTime": {
     "end_time": "2023-05-11T16:22:29.661743200Z",
     "start_time": "2023-05-11T16:22:29.519455900Z"
    }
   }
  },
  {
   "cell_type": "code",
   "execution_count": 15,
   "outputs": [
    {
     "data": {
      "text/plain": "       Total for human  Total_Trade_Count\nClass                                    \nBMF                30M                2.0\nBROKEN            135M                6.0\nTOTAL             165M                0.0",
      "text/html": "<div>\n<style scoped>\n    .dataframe tbody tr th:only-of-type {\n        vertical-align: middle;\n    }\n\n    .dataframe tbody tr th {\n        vertical-align: top;\n    }\n\n    .dataframe thead th {\n        text-align: right;\n    }\n</style>\n<table border=\"1\" class=\"dataframe\">\n  <thead>\n    <tr style=\"text-align: right;\">\n      <th></th>\n      <th>Total for human</th>\n      <th>Total_Trade_Count</th>\n    </tr>\n    <tr>\n      <th>Class</th>\n      <th></th>\n      <th></th>\n    </tr>\n  </thead>\n  <tbody>\n    <tr>\n      <th>BMF</th>\n      <td>30M</td>\n      <td>2.0</td>\n    </tr>\n    <tr>\n      <th>BROKEN</th>\n      <td>135M</td>\n      <td>6.0</td>\n    </tr>\n    <tr>\n      <th>TOTAL</th>\n      <td>165M</td>\n      <td>0.0</td>\n    </tr>\n  </tbody>\n</table>\n</div>"
     },
     "execution_count": 15,
     "metadata": {},
     "output_type": "execute_result"
    }
   ],
   "source": [
    "mining.tradition_calcs()"
   ],
   "metadata": {
    "collapsed": false,
    "ExecuteTime": {
     "end_time": "2023-05-11T16:22:29.780962600Z",
     "start_time": "2023-05-11T16:22:29.550525200Z"
    }
   }
  },
  {
   "cell_type": "markdown",
   "source": [],
   "metadata": {
    "collapsed": false
   }
  },
  {
   "cell_type": "code",
   "execution_count": 16,
   "outputs": [
    {
     "data": {
      "text/plain": "         Total for human  Num of Trades   Days  Total Notional Value\nClass                                                               \nBMF1               1.55B           35.0   42.0          1.548200e+09\nBMF3                166M            3.0   82.0          1.660000e+08\nBROKEN              207M            3.0   18.0          2.070000e+08\nLONGER              750M           12.0  634.0          7.500000e+08\nMATURING         124.25M           66.0    0.0          1.242500e+08\nPTAX                 82M            7.0    0.0          8.200000e+07\nTOMPTAX             213M           10.0    0.0          2.130000e+08\nTOTAL              3.09B            0.0    0.0          3.090450e+09",
      "text/html": "<div>\n<style scoped>\n    .dataframe tbody tr th:only-of-type {\n        vertical-align: middle;\n    }\n\n    .dataframe tbody tr th {\n        vertical-align: top;\n    }\n\n    .dataframe thead th {\n        text-align: right;\n    }\n</style>\n<table border=\"1\" class=\"dataframe\">\n  <thead>\n    <tr style=\"text-align: right;\">\n      <th></th>\n      <th>Total for human</th>\n      <th>Num of Trades</th>\n      <th>Days</th>\n      <th>Total Notional Value</th>\n    </tr>\n    <tr>\n      <th>Class</th>\n      <th></th>\n      <th></th>\n      <th></th>\n      <th></th>\n    </tr>\n  </thead>\n  <tbody>\n    <tr>\n      <th>BMF1</th>\n      <td>1.55B</td>\n      <td>35.0</td>\n      <td>42.0</td>\n      <td>1.548200e+09</td>\n    </tr>\n    <tr>\n      <th>BMF3</th>\n      <td>166M</td>\n      <td>3.0</td>\n      <td>82.0</td>\n      <td>1.660000e+08</td>\n    </tr>\n    <tr>\n      <th>BROKEN</th>\n      <td>207M</td>\n      <td>3.0</td>\n      <td>18.0</td>\n      <td>2.070000e+08</td>\n    </tr>\n    <tr>\n      <th>LONGER</th>\n      <td>750M</td>\n      <td>12.0</td>\n      <td>634.0</td>\n      <td>7.500000e+08</td>\n    </tr>\n    <tr>\n      <th>MATURING</th>\n      <td>124.25M</td>\n      <td>66.0</td>\n      <td>0.0</td>\n      <td>1.242500e+08</td>\n    </tr>\n    <tr>\n      <th>PTAX</th>\n      <td>82M</td>\n      <td>7.0</td>\n      <td>0.0</td>\n      <td>8.200000e+07</td>\n    </tr>\n    <tr>\n      <th>TOMPTAX</th>\n      <td>213M</td>\n      <td>10.0</td>\n      <td>0.0</td>\n      <td>2.130000e+08</td>\n    </tr>\n    <tr>\n      <th>TOTAL</th>\n      <td>3.09B</td>\n      <td>0.0</td>\n      <td>0.0</td>\n      <td>3.090450e+09</td>\n    </tr>\n  </tbody>\n</table>\n</div>"
     },
     "execution_count": 16,
     "metadata": {},
     "output_type": "execute_result"
    }
   ],
   "source": [
    "mining.tulletprebon_calcs()"
   ],
   "metadata": {
    "collapsed": false,
    "ExecuteTime": {
     "end_time": "2023-05-11T16:22:29.850407200Z",
     "start_time": "2023-05-11T16:22:29.675377700Z"
    }
   }
  },
  {
   "cell_type": "markdown",
   "source": [],
   "metadata": {
    "collapsed": false
   }
  },
  {
   "cell_type": "code",
   "execution_count": 17,
   "outputs": [
    {
     "data": {
      "text/plain": "datetime.datetime(2023, 5, 31, 0, 0)"
     },
     "execution_count": 17,
     "metadata": {},
     "output_type": "execute_result"
    }
   ],
   "source": [
    "from datetime import datetime\n",
    "\n",
    "test_date = gfi.iloc[2]['Description'].split(' ')[2]\n",
    "test_date = datetime.strptime(test_date, \"%d%b%Y\")\n",
    "test_date\n",
    "\n"
   ],
   "metadata": {
    "collapsed": false,
    "ExecuteTime": {
     "end_time": "2023-05-11T16:22:29.850407200Z",
     "start_time": "2023-05-11T16:22:29.705508700Z"
    }
   }
  },
  {
   "cell_type": "code",
   "execution_count": 18,
   "outputs": [
    {
     "name": "stdout",
     "output_type": "stream",
     "text": [
      "5 == 5\n",
      "bmf1\n"
     ]
    }
   ],
   "source": [
    "today = datetime.today()\n",
    "\n",
    "print(f'{today.month} == {test_date.month}')\n",
    "\n",
    "if today.month == test_date.month:\n",
    "    print('bmf1')"
   ],
   "metadata": {
    "collapsed": false,
    "ExecuteTime": {
     "end_time": "2023-05-11T16:22:29.910369200Z",
     "start_time": "2023-05-11T16:22:29.721413400Z"
    }
   }
  },
  {
   "cell_type": "code",
   "execution_count": 19,
   "outputs": [
    {
     "data": {
      "text/plain": "int"
     },
     "execution_count": 19,
     "metadata": {},
     "output_type": "execute_result"
    }
   ],
   "source": [
    "type(today.month)"
   ],
   "metadata": {
    "collapsed": false,
    "ExecuteTime": {
     "end_time": "2023-05-11T16:22:29.993867900Z",
     "start_time": "2023-05-11T16:22:29.736259400Z"
    }
   }
  },
  {
   "cell_type": "code",
   "execution_count": 20,
   "outputs": [
    {
     "name": "stdout",
     "output_type": "stream",
     "text": [
      "2023-05-31 00:00:00\n",
      "2023-05-31 00:00:00\n",
      "BMF\n"
     ]
    }
   ],
   "source": [
    "from ndf.util import get_last_bd\n",
    "\n",
    "print(test_date)\n",
    "print(get_last_bd(test_date))\n",
    "\n",
    "if test_date == get_last_bd(test_date):\n",
    "    print('BMF')\n",
    "\n",
    "# datetime.strptime('2023-05-01', '%Y-%m-%d') + BMonthEnd()"
   ],
   "metadata": {
    "collapsed": false,
    "ExecuteTime": {
     "end_time": "2023-05-11T16:22:29.993867900Z",
     "start_time": "2023-05-11T16:22:29.751292700Z"
    }
   }
  },
  {
   "cell_type": "code",
   "execution_count": 21,
   "outputs": [
    {
     "data": {
      "text/plain": "Timestamp('2023-06-02 12:22:29.768242')"
     },
     "execution_count": 21,
     "metadata": {},
     "output_type": "execute_result"
    }
   ],
   "source": [
    "from datetime import timedelta\n",
    "from ndf.util import get_second_business_day\n",
    "from pandas._libs.tslibs.offsets import BDay\n",
    "\n",
    "test_date = test_date + timedelta(days=2)\n",
    "get_second_business_day(test_date.strftime('%m'), test_date.strftime('%Y'))\n",
    "\n"
   ],
   "metadata": {
    "collapsed": false,
    "ExecuteTime": {
     "end_time": "2023-05-11T16:22:30.153002500Z",
     "start_time": "2023-05-11T16:22:29.768242400Z"
    }
   }
  },
  {
   "cell_type": "code",
   "execution_count": 22,
   "outputs": [
    {
     "data": {
      "text/plain": "'06'"
     },
     "execution_count": 22,
     "metadata": {},
     "output_type": "execute_result"
    }
   ],
   "source": [
    "test_date.strftime('%m')"
   ],
   "metadata": {
    "collapsed": false,
    "ExecuteTime": {
     "end_time": "2023-05-11T16:22:30.183609Z",
     "start_time": "2023-05-11T16:22:29.814778800Z"
    }
   }
  },
  {
   "cell_type": "code",
   "execution_count": 23,
   "outputs": [
    {
     "name": "stdout",
     "output_type": "stream",
     "text": [
      "4 == 5  |  2023-04-28 00:00:00 | USDBRL NDF 28APR2023 BILATERAL\n"
     ]
    },
    {
     "data": {
      "text/plain": "           Total for human     Volume\nClass                                \nBMF 5/2023          163.5M  163500000\nBROKEN              113.5M  113500000\nTOTAL                 277M  277000000",
      "text/html": "<div>\n<style scoped>\n    .dataframe tbody tr th:only-of-type {\n        vertical-align: middle;\n    }\n\n    .dataframe tbody tr th {\n        vertical-align: top;\n    }\n\n    .dataframe thead th {\n        text-align: right;\n    }\n</style>\n<table border=\"1\" class=\"dataframe\">\n  <thead>\n    <tr style=\"text-align: right;\">\n      <th></th>\n      <th>Total for human</th>\n      <th>Volume</th>\n    </tr>\n    <tr>\n      <th>Class</th>\n      <th></th>\n      <th></th>\n    </tr>\n  </thead>\n  <tbody>\n    <tr>\n      <th>BMF 5/2023</th>\n      <td>163.5M</td>\n      <td>163500000</td>\n    </tr>\n    <tr>\n      <th>BROKEN</th>\n      <td>113.5M</td>\n      <td>113500000</td>\n    </tr>\n    <tr>\n      <th>TOTAL</th>\n      <td>277M</td>\n      <td>277000000</td>\n    </tr>\n  </tbody>\n</table>\n</div>"
     },
     "execution_count": 23,
     "metadata": {},
     "output_type": "execute_result"
    }
   ],
   "source": [
    "\n",
    "mining.gfi_calcs('2023-04-10')"
   ],
   "metadata": {
    "collapsed": false,
    "ExecuteTime": {
     "end_time": "2023-05-11T16:22:30.214863900Z",
     "start_time": "2023-05-11T16:22:29.829435700Z"
    }
   }
  },
  {
   "cell_type": "code",
   "execution_count": 24,
   "outputs": [
    {
     "name": "stdout",
     "output_type": "stream",
     "text": [
      "4 == 5  |  2023-04-28 00:00:00 | USDBRL NDF 28APR2023 BILATERAL\n"
     ]
    },
    {
     "data": {
      "text/plain": "                      Description     Volume Source       Class\n0  USDBRL NDF 10APR2023 BILATERAL  113500000    GFI      BROKEN\n1  USDBRL NDF 28APR2023 BILATERAL  163500000    GFI  BMF 5/2023\n2                             NaN  277000000    NaN       TOTAL",
      "text/html": "<div>\n<style scoped>\n    .dataframe tbody tr th:only-of-type {\n        vertical-align: middle;\n    }\n\n    .dataframe tbody tr th {\n        vertical-align: top;\n    }\n\n    .dataframe thead th {\n        text-align: right;\n    }\n</style>\n<table border=\"1\" class=\"dataframe\">\n  <thead>\n    <tr style=\"text-align: right;\">\n      <th></th>\n      <th>Description</th>\n      <th>Volume</th>\n      <th>Source</th>\n      <th>Class</th>\n    </tr>\n  </thead>\n  <tbody>\n    <tr>\n      <th>0</th>\n      <td>USDBRL NDF 10APR2023 BILATERAL</td>\n      <td>113500000</td>\n      <td>GFI</td>\n      <td>BROKEN</td>\n    </tr>\n    <tr>\n      <th>1</th>\n      <td>USDBRL NDF 28APR2023 BILATERAL</td>\n      <td>163500000</td>\n      <td>GFI</td>\n      <td>BMF 5/2023</td>\n    </tr>\n    <tr>\n      <th>2</th>\n      <td>NaN</td>\n      <td>277000000</td>\n      <td>NaN</td>\n      <td>TOTAL</td>\n    </tr>\n  </tbody>\n</table>\n</div>"
     },
     "execution_count": 24,
     "metadata": {},
     "output_type": "execute_result"
    }
   ],
   "source": [
    "mining.gfi_calcs('2023-04-10', 'raw')"
   ],
   "metadata": {
    "collapsed": false,
    "ExecuteTime": {
     "end_time": "2023-05-11T16:22:30.288954Z",
     "start_time": "2023-05-11T16:22:29.860830700Z"
    }
   }
  },
  {
   "cell_type": "code",
   "execution_count": 25,
   "outputs": [
    {
     "name": "stdout",
     "output_type": "stream",
     "text": [
      "5 == 5  |  2023-05-31 00:00:00 | USDBRL NDF 31MAY2023 BILATERAL\n"
     ]
    },
    {
     "data": {
      "text/plain": "       Total for human      Volume\nClass                             \nBMF               655M   655000000\nBROKEN            707M   707000000\nTOTAL            1.36B  1362000000",
      "text/html": "<div>\n<style scoped>\n    .dataframe tbody tr th:only-of-type {\n        vertical-align: middle;\n    }\n\n    .dataframe tbody tr th {\n        vertical-align: top;\n    }\n\n    .dataframe thead th {\n        text-align: right;\n    }\n</style>\n<table border=\"1\" class=\"dataframe\">\n  <thead>\n    <tr style=\"text-align: right;\">\n      <th></th>\n      <th>Total for human</th>\n      <th>Volume</th>\n    </tr>\n    <tr>\n      <th>Class</th>\n      <th></th>\n      <th></th>\n    </tr>\n  </thead>\n  <tbody>\n    <tr>\n      <th>BMF</th>\n      <td>655M</td>\n      <td>655000000</td>\n    </tr>\n    <tr>\n      <th>BROKEN</th>\n      <td>707M</td>\n      <td>707000000</td>\n    </tr>\n    <tr>\n      <th>TOTAL</th>\n      <td>1.36B</td>\n      <td>1362000000</td>\n    </tr>\n  </tbody>\n</table>\n</div>"
     },
     "execution_count": 25,
     "metadata": {},
     "output_type": "execute_result"
    }
   ],
   "source": [
    "mining.gfi_calcs()"
   ],
   "metadata": {
    "collapsed": false,
    "ExecuteTime": {
     "end_time": "2023-05-11T16:22:30.307564300Z",
     "start_time": "2023-05-11T16:22:29.893329Z"
    }
   }
  },
  {
   "cell_type": "code",
   "execution_count": 26,
   "outputs": [
    {
     "data": {
      "text/plain": "       Total for human  Total_Trade_Count\nClass                                    \nBMF                30M                1.0\nBROKEN             30M                1.0\nTOTAL              60M                0.0",
      "text/html": "<div>\n<style scoped>\n    .dataframe tbody tr th:only-of-type {\n        vertical-align: middle;\n    }\n\n    .dataframe tbody tr th {\n        vertical-align: top;\n    }\n\n    .dataframe thead th {\n        text-align: right;\n    }\n</style>\n<table border=\"1\" class=\"dataframe\">\n  <thead>\n    <tr style=\"text-align: right;\">\n      <th></th>\n      <th>Total for human</th>\n      <th>Total_Trade_Count</th>\n    </tr>\n    <tr>\n      <th>Class</th>\n      <th></th>\n      <th></th>\n    </tr>\n  </thead>\n  <tbody>\n    <tr>\n      <th>BMF</th>\n      <td>30M</td>\n      <td>1.0</td>\n    </tr>\n    <tr>\n      <th>BROKEN</th>\n      <td>30M</td>\n      <td>1.0</td>\n    </tr>\n    <tr>\n      <th>TOTAL</th>\n      <td>60M</td>\n      <td>0.0</td>\n    </tr>\n  </tbody>\n</table>\n</div>"
     },
     "execution_count": 26,
     "metadata": {},
     "output_type": "execute_result"
    }
   ],
   "source": [
    "mining.tradition_calcs('2023-04-14')"
   ],
   "metadata": {
    "collapsed": false,
    "ExecuteTime": {
     "end_time": "2023-05-11T16:22:30.387552300Z",
     "start_time": "2023-05-11T16:22:29.926313500Z"
    }
   }
  },
  {
   "cell_type": "code",
   "execution_count": 27,
   "outputs": [
    {
     "data": {
      "text/plain": "       Total for human  Total_Trade_Count\nClass                                    \nBMF                30M                2.0\nBROKEN            135M                6.0\nTOTAL             165M                0.0",
      "text/html": "<div>\n<style scoped>\n    .dataframe tbody tr th:only-of-type {\n        vertical-align: middle;\n    }\n\n    .dataframe tbody tr th {\n        vertical-align: top;\n    }\n\n    .dataframe thead th {\n        text-align: right;\n    }\n</style>\n<table border=\"1\" class=\"dataframe\">\n  <thead>\n    <tr style=\"text-align: right;\">\n      <th></th>\n      <th>Total for human</th>\n      <th>Total_Trade_Count</th>\n    </tr>\n    <tr>\n      <th>Class</th>\n      <th></th>\n      <th></th>\n    </tr>\n  </thead>\n  <tbody>\n    <tr>\n      <th>BMF</th>\n      <td>30M</td>\n      <td>2.0</td>\n    </tr>\n    <tr>\n      <th>BROKEN</th>\n      <td>135M</td>\n      <td>6.0</td>\n    </tr>\n    <tr>\n      <th>TOTAL</th>\n      <td>165M</td>\n      <td>0.0</td>\n    </tr>\n  </tbody>\n</table>\n</div>"
     },
     "execution_count": 27,
     "metadata": {},
     "output_type": "execute_result"
    }
   ],
   "source": [
    "mining.tradition_calcs()\n"
   ],
   "metadata": {
    "collapsed": false,
    "ExecuteTime": {
     "end_time": "2023-05-11T16:22:30.481301900Z",
     "start_time": "2023-05-11T16:22:30.036009500Z"
    }
   }
  },
  {
   "cell_type": "code",
   "execution_count": 28,
   "outputs": [
    {
     "name": "stdout",
     "output_type": "stream",
     "text": [
      "5 == 5  |  2023-05-31 00:00:00 | USDBRL NDF 31MAY2023 BILATERAL\n",
      "3 == 5  |  2025-03-31 00:00:00 | USDBRL NDF 31MAR2025 BILATERAL\n"
     ]
    },
    {
     "data": {
      "text/plain": "           Total for human     Volume\nClass                                \nBMF                   338M  338000000\nBMF 4/2025             20M   20000000\nBROKEN                307M  307000000\nTOTAL                 665M  665000000",
      "text/html": "<div>\n<style scoped>\n    .dataframe tbody tr th:only-of-type {\n        vertical-align: middle;\n    }\n\n    .dataframe tbody tr th {\n        vertical-align: top;\n    }\n\n    .dataframe thead th {\n        text-align: right;\n    }\n</style>\n<table border=\"1\" class=\"dataframe\">\n  <thead>\n    <tr style=\"text-align: right;\">\n      <th></th>\n      <th>Total for human</th>\n      <th>Volume</th>\n    </tr>\n    <tr>\n      <th>Class</th>\n      <th></th>\n      <th></th>\n    </tr>\n  </thead>\n  <tbody>\n    <tr>\n      <th>BMF</th>\n      <td>338M</td>\n      <td>338000000</td>\n    </tr>\n    <tr>\n      <th>BMF 4/2025</th>\n      <td>20M</td>\n      <td>20000000</td>\n    </tr>\n    <tr>\n      <th>BROKEN</th>\n      <td>307M</td>\n      <td>307000000</td>\n    </tr>\n    <tr>\n      <th>TOTAL</th>\n      <td>665M</td>\n      <td>665000000</td>\n    </tr>\n  </tbody>\n</table>\n</div>"
     },
     "execution_count": 28,
     "metadata": {},
     "output_type": "execute_result"
    }
   ],
   "source": [
    "mining.bgc_calcs()\n"
   ],
   "metadata": {
    "collapsed": false,
    "ExecuteTime": {
     "end_time": "2023-05-11T16:22:30.542438200Z",
     "start_time": "2023-05-11T16:22:30.176632200Z"
    }
   }
  },
  {
   "cell_type": "code",
   "execution_count": 29,
   "outputs": [
    {
     "name": "stdout",
     "output_type": "stream",
     "text": [
      "5 == 5  |  2023-05-31 00:00:00 | USDBRL NDF 31MAY2023 BILATERAL\n"
     ]
    },
    {
     "data": {
      "text/plain": "       Total for human      Volume\nClass                             \nBMF               655M   655000000\nBROKEN            707M   707000000\nTOTAL            1.36B  1362000000",
      "text/html": "<div>\n<style scoped>\n    .dataframe tbody tr th:only-of-type {\n        vertical-align: middle;\n    }\n\n    .dataframe tbody tr th {\n        vertical-align: top;\n    }\n\n    .dataframe thead th {\n        text-align: right;\n    }\n</style>\n<table border=\"1\" class=\"dataframe\">\n  <thead>\n    <tr style=\"text-align: right;\">\n      <th></th>\n      <th>Total for human</th>\n      <th>Volume</th>\n    </tr>\n    <tr>\n      <th>Class</th>\n      <th></th>\n      <th></th>\n    </tr>\n  </thead>\n  <tbody>\n    <tr>\n      <th>BMF</th>\n      <td>655M</td>\n      <td>655000000</td>\n    </tr>\n    <tr>\n      <th>BROKEN</th>\n      <td>707M</td>\n      <td>707000000</td>\n    </tr>\n    <tr>\n      <th>TOTAL</th>\n      <td>1.36B</td>\n      <td>1362000000</td>\n    </tr>\n  </tbody>\n</table>\n</div>"
     },
     "execution_count": 29,
     "metadata": {},
     "output_type": "execute_result"
    }
   ],
   "source": [
    "mining.gfi_calcs()"
   ],
   "metadata": {
    "collapsed": false,
    "ExecuteTime": {
     "end_time": "2023-05-11T16:22:30.550522500Z",
     "start_time": "2023-05-11T16:22:30.214863900Z"
    }
   }
  },
  {
   "cell_type": "code",
   "execution_count": 30,
   "outputs": [
    {
     "data": {
      "text/plain": "True"
     },
     "execution_count": 30,
     "metadata": {},
     "output_type": "execute_result"
    }
   ],
   "source": [
    "from pathlib import Path\n",
    "from ndf.util import get_cache_filename\n",
    "\n",
    "Path(get_cache_filename('gfi')).is_file()"
   ],
   "metadata": {
    "collapsed": false,
    "ExecuteTime": {
     "end_time": "2023-05-11T16:22:30.572873400Z",
     "start_time": "2023-05-11T16:22:30.235432700Z"
    }
   }
  },
  {
   "cell_type": "code",
   "execution_count": 31,
   "outputs": [
    {
     "name": "stdout",
     "output_type": "stream",
     "text": [
      "bgc ok\n",
      "tradition ok\n",
      "prebontullet ok\n",
      "gfi ok\n"
     ]
    }
   ],
   "source": [
    "\n",
    "\n",
    "d = ndf.download.download()\n",
    "d.download_all()"
   ],
   "metadata": {
    "collapsed": false,
    "ExecuteTime": {
     "end_time": "2023-05-11T16:22:30.577087900Z",
     "start_time": "2023-05-11T16:22:30.283970800Z"
    }
   }
  },
  {
   "cell_type": "code",
   "execution_count": 32,
   "outputs": [
    {
     "data": {
      "text/plain": "       Total for human  Total_Trade_Count\nClass                                    \nBMF                30M                2.0\nBROKEN            135M                6.0\nTOTAL             165M                0.0",
      "text/html": "<div>\n<style scoped>\n    .dataframe tbody tr th:only-of-type {\n        vertical-align: middle;\n    }\n\n    .dataframe tbody tr th {\n        vertical-align: top;\n    }\n\n    .dataframe thead th {\n        text-align: right;\n    }\n</style>\n<table border=\"1\" class=\"dataframe\">\n  <thead>\n    <tr style=\"text-align: right;\">\n      <th></th>\n      <th>Total for human</th>\n      <th>Total_Trade_Count</th>\n    </tr>\n    <tr>\n      <th>Class</th>\n      <th></th>\n      <th></th>\n    </tr>\n  </thead>\n  <tbody>\n    <tr>\n      <th>BMF</th>\n      <td>30M</td>\n      <td>2.0</td>\n    </tr>\n    <tr>\n      <th>BROKEN</th>\n      <td>135M</td>\n      <td>6.0</td>\n    </tr>\n    <tr>\n      <th>TOTAL</th>\n      <td>165M</td>\n      <td>0.0</td>\n    </tr>\n  </tbody>\n</table>\n</div>"
     },
     "execution_count": 32,
     "metadata": {},
     "output_type": "execute_result"
    }
   ],
   "source": [
    "mining.tradition_calcs()"
   ],
   "metadata": {
    "collapsed": false,
    "ExecuteTime": {
     "end_time": "2023-05-11T16:22:30.586389500Z",
     "start_time": "2023-05-11T16:22:30.283970800Z"
    }
   }
  },
  {
   "cell_type": "markdown",
   "source": [
    "def get_business_day(date, business_day):\n",
    "    # fazer a magica aqui\n",
    "    # ...\n",
    "    #...\n",
    "    return datetime.strftime(resultado)\n",
    "\n"
   ],
   "metadata": {
    "collapsed": false
   }
  },
  {
   "cell_type": "markdown",
   "source": [
    "data = datetime.strptime('2023-07-04', \"%Y-%m-%d\")\n",
    "\n",
    "get_business_day(data, 2)\n"
   ],
   "metadata": {
    "collapsed": false
   }
  }
 ],
 "metadata": {
  "kernelspec": {
   "display_name": "Python 3",
   "language": "python",
   "name": "python3"
  },
  "language_info": {
   "codemirror_mode": {
    "name": "ipython",
    "version": 2
   },
   "file_extension": ".py",
   "mimetype": "text/x-python",
   "name": "python",
   "nbconvert_exporter": "python",
   "pygments_lexer": "ipython2",
   "version": "2.7.6"
  }
 },
 "nbformat": 4,
 "nbformat_minor": 0
}
