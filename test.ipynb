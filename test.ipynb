{
 "cells": [
  {
   "cell_type": "code",
   "execution_count": 1,
   "metadata": {
    "collapsed": true,
    "ExecuteTime": {
     "start_time": "2023-05-02T19:40:06.027095Z",
     "end_time": "2023-05-02T19:40:07.509078Z"
    }
   },
   "outputs": [],
   "source": [
    "from loguru import logger\n",
    "\n",
    "from ndf.download import ndf"
   ]
  },
  {
   "cell_type": "code",
   "execution_count": 2,
   "outputs": [
    {
     "name": "stderr",
     "output_type": "stream",
     "text": [
      "2023-05-02 19:42:07.602 | INFO     | __main__:<module>:1 - Starting service\n",
      "2023-05-02 19:42:07.608 | INFO     | ndf.download:_download:84 - Loaded BGC DATA from cache DATA\\BGC_2023-05-02.pkl\n",
      "2023-05-02 19:42:07.612 | INFO     | ndf.download:_download:84 - Loaded TRADITION DATA from cache DATA\\TRADITION_2023-05-02.pkl\n",
      "2023-05-02 19:42:07.615 | INFO     | ndf.download:_download:84 - Loaded TULLETPREBON DATA from cache DATA\\TULLETPREBON_2023-05-02.pkl\n",
      "2023-05-02 19:42:07.617 | INFO     | ndf.download:_download:84 - Loaded GFI DATA from cache DATA\\GFI_2023-05-02.pkl\n"
     ]
    }
   ],
   "source": [
    "logger.info(\"Starting service\")\n",
    "\n",
    "n = ndf()\n",
    "\n",
    "n.download_all()\n"
   ],
   "metadata": {
    "collapsed": false,
    "ExecuteTime": {
     "start_time": "2023-05-02T19:40:07.514076Z",
     "end_time": "2023-05-02T19:40:07.567499Z"
    }
   }
  },
  {
   "cell_type": "code",
   "execution_count": 3,
   "outputs": [
    {
     "data": {
      "text/plain": "datetime.datetime(2022, 7, 1, 0, 0)"
     },
     "execution_count": 3,
     "metadata": {},
     "output_type": "execute_result"
    }
   ],
   "source": [
    "from ndf.util import get_last_business_day\n",
    "from datetime import datetime\n",
    "\n",
    "get_last_business_day(datetime(2022, 7, 5))"
   ],
   "metadata": {
    "collapsed": false,
    "ExecuteTime": {
     "start_time": "2023-05-02T19:40:07.540527Z",
     "end_time": "2023-05-02T19:40:07.586762Z"
    }
   }
  },
  {
   "cell_type": "code",
   "execution_count": 4,
   "outputs": [
    {
     "ename": "TypeError",
     "evalue": "tulletprebon_calcs() takes 1 positional argument but 2 were given",
     "output_type": "error",
     "traceback": [
      "\u001B[1;31m---------------------------------------------------------------------------\u001B[0m",
      "\u001B[1;31mTypeError\u001B[0m                                 Traceback (most recent call last)",
      "Cell \u001B[1;32mIn[4], line 5\u001B[0m\n\u001B[0;32m      1\u001B[0m \u001B[38;5;28;01mimport\u001B[39;00m \u001B[38;5;21;01mndf\u001B[39;00m\u001B[38;5;21;01m.\u001B[39;00m\u001B[38;5;21;01mdatamining\u001B[39;00m\n\u001B[0;32m      3\u001B[0m mining \u001B[38;5;241m=\u001B[39m ndf\u001B[38;5;241m.\u001B[39mdatamining\u001B[38;5;241m.\u001B[39mdatamining()\n\u001B[1;32m----> 5\u001B[0m \u001B[43mmining\u001B[49m\u001B[38;5;241;43m.\u001B[39;49m\u001B[43mtulletprebon_calcs\u001B[49m\u001B[43m(\u001B[49m\u001B[43mget_last_business_day\u001B[49m\u001B[43m(\u001B[49m\u001B[43m)\u001B[49m\u001B[43m)\u001B[49m\n",
      "\u001B[1;31mTypeError\u001B[0m: tulletprebon_calcs() takes 1 positional argument but 2 were given"
     ]
    }
   ],
   "source": [
    "import ndf.datamining\n",
    "\n",
    "mining = ndf.datamining.datamining()\n",
    "\n",
    "mining.tulletprebon_calcs(get_last_business_day())"
   ],
   "metadata": {
    "collapsed": false,
    "ExecuteTime": {
     "start_time": "2023-05-02T19:37:22.573721Z",
     "end_time": "2023-05-02T19:37:22.631367Z"
    }
   }
  },
  {
   "cell_type": "code",
   "execution_count": 5,
   "outputs": [
    {
     "data": {
      "text/plain": "datetime.datetime(2023, 5, 2, 19, 42, 53, 47709)"
     },
     "execution_count": 5,
     "metadata": {},
     "output_type": "execute_result"
    }
   ],
   "source": [
    "get_last_business_day()"
   ],
   "metadata": {
    "collapsed": false,
    "ExecuteTime": {
     "start_time": "2023-05-02T19:42:53.049708Z",
     "end_time": "2023-05-02T19:42:53.107207Z"
    }
   }
  }
 ],
 "metadata": {
  "kernelspec": {
   "display_name": "Python 3",
   "language": "python",
   "name": "python3"
  },
  "language_info": {
   "codemirror_mode": {
    "name": "ipython",
    "version": 2
   },
   "file_extension": ".py",
   "mimetype": "text/x-python",
   "name": "python",
   "nbconvert_exporter": "python",
   "pygments_lexer": "ipython2",
   "version": "2.7.6"
  }
 },
 "nbformat": 4,
 "nbformat_minor": 0
}
