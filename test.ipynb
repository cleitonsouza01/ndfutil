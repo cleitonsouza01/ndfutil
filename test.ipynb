{
 "cells": [
  {
   "cell_type": "code",
   "execution_count": 1,
   "metadata": {
    "collapsed": true,
    "ExecuteTime": {
     "start_time": "2023-05-01T08:28:39.834547Z",
     "end_time": "2023-05-01T08:28:39.858965Z"
    }
   },
   "outputs": [],
   "source": [
    "from loguru import logger\n",
    "\n",
    "from ndf.download import ndf"
   ]
  },
  {
   "cell_type": "code",
   "execution_count": 2,
   "outputs": [
    {
     "name": "stderr",
     "output_type": "stream",
     "text": [
      "2023-05-01 18:49:24.898 | INFO     | __main__:<module>:1 - Starting service\n",
      "2023-05-01 18:49:24.902 | INFO     | ndf.download:_download:84 - Loaded BGC DATA from cache DATA\\BGC_2023-05-01.pkl\n",
      "2023-05-01 18:49:24.904 | INFO     | ndf.download:_download:84 - Loaded TRADITION DATA from cache DATA\\TRADITION_2023-05-01.pkl\n",
      "2023-05-01 18:49:24.906 | INFO     | ndf.download:_download:84 - Loaded TULLETPREBON DATA from cache DATA\\TULLETPREBON_2023-05-01.pkl\n",
      "2023-05-01 18:49:24.907 | INFO     | ndf.download:_download:84 - Loaded GFI DATA from cache DATA\\GFI_2023-05-01.pkl\n"
     ]
    }
   ],
   "source": [
    "logger.info(\"Starting service\")\n",
    "\n",
    "n = ndf()\n",
    "\n",
    "n.download_all()\n"
   ],
   "metadata": {
    "collapsed": false,
    "ExecuteTime": {
     "start_time": "2023-05-01T08:43:23.587874Z",
     "end_time": "2023-05-01T08:43:23.605100Z"
    }
   }
  },
  {
   "cell_type": "code",
   "execution_count": 2,
   "outputs": [],
   "source": [
    "import os\n",
    "from datetime import datetime\n",
    "import os\n",
    "\n",
    "# Setup file name\n",
    "def get_filename(source, date=None):\n",
    "    today_date = datetime.now().strftime('%Y-%m-%d') if date is None else date\n",
    "    file = f\"{source}_{today_date}.pkl\"\n",
    "    file_with_path = os.path.join(os.getcwd() + '\\\\DATA\\\\', file)\n",
    "    return file_with_path"
   ],
   "metadata": {
    "collapsed": false,
    "ExecuteTime": {
     "start_time": "2023-05-01T18:12:33.665256Z",
     "end_time": "2023-05-01T18:12:33.690581Z"
    }
   }
  },
  {
   "cell_type": "code",
   "execution_count": 3,
   "outputs": [],
   "source": [
    "get_filename('tulletprebon','2023-04-27')"
   ],
   "metadata": {
    "collapsed": false,
    "ExecuteTime": {
     "start_time": "2023-05-01T18:10:25.598581Z",
     "end_time": "2023-05-01T18:10:25.824158Z"
    }
   }
  },
  {
   "cell_type": "code",
   "execution_count": 4,
   "outputs": [
    {
     "name": "stderr",
     "output_type": "stream",
     "text": [
      "2023-05-01 18:49:24.949 | INFO     | ndf.datamining:tradition_calcs:14 - TRADITION Data mining starting\n",
      "2023-05-01 18:49:24.951 | DEBUG    | ndf.datamining:tradition_calcs:15 - Opening C:\\Users\\souzacle\\PycharmProjects\\ndfutil\\DATA\\TRADITION_2023-05-01.pkl\n",
      "C:\\Users\\souzacle\\PycharmProjects\\ndfutil\\ndf\\datamining.py:116: FutureWarning: The default value of numeric_only in DataFrameGroupBy.sum is deprecated. In a future version, numeric_only will default to False. Either specify numeric_only or select only columns which should be valid for the function.\n",
      "  df_tradition_summary = df_tradition.groupby('Class').sum()\n",
      "C:\\Users\\souzacle\\PycharmProjects\\ndfutil\\ndf\\datamining.py:120: FutureWarning: The default value of numeric_only in DataFrameGroupBy.sum is deprecated. In a future version, numeric_only will default to False. Either specify numeric_only or select only columns which should be valid for the function.\n",
      "  for number in df_tradition.groupby('Class').sum()['Volume']:\n",
      "2023-05-01 18:49:24.980 | DEBUG    | ndf.datamining:tradition_calcs:130 - TRADITION Summary ===>\n",
      "Empty DataFrame\n",
      "Columns: [Total for human, Total_Trade_Count]\n",
      "Index: []\n",
      "\n"
     ]
    },
    {
     "name": "stdout",
     "output_type": "stream",
     "text": [
      "['Trade_Date', 'Description', 'Internal_Prod_Des', 'Contract_Type', 'Volume', 'Total_Trade_Count', 'Source', 'Class']\n",
      "Empty DataFrame\n",
      "Columns: [Trade_Date, Description, Internal_Prod_Des, Contract_Type, Volume, Total_Trade_Count, Source, Class]\n",
      "Index: []\n",
      "Empty DataFrame\n",
      "Columns: [Trade_Date, Volume, Total_Trade_Count, Total for human]\n",
      "Index: []\n"
     ]
    },
    {
     "data": {
      "text/plain": "Empty DataFrame\nColumns: [Total for human, Total_Trade_Count]\nIndex: []",
      "text/html": "<div>\n<style scoped>\n    .dataframe tbody tr th:only-of-type {\n        vertical-align: middle;\n    }\n\n    .dataframe tbody tr th {\n        vertical-align: top;\n    }\n\n    .dataframe thead th {\n        text-align: right;\n    }\n</style>\n<table border=\"1\" class=\"dataframe\">\n  <thead>\n    <tr style=\"text-align: right;\">\n      <th></th>\n      <th>Total for human</th>\n      <th>Total_Trade_Count</th>\n    </tr>\n    <tr>\n      <th>Class</th>\n      <th></th>\n      <th></th>\n    </tr>\n  </thead>\n  <tbody>\n  </tbody>\n</table>\n</div>"
     },
     "execution_count": 4,
     "metadata": {},
     "output_type": "execute_result"
    }
   ],
   "source": [
    "from ndf.datamining import *\n"
   ],
   "metadata": {
    "collapsed": false,
    "ExecuteTime": {
     "start_time": "2023-05-01T18:21:42.373102Z",
     "end_time": "2023-05-01T18:21:42.440439Z"
    }
   }
  },
  {
   "cell_type": "code",
   "execution_count": 5,
   "outputs": [
    {
     "data": {
      "text/plain": "datetime.datetime(2023, 4, 30, 18, 49, 25, 7891)"
     },
     "execution_count": 5,
     "metadata": {},
     "output_type": "execute_result"
    }
   ],
   "source": [
    "tradition_calc(get_filename('TRADITION','2023-04-26'))"
   ],
   "metadata": {
    "collapsed": false,
    "ExecuteTime": {
     "start_time": "2023-05-01T18:42:02.115287Z",
     "end_time": "2023-05-01T18:42:02.136642Z"
    }
   }
  }
 ],
 "metadata": {
  "kernelspec": {
   "display_name": "Python 3",
   "language": "python",
   "name": "python3"
  },
  "language_info": {
   "codemirror_mode": {
    "name": "ipython",
    "version": 2
   },
   "file_extension": ".py",
   "mimetype": "text/x-python",
   "name": "python",
   "nbconvert_exporter": "python",
   "pygments_lexer": "ipython2",
   "version": "2.7.6"
  }
 },
 "nbformat": 4,
 "nbformat_minor": 0
}
