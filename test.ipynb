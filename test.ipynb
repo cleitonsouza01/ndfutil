{
 "cells": [
  {
   "cell_type": "code",
   "execution_count": 1,
   "metadata": {
    "collapsed": true,
    "ExecuteTime": {
     "end_time": "2023-05-04T01:39:06.236702Z",
     "start_time": "2023-05-04T01:39:05.456365Z"
    }
   },
   "outputs": [],
   "source": [
    "from loguru import logger\n",
    "\n",
    "from ndf.download import ndf"
   ]
  },
  {
   "cell_type": "code",
   "execution_count": 2,
   "outputs": [],
   "source": [
    "# logger.info(\"Starting service\")\n",
    "#\n",
    "# n = ndf()\n",
    "#\n",
    "# n.download_all()\n"
   ],
   "metadata": {
    "collapsed": false,
    "ExecuteTime": {
     "end_time": "2023-05-04T01:39:06.239153Z",
     "start_time": "2023-05-04T01:39:06.237381Z"
    }
   }
  },
  {
   "cell_type": "code",
   "execution_count": 3,
   "outputs": [
    {
     "data": {
      "text/plain": "datetime.datetime(2022, 7, 1, 0, 0)"
     },
     "execution_count": 3,
     "metadata": {},
     "output_type": "execute_result"
    }
   ],
   "source": [
    "from ndf.util import get_last_business_day\n",
    "from datetime import datetime\n",
    "\n",
    "get_last_business_day(datetime(2022, 7, 5))"
   ],
   "metadata": {
    "collapsed": false,
    "ExecuteTime": {
     "end_time": "2023-05-04T01:39:06.256326Z",
     "start_time": "2023-05-04T01:39:06.240529Z"
    }
   }
  },
  {
   "cell_type": "code",
   "execution_count": 4,
   "outputs": [
    {
     "name": "stderr",
     "output_type": "stream",
     "text": [
      "2023-05-03 21:39:06.258 | INFO     | ndf.datamining:gfi_calcs:316 - GFI calcs starting\n",
      "2023-05-03 21:39:06.259 | INFO     | ndf.datamining:gfi_calcs:317 - Opening /Users/cleiton/PycharmProjects/ndfutil/DATA/GFI_2023-04-28.pkl\n",
      "2023-05-03 21:39:06.265 | DEBUG    | ndf.datamining:gfi_calcs:343 - GFI before mining:\n",
      "0                     Description      Volume\n",
      "0  USDBRL NDF 27APR2023 BILATERAL   285000000\n",
      "1  USDBRL NDF 28APR2023 BILATERAL  1725000000\n",
      "2  USDBRL NDF 31MAY2023 BILATERAL  1440000000\n",
      "3  USDBRL NDF 18DEC2023 BILATERAL    19910000\n",
      "4  USDBRL NDF 18MAR2024 BILATERAL    20000000\n",
      "2023-05-03 21:39:06.271 | DEBUG    | ndf.datamining:gfi_calcs:423 - GFI _summary ===>\n",
      "0      Total for human      Volume\n",
      "Class                             \n",
      "BROKEN           3.49B  3489910000\n",
      "\n"
     ]
    },
    {
     "name": "stdout",
     "output_type": "stream",
     "text": [
      "USDBRL NDF 27APR2023 BILATERAL\n",
      "USDBRL NDF 28APR2023 BILATERAL\n",
      "USDBRL NDF 31MAY2023 BILATERAL\n",
      "USDBRL NDF 18DEC2023 BILATERAL\n",
      "USDBRL NDF 18MAR2024 BILATERAL\n",
      "CLASS:  None\n",
      "CLASS:  None\n",
      "CLASS:  None\n",
      "CLASS:  None\n",
      "CLASS:  None\n"
     ]
    }
   ],
   "source": [
    "import ndf.datamining\n",
    "\n",
    "mining = ndf.datamining.datamining()\n",
    "\n",
    "# result = mining.tulletprebon_calcs(ndf.util.get_cache_filename('tulletprebon', '2023-04-28'))\n",
    "result2 = mining.gfi_calcs(ndf.util.get_cache_filename('GFI', '2023-04-28'))\n",
    "# result2 = mining.gfi_calcs('/Users/cleiton/PycharmProjects/ndfutil/DATA/GFI_2023-04-28.pkl')\n"
   ],
   "metadata": {
    "collapsed": false,
    "ExecuteTime": {
     "end_time": "2023-05-04T01:39:06.283394Z",
     "start_time": "2023-05-04T01:39:06.258540Z"
    }
   }
  },
  {
   "cell_type": "code",
   "execution_count": 5,
   "outputs": [
    {
     "data": {
      "text/plain": "0      Total for human      Volume\nClass                             \nBROKEN           3.49B  3489910000",
      "text/html": "<div>\n<style scoped>\n    .dataframe tbody tr th:only-of-type {\n        vertical-align: middle;\n    }\n\n    .dataframe tbody tr th {\n        vertical-align: top;\n    }\n\n    .dataframe thead th {\n        text-align: right;\n    }\n</style>\n<table border=\"1\" class=\"dataframe\">\n  <thead>\n    <tr style=\"text-align: right;\">\n      <th></th>\n      <th>Total for human</th>\n      <th>Volume</th>\n    </tr>\n    <tr>\n      <th>Class</th>\n      <th></th>\n      <th></th>\n    </tr>\n  </thead>\n  <tbody>\n    <tr>\n      <th>BROKEN</th>\n      <td>3.49B</td>\n      <td>3489910000</td>\n    </tr>\n  </tbody>\n</table>\n</div>"
     },
     "execution_count": 5,
     "metadata": {},
     "output_type": "execute_result"
    }
   ],
   "source": [
    "result2"
   ],
   "metadata": {
    "collapsed": false,
    "ExecuteTime": {
     "end_time": "2023-05-04T01:39:06.284261Z",
     "start_time": "2023-05-04T01:39:06.277663Z"
    }
   }
  }
 ],
 "metadata": {
  "kernelspec": {
   "display_name": "Python 3",
   "language": "python",
   "name": "python3"
  },
  "language_info": {
   "codemirror_mode": {
    "name": "ipython",
    "version": 2
   },
   "file_extension": ".py",
   "mimetype": "text/x-python",
   "name": "python",
   "nbconvert_exporter": "python",
   "pygments_lexer": "ipython2",
   "version": "2.7.6"
  }
 },
 "nbformat": 4,
 "nbformat_minor": 0
}
