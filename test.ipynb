{
 "cells": [
  {
   "cell_type": "code",
   "execution_count": 1,
   "metadata": {
    "collapsed": true,
    "ExecuteTime": {
     "start_time": "2023-04-25T19:09:47.856496Z",
     "end_time": "2023-04-25T19:09:49.488499Z"
    }
   },
   "outputs": [],
   "source": [
    "from loguru import logger\n",
    "\n",
    "from ndf.download import ndf"
   ]
  },
  {
   "cell_type": "code",
   "execution_count": 2,
   "outputs": [
    {
     "name": "stderr",
     "output_type": "stream",
     "text": [
      "2023-04-25 19:09:49.490 | INFO     | __main__:<module>:1 - Starting service\n",
      "2023-04-25 19:09:49.496 | INFO     | ndf.download:_download:87 - Loaded BGC DATA from cache DATA\\BGC_2023-04-25.pkl\n",
      "2023-04-25 19:09:49.499 | INFO     | ndf.download:_download:87 - Loaded TRADITION DATA from cache DATA\\TRADITION_2023-04-25.pkl\n",
      "2023-04-25 19:09:49.502 | INFO     | ndf.download:_download:87 - Loaded TULLETPREBON DATA from cache DATA\\TULLETPREBON_2023-04-25.pkl\n",
      "2023-04-25 19:09:49.504 | INFO     | ndf.download:_download:87 - Loaded GFI DATA from cache DATA\\GFI_2023-04-25.pkl\n"
     ]
    }
   ],
   "source": [
    "logger.info(\"Starting service\")\n",
    "\n",
    "n = ndf()\n",
    "\n",
    "n.download_all()\n"
   ],
   "metadata": {
    "collapsed": false,
    "ExecuteTime": {
     "start_time": "2023-04-25T19:09:49.491002Z",
     "end_time": "2023-04-25T19:09:49.547077Z"
    }
   }
  },
  {
   "cell_type": "code",
   "execution_count": 2,
   "outputs": [],
   "source": [],
   "metadata": {
    "collapsed": false,
    "ExecuteTime": {
     "start_time": "2023-04-25T19:09:49.520997Z",
     "end_time": "2023-04-25T19:09:49.547498Z"
    }
   }
  }
 ],
 "metadata": {
  "kernelspec": {
   "display_name": "Python 3",
   "language": "python",
   "name": "python3"
  },
  "language_info": {
   "codemirror_mode": {
    "name": "ipython",
    "version": 2
   },
   "file_extension": ".py",
   "mimetype": "text/x-python",
   "name": "python",
   "nbconvert_exporter": "python",
   "pygments_lexer": "ipython2",
   "version": "2.7.6"
  }
 },
 "nbformat": 4,
 "nbformat_minor": 0
}
