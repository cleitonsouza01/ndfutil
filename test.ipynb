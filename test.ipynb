{
 "cells": [
  {
   "cell_type": "code",
   "execution_count": 1,
   "metadata": {
    "collapsed": true,
    "ExecuteTime": {
     "end_time": "2023-05-11T15:52:24.216410700Z",
     "start_time": "2023-05-11T15:52:22.419226800Z"
    }
   },
   "outputs": [],
   "source": [
    "import datetime as datetime\n",
    "from loguru import logger\n",
    "\n",
    "import ndf.download\n",
    "from ndf import download"
   ]
  },
  {
   "cell_type": "code",
   "execution_count": 2,
   "outputs": [],
   "source": [
    "import warnings\n",
    "warnings.simplefilter(action='ignore', category=FutureWarning)"
   ],
   "metadata": {
    "collapsed": false,
    "ExecuteTime": {
     "end_time": "2023-05-11T15:52:24.230964Z",
     "start_time": "2023-05-11T15:52:24.218402900Z"
    }
   }
  },
  {
   "cell_type": "code",
   "execution_count": 3,
   "outputs": [
    {
     "data": {
      "text/plain": "2"
     },
     "execution_count": 3,
     "metadata": {},
     "output_type": "execute_result"
    }
   ],
   "source": [
    "import sys\n",
    "\n",
    "log_level = 'ERROR'\n",
    "logger.add(sys.stderr, format=\"{time} {level} {message}\", filter=\"my_module\", level=log_level)\n",
    "# logger.add(sys.stdout, colorize=True, format=\"<green>{time}</green> <level>{message}</level>\")\n",
    "logger.add(\"ndfdownload.log\", rotation=\"30 MB\", level=log_level)\n",
    "\n"
   ],
   "metadata": {
    "collapsed": false,
    "ExecuteTime": {
     "end_time": "2023-05-11T15:52:24.275751600Z",
     "start_time": "2023-05-11T15:52:24.232949100Z"
    }
   }
  },
  {
   "cell_type": "markdown",
   "source": [
    "## Remove DEBUG"
   ],
   "metadata": {
    "collapsed": false
   }
  },
  {
   "cell_type": "code",
   "execution_count": 4,
   "outputs": [],
   "source": [
    "logger.remove()"
   ],
   "metadata": {
    "collapsed": false,
    "ExecuteTime": {
     "end_time": "2023-05-11T15:52:24.276744200Z",
     "start_time": "2023-05-11T15:52:24.249474400Z"
    }
   }
  },
  {
   "cell_type": "code",
   "execution_count": 5,
   "outputs": [],
   "source": [
    "logger.debug('teste debug')\n",
    "logger.info('teste info')\n"
   ],
   "metadata": {
    "collapsed": false,
    "ExecuteTime": {
     "end_time": "2023-05-11T15:52:24.295348800Z",
     "start_time": "2023-05-11T15:52:24.263633800Z"
    }
   }
  },
  {
   "cell_type": "code",
   "execution_count": 6,
   "outputs": [],
   "source": [
    "# d = download.download()\n",
    "# d.download_all()"
   ],
   "metadata": {
    "collapsed": false,
    "ExecuteTime": {
     "end_time": "2023-05-11T15:52:24.296364100Z",
     "start_time": "2023-05-11T15:52:24.281163900Z"
    }
   }
  },
  {
   "cell_type": "code",
   "execution_count": 7,
   "outputs": [],
   "source": [
    "from ndf.datamining import datamining\n",
    "\n",
    "mining = datamining()\n",
    "\n",
    "mining.tulletprebon_calcs('2023-04-14')\n"
   ],
   "metadata": {
    "collapsed": false,
    "ExecuteTime": {
     "end_time": "2023-05-11T15:52:24.323219700Z",
     "start_time": "2023-05-11T15:52:24.294395800Z"
    }
   }
  },
  {
   "cell_type": "code",
   "execution_count": 8,
   "outputs": [
    {
     "name": "stdout",
     "output_type": "stream",
     "text": [
      "4 == 5  |  2023-04-28 00:00:00 | USDBRL NDF 28APR2023 BILATERAL\n",
      "5 == 5  |  2023-05-31 00:00:00 | USDBRL NDF 31MAY2023 BILATERAL\n"
     ]
    },
    {
     "data": {
      "text/plain": "                      Description     Volume Source   Class\n0  USDBRL NDF 14APR2023 BILATERAL  102000000    GFI  BROKEN\n1  USDBRL NDF 28APR2023 BILATERAL  402000000    GFI    BMFx\n2  USDBRL NDF 31MAY2023 BILATERAL  300000000    GFI     BMF\n3                             NaN  804000000    NaN   TOTAL",
      "text/html": "<div>\n<style scoped>\n    .dataframe tbody tr th:only-of-type {\n        vertical-align: middle;\n    }\n\n    .dataframe tbody tr th {\n        vertical-align: top;\n    }\n\n    .dataframe thead th {\n        text-align: right;\n    }\n</style>\n<table border=\"1\" class=\"dataframe\">\n  <thead>\n    <tr style=\"text-align: right;\">\n      <th></th>\n      <th>Description</th>\n      <th>Volume</th>\n      <th>Source</th>\n      <th>Class</th>\n    </tr>\n  </thead>\n  <tbody>\n    <tr>\n      <th>0</th>\n      <td>USDBRL NDF 14APR2023 BILATERAL</td>\n      <td>102000000</td>\n      <td>GFI</td>\n      <td>BROKEN</td>\n    </tr>\n    <tr>\n      <th>1</th>\n      <td>USDBRL NDF 28APR2023 BILATERAL</td>\n      <td>402000000</td>\n      <td>GFI</td>\n      <td>BMFx</td>\n    </tr>\n    <tr>\n      <th>2</th>\n      <td>USDBRL NDF 31MAY2023 BILATERAL</td>\n      <td>300000000</td>\n      <td>GFI</td>\n      <td>BMF</td>\n    </tr>\n    <tr>\n      <th>3</th>\n      <td>NaN</td>\n      <td>804000000</td>\n      <td>NaN</td>\n      <td>TOTAL</td>\n    </tr>\n  </tbody>\n</table>\n</div>"
     },
     "execution_count": 8,
     "metadata": {},
     "output_type": "execute_result"
    }
   ],
   "source": [
    "gfi = mining.gfi_calcs('2023-04-14', 'raw')\n",
    "gfi"
   ],
   "metadata": {
    "collapsed": false,
    "ExecuteTime": {
     "end_time": "2023-05-11T15:52:24.340105Z",
     "start_time": "2023-05-11T15:52:24.312855700Z"
    }
   }
  },
  {
   "cell_type": "code",
   "execution_count": 9,
   "outputs": [
    {
     "name": "stdout",
     "output_type": "stream",
     "text": [
      "4 == 5  |  2023-04-28 00:00:00 | USDBRL NDF 28APR2023 BILATERAL\n",
      "5 == 5  |  2023-05-31 00:00:00 | USDBRL NDF 31MAY2023 BILATERAL\n"
     ]
    },
    {
     "data": {
      "text/plain": "       Total for human     Volume\nClass                            \nBMF               300M  300000000\nBMFx              402M  402000000\nBROKEN            102M  102000000\nTOTAL             804M  804000000",
      "text/html": "<div>\n<style scoped>\n    .dataframe tbody tr th:only-of-type {\n        vertical-align: middle;\n    }\n\n    .dataframe tbody tr th {\n        vertical-align: top;\n    }\n\n    .dataframe thead th {\n        text-align: right;\n    }\n</style>\n<table border=\"1\" class=\"dataframe\">\n  <thead>\n    <tr style=\"text-align: right;\">\n      <th></th>\n      <th>Total for human</th>\n      <th>Volume</th>\n    </tr>\n    <tr>\n      <th>Class</th>\n      <th></th>\n      <th></th>\n    </tr>\n  </thead>\n  <tbody>\n    <tr>\n      <th>BMF</th>\n      <td>300M</td>\n      <td>300000000</td>\n    </tr>\n    <tr>\n      <th>BMFx</th>\n      <td>402M</td>\n      <td>402000000</td>\n    </tr>\n    <tr>\n      <th>BROKEN</th>\n      <td>102M</td>\n      <td>102000000</td>\n    </tr>\n    <tr>\n      <th>TOTAL</th>\n      <td>804M</td>\n      <td>804000000</td>\n    </tr>\n  </tbody>\n</table>\n</div>"
     },
     "execution_count": 9,
     "metadata": {},
     "output_type": "execute_result"
    }
   ],
   "source": [
    "mining.gfi_calcs('2023-04-14')"
   ],
   "metadata": {
    "collapsed": false,
    "ExecuteTime": {
     "end_time": "2023-05-11T15:52:24.425777300Z",
     "start_time": "2023-05-11T15:52:24.339106300Z"
    }
   }
  },
  {
   "cell_type": "code",
   "execution_count": 10,
   "outputs": [
    {
     "name": "stdout",
     "output_type": "stream",
     "text": [
      "5 == 5  |  2023-05-31 00:00:00 | USDBRL NDF 31MAY2023 BILATERAL\n"
     ]
    },
    {
     "data": {
      "text/plain": "       Total for human      Volume\nClass                             \nBMF               655M   655000000\nBROKEN            707M   707000000\nTOTAL            1.36B  1362000000",
      "text/html": "<div>\n<style scoped>\n    .dataframe tbody tr th:only-of-type {\n        vertical-align: middle;\n    }\n\n    .dataframe tbody tr th {\n        vertical-align: top;\n    }\n\n    .dataframe thead th {\n        text-align: right;\n    }\n</style>\n<table border=\"1\" class=\"dataframe\">\n  <thead>\n    <tr style=\"text-align: right;\">\n      <th></th>\n      <th>Total for human</th>\n      <th>Volume</th>\n    </tr>\n    <tr>\n      <th>Class</th>\n      <th></th>\n      <th></th>\n    </tr>\n  </thead>\n  <tbody>\n    <tr>\n      <th>BMF</th>\n      <td>655M</td>\n      <td>655000000</td>\n    </tr>\n    <tr>\n      <th>BROKEN</th>\n      <td>707M</td>\n      <td>707000000</td>\n    </tr>\n    <tr>\n      <th>TOTAL</th>\n      <td>1.36B</td>\n      <td>1362000000</td>\n    </tr>\n  </tbody>\n</table>\n</div>"
     },
     "execution_count": 10,
     "metadata": {},
     "output_type": "execute_result"
    }
   ],
   "source": [
    "mining.gfi_calcs()"
   ],
   "metadata": {
    "collapsed": false,
    "ExecuteTime": {
     "end_time": "2023-05-11T15:52:24.464757800Z",
     "start_time": "2023-05-11T15:52:24.380183200Z"
    }
   }
  },
  {
   "cell_type": "code",
   "execution_count": 11,
   "outputs": [
    {
     "name": "stdout",
     "output_type": "stream",
     "text": [
      "5 == 5  |  2023-05-31 00:00:00 | USDBRL NDF 31MAY2023 BILATERAL\n"
     ]
    },
    {
     "data": {
      "text/plain": "                      Description      Volume Source   Class\n0  USDBRL NDF 10MAY2023 BILATERAL   185000000    GFI  BROKEN\n1  USDBRL NDF 11MAY2023 BILATERAL   222000000    GFI  BROKEN\n2  USDBRL NDF 12MAY2023 BILATERAL    30000000    GFI  BROKEN\n3  USDBRL NDF 16MAY2023 BILATERAL    70000000    GFI  BROKEN\n4  USDBRL NDF 17MAY2023 BILATERAL    10000000    GFI  BROKEN\n5  USDBRL NDF 19MAY2023 BILATERAL   120000000    GFI  BROKEN\n6  USDBRL NDF 23MAY2023 BILATERAL    70000000    GFI  BROKEN\n7  USDBRL NDF 31MAY2023 BILATERAL   655000000    GFI     BMF\n8                             NaN  1362000000    NaN   TOTAL",
      "text/html": "<div>\n<style scoped>\n    .dataframe tbody tr th:only-of-type {\n        vertical-align: middle;\n    }\n\n    .dataframe tbody tr th {\n        vertical-align: top;\n    }\n\n    .dataframe thead th {\n        text-align: right;\n    }\n</style>\n<table border=\"1\" class=\"dataframe\">\n  <thead>\n    <tr style=\"text-align: right;\">\n      <th></th>\n      <th>Description</th>\n      <th>Volume</th>\n      <th>Source</th>\n      <th>Class</th>\n    </tr>\n  </thead>\n  <tbody>\n    <tr>\n      <th>0</th>\n      <td>USDBRL NDF 10MAY2023 BILATERAL</td>\n      <td>185000000</td>\n      <td>GFI</td>\n      <td>BROKEN</td>\n    </tr>\n    <tr>\n      <th>1</th>\n      <td>USDBRL NDF 11MAY2023 BILATERAL</td>\n      <td>222000000</td>\n      <td>GFI</td>\n      <td>BROKEN</td>\n    </tr>\n    <tr>\n      <th>2</th>\n      <td>USDBRL NDF 12MAY2023 BILATERAL</td>\n      <td>30000000</td>\n      <td>GFI</td>\n      <td>BROKEN</td>\n    </tr>\n    <tr>\n      <th>3</th>\n      <td>USDBRL NDF 16MAY2023 BILATERAL</td>\n      <td>70000000</td>\n      <td>GFI</td>\n      <td>BROKEN</td>\n    </tr>\n    <tr>\n      <th>4</th>\n      <td>USDBRL NDF 17MAY2023 BILATERAL</td>\n      <td>10000000</td>\n      <td>GFI</td>\n      <td>BROKEN</td>\n    </tr>\n    <tr>\n      <th>5</th>\n      <td>USDBRL NDF 19MAY2023 BILATERAL</td>\n      <td>120000000</td>\n      <td>GFI</td>\n      <td>BROKEN</td>\n    </tr>\n    <tr>\n      <th>6</th>\n      <td>USDBRL NDF 23MAY2023 BILATERAL</td>\n      <td>70000000</td>\n      <td>GFI</td>\n      <td>BROKEN</td>\n    </tr>\n    <tr>\n      <th>7</th>\n      <td>USDBRL NDF 31MAY2023 BILATERAL</td>\n      <td>655000000</td>\n      <td>GFI</td>\n      <td>BMF</td>\n    </tr>\n    <tr>\n      <th>8</th>\n      <td>NaN</td>\n      <td>1362000000</td>\n      <td>NaN</td>\n      <td>TOTAL</td>\n    </tr>\n  </tbody>\n</table>\n</div>"
     },
     "execution_count": 11,
     "metadata": {},
     "output_type": "execute_result"
    }
   ],
   "source": [
    "mining.gfi_calcs(presentation='raw')\n"
   ],
   "metadata": {
    "collapsed": false,
    "ExecuteTime": {
     "end_time": "2023-05-11T15:52:24.540128Z",
     "start_time": "2023-05-11T15:52:24.404897200Z"
    }
   }
  },
  {
   "cell_type": "code",
   "execution_count": 12,
   "outputs": [
    {
     "ename": "NameError",
     "evalue": "name 'a' is not defined",
     "output_type": "error",
     "traceback": [
      "\u001B[1;31m---------------------------------------------------------------------------\u001B[0m",
      "\u001B[1;31mNameError\u001B[0m                                 Traceback (most recent call last)",
      "Cell \u001B[1;32mIn[12], line 1\u001B[0m\n\u001B[1;32m----> 1\u001B[0m \u001B[43ma\u001B[49m\u001B[38;5;241m.\u001B[39mappend({\u001B[38;5;124m'\u001B[39m\u001B[38;5;124mVolume\u001B[39m\u001B[38;5;124m'\u001B[39m: volume_sum, \u001B[38;5;124m'\u001B[39m\u001B[38;5;124mClass\u001B[39m\u001B[38;5;124m'\u001B[39m: \u001B[38;5;124m'\u001B[39m\u001B[38;5;124mTOTAL\u001B[39m\u001B[38;5;124m'\u001B[39m}, ignore_index\u001B[38;5;241m=\u001B[39m\u001B[38;5;28;01mTrue\u001B[39;00m)\n",
      "\u001B[1;31mNameError\u001B[0m: name 'a' is not defined"
     ]
    }
   ],
   "source": [
    "a.append({'Volume': volume_sum, 'Class': 'TOTAL'}, ignore_index=True)"
   ],
   "metadata": {
    "collapsed": false,
    "ExecuteTime": {
     "end_time": "2023-05-11T15:52:24.813661800Z",
     "start_time": "2023-05-11T15:52:24.436779300Z"
    }
   }
  },
  {
   "cell_type": "code",
   "execution_count": null,
   "outputs": [],
   "source": [],
   "metadata": {
    "collapsed": false,
    "ExecuteTime": {
     "start_time": "2023-05-11T15:52:24.668468500Z"
    }
   }
  },
  {
   "cell_type": "code",
   "execution_count": null,
   "outputs": [],
   "source": [
    "mining.gfi_calcs()"
   ],
   "metadata": {
    "collapsed": false,
    "ExecuteTime": {
     "start_time": "2023-05-11T15:52:24.670460200Z"
    }
   }
  },
  {
   "cell_type": "code",
   "execution_count": null,
   "outputs": [],
   "source": [
    "from datetime import datetime\n",
    "\n",
    "test_date = gfi.iloc[2]['Description'].split(' ')[2]\n",
    "test_date = datetime.strptime(test_date, \"%d%b%Y\")\n",
    "test_date\n",
    "\n"
   ],
   "metadata": {
    "collapsed": false,
    "ExecuteTime": {
     "start_time": "2023-05-11T15:52:24.673268500Z"
    }
   }
  },
  {
   "cell_type": "code",
   "execution_count": null,
   "outputs": [],
   "source": [
    "today = datetime.today()\n",
    "\n",
    "print(f'{today.month} == {test_date.month}')\n",
    "\n",
    "if today.month == test_date.month:\n",
    "    print('bmf1')"
   ],
   "metadata": {
    "collapsed": false,
    "ExecuteTime": {
     "start_time": "2023-05-11T15:52:24.675326400Z"
    }
   }
  },
  {
   "cell_type": "code",
   "execution_count": null,
   "outputs": [],
   "source": [
    "type(today.month)"
   ],
   "metadata": {
    "collapsed": false,
    "ExecuteTime": {
     "start_time": "2023-05-11T15:52:24.677318400Z"
    }
   }
  },
  {
   "cell_type": "code",
   "execution_count": null,
   "outputs": [],
   "source": [
    "from ndf.util import get_last_bd\n",
    "\n",
    "print(test_date)\n",
    "print(get_last_bd(test_date))\n",
    "\n",
    "if test_date == get_last_bd(test_date):\n",
    "    print('BMF')\n",
    "\n",
    "# datetime.strptime('2023-05-01', '%Y-%m-%d') + BMonthEnd()"
   ],
   "metadata": {
    "collapsed": false,
    "ExecuteTime": {
     "start_time": "2023-05-11T15:52:24.679306700Z"
    }
   }
  },
  {
   "cell_type": "code",
   "execution_count": null,
   "outputs": [],
   "source": [
    "from datetime import timedelta\n",
    "from ndf.util import get_second_business_day\n",
    "from pandas._libs.tslibs.offsets import BDay\n",
    "\n",
    "test_date = test_date + timedelta(days=2)\n",
    "get_second_business_day(test_date.strftime('%m'), test_date.strftime('%Y'))\n",
    "\n"
   ],
   "metadata": {
    "collapsed": false,
    "ExecuteTime": {
     "start_time": "2023-05-11T15:52:24.681714600Z"
    }
   }
  },
  {
   "cell_type": "code",
   "execution_count": null,
   "outputs": [],
   "source": [
    "test_date.strftime('%m')"
   ],
   "metadata": {
    "collapsed": false,
    "ExecuteTime": {
     "start_time": "2023-05-11T15:52:24.682707400Z"
    }
   }
  },
  {
   "cell_type": "code",
   "execution_count": null,
   "outputs": [],
   "source": [
    "\n",
    "mining.gfi_calcs('2023-04-10')"
   ],
   "metadata": {
    "collapsed": false,
    "ExecuteTime": {
     "start_time": "2023-05-11T15:52:24.683719100Z"
    }
   }
  },
  {
   "cell_type": "code",
   "execution_count": null,
   "outputs": [],
   "source": [
    "mining.gfi_calcs('2023-04-10', 'raw')"
   ],
   "metadata": {
    "collapsed": false,
    "ExecuteTime": {
     "start_time": "2023-05-11T15:52:24.685705500Z"
    }
   }
  },
  {
   "cell_type": "code",
   "execution_count": null,
   "outputs": [],
   "source": [
    "mining.gfi_calcs()"
   ],
   "metadata": {
    "collapsed": false,
    "ExecuteTime": {
     "start_time": "2023-05-11T15:52:24.687379700Z"
    }
   }
  },
  {
   "cell_type": "code",
   "execution_count": null,
   "outputs": [],
   "source": [
    "mining.tradition_calcs('2023-04-14')"
   ],
   "metadata": {
    "collapsed": false,
    "ExecuteTime": {
     "start_time": "2023-05-11T15:52:24.690446300Z"
    }
   }
  },
  {
   "cell_type": "code",
   "execution_count": null,
   "outputs": [],
   "source": [
    "mining.tradition_calcs()\n"
   ],
   "metadata": {
    "collapsed": false,
    "ExecuteTime": {
     "start_time": "2023-05-11T15:52:24.693739Z"
    }
   }
  },
  {
   "cell_type": "code",
   "execution_count": null,
   "outputs": [],
   "source": [
    "mining.bgc_calcs()\n"
   ],
   "metadata": {
    "collapsed": false,
    "ExecuteTime": {
     "start_time": "2023-05-11T15:52:24.695734300Z"
    }
   }
  },
  {
   "cell_type": "code",
   "execution_count": null,
   "outputs": [],
   "source": [
    "mining.gfi_calcs()"
   ],
   "metadata": {
    "collapsed": false,
    "ExecuteTime": {
     "start_time": "2023-05-11T15:52:24.696730100Z"
    }
   }
  },
  {
   "cell_type": "code",
   "execution_count": null,
   "outputs": [],
   "source": [
    "from pathlib import Path\n",
    "from ndf.util import get_cache_filename\n",
    "\n",
    "Path(get_cache_filename('gfi')).is_file()"
   ],
   "metadata": {
    "collapsed": false,
    "ExecuteTime": {
     "start_time": "2023-05-11T15:52:24.697455500Z"
    }
   }
  },
  {
   "cell_type": "code",
   "execution_count": null,
   "outputs": [],
   "source": [
    "\n",
    "\n",
    "d = ndf.download.download()\n",
    "d.download_all()"
   ],
   "metadata": {
    "collapsed": false,
    "ExecuteTime": {
     "start_time": "2023-05-11T15:52:24.698461300Z"
    }
   }
  },
  {
   "cell_type": "code",
   "execution_count": null,
   "outputs": [],
   "source": [
    "mining.tradition_calcs()"
   ],
   "metadata": {
    "collapsed": false,
    "ExecuteTime": {
     "start_time": "2023-05-11T15:52:24.699458100Z"
    }
   }
  },
  {
   "cell_type": "markdown",
   "source": [
    "def get_business_day(date, business_day):\n",
    "    # fazer a magica aqui\n",
    "    # ...\n",
    "    #...\n",
    "    return datetime.strftime(resultado)\n",
    "\n"
   ],
   "metadata": {
    "collapsed": false
   }
  },
  {
   "cell_type": "markdown",
   "source": [
    "data = datetime.strptime('2023-07-04', \"%Y-%m-%d\")\n",
    "\n",
    "get_business_day(data, 2)\n"
   ],
   "metadata": {
    "collapsed": false
   }
  }
 ],
 "metadata": {
  "kernelspec": {
   "display_name": "Python 3",
   "language": "python",
   "name": "python3"
  },
  "language_info": {
   "codemirror_mode": {
    "name": "ipython",
    "version": 2
   },
   "file_extension": ".py",
   "mimetype": "text/x-python",
   "name": "python",
   "nbconvert_exporter": "python",
   "pygments_lexer": "ipython2",
   "version": "2.7.6"
  }
 },
 "nbformat": 4,
 "nbformat_minor": 0
}
