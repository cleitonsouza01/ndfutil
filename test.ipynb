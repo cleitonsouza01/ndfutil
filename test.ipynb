{
 "cells": [
  {
   "cell_type": "code",
   "execution_count": 1,
   "metadata": {
    "collapsed": true,
    "ExecuteTime": {
     "start_time": "2023-05-01T22:01:56.813375Z",
     "end_time": "2023-05-01T22:01:57.551205Z"
    }
   },
   "outputs": [],
   "source": [
    "from loguru import logger\n",
    "\n",
    "from ndf.download import ndf"
   ]
  },
  {
   "cell_type": "code",
   "execution_count": 2,
   "outputs": [
    {
     "name": "stderr",
     "output_type": "stream",
     "text": [
      "2023-05-01 22:01:57.552 | INFO     | __main__:<module>:1 - Starting service\n",
      "2023-05-01 22:01:57.555 | INFO     | ndf.download:_download:84 - Loaded BGC DATA from cache DATA/BGC_2023-05-01.pkl\n",
      "2023-05-01 22:01:57.556 | INFO     | ndf.download:_download:84 - Loaded TRADITION DATA from cache DATA/TRADITION_2023-05-01.pkl\n",
      "2023-05-01 22:01:57.558 | INFO     | ndf.download:_download:84 - Loaded TULLETPREBON DATA from cache DATA/TULLETPREBON_2023-05-01.pkl\n",
      "2023-05-01 22:01:57.559 | INFO     | ndf.download:_download:84 - Loaded GFI DATA from cache DATA/GFI_2023-05-01.pkl\n"
     ]
    }
   ],
   "source": [
    "logger.info(\"Starting service\")\n",
    "\n",
    "n = ndf()\n",
    "\n",
    "n.download_all()\n"
   ],
   "metadata": {
    "collapsed": false,
    "ExecuteTime": {
     "start_time": "2023-05-01T22:01:57.553822Z",
     "end_time": "2023-05-01T22:01:57.562928Z"
    }
   }
  },
  {
   "cell_type": "code",
   "execution_count": 3,
   "outputs": [],
   "source": [
    "import os\n",
    "from datetime import datetime\n",
    "import os\n",
    "\n",
    "# Setup file name\n",
    "def get_filename(source, date=None):\n",
    "    today_date = datetime.now().strftime('%Y-%m-%d') if date is None else date\n",
    "    file = f\"{source}_{today_date}.pkl\"\n",
    "    file_with_path = os.path.join(os.getcwd() + '\\\\DATA\\\\', file)\n",
    "    return file_with_path"
   ],
   "metadata": {
    "collapsed": false,
    "ExecuteTime": {
     "start_time": "2023-05-01T22:01:57.564867Z",
     "end_time": "2023-05-01T22:01:57.566657Z"
    }
   }
  },
  {
   "cell_type": "code",
   "execution_count": 4,
   "outputs": [
    {
     "data": {
      "text/plain": "'/Users/cleiton/PycharmProjects/ndfutil\\\\DATA\\\\/tulletprebon_2023-04-27.pkl'"
     },
     "execution_count": 4,
     "metadata": {},
     "output_type": "execute_result"
    }
   ],
   "source": [
    "get_filename('tulletprebon','2023-04-27')"
   ],
   "metadata": {
    "collapsed": false,
    "ExecuteTime": {
     "start_time": "2023-05-01T22:01:57.569803Z",
     "end_time": "2023-05-01T22:01:57.588055Z"
    }
   }
  },
  {
   "cell_type": "code",
   "execution_count": 5,
   "outputs": [
    {
     "data": {
      "text/plain": "0"
     },
     "execution_count": 5,
     "metadata": {},
     "output_type": "execute_result"
    }
   ],
   "source": [
    "from datetime import datetime, timedelta\n",
    "\n",
    "datetime.today().weekday()"
   ],
   "metadata": {
    "collapsed": false,
    "ExecuteTime": {
     "start_time": "2023-05-01T22:01:57.576237Z",
     "end_time": "2023-05-01T22:01:57.588490Z"
    }
   }
  },
  {
   "cell_type": "code",
   "execution_count": 5,
   "outputs": [],
   "source": [],
   "metadata": {
    "collapsed": false,
    "ExecuteTime": {
     "start_time": "2023-05-01T22:01:57.579243Z",
     "end_time": "2023-05-01T22:01:57.588582Z"
    }
   }
  },
  {
   "cell_type": "code",
   "execution_count": 5,
   "outputs": [],
   "source": [],
   "metadata": {
    "collapsed": false,
    "ExecuteTime": {
     "start_time": "2023-05-01T22:01:57.581996Z",
     "end_time": "2023-05-01T22:01:57.588730Z"
    }
   }
  },
  {
   "cell_type": "code",
   "execution_count": 6,
   "outputs": [
    {
     "name": "stdout",
     "output_type": "stream",
     "text": [
      "2023-04-28 00:00:00\n"
     ]
    }
   ],
   "source": [
    "test_date = datetime(2023, 5, 1)\n",
    "\n",
    "days=1\n",
    "while test_date.weekday() >= 5 or test_date.weekday() == 0:\n",
    "    test_date = test_date - timedelta(days=1)\n",
    "    days=0\n",
    "\n",
    "most_recent_previous_business_day = test_date - timedelta(days=days)\n",
    "\n",
    "print(most_recent_previous_business_day)"
   ],
   "metadata": {
    "collapsed": false,
    "ExecuteTime": {
     "start_time": "2023-05-01T22:01:57.585686Z",
     "end_time": "2023-05-01T22:01:57.588878Z"
    }
   }
  },
  {
   "cell_type": "code",
   "execution_count": 7,
   "outputs": [
    {
     "name": "stdout",
     "output_type": "stream",
     "text": [
      "2022-07-01 00:00:00\n"
     ]
    }
   ],
   "source": [
    "from ndf.util import is_weekday, is_holiday, is_weekend\n",
    "\n",
    "test_date = datetime(2022, 7, 5)\n",
    "test_date = test_date - timedelta(days=1)\n",
    "\n",
    "while is_weekend(test_date) or is_holiday(test_date):\n",
    "    test_date = test_date - timedelta(days=1)\n",
    "\n",
    "most_recent_previous_business_day = test_date\n",
    "\n",
    "print(most_recent_previous_business_day)"
   ],
   "metadata": {
    "collapsed": false,
    "ExecuteTime": {
     "start_time": "2023-05-01T22:01:57.589836Z",
     "end_time": "2023-05-01T22:01:57.605454Z"
    }
   }
  },
  {
   "cell_type": "code",
   "execution_count": 8,
   "outputs": [
    {
     "data": {
      "text/plain": "datetime.datetime(2022, 7, 1, 0, 0)"
     },
     "execution_count": 8,
     "metadata": {},
     "output_type": "execute_result"
    }
   ],
   "source": [
    "from ndf.util import get_last_business_day\n",
    "\n",
    "get_last_business_day(datetime(2022, 7, 5))"
   ],
   "metadata": {
    "collapsed": false,
    "ExecuteTime": {
     "start_time": "2023-05-01T22:01:57.603350Z",
     "end_time": "2023-05-01T22:01:57.637747Z"
    }
   }
  }
 ],
 "metadata": {
  "kernelspec": {
   "display_name": "Python 3",
   "language": "python",
   "name": "python3"
  },
  "language_info": {
   "codemirror_mode": {
    "name": "ipython",
    "version": 2
   },
   "file_extension": ".py",
   "mimetype": "text/x-python",
   "name": "python",
   "nbconvert_exporter": "python",
   "pygments_lexer": "ipython2",
   "version": "2.7.6"
  }
 },
 "nbformat": 4,
 "nbformat_minor": 0
}
