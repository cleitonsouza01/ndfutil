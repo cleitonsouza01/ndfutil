{
 "cells": [
  {
   "cell_type": "code",
   "execution_count": 1,
   "metadata": {
    "collapsed": true,
    "ExecuteTime": {
     "end_time": "2023-05-12T15:37:13.974655200Z",
     "start_time": "2023-05-12T15:37:10.430982900Z"
    }
   },
   "outputs": [],
   "source": [
    "import datetime as datetime\n",
    "from loguru import logger\n",
    "\n",
    "import ndf.download\n",
    "from ndf import download"
   ]
  },
  {
   "cell_type": "code",
   "execution_count": 21,
   "outputs": [
    {
     "name": "stdout",
     "output_type": "stream",
     "text": [
      "Download ok!\n"
     ]
    }
   ],
   "source": [
    "import requests\n",
    "import time\n",
    "\n",
    "url = 'https://www.tullettprebon.com/swap-execution-facility/daily-activity-summary.aspx'\n",
    "# url = 'https://www.zanno.com.br/dd'\n",
    "\n",
    "MAX_RETRIES = 6\n",
    "TIME_TO_WAIT = 10\n",
    "\n",
    "for _ in range(MAX_RETRIES):\n",
    "    r = requests.get(url)\n",
    "    if r.ok:\n",
    "        print('Download ok!')\n",
    "        break\n",
    "    else:\n",
    "        wait = TIME_TO_WAIT * (_ + 1) if _ < 3 else TIME_TO_WAIT * (_*3)\n",
    "        print(f'wait {wait} seconds...')\n",
    "        time.sleep(wait)"
   ],
   "metadata": {
    "collapsed": false,
    "ExecuteTime": {
     "end_time": "2023-06-18T16:48:20.395196Z",
     "start_time": "2023-06-18T16:48:18.228253Z"
    }
   }
  },
  {
   "cell_type": "code",
   "execution_count": 23,
   "outputs": [
    {
     "data": {
      "text/plain": "'TESTE'"
     },
     "execution_count": 23,
     "metadata": {},
     "output_type": "execute_result"
    }
   ],
   "source": [
    "'teste'.upper()"
   ],
   "metadata": {
    "collapsed": false,
    "ExecuteTime": {
     "end_time": "2023-06-18T17:19:22.228147Z",
     "start_time": "2023-06-18T17:19:22.222501Z"
    }
   }
  },
  {
   "cell_type": "code",
   "execution_count": 20,
   "outputs": [
    {
     "name": "stdout",
     "output_type": "stream",
     "text": [
      "False\n"
     ]
    }
   ],
   "source": [
    "a = None\n",
    "\n",
    "print(bool(a))"
   ],
   "metadata": {
    "collapsed": false,
    "ExecuteTime": {
     "end_time": "2023-06-18T16:47:10.913121Z",
     "start_time": "2023-06-18T16:47:10.907426Z"
    }
   }
  },
  {
   "cell_type": "code",
   "execution_count": 2,
   "outputs": [],
   "source": [
    "import warnings\n",
    "warnings.simplefilter(action='ignore', category=FutureWarning)"
   ],
   "metadata": {
    "collapsed": false,
    "ExecuteTime": {
     "end_time": "2023-05-12T15:37:13.989217500Z",
     "start_time": "2023-05-12T15:37:13.974655200Z"
    }
   }
  },
  {
   "cell_type": "code",
   "execution_count": 3,
   "outputs": [
    {
     "data": {
      "text/plain": "2"
     },
     "execution_count": 3,
     "metadata": {},
     "output_type": "execute_result"
    }
   ],
   "source": [
    "import sys\n",
    "\n",
    "log_level = 'ERROR'\n",
    "logger.add(sys.stderr, format=\"{time} {level} {message}\", filter=\"my_module\", level=log_level)\n",
    "# logger.add(sys.stdout, colorize=True, format=\"<green>{time}</green> <level>{message}</level>\")\n",
    "logger.add(\"ndfdownload.log\", rotation=\"30 MB\", level=log_level)\n",
    "\n"
   ],
   "metadata": {
    "collapsed": false,
    "ExecuteTime": {
     "end_time": "2023-05-12T15:37:14.055485500Z",
     "start_time": "2023-05-12T15:37:13.992226900Z"
    }
   }
  },
  {
   "cell_type": "markdown",
   "source": [
    "## Remove DEBUG"
   ],
   "metadata": {
    "collapsed": false
   }
  },
  {
   "cell_type": "code",
   "execution_count": 4,
   "outputs": [],
   "source": [
    "logger.remove()"
   ],
   "metadata": {
    "collapsed": false,
    "ExecuteTime": {
     "end_time": "2023-05-12T15:37:14.055485500Z",
     "start_time": "2023-05-12T15:37:14.015309200Z"
    }
   }
  },
  {
   "cell_type": "code",
   "execution_count": 5,
   "outputs": [],
   "source": [
    "logger.debug('teste debug')\n",
    "logger.info('teste info')\n"
   ],
   "metadata": {
    "collapsed": false,
    "ExecuteTime": {
     "end_time": "2023-05-12T15:37:14.088069300Z",
     "start_time": "2023-05-12T15:37:14.036836700Z"
    }
   }
  },
  {
   "cell_type": "code",
   "execution_count": 6,
   "outputs": [],
   "source": [
    "# d = download.download()\n",
    "# d.download_all()"
   ],
   "metadata": {
    "collapsed": false,
    "ExecuteTime": {
     "end_time": "2023-05-12T15:37:14.124164700Z",
     "start_time": "2023-05-12T15:37:14.053133100Z"
    }
   }
  },
  {
   "cell_type": "code",
   "execution_count": 7,
   "outputs": [],
   "source": [
    "from ndf.datamining import datamining\n",
    "\n",
    "mining = datamining()\n",
    "\n",
    "mining.tulletprebon_calcs('2023-04-14')\n"
   ],
   "metadata": {
    "collapsed": false,
    "ExecuteTime": {
     "end_time": "2023-05-12T15:37:14.124164700Z",
     "start_time": "2023-05-12T15:37:14.073606400Z"
    }
   }
  },
  {
   "cell_type": "code",
   "execution_count": 8,
   "outputs": [
    {
     "name": "stdout",
     "output_type": "stream",
     "text": [
      "4 == 5  |  2023-04-28 00:00:00 | USDBRL NDF 28APR2023 BILATERAL\n",
      "5 == 5  |  2023-05-31 00:00:00 | USDBRL NDF 31MAY2023 BILATERAL\n"
     ]
    },
    {
     "data": {
      "text/plain": "                      Description     Volume Source       Class\n0  USDBRL NDF 14APR2023 BILATERAL  102000000    GFI      BROKEN\n1  USDBRL NDF 28APR2023 BILATERAL  402000000    GFI  BMF 5/2023\n2  USDBRL NDF 31MAY2023 BILATERAL  300000000    GFI         BMF\n3                             NaN  804000000    NaN       TOTAL",
      "text/html": "<div>\n<style scoped>\n    .dataframe tbody tr th:only-of-type {\n        vertical-align: middle;\n    }\n\n    .dataframe tbody tr th {\n        vertical-align: top;\n    }\n\n    .dataframe thead th {\n        text-align: right;\n    }\n</style>\n<table border=\"1\" class=\"dataframe\">\n  <thead>\n    <tr style=\"text-align: right;\">\n      <th></th>\n      <th>Description</th>\n      <th>Volume</th>\n      <th>Source</th>\n      <th>Class</th>\n    </tr>\n  </thead>\n  <tbody>\n    <tr>\n      <th>0</th>\n      <td>USDBRL NDF 14APR2023 BILATERAL</td>\n      <td>102000000</td>\n      <td>GFI</td>\n      <td>BROKEN</td>\n    </tr>\n    <tr>\n      <th>1</th>\n      <td>USDBRL NDF 28APR2023 BILATERAL</td>\n      <td>402000000</td>\n      <td>GFI</td>\n      <td>BMF 5/2023</td>\n    </tr>\n    <tr>\n      <th>2</th>\n      <td>USDBRL NDF 31MAY2023 BILATERAL</td>\n      <td>300000000</td>\n      <td>GFI</td>\n      <td>BMF</td>\n    </tr>\n    <tr>\n      <th>3</th>\n      <td>NaN</td>\n      <td>804000000</td>\n      <td>NaN</td>\n      <td>TOTAL</td>\n    </tr>\n  </tbody>\n</table>\n</div>"
     },
     "execution_count": 8,
     "metadata": {},
     "output_type": "execute_result"
    }
   ],
   "source": [
    "gfi = mining.gfi_calcs('2023-04-14', 'raw')\n",
    "gfi"
   ],
   "metadata": {
    "collapsed": false,
    "ExecuteTime": {
     "end_time": "2023-05-12T15:37:14.190525200Z",
     "start_time": "2023-05-12T15:37:14.088069300Z"
    }
   }
  },
  {
   "cell_type": "code",
   "execution_count": 9,
   "outputs": [
    {
     "name": "stdout",
     "output_type": "stream",
     "text": [
      "4 == 5  |  2023-04-28 00:00:00 | USDBRL NDF 28APR2023 BILATERAL\n",
      "5 == 5  |  2023-05-31 00:00:00 | USDBRL NDF 31MAY2023 BILATERAL\n"
     ]
    },
    {
     "data": {
      "text/plain": "           Total for human     Volume\nClass                                \nBMF                   300M  300000000\nBMF 5/2023            402M  402000000\nBROKEN                102M  102000000\nTOTAL                 804M  804000000",
      "text/html": "<div>\n<style scoped>\n    .dataframe tbody tr th:only-of-type {\n        vertical-align: middle;\n    }\n\n    .dataframe tbody tr th {\n        vertical-align: top;\n    }\n\n    .dataframe thead th {\n        text-align: right;\n    }\n</style>\n<table border=\"1\" class=\"dataframe\">\n  <thead>\n    <tr style=\"text-align: right;\">\n      <th></th>\n      <th>Total for human</th>\n      <th>Volume</th>\n    </tr>\n    <tr>\n      <th>Class</th>\n      <th></th>\n      <th></th>\n    </tr>\n  </thead>\n  <tbody>\n    <tr>\n      <th>BMF</th>\n      <td>300M</td>\n      <td>300000000</td>\n    </tr>\n    <tr>\n      <th>BMF 5/2023</th>\n      <td>402M</td>\n      <td>402000000</td>\n    </tr>\n    <tr>\n      <th>BROKEN</th>\n      <td>102M</td>\n      <td>102000000</td>\n    </tr>\n    <tr>\n      <th>TOTAL</th>\n      <td>804M</td>\n      <td>804000000</td>\n    </tr>\n  </tbody>\n</table>\n</div>"
     },
     "execution_count": 9,
     "metadata": {},
     "output_type": "execute_result"
    }
   ],
   "source": [
    "mining.gfi_calcs('2023-04-14')"
   ],
   "metadata": {
    "collapsed": false,
    "ExecuteTime": {
     "end_time": "2023-05-12T15:37:14.224864100Z",
     "start_time": "2023-05-12T15:37:14.162034900Z"
    }
   }
  },
  {
   "cell_type": "code",
   "execution_count": 10,
   "outputs": [
    {
     "name": "stdout",
     "output_type": "stream",
     "text": [
      "5 == 5  |  2023-05-31 00:00:00 | USDBRL NDF 31MAY2023 BILATERAL\n",
      "6 == 5  |  2023-06-30 00:00:00 | USDBRL NDF 30JUN2023 BILATERAL\n"
     ]
    },
    {
     "data": {
      "text/plain": "       Total for human     Volume\nClass                            \nBMF             426.5M  426500000\nBMF2               50M   50000000\nBROKEN          376.5M  376500000\nTOTAL             853M  853000000",
      "text/html": "<div>\n<style scoped>\n    .dataframe tbody tr th:only-of-type {\n        vertical-align: middle;\n    }\n\n    .dataframe tbody tr th {\n        vertical-align: top;\n    }\n\n    .dataframe thead th {\n        text-align: right;\n    }\n</style>\n<table border=\"1\" class=\"dataframe\">\n  <thead>\n    <tr style=\"text-align: right;\">\n      <th></th>\n      <th>Total for human</th>\n      <th>Volume</th>\n    </tr>\n    <tr>\n      <th>Class</th>\n      <th></th>\n      <th></th>\n    </tr>\n  </thead>\n  <tbody>\n    <tr>\n      <th>BMF</th>\n      <td>426.5M</td>\n      <td>426500000</td>\n    </tr>\n    <tr>\n      <th>BMF2</th>\n      <td>50M</td>\n      <td>50000000</td>\n    </tr>\n    <tr>\n      <th>BROKEN</th>\n      <td>376.5M</td>\n      <td>376500000</td>\n    </tr>\n    <tr>\n      <th>TOTAL</th>\n      <td>853M</td>\n      <td>853000000</td>\n    </tr>\n  </tbody>\n</table>\n</div>"
     },
     "execution_count": 10,
     "metadata": {},
     "output_type": "execute_result"
    }
   ],
   "source": [
    "mining.gfi_calcs()"
   ],
   "metadata": {
    "collapsed": false,
    "ExecuteTime": {
     "end_time": "2023-05-12T15:37:14.677179400Z",
     "start_time": "2023-05-12T15:37:14.219471Z"
    }
   }
  },
  {
   "cell_type": "code",
   "execution_count": 11,
   "outputs": [
    {
     "name": "stdout",
     "output_type": "stream",
     "text": [
      "5 == 5  |  2023-05-31 00:00:00 | USDBRL NDF 31MAY2023 BILATERAL\n",
      "6 == 5  |  2023-06-30 00:00:00 | USDBRL NDF 30JUN2023 BILATERAL\n"
     ]
    },
    {
     "data": {
      "text/plain": "                      Description     Volume Source   Class\n0  USDBRL NDF 11MAY2023 BILATERAL  376500000    GFI  BROKEN\n1  USDBRL NDF 31MAY2023 BILATERAL  426500000    GFI     BMF\n2  USDBRL NDF 30JUN2023 BILATERAL   50000000    GFI    BMF2\n3                             NaN  853000000    NaN   TOTAL",
      "text/html": "<div>\n<style scoped>\n    .dataframe tbody tr th:only-of-type {\n        vertical-align: middle;\n    }\n\n    .dataframe tbody tr th {\n        vertical-align: top;\n    }\n\n    .dataframe thead th {\n        text-align: right;\n    }\n</style>\n<table border=\"1\" class=\"dataframe\">\n  <thead>\n    <tr style=\"text-align: right;\">\n      <th></th>\n      <th>Description</th>\n      <th>Volume</th>\n      <th>Source</th>\n      <th>Class</th>\n    </tr>\n  </thead>\n  <tbody>\n    <tr>\n      <th>0</th>\n      <td>USDBRL NDF 11MAY2023 BILATERAL</td>\n      <td>376500000</td>\n      <td>GFI</td>\n      <td>BROKEN</td>\n    </tr>\n    <tr>\n      <th>1</th>\n      <td>USDBRL NDF 31MAY2023 BILATERAL</td>\n      <td>426500000</td>\n      <td>GFI</td>\n      <td>BMF</td>\n    </tr>\n    <tr>\n      <th>2</th>\n      <td>USDBRL NDF 30JUN2023 BILATERAL</td>\n      <td>50000000</td>\n      <td>GFI</td>\n      <td>BMF2</td>\n    </tr>\n    <tr>\n      <th>3</th>\n      <td>NaN</td>\n      <td>853000000</td>\n      <td>NaN</td>\n      <td>TOTAL</td>\n    </tr>\n  </tbody>\n</table>\n</div>"
     },
     "execution_count": 11,
     "metadata": {},
     "output_type": "execute_result"
    }
   ],
   "source": [
    "mining.gfi_calcs(presentation='raw')\n"
   ],
   "metadata": {
    "collapsed": false,
    "ExecuteTime": {
     "end_time": "2023-05-12T15:37:14.748089400Z",
     "start_time": "2023-05-12T15:37:14.678322100Z"
    }
   }
  },
  {
   "cell_type": "code",
   "execution_count": 12,
   "outputs": [
    {
     "name": "stdout",
     "output_type": "stream",
     "text": [
      "5 == 5  |  2023-05-31 00:00:00 | USDBRL NDF 31MAY2023 BILATERAL\n",
      "6 == 5  |  2023-06-30 00:00:00 | USDBRL NDF 30JUN2023 BILATERAL\n"
     ]
    },
    {
     "data": {
      "text/plain": "       Total for human     Volume\nClass                            \nBMF             426.5M  426500000\nBMF2               50M   50000000\nBROKEN          376.5M  376500000\nTOTAL             853M  853000000",
      "text/html": "<div>\n<style scoped>\n    .dataframe tbody tr th:only-of-type {\n        vertical-align: middle;\n    }\n\n    .dataframe tbody tr th {\n        vertical-align: top;\n    }\n\n    .dataframe thead th {\n        text-align: right;\n    }\n</style>\n<table border=\"1\" class=\"dataframe\">\n  <thead>\n    <tr style=\"text-align: right;\">\n      <th></th>\n      <th>Total for human</th>\n      <th>Volume</th>\n    </tr>\n    <tr>\n      <th>Class</th>\n      <th></th>\n      <th></th>\n    </tr>\n  </thead>\n  <tbody>\n    <tr>\n      <th>BMF</th>\n      <td>426.5M</td>\n      <td>426500000</td>\n    </tr>\n    <tr>\n      <th>BMF2</th>\n      <td>50M</td>\n      <td>50000000</td>\n    </tr>\n    <tr>\n      <th>BROKEN</th>\n      <td>376.5M</td>\n      <td>376500000</td>\n    </tr>\n    <tr>\n      <th>TOTAL</th>\n      <td>853M</td>\n      <td>853000000</td>\n    </tr>\n  </tbody>\n</table>\n</div>"
     },
     "execution_count": 12,
     "metadata": {},
     "output_type": "execute_result"
    }
   ],
   "source": [
    "mining.gfi_calcs()"
   ],
   "metadata": {
    "collapsed": false,
    "ExecuteTime": {
     "end_time": "2023-05-12T15:37:14.862965800Z",
     "start_time": "2023-05-12T15:37:14.722374200Z"
    }
   }
  },
  {
   "cell_type": "code",
   "execution_count": 13,
   "outputs": [
    {
     "name": "stdout",
     "output_type": "stream",
     "text": [
      "5 == 5  |  2023-05-31 00:00:00 | USDBRL NDF 31MAY2023 BILATERAL\n"
     ]
    },
    {
     "data": {
      "text/plain": "       Total for human     Volume\nClass                            \nBMF               480M  480000000\nBROKEN            159M  159000000\nTOTAL             639M  639000000",
      "text/html": "<div>\n<style scoped>\n    .dataframe tbody tr th:only-of-type {\n        vertical-align: middle;\n    }\n\n    .dataframe tbody tr th {\n        vertical-align: top;\n    }\n\n    .dataframe thead th {\n        text-align: right;\n    }\n</style>\n<table border=\"1\" class=\"dataframe\">\n  <thead>\n    <tr style=\"text-align: right;\">\n      <th></th>\n      <th>Total for human</th>\n      <th>Volume</th>\n    </tr>\n    <tr>\n      <th>Class</th>\n      <th></th>\n      <th></th>\n    </tr>\n  </thead>\n  <tbody>\n    <tr>\n      <th>BMF</th>\n      <td>480M</td>\n      <td>480000000</td>\n    </tr>\n    <tr>\n      <th>BROKEN</th>\n      <td>159M</td>\n      <td>159000000</td>\n    </tr>\n    <tr>\n      <th>TOTAL</th>\n      <td>639M</td>\n      <td>639000000</td>\n    </tr>\n  </tbody>\n</table>\n</div>"
     },
     "execution_count": 13,
     "metadata": {},
     "output_type": "execute_result"
    }
   ],
   "source": [
    "mining.bgc_calcs()"
   ],
   "metadata": {
    "collapsed": false,
    "ExecuteTime": {
     "end_time": "2023-05-12T15:37:15.437134200Z",
     "start_time": "2023-05-12T15:37:14.764854200Z"
    }
   }
  },
  {
   "cell_type": "code",
   "execution_count": 14,
   "outputs": [
    {
     "name": "stdout",
     "output_type": "stream",
     "text": [
      "5 == 5  |  2023-05-31 00:00:00 | USDBRL NDF 31MAY2023 BILATERAL\n"
     ]
    },
    {
     "data": {
      "text/plain": "   Trade Date                     Description OpenType LowType HighType  \\\n0  2023-05-11  USDBRL NDF 11MAY2023 BILATERAL    TRANS   TRANS    TRANS   \n1  2023-05-11  USDBRL NDF 31MAY2023 BILATERAL    TRANS   TRANS    TRANS   \n2         NaN                             NaN      NaN     NaN      NaN   \n\n  CloseType EDRPVolume     Volume Source   Class  \n0     TRANS        NaN  159000000    BGC  BROKEN  \n1     TRANS        NaN  480000000    BGC     BMF  \n2       NaN        NaN  639000000    NaN   TOTAL  ",
      "text/html": "<div>\n<style scoped>\n    .dataframe tbody tr th:only-of-type {\n        vertical-align: middle;\n    }\n\n    .dataframe tbody tr th {\n        vertical-align: top;\n    }\n\n    .dataframe thead th {\n        text-align: right;\n    }\n</style>\n<table border=\"1\" class=\"dataframe\">\n  <thead>\n    <tr style=\"text-align: right;\">\n      <th></th>\n      <th>Trade Date</th>\n      <th>Description</th>\n      <th>OpenType</th>\n      <th>LowType</th>\n      <th>HighType</th>\n      <th>CloseType</th>\n      <th>EDRPVolume</th>\n      <th>Volume</th>\n      <th>Source</th>\n      <th>Class</th>\n    </tr>\n  </thead>\n  <tbody>\n    <tr>\n      <th>0</th>\n      <td>2023-05-11</td>\n      <td>USDBRL NDF 11MAY2023 BILATERAL</td>\n      <td>TRANS</td>\n      <td>TRANS</td>\n      <td>TRANS</td>\n      <td>TRANS</td>\n      <td>NaN</td>\n      <td>159000000</td>\n      <td>BGC</td>\n      <td>BROKEN</td>\n    </tr>\n    <tr>\n      <th>1</th>\n      <td>2023-05-11</td>\n      <td>USDBRL NDF 31MAY2023 BILATERAL</td>\n      <td>TRANS</td>\n      <td>TRANS</td>\n      <td>TRANS</td>\n      <td>TRANS</td>\n      <td>NaN</td>\n      <td>480000000</td>\n      <td>BGC</td>\n      <td>BMF</td>\n    </tr>\n    <tr>\n      <th>2</th>\n      <td>NaN</td>\n      <td>NaN</td>\n      <td>NaN</td>\n      <td>NaN</td>\n      <td>NaN</td>\n      <td>NaN</td>\n      <td>NaN</td>\n      <td>639000000</td>\n      <td>NaN</td>\n      <td>TOTAL</td>\n    </tr>\n  </tbody>\n</table>\n</div>"
     },
     "execution_count": 14,
     "metadata": {},
     "output_type": "execute_result"
    }
   ],
   "source": [
    "mining.bgc_calcs(presentation='raw')"
   ],
   "metadata": {
    "collapsed": false,
    "ExecuteTime": {
     "end_time": "2023-05-12T15:37:15.555589600Z",
     "start_time": "2023-05-12T15:37:15.439460100Z"
    }
   }
  },
  {
   "cell_type": "code",
   "execution_count": 15,
   "outputs": [
    {
     "name": "stderr",
     "output_type": "stream",
     "text": [
      "C:\\Users\\souzacle\\PycharmProjects\\ndfutil\\venv\\lib\\site-packages\\urllib3\\connectionpool.py:1045: InsecureRequestWarning: Unverified HTTPS request is being made to host 'www.traditionsef.com'. Adding certificate verification is strongly advised. See: https://urllib3.readthedocs.io/en/1.26.x/advanced-usage.html#ssl-warnings\n",
      "  warnings.warn(\n"
     ]
    },
    {
     "data": {
      "text/plain": "      Total for human  Total_Trade_Count\nClass                                   \nTOTAL               0                0.0",
      "text/html": "<div>\n<style scoped>\n    .dataframe tbody tr th:only-of-type {\n        vertical-align: middle;\n    }\n\n    .dataframe tbody tr th {\n        vertical-align: top;\n    }\n\n    .dataframe thead th {\n        text-align: right;\n    }\n</style>\n<table border=\"1\" class=\"dataframe\">\n  <thead>\n    <tr style=\"text-align: right;\">\n      <th></th>\n      <th>Total for human</th>\n      <th>Total_Trade_Count</th>\n    </tr>\n    <tr>\n      <th>Class</th>\n      <th></th>\n      <th></th>\n    </tr>\n  </thead>\n  <tbody>\n    <tr>\n      <th>TOTAL</th>\n      <td>0</td>\n      <td>0.0</td>\n    </tr>\n  </tbody>\n</table>\n</div>"
     },
     "execution_count": 15,
     "metadata": {},
     "output_type": "execute_result"
    }
   ],
   "source": [
    "mining.tradition_calcs()"
   ],
   "metadata": {
    "collapsed": false,
    "ExecuteTime": {
     "end_time": "2023-05-12T15:37:16.546804300Z",
     "start_time": "2023-05-12T15:37:15.518954900Z"
    }
   }
  },
  {
   "cell_type": "markdown",
   "source": [],
   "metadata": {
    "collapsed": false
   }
  },
  {
   "cell_type": "code",
   "execution_count": 16,
   "outputs": [
    {
     "name": "stderr",
     "output_type": "stream",
     "text": [
      "C:\\Users\\souzacle\\PycharmProjects\\ndfutil\\venv\\lib\\site-packages\\scrapy\\selector\\unified.py:83: UserWarning: Selector got both text and root, root is being ignored.\n",
      "  super().__init__(text=text, type=st, root=root, **kwargs)\n"
     ]
    },
    {
     "data": {
      "text/plain": "          Total for human  Num of Trades    Days  Total Notional Value\nClass                                                                 \nBMF1                1.32B           33.0    36.0          1.324400e+09\nBMF2                 200M            3.0    51.0          2.000000e+08\nBROKEN            700.28M           16.0    41.0          7.002796e+08\nGT 1 YEAR             60M            1.0  1144.0          6.000000e+07\nLONGER            196.78M            5.0   333.0          1.967796e+08\nMATURING           62.75M           26.0     0.0          6.275000e+07\nPTAX                51.5M            5.0     0.0          5.150000e+07\nTOMPTAX               42M            2.0     0.0          4.200000e+07\nTOTAL               2.64B            0.0     0.0          2.637709e+09",
      "text/html": "<div>\n<style scoped>\n    .dataframe tbody tr th:only-of-type {\n        vertical-align: middle;\n    }\n\n    .dataframe tbody tr th {\n        vertical-align: top;\n    }\n\n    .dataframe thead th {\n        text-align: right;\n    }\n</style>\n<table border=\"1\" class=\"dataframe\">\n  <thead>\n    <tr style=\"text-align: right;\">\n      <th></th>\n      <th>Total for human</th>\n      <th>Num of Trades</th>\n      <th>Days</th>\n      <th>Total Notional Value</th>\n    </tr>\n    <tr>\n      <th>Class</th>\n      <th></th>\n      <th></th>\n      <th></th>\n      <th></th>\n    </tr>\n  </thead>\n  <tbody>\n    <tr>\n      <th>BMF1</th>\n      <td>1.32B</td>\n      <td>33.0</td>\n      <td>36.0</td>\n      <td>1.324400e+09</td>\n    </tr>\n    <tr>\n      <th>BMF2</th>\n      <td>200M</td>\n      <td>3.0</td>\n      <td>51.0</td>\n      <td>2.000000e+08</td>\n    </tr>\n    <tr>\n      <th>BROKEN</th>\n      <td>700.28M</td>\n      <td>16.0</td>\n      <td>41.0</td>\n      <td>7.002796e+08</td>\n    </tr>\n    <tr>\n      <th>GT 1 YEAR</th>\n      <td>60M</td>\n      <td>1.0</td>\n      <td>1144.0</td>\n      <td>6.000000e+07</td>\n    </tr>\n    <tr>\n      <th>LONGER</th>\n      <td>196.78M</td>\n      <td>5.0</td>\n      <td>333.0</td>\n      <td>1.967796e+08</td>\n    </tr>\n    <tr>\n      <th>MATURING</th>\n      <td>62.75M</td>\n      <td>26.0</td>\n      <td>0.0</td>\n      <td>6.275000e+07</td>\n    </tr>\n    <tr>\n      <th>PTAX</th>\n      <td>51.5M</td>\n      <td>5.0</td>\n      <td>0.0</td>\n      <td>5.150000e+07</td>\n    </tr>\n    <tr>\n      <th>TOMPTAX</th>\n      <td>42M</td>\n      <td>2.0</td>\n      <td>0.0</td>\n      <td>4.200000e+07</td>\n    </tr>\n    <tr>\n      <th>TOTAL</th>\n      <td>2.64B</td>\n      <td>0.0</td>\n      <td>0.0</td>\n      <td>2.637709e+09</td>\n    </tr>\n  </tbody>\n</table>\n</div>"
     },
     "execution_count": 16,
     "metadata": {},
     "output_type": "execute_result"
    }
   ],
   "source": [
    "mining.tulletprebon_calcs()"
   ],
   "metadata": {
    "collapsed": false,
    "ExecuteTime": {
     "end_time": "2023-05-12T15:37:21.151330200Z",
     "start_time": "2023-05-12T15:37:16.545908700Z"
    }
   }
  },
  {
   "cell_type": "markdown",
   "source": [],
   "metadata": {
    "collapsed": false
   }
  },
  {
   "cell_type": "code",
   "execution_count": 17,
   "outputs": [
    {
     "data": {
      "text/plain": "datetime.datetime(2023, 5, 31, 0, 0)"
     },
     "execution_count": 17,
     "metadata": {},
     "output_type": "execute_result"
    }
   ],
   "source": [
    "from datetime import datetime\n",
    "\n",
    "test_date = gfi.iloc[2]['Description'].split(' ')[2]\n",
    "test_date = datetime.strptime(test_date, \"%d%b%Y\")\n",
    "test_date\n",
    "\n"
   ],
   "metadata": {
    "collapsed": false,
    "ExecuteTime": {
     "end_time": "2023-05-12T15:37:21.167813600Z",
     "start_time": "2023-05-12T15:37:21.154318500Z"
    }
   }
  },
  {
   "cell_type": "code",
   "execution_count": 18,
   "outputs": [
    {
     "name": "stdout",
     "output_type": "stream",
     "text": [
      "5 == 5\n",
      "bmf1\n"
     ]
    }
   ],
   "source": [
    "today = datetime.today()\n",
    "\n",
    "print(f'{today.month} == {test_date.month}')\n",
    "\n",
    "if today.month == test_date.month:\n",
    "    print('bmf1')"
   ],
   "metadata": {
    "collapsed": false,
    "ExecuteTime": {
     "end_time": "2023-05-12T15:37:21.202099400Z",
     "start_time": "2023-05-12T15:37:21.170801600Z"
    }
   }
  },
  {
   "cell_type": "code",
   "execution_count": 19,
   "outputs": [
    {
     "data": {
      "text/plain": "int"
     },
     "execution_count": 19,
     "metadata": {},
     "output_type": "execute_result"
    }
   ],
   "source": [
    "type(today.month)"
   ],
   "metadata": {
    "collapsed": false,
    "ExecuteTime": {
     "end_time": "2023-05-12T15:37:21.217806100Z",
     "start_time": "2023-05-12T15:37:21.181589200Z"
    }
   }
  },
  {
   "cell_type": "code",
   "execution_count": 20,
   "outputs": [
    {
     "name": "stdout",
     "output_type": "stream",
     "text": [
      "2023-05-31 00:00:00\n",
      "2023-05-31 00:00:00\n",
      "BMF\n"
     ]
    }
   ],
   "source": [
    "from ndf.util import get_last_bd\n",
    "\n",
    "print(test_date)\n",
    "print(get_last_bd(test_date))\n",
    "\n",
    "if test_date == get_last_bd(test_date):\n",
    "    print('BMF')\n",
    "\n",
    "# datetime.strptime('2023-05-01', '%Y-%m-%d') + BMonthEnd()"
   ],
   "metadata": {
    "collapsed": false,
    "ExecuteTime": {
     "end_time": "2023-05-12T15:37:21.289029400Z",
     "start_time": "2023-05-12T15:37:21.198059900Z"
    }
   }
  },
  {
   "cell_type": "code",
   "execution_count": 21,
   "outputs": [
    {
     "data": {
      "text/plain": "Timestamp('2023-06-02 11:37:21.217806')"
     },
     "execution_count": 21,
     "metadata": {},
     "output_type": "execute_result"
    }
   ],
   "source": [
    "from datetime import timedelta\n",
    "from ndf.util import get_second_business_day\n",
    "from pandas._libs.tslibs.offsets import BDay\n",
    "\n",
    "test_date = test_date + timedelta(days=2)\n",
    "get_second_business_day(test_date.strftime('%m'), test_date.strftime('%Y'))\n",
    "\n"
   ],
   "metadata": {
    "collapsed": false,
    "ExecuteTime": {
     "end_time": "2023-05-12T15:37:21.305167Z",
     "start_time": "2023-05-12T15:37:21.233928300Z"
    }
   }
  },
  {
   "cell_type": "code",
   "execution_count": 22,
   "outputs": [
    {
     "data": {
      "text/plain": "'06'"
     },
     "execution_count": 22,
     "metadata": {},
     "output_type": "execute_result"
    }
   ],
   "source": [
    "test_date.strftime('%m')"
   ],
   "metadata": {
    "collapsed": false,
    "ExecuteTime": {
     "end_time": "2023-05-12T15:37:21.314849800Z",
     "start_time": "2023-05-12T15:37:21.273245300Z"
    }
   }
  },
  {
   "cell_type": "code",
   "execution_count": 23,
   "outputs": [
    {
     "name": "stdout",
     "output_type": "stream",
     "text": [
      "4 == 5  |  2023-04-28 00:00:00 | USDBRL NDF 28APR2023 BILATERAL\n"
     ]
    },
    {
     "data": {
      "text/plain": "           Total for human     Volume\nClass                                \nBMF 5/2023          163.5M  163500000\nBROKEN              113.5M  113500000\nTOTAL                 277M  277000000",
      "text/html": "<div>\n<style scoped>\n    .dataframe tbody tr th:only-of-type {\n        vertical-align: middle;\n    }\n\n    .dataframe tbody tr th {\n        vertical-align: top;\n    }\n\n    .dataframe thead th {\n        text-align: right;\n    }\n</style>\n<table border=\"1\" class=\"dataframe\">\n  <thead>\n    <tr style=\"text-align: right;\">\n      <th></th>\n      <th>Total for human</th>\n      <th>Volume</th>\n    </tr>\n    <tr>\n      <th>Class</th>\n      <th></th>\n      <th></th>\n    </tr>\n  </thead>\n  <tbody>\n    <tr>\n      <th>BMF 5/2023</th>\n      <td>163.5M</td>\n      <td>163500000</td>\n    </tr>\n    <tr>\n      <th>BROKEN</th>\n      <td>113.5M</td>\n      <td>113500000</td>\n    </tr>\n    <tr>\n      <th>TOTAL</th>\n      <td>277M</td>\n      <td>277000000</td>\n    </tr>\n  </tbody>\n</table>\n</div>"
     },
     "execution_count": 23,
     "metadata": {},
     "output_type": "execute_result"
    }
   ],
   "source": [
    "\n",
    "mining.gfi_calcs('2023-04-10')"
   ],
   "metadata": {
    "collapsed": false,
    "ExecuteTime": {
     "end_time": "2023-05-12T15:37:21.339163200Z",
     "start_time": "2023-05-12T15:37:21.289029400Z"
    }
   }
  },
  {
   "cell_type": "code",
   "execution_count": 24,
   "outputs": [
    {
     "name": "stdout",
     "output_type": "stream",
     "text": [
      "4 == 5  |  2023-04-28 00:00:00 | USDBRL NDF 28APR2023 BILATERAL\n"
     ]
    },
    {
     "data": {
      "text/plain": "                      Description     Volume Source       Class\n0  USDBRL NDF 10APR2023 BILATERAL  113500000    GFI      BROKEN\n1  USDBRL NDF 28APR2023 BILATERAL  163500000    GFI  BMF 5/2023\n2                             NaN  277000000    NaN       TOTAL",
      "text/html": "<div>\n<style scoped>\n    .dataframe tbody tr th:only-of-type {\n        vertical-align: middle;\n    }\n\n    .dataframe tbody tr th {\n        vertical-align: top;\n    }\n\n    .dataframe thead th {\n        text-align: right;\n    }\n</style>\n<table border=\"1\" class=\"dataframe\">\n  <thead>\n    <tr style=\"text-align: right;\">\n      <th></th>\n      <th>Description</th>\n      <th>Volume</th>\n      <th>Source</th>\n      <th>Class</th>\n    </tr>\n  </thead>\n  <tbody>\n    <tr>\n      <th>0</th>\n      <td>USDBRL NDF 10APR2023 BILATERAL</td>\n      <td>113500000</td>\n      <td>GFI</td>\n      <td>BROKEN</td>\n    </tr>\n    <tr>\n      <th>1</th>\n      <td>USDBRL NDF 28APR2023 BILATERAL</td>\n      <td>163500000</td>\n      <td>GFI</td>\n      <td>BMF 5/2023</td>\n    </tr>\n    <tr>\n      <th>2</th>\n      <td>NaN</td>\n      <td>277000000</td>\n      <td>NaN</td>\n      <td>TOTAL</td>\n    </tr>\n  </tbody>\n</table>\n</div>"
     },
     "execution_count": 24,
     "metadata": {},
     "output_type": "execute_result"
    }
   ],
   "source": [
    "mining.gfi_calcs('2023-04-10', 'raw')"
   ],
   "metadata": {
    "collapsed": false,
    "ExecuteTime": {
     "end_time": "2023-05-12T15:37:21.467639200Z",
     "start_time": "2023-05-12T15:37:21.338166300Z"
    }
   }
  },
  {
   "cell_type": "code",
   "execution_count": 25,
   "outputs": [
    {
     "name": "stdout",
     "output_type": "stream",
     "text": [
      "5 == 5  |  2023-05-31 00:00:00 | USDBRL NDF 31MAY2023 BILATERAL\n",
      "6 == 5  |  2023-06-30 00:00:00 | USDBRL NDF 30JUN2023 BILATERAL\n"
     ]
    },
    {
     "data": {
      "text/plain": "       Total for human     Volume\nClass                            \nBMF             426.5M  426500000\nBMF2               50M   50000000\nBROKEN          376.5M  376500000\nTOTAL             853M  853000000",
      "text/html": "<div>\n<style scoped>\n    .dataframe tbody tr th:only-of-type {\n        vertical-align: middle;\n    }\n\n    .dataframe tbody tr th {\n        vertical-align: top;\n    }\n\n    .dataframe thead th {\n        text-align: right;\n    }\n</style>\n<table border=\"1\" class=\"dataframe\">\n  <thead>\n    <tr style=\"text-align: right;\">\n      <th></th>\n      <th>Total for human</th>\n      <th>Volume</th>\n    </tr>\n    <tr>\n      <th>Class</th>\n      <th></th>\n      <th></th>\n    </tr>\n  </thead>\n  <tbody>\n    <tr>\n      <th>BMF</th>\n      <td>426.5M</td>\n      <td>426500000</td>\n    </tr>\n    <tr>\n      <th>BMF2</th>\n      <td>50M</td>\n      <td>50000000</td>\n    </tr>\n    <tr>\n      <th>BROKEN</th>\n      <td>376.5M</td>\n      <td>376500000</td>\n    </tr>\n    <tr>\n      <th>TOTAL</th>\n      <td>853M</td>\n      <td>853000000</td>\n    </tr>\n  </tbody>\n</table>\n</div>"
     },
     "execution_count": 25,
     "metadata": {},
     "output_type": "execute_result"
    }
   ],
   "source": [
    "mining.gfi_calcs()"
   ],
   "metadata": {
    "collapsed": false,
    "ExecuteTime": {
     "end_time": "2023-05-12T15:37:21.483407500Z",
     "start_time": "2023-05-12T15:37:21.380908Z"
    }
   }
  },
  {
   "cell_type": "code",
   "execution_count": 26,
   "outputs": [
    {
     "data": {
      "text/plain": "       Total for human  Total_Trade_Count\nClass                                    \nBMF                30M                1.0\nBROKEN             30M                1.0\nTOTAL              60M                0.0",
      "text/html": "<div>\n<style scoped>\n    .dataframe tbody tr th:only-of-type {\n        vertical-align: middle;\n    }\n\n    .dataframe tbody tr th {\n        vertical-align: top;\n    }\n\n    .dataframe thead th {\n        text-align: right;\n    }\n</style>\n<table border=\"1\" class=\"dataframe\">\n  <thead>\n    <tr style=\"text-align: right;\">\n      <th></th>\n      <th>Total for human</th>\n      <th>Total_Trade_Count</th>\n    </tr>\n    <tr>\n      <th>Class</th>\n      <th></th>\n      <th></th>\n    </tr>\n  </thead>\n  <tbody>\n    <tr>\n      <th>BMF</th>\n      <td>30M</td>\n      <td>1.0</td>\n    </tr>\n    <tr>\n      <th>BROKEN</th>\n      <td>30M</td>\n      <td>1.0</td>\n    </tr>\n    <tr>\n      <th>TOTAL</th>\n      <td>60M</td>\n      <td>0.0</td>\n    </tr>\n  </tbody>\n</table>\n</div>"
     },
     "execution_count": 26,
     "metadata": {},
     "output_type": "execute_result"
    }
   ],
   "source": [
    "mining.tradition_calcs('2023-04-14')"
   ],
   "metadata": {
    "collapsed": false,
    "ExecuteTime": {
     "end_time": "2023-05-12T15:37:21.634209500Z",
     "start_time": "2023-05-12T15:37:21.434480500Z"
    }
   }
  },
  {
   "cell_type": "code",
   "execution_count": 27,
   "outputs": [
    {
     "data": {
      "text/plain": "      Total for human  Total_Trade_Count\nClass                                   \nTOTAL               0                0.0",
      "text/html": "<div>\n<style scoped>\n    .dataframe tbody tr th:only-of-type {\n        vertical-align: middle;\n    }\n\n    .dataframe tbody tr th {\n        vertical-align: top;\n    }\n\n    .dataframe thead th {\n        text-align: right;\n    }\n</style>\n<table border=\"1\" class=\"dataframe\">\n  <thead>\n    <tr style=\"text-align: right;\">\n      <th></th>\n      <th>Total for human</th>\n      <th>Total_Trade_Count</th>\n    </tr>\n    <tr>\n      <th>Class</th>\n      <th></th>\n      <th></th>\n    </tr>\n  </thead>\n  <tbody>\n    <tr>\n      <th>TOTAL</th>\n      <td>0</td>\n      <td>0.0</td>\n    </tr>\n  </tbody>\n</table>\n</div>"
     },
     "execution_count": 27,
     "metadata": {},
     "output_type": "execute_result"
    }
   ],
   "source": [
    "mining.tradition_calcs()\n"
   ],
   "metadata": {
    "collapsed": false,
    "ExecuteTime": {
     "end_time": "2023-05-12T15:37:21.750045300Z",
     "start_time": "2023-05-12T15:37:21.590185Z"
    }
   }
  },
  {
   "cell_type": "code",
   "execution_count": 28,
   "outputs": [
    {
     "name": "stdout",
     "output_type": "stream",
     "text": [
      "5 == 5  |  2023-05-31 00:00:00 | USDBRL NDF 31MAY2023 BILATERAL\n"
     ]
    },
    {
     "data": {
      "text/plain": "       Total for human     Volume\nClass                            \nBMF               480M  480000000\nBROKEN            159M  159000000\nTOTAL             639M  639000000",
      "text/html": "<div>\n<style scoped>\n    .dataframe tbody tr th:only-of-type {\n        vertical-align: middle;\n    }\n\n    .dataframe tbody tr th {\n        vertical-align: top;\n    }\n\n    .dataframe thead th {\n        text-align: right;\n    }\n</style>\n<table border=\"1\" class=\"dataframe\">\n  <thead>\n    <tr style=\"text-align: right;\">\n      <th></th>\n      <th>Total for human</th>\n      <th>Volume</th>\n    </tr>\n    <tr>\n      <th>Class</th>\n      <th></th>\n      <th></th>\n    </tr>\n  </thead>\n  <tbody>\n    <tr>\n      <th>BMF</th>\n      <td>480M</td>\n      <td>480000000</td>\n    </tr>\n    <tr>\n      <th>BROKEN</th>\n      <td>159M</td>\n      <td>159000000</td>\n    </tr>\n    <tr>\n      <th>TOTAL</th>\n      <td>639M</td>\n      <td>639000000</td>\n    </tr>\n  </tbody>\n</table>\n</div>"
     },
     "execution_count": 28,
     "metadata": {},
     "output_type": "execute_result"
    }
   ],
   "source": [
    "mining.bgc_calcs()\n"
   ],
   "metadata": {
    "collapsed": false,
    "ExecuteTime": {
     "end_time": "2023-05-12T15:37:21.784624100Z",
     "start_time": "2023-05-12T15:37:21.646978500Z"
    }
   }
  },
  {
   "cell_type": "code",
   "execution_count": 29,
   "outputs": [
    {
     "name": "stdout",
     "output_type": "stream",
     "text": [
      "5 == 5  |  2023-05-31 00:00:00 | USDBRL NDF 31MAY2023 BILATERAL\n",
      "6 == 5  |  2023-06-30 00:00:00 | USDBRL NDF 30JUN2023 BILATERAL\n"
     ]
    },
    {
     "data": {
      "text/plain": "       Total for human     Volume\nClass                            \nBMF             426.5M  426500000\nBMF2               50M   50000000\nBROKEN          376.5M  376500000\nTOTAL             853M  853000000",
      "text/html": "<div>\n<style scoped>\n    .dataframe tbody tr th:only-of-type {\n        vertical-align: middle;\n    }\n\n    .dataframe tbody tr th {\n        vertical-align: top;\n    }\n\n    .dataframe thead th {\n        text-align: right;\n    }\n</style>\n<table border=\"1\" class=\"dataframe\">\n  <thead>\n    <tr style=\"text-align: right;\">\n      <th></th>\n      <th>Total for human</th>\n      <th>Volume</th>\n    </tr>\n    <tr>\n      <th>Class</th>\n      <th></th>\n      <th></th>\n    </tr>\n  </thead>\n  <tbody>\n    <tr>\n      <th>BMF</th>\n      <td>426.5M</td>\n      <td>426500000</td>\n    </tr>\n    <tr>\n      <th>BMF2</th>\n      <td>50M</td>\n      <td>50000000</td>\n    </tr>\n    <tr>\n      <th>BROKEN</th>\n      <td>376.5M</td>\n      <td>376500000</td>\n    </tr>\n    <tr>\n      <th>TOTAL</th>\n      <td>853M</td>\n      <td>853000000</td>\n    </tr>\n  </tbody>\n</table>\n</div>"
     },
     "execution_count": 29,
     "metadata": {},
     "output_type": "execute_result"
    }
   ],
   "source": [
    "mining.gfi_calcs()"
   ],
   "metadata": {
    "collapsed": false,
    "ExecuteTime": {
     "end_time": "2023-05-12T15:37:21.849999400Z",
     "start_time": "2023-05-12T15:37:21.688739800Z"
    }
   }
  },
  {
   "cell_type": "code",
   "execution_count": 30,
   "outputs": [
    {
     "data": {
      "text/plain": "True"
     },
     "execution_count": 30,
     "metadata": {},
     "output_type": "execute_result"
    }
   ],
   "source": [
    "from pathlib import Path\n",
    "from ndf.util import get_cache_filename\n",
    "\n",
    "Path(get_cache_filename('gfi')).is_file()"
   ],
   "metadata": {
    "collapsed": false,
    "ExecuteTime": {
     "end_time": "2023-05-12T15:37:21.852984800Z",
     "start_time": "2023-05-12T15:37:21.750045300Z"
    }
   }
  },
  {
   "cell_type": "code",
   "execution_count": 31,
   "outputs": [
    {
     "name": "stdout",
     "output_type": "stream",
     "text": [
      "bgc ok\n",
      "tradition ok\n",
      "prebontullet ok\n",
      "gfi ok\n"
     ]
    }
   ],
   "source": [
    "\n",
    "\n",
    "d = ndf.download.download()\n",
    "d.download_all()"
   ],
   "metadata": {
    "collapsed": false,
    "ExecuteTime": {
     "end_time": "2023-05-12T15:37:21.965406500Z",
     "start_time": "2023-05-12T15:37:21.750045300Z"
    }
   }
  },
  {
   "cell_type": "code",
   "execution_count": 32,
   "outputs": [
    {
     "data": {
      "text/plain": "      Total for human  Total_Trade_Count\nClass                                   \nTOTAL               0                0.0",
      "text/html": "<div>\n<style scoped>\n    .dataframe tbody tr th:only-of-type {\n        vertical-align: middle;\n    }\n\n    .dataframe tbody tr th {\n        vertical-align: top;\n    }\n\n    .dataframe thead th {\n        text-align: right;\n    }\n</style>\n<table border=\"1\" class=\"dataframe\">\n  <thead>\n    <tr style=\"text-align: right;\">\n      <th></th>\n      <th>Total for human</th>\n      <th>Total_Trade_Count</th>\n    </tr>\n    <tr>\n      <th>Class</th>\n      <th></th>\n      <th></th>\n    </tr>\n  </thead>\n  <tbody>\n    <tr>\n      <th>TOTAL</th>\n      <td>0</td>\n      <td>0.0</td>\n    </tr>\n  </tbody>\n</table>\n</div>"
     },
     "execution_count": 32,
     "metadata": {},
     "output_type": "execute_result"
    }
   ],
   "source": [
    "mining.tradition_calcs()"
   ],
   "metadata": {
    "collapsed": false,
    "ExecuteTime": {
     "end_time": "2023-05-12T15:37:22.032637100Z",
     "start_time": "2023-05-12T15:37:21.788379Z"
    }
   }
  },
  {
   "cell_type": "markdown",
   "source": [
    "def get_business_day(date, business_day):\n",
    "    # fazer a magica aqui\n",
    "    # ...\n",
    "    #...\n",
    "    return datetime.strftime(resultado)\n",
    "\n"
   ],
   "metadata": {
    "collapsed": false
   }
  },
  {
   "cell_type": "markdown",
   "source": [
    "data = datetime.strptime('2023-07-04', \"%Y-%m-%d\")\n",
    "\n",
    "get_business_day(data, 2)\n"
   ],
   "metadata": {
    "collapsed": false
   }
  }
 ],
 "metadata": {
  "kernelspec": {
   "display_name": "Python 3",
   "language": "python",
   "name": "python3"
  },
  "language_info": {
   "codemirror_mode": {
    "name": "ipython",
    "version": 2
   },
   "file_extension": ".py",
   "mimetype": "text/x-python",
   "name": "python",
   "nbconvert_exporter": "python",
   "pygments_lexer": "ipython2",
   "version": "2.7.6"
  }
 },
 "nbformat": 4,
 "nbformat_minor": 0
}
