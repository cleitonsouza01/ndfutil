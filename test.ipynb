{
 "cells": [
  {
   "cell_type": "code",
   "execution_count": 1,
   "metadata": {
    "collapsed": true,
    "ExecuteTime": {
     "end_time": "2023-05-11T03:07:03.246700Z",
     "start_time": "2023-05-11T03:07:02.524163Z"
    }
   },
   "outputs": [],
   "source": [
    "from loguru import logger\n",
    "\n",
    "import ndf.download\n",
    "from ndf import download"
   ]
  },
  {
   "cell_type": "code",
   "execution_count": 2,
   "outputs": [],
   "source": [
    "import warnings\n",
    "warnings.simplefilter(action='ignore', category=FutureWarning)"
   ],
   "metadata": {
    "collapsed": false,
    "ExecuteTime": {
     "end_time": "2023-05-11T03:07:03.250122Z",
     "start_time": "2023-05-11T03:07:03.248351Z"
    }
   }
  },
  {
   "cell_type": "code",
   "execution_count": 3,
   "outputs": [
    {
     "data": {
      "text/plain": "2"
     },
     "execution_count": 3,
     "metadata": {},
     "output_type": "execute_result"
    }
   ],
   "source": [
    "import sys\n",
    "\n",
    "log_level = 'ERROR'\n",
    "logger.add(sys.stderr, format=\"{time} {level} {message}\", filter=\"my_module\", level=log_level)\n",
    "# logger.add(sys.stdout, colorize=True, format=\"<green>{time}</green> <level>{message}</level>\")\n",
    "logger.add(\"ndfdownload.log\", rotation=\"30 MB\", level=log_level)\n",
    "\n"
   ],
   "metadata": {
    "collapsed": false,
    "ExecuteTime": {
     "end_time": "2023-05-11T03:07:03.266123Z",
     "start_time": "2023-05-11T03:07:03.256417Z"
    }
   }
  },
  {
   "cell_type": "markdown",
   "source": [
    "## Remove DEBUG"
   ],
   "metadata": {
    "collapsed": false
   }
  },
  {
   "cell_type": "code",
   "execution_count": 4,
   "outputs": [],
   "source": [
    "logger.remove()"
   ],
   "metadata": {
    "collapsed": false,
    "ExecuteTime": {
     "end_time": "2023-05-11T03:07:03.269041Z",
     "start_time": "2023-05-11T03:07:03.267471Z"
    }
   }
  },
  {
   "cell_type": "code",
   "execution_count": 5,
   "outputs": [],
   "source": [
    "logger.debug('teste debug')\n",
    "logger.info('teste info')\n"
   ],
   "metadata": {
    "collapsed": false,
    "ExecuteTime": {
     "end_time": "2023-05-11T03:07:03.288338Z",
     "start_time": "2023-05-11T03:07:03.270335Z"
    }
   }
  },
  {
   "cell_type": "code",
   "execution_count": 6,
   "outputs": [],
   "source": [
    "# d = download.download()\n",
    "# d.download_all()"
   ],
   "metadata": {
    "collapsed": false,
    "ExecuteTime": {
     "end_time": "2023-05-11T03:07:03.297328Z",
     "start_time": "2023-05-11T03:07:03.273568Z"
    }
   }
  },
  {
   "cell_type": "code",
   "execution_count": 7,
   "outputs": [],
   "source": [
    "from ndf.datamining import datamining\n",
    "\n",
    "mining = datamining()\n",
    "\n",
    "mining.tulletprebon_calcs('2023-04-14')\n"
   ],
   "metadata": {
    "collapsed": false,
    "ExecuteTime": {
     "end_time": "2023-05-11T03:07:03.297659Z",
     "start_time": "2023-05-11T03:07:03.276841Z"
    }
   }
  },
  {
   "cell_type": "code",
   "execution_count": 8,
   "outputs": [
    {
     "data": {
      "text/plain": "0  Trade Date                     Description OpenType LowType HighType  \\\n0  2023-04-18  USDBRL NDF 18APR2023 BILATERAL    TRANS   TRANS    TRANS   \n1  2023-04-18  USDBRL NDF 28APR2023 BILATERAL    TRANS   TRANS    TRANS   \n\n0 CloseType EDRPVolume     Volume Source   Class  \n0     TRANS        NaN  207000000    GFI  BROKEN  \n1     TRANS        NaN  332000000    GFI  BROKEN  ",
      "text/html": "<div>\n<style scoped>\n    .dataframe tbody tr th:only-of-type {\n        vertical-align: middle;\n    }\n\n    .dataframe tbody tr th {\n        vertical-align: top;\n    }\n\n    .dataframe thead th {\n        text-align: right;\n    }\n</style>\n<table border=\"1\" class=\"dataframe\">\n  <thead>\n    <tr style=\"text-align: right;\">\n      <th></th>\n      <th>Trade Date</th>\n      <th>Description</th>\n      <th>OpenType</th>\n      <th>LowType</th>\n      <th>HighType</th>\n      <th>CloseType</th>\n      <th>EDRPVolume</th>\n      <th>Volume</th>\n      <th>Source</th>\n      <th>Class</th>\n    </tr>\n  </thead>\n  <tbody>\n    <tr>\n      <th>0</th>\n      <td>2023-04-18</td>\n      <td>USDBRL NDF 18APR2023 BILATERAL</td>\n      <td>TRANS</td>\n      <td>TRANS</td>\n      <td>TRANS</td>\n      <td>TRANS</td>\n      <td>NaN</td>\n      <td>207000000</td>\n      <td>GFI</td>\n      <td>BROKEN</td>\n    </tr>\n    <tr>\n      <th>1</th>\n      <td>2023-04-18</td>\n      <td>USDBRL NDF 28APR2023 BILATERAL</td>\n      <td>TRANS</td>\n      <td>TRANS</td>\n      <td>TRANS</td>\n      <td>TRANS</td>\n      <td>NaN</td>\n      <td>332000000</td>\n      <td>GFI</td>\n      <td>BROKEN</td>\n    </tr>\n  </tbody>\n</table>\n</div>"
     },
     "execution_count": 8,
     "metadata": {},
     "output_type": "execute_result"
    }
   ],
   "source": [
    "mining.bgc_calcs('2023-04-18', 'raw')"
   ],
   "metadata": {
    "collapsed": false,
    "ExecuteTime": {
     "end_time": "2023-05-11T03:07:03.308224Z",
     "start_time": "2023-05-11T03:07:03.281101Z"
    }
   }
  },
  {
   "cell_type": "code",
   "execution_count": 9,
   "outputs": [
    {
     "data": {
      "text/plain": "0      Total for human     Volume\nClass                            \nBROKEN            539M  539000000",
      "text/html": "<div>\n<style scoped>\n    .dataframe tbody tr th:only-of-type {\n        vertical-align: middle;\n    }\n\n    .dataframe tbody tr th {\n        vertical-align: top;\n    }\n\n    .dataframe thead th {\n        text-align: right;\n    }\n</style>\n<table border=\"1\" class=\"dataframe\">\n  <thead>\n    <tr style=\"text-align: right;\">\n      <th></th>\n      <th>Total for human</th>\n      <th>Volume</th>\n    </tr>\n    <tr>\n      <th>Class</th>\n      <th></th>\n      <th></th>\n    </tr>\n  </thead>\n  <tbody>\n    <tr>\n      <th>BROKEN</th>\n      <td>539M</td>\n      <td>539000000</td>\n    </tr>\n  </tbody>\n</table>\n</div>"
     },
     "execution_count": 9,
     "metadata": {},
     "output_type": "execute_result"
    }
   ],
   "source": [
    "mining.bgc_calcs('2023-04-18')"
   ],
   "metadata": {
    "collapsed": false,
    "ExecuteTime": {
     "end_time": "2023-05-11T03:07:03.319067Z",
     "start_time": "2023-05-11T03:07:03.300883Z"
    }
   }
  },
  {
   "cell_type": "code",
   "execution_count": 10,
   "outputs": [
    {
     "data": {
      "text/plain": "0                     Description     Volume Source   Class\n0  USDBRL NDF 14APR2023 BILATERAL  102000000    GFI  BROKEN\n1  USDBRL NDF 28APR2023 BILATERAL  402000000    GFI  BROKEN\n2  USDBRL NDF 31MAY2023 BILATERAL  300000000    GFI  BROKEN",
      "text/html": "<div>\n<style scoped>\n    .dataframe tbody tr th:only-of-type {\n        vertical-align: middle;\n    }\n\n    .dataframe tbody tr th {\n        vertical-align: top;\n    }\n\n    .dataframe thead th {\n        text-align: right;\n    }\n</style>\n<table border=\"1\" class=\"dataframe\">\n  <thead>\n    <tr style=\"text-align: right;\">\n      <th></th>\n      <th>Description</th>\n      <th>Volume</th>\n      <th>Source</th>\n      <th>Class</th>\n    </tr>\n  </thead>\n  <tbody>\n    <tr>\n      <th>0</th>\n      <td>USDBRL NDF 14APR2023 BILATERAL</td>\n      <td>102000000</td>\n      <td>GFI</td>\n      <td>BROKEN</td>\n    </tr>\n    <tr>\n      <th>1</th>\n      <td>USDBRL NDF 28APR2023 BILATERAL</td>\n      <td>402000000</td>\n      <td>GFI</td>\n      <td>BROKEN</td>\n    </tr>\n    <tr>\n      <th>2</th>\n      <td>USDBRL NDF 31MAY2023 BILATERAL</td>\n      <td>300000000</td>\n      <td>GFI</td>\n      <td>BROKEN</td>\n    </tr>\n  </tbody>\n</table>\n</div>"
     },
     "execution_count": 10,
     "metadata": {},
     "output_type": "execute_result"
    }
   ],
   "source": [
    "gfi = mining.gfi_calcs('2023-04-14', 'raw')\n",
    "gfi"
   ],
   "metadata": {
    "collapsed": false,
    "ExecuteTime": {
     "end_time": "2023-05-11T03:07:03.363146Z",
     "start_time": "2023-05-11T03:07:03.318371Z"
    }
   }
  },
  {
   "cell_type": "code",
   "execution_count": 11,
   "outputs": [
    {
     "data": {
      "text/plain": "datetime.datetime(2023, 5, 31, 0, 0)"
     },
     "execution_count": 11,
     "metadata": {},
     "output_type": "execute_result"
    }
   ],
   "source": [
    "from datetime import datetime\n",
    "\n",
    "test_date = gfi.iloc[2]['Description'].split(' ')[2]\n",
    "test_date = datetime.strptime(test_date, \"%d%b%Y\")\n",
    "test_date\n",
    "\n"
   ],
   "metadata": {
    "collapsed": false,
    "ExecuteTime": {
     "end_time": "2023-05-11T03:07:03.363410Z",
     "start_time": "2023-05-11T03:07:03.337937Z"
    }
   }
  },
  {
   "cell_type": "code",
   "execution_count": 17,
   "outputs": [
    {
     "data": {
      "text/plain": "Timestamp('2023-06-02 23:09:00.524020')"
     },
     "execution_count": 17,
     "metadata": {},
     "output_type": "execute_result"
    }
   ],
   "source": [
    "from datetime import timedelta\n",
    "from ndf.util import get_second_business_day\n",
    "from pandas._libs.tslibs.offsets import BDay\n",
    "\n",
    "test_date = test_date + timedelta(days=2)\n",
    "get_second_business_day(test_date.strftime('%m'), test_date.strftime('%Y'))\n",
    "\n"
   ],
   "metadata": {
    "collapsed": false,
    "ExecuteTime": {
     "end_time": "2023-05-11T03:09:00.538269Z",
     "start_time": "2023-05-11T03:09:00.525682Z"
    }
   }
  },
  {
   "cell_type": "code",
   "execution_count": 13,
   "outputs": [
    {
     "data": {
      "text/plain": "'05'"
     },
     "execution_count": 13,
     "metadata": {},
     "output_type": "execute_result"
    }
   ],
   "source": [
    "test_date.strftime('%m')"
   ],
   "metadata": {
    "collapsed": false,
    "ExecuteTime": {
     "end_time": "2023-05-11T03:07:13.881589Z",
     "start_time": "2023-05-11T03:07:13.875063Z"
    }
   }
  },
  {
   "cell_type": "code",
   "execution_count": null,
   "outputs": [],
   "source": [
    "\n",
    "mining.gfi_calcs('2023-04-10')"
   ],
   "metadata": {
    "collapsed": false
   }
  },
  {
   "cell_type": "code",
   "execution_count": null,
   "outputs": [],
   "source": [
    "mining.gfi_calcs()"
   ],
   "metadata": {
    "collapsed": false
   }
  },
  {
   "cell_type": "code",
   "execution_count": null,
   "outputs": [],
   "source": [
    "mining.tradition_calcs('2023-04-14')"
   ],
   "metadata": {
    "collapsed": false
   }
  },
  {
   "cell_type": "code",
   "execution_count": null,
   "outputs": [],
   "source": [
    "mining.tradition_calcs()\n"
   ],
   "metadata": {
    "collapsed": false
   }
  },
  {
   "cell_type": "code",
   "execution_count": null,
   "outputs": [],
   "source": [
    "mining.bgc_calcs()\n"
   ],
   "metadata": {
    "collapsed": false
   }
  },
  {
   "cell_type": "code",
   "execution_count": null,
   "outputs": [],
   "source": [
    "mining.gfi_calcs()"
   ],
   "metadata": {
    "collapsed": false
   }
  },
  {
   "cell_type": "code",
   "execution_count": null,
   "outputs": [],
   "source": [
    "from pathlib import Path\n",
    "from ndf.util import get_cache_filename\n",
    "\n",
    "Path(get_cache_filename('gfi')).is_file()"
   ],
   "metadata": {
    "collapsed": false
   }
  },
  {
   "cell_type": "code",
   "execution_count": null,
   "outputs": [],
   "source": [
    "\n",
    "\n",
    "d = ndf.download.download()\n",
    "d.download_all()"
   ],
   "metadata": {
    "collapsed": false
   }
  },
  {
   "cell_type": "code",
   "execution_count": null,
   "outputs": [],
   "source": [
    "mining.tradition_calcs()"
   ],
   "metadata": {
    "collapsed": false
   }
  }
 ],
 "metadata": {
  "kernelspec": {
   "display_name": "Python 3",
   "language": "python",
   "name": "python3"
  },
  "language_info": {
   "codemirror_mode": {
    "name": "ipython",
    "version": 2
   },
   "file_extension": ".py",
   "mimetype": "text/x-python",
   "name": "python",
   "nbconvert_exporter": "python",
   "pygments_lexer": "ipython2",
   "version": "2.7.6"
  }
 },
 "nbformat": 4,
 "nbformat_minor": 0
}
